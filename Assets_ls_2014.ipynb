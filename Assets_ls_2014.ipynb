{
 "cells": [
  {
   "cell_type": "code",
   "execution_count": 1,
   "metadata": {
    "collapsed": true
   },
   "outputs": [],
   "source": [
    "%matplotlib inline\n",
    "import numpy as np\n",
    "import scipy as sp\n",
    "import matplotlib as mpl\n",
    "import matplotlib.cm as cm\n",
    "import matplotlib.pyplot as plt\n",
    "import pandas as pd\n",
    "pd.set_option('display.width', 400)\n",
    "pd.set_option('display.max_columns', 100)\n",
    "pd.set_option('display.notebook_repr_html', True)\n",
    "import seaborn as sns\n",
    "sns.set_style(\"whitegrid\")\n",
    "sns.set_context(\"poster\")"
   ]
  },
  {
   "cell_type": "code",
   "execution_count": 2,
   "metadata": {
    "collapsed": true
   },
   "outputs": [],
   "source": [
    "from bs4 import BeautifulSoup\n",
    "import urllib2\n",
    "import requests"
   ]
  },
  {
   "cell_type": "code",
   "execution_count": 21,
   "metadata": {
    "collapsed": false
   },
   "outputs": [],
   "source": [
    "import json\n",
    "with open(\"polinfo.json\") as json_file:\n",
    "    polinfo = json.load(json_file)\n",
    "    json_file.close()"
   ]
  },
  {
   "cell_type": "code",
   "execution_count": null,
   "metadata": {
    "collapsed": false
   },
   "outputs": [],
   "source": [
    "polinfo.keys()[0:2]"
   ]
  },
  {
   "cell_type": "code",
   "execution_count": 367,
   "metadata": {
    "collapsed": false
   },
   "outputs": [],
   "source": [
    "#polinfo['candidate.php?candidate_id=4063']"
   ]
  },
  {
   "cell_type": "code",
   "execution_count": null,
   "metadata": {
    "collapsed": false
   },
   "outputs": [],
   "source": [
    "#soup=BeautifulSoup(polinfo['candidate.php?candidate_id=4063'],\"html.parser\")\n",
    "#print soup.prettify()"
   ]
  },
  {
   "cell_type": "code",
   "execution_count": 64,
   "metadata": {
    "collapsed": false
   },
   "outputs": [],
   "source": [
    "def movable_assets(info,url):\n",
    "    soup=BeautifulSoup(info[url],\"html.parser\")\n",
    "    table = soup.find(\"a\", attrs={\"name\": \"movable_assets\"}).find(\"table\")\n",
    "    madict={}\n",
    "    madict[\"url\"]=\"http://myneta.info/ls2014/\"+str(url)\n",
    "    for r in table.findAll('td'):\n",
    "        try:\n",
    "            if r.get_text()==\"i\":\n",
    "                madict[\"Cash\"] = r.findNext('b').get_text().strip().encode('ascii', 'ignore').replace(\"Rs\",\"\")\n",
    "\n",
    "            if r.get_text()==\"ii\":\n",
    "                madict[\"Deposits in Banks, Financial Institutions and Non-Banking Financial Companies\"] = r.findNext('b').get_text().strip().encode('ascii', 'ignore').replace(\"Rs\",\"\")\n",
    "\n",
    "            if r.get_text()==\"iii\":\n",
    "                madict[\"Bonds, Debentures and Shares in companies\"] = r.findNext('b').get_text().strip().encode('ascii', 'ignore').replace(\"Rs\",\"\")\n",
    "            \n",
    "            #this row is tricky: use different tag and attribute to pick up text. Limit specificies # of iteration. for findall method\n",
    "            if r.get_text()==\"iv\":\n",
    "                subtypes= r.findAllNext('span', attrs={\"style\":\"color:black\"},limit=2)\n",
    "                sublist=[x.get_text().strip().encode('ascii', 'ignore').replace(\"Rs\",\"\") for x in subtypes]\n",
    "                madict[\"NSS, Postal Savings etc\"] = sublist[0]\n",
    "                madict[\"LIC or other insurance Policies\"] = sublist[1]\n",
    "\n",
    "            if r.get_text()==\"v\":\n",
    "                madict[\"Personal loans/advance given\"] = r.findNext('b').get_text().strip().encode('ascii', 'ignore').replace(\"Rs\",\"\")\n",
    "\n",
    "            if r.get_text()==\"vi\":\n",
    "                madict[\"Motor Vehicles (details of make, etc.)\"] = r.findNext('b').get_text().strip().encode('ascii', 'ignore').replace(\"Rs\",\"\")\n",
    "\n",
    "            if r.get_text()==\"vii\":\n",
    "                madict[\"Jewellery (give details weight value)\"] = r.findNext('b').get_text().strip().encode('ascii', 'ignore').replace(\"Rs\",\"\")\n",
    "\n",
    "            if r.get_text()==\"viii\":\n",
    "                madict[\"Other assets, such as values of claims / interests\"] = r.findNext('b').get_text().strip().encode('ascii', 'ignore').replace(\"Rs\",\"\")\n",
    "\n",
    "            if r.get_text()==\"Gross Total Value (as per Affidavit)\":\n",
    "                madict[\"Gross Total Value (as per Affidavit)\"] = r.findNext('b').get_text().strip().encode('ascii', 'ignore').replace(\"Rs\",\"\")\n",
    "\n",
    "            if r.get_text()==\"Totals (Calculated as Sum of Values)\":\n",
    "                madict[\"Totals (Calculated as Sum of Values)\"] = r.findNext('b').get_text().strip().encode('ascii', 'ignore').replace(\"Rs\",\"\")\n",
    "\n",
    "        except:\n",
    "            pass              \n",
    "\n",
    "    return madict"
   ]
  },
  {
   "cell_type": "code",
   "execution_count": 65,
   "metadata": {
    "collapsed": true
   },
   "outputs": [],
   "source": [
    "def immovable_assets(info,url):\n",
    "    soup=BeautifulSoup(info[url],\"html.parser\")\n",
    "    table = soup.findAll(\"table\",attrs={\"class\":\"table1\"})[2]\n",
    "    immadict={}\n",
    "    immadict[\"url\"]=\"http://myneta.info/ls2014/\"+str(url)\n",
    "    for r in table.findAll('td'):\n",
    "        try:\n",
    "            if r.get_text()==\"i\":\n",
    "                immadict[\"Agricultural Land\"] = r.findNext('b').get_text().strip().encode('ascii', 'ignore').replace(\"Rs\",\"\")\n",
    "\n",
    "            if r.get_text()==\"ii\":\n",
    "                immadict[\"Non Agricultural Land\"] = r.findNext('b').get_text().strip().encode('ascii', 'ignore').replace(\"Rs\",\"\")\n",
    "\n",
    "            if r.get_text()==\"iii\":\n",
    "                immadict[\"Commercial Buildings\"] = r.findNext('b').get_text().strip().encode('ascii', 'ignore').replace(\"Rs\",\"\")\n",
    "            \n",
    "            if r.get_text()==\"iv\":\n",
    "                immadict[\"Residential Buildings\"] = r.findNext('b').get_text().strip().encode('ascii', 'ignore').replace(\"Rs\",\"\")\n",
    "\n",
    "            if r.get_text()==\"v\":\n",
    "                immadict[\"Others\"] = r.findNext('b').get_text().strip().encode('ascii', 'ignore').replace(\"Rs\",\"\")\n",
    "            \n",
    "            if r.get_text()==\"Total Current Market Value of (i) to (v) (as per Affidavit)\":\n",
    "                immadict[\"Total Current Market Value of (i) to (v) (as per Affidavit)\"] = r.findNext('span', attrs={\"style\":\"color:green\"}).get_text().strip().encode('ascii', 'ignore').replace(\"Rs\",\"\")\n",
    "\n",
    "            if r.get_text()==\"Totals Calculated\":\n",
    "                immadict[\"Totals Calculated\"] = r.findNext('span', attrs={\"style\":\"color:purple\"}).get_text().strip().encode('ascii', 'ignore').replace(\"Rs\",\"\")\n",
    "\n",
    "                \n",
    "        except:\n",
    "            pass\n",
    "    \n",
    "    return immadict\n",
    "                "
   ]
  },
  {
   "cell_type": "code",
   "execution_count": 66,
   "metadata": {
    "collapsed": true
   },
   "outputs": [],
   "source": [
    "def cleaner(d):\n",
    "    for key in d.keys():\n",
    "        if d[key]=='Nil':\n",
    "            d[key]==np.nan\n",
    "        else:\n",
    "            try:\n",
    "                d[key]=float(d[key].replace(',',''))\n",
    "            except:\n",
    "                pass\n",
    "    return d"
   ]
  },
  {
   "cell_type": "code",
   "execution_count": null,
   "metadata": {
    "collapsed": true
   },
   "outputs": [],
   "source": []
  },
  {
   "cell_type": "code",
   "execution_count": 67,
   "metadata": {
    "collapsed": false,
    "scrolled": true
   },
   "outputs": [
    {
     "name": "stdout",
     "output_type": "stream",
     "text": [
      "error:  candidate.php?candidate_id=6112\n",
      "error:  candidate.php?candidate_id=2923\n",
      "error:  candidate.php?candidate_id=8068\n",
      "error:  candidate.php?candidate_id=1469\n",
      "error:  candidate.php?candidate_id=5058\n",
      "error:  candidate.php?candidate_id=5390\n",
      "error:  candidate.php?candidate_id=4001\n",
      "CPU times: user 18min 30s, sys: 12.9 s, total: 18min 43s\n",
      "Wall time: 21min 59s\n"
     ]
    }
   ],
   "source": [
    "%%time\n",
    "movassets={}\n",
    "for url in polinfo.keys():\n",
    "    try:\n",
    "        massetdict=cleaner(movable_assets(polinfo,url))\n",
    "        movassets[url] = massetdict\n",
    "        \n",
    "    except TypeError: \n",
    "        print \"error: \",url\n",
    "        "
   ]
  },
  {
   "cell_type": "code",
   "execution_count": 13,
   "metadata": {
    "collapsed": false
   },
   "outputs": [],
   "source": [
    "#fd=open(\"movassets.json\",\"w\")\n",
    "#json.dump(movassets, fd)\n",
    "#fd.close()"
   ]
  },
  {
   "cell_type": "code",
   "execution_count": 39,
   "metadata": {
    "collapsed": false
   },
   "outputs": [
    {
     "name": "stdout",
     "output_type": "stream",
     "text": [
      "error:  candidate.php?candidate_id=6112\n",
      "error:  candidate.php?candidate_id=2923\n",
      "error:  candidate.php?candidate_id=8068\n",
      "error:  candidate.php?candidate_id=1469\n",
      "error:  candidate.php?candidate_id=5058\n",
      "error:  candidate.php?candidate_id=5390\n",
      "error:  candidate.php?candidate_id=4001\n",
      "CPU times: user 19min 35s, sys: 13.1 s, total: 19min 48s\n",
      "Wall time: 21min 18s\n"
     ]
    }
   ],
   "source": [
    "%%time\n",
    "immovassets={}\n",
    "for url in polinfo.keys():\n",
    "    try:\n",
    "        immassetdict=cleaner(immovable_assets(polinfo,url))\n",
    "        immovassets[url] = immassetdict\n",
    "        \n",
    "    except TypeError: \n",
    "        print \"error: \",url\n",
    "        "
   ]
  },
  {
   "cell_type": "code",
   "execution_count": 55,
   "metadata": {
    "collapsed": false
   },
   "outputs": [
    {
     "data": {
      "text/plain": [
       "8197"
      ]
     },
     "execution_count": 55,
     "metadata": {},
     "output_type": "execute_result"
    }
   ],
   "source": [
    "len(movassets)"
   ]
  },
  {
   "cell_type": "code",
   "execution_count": 115,
   "metadata": {
    "collapsed": false
   },
   "outputs": [],
   "source": [
    "movassets=pd.DataFrame(movassets)\n",
    "movassets=movassets.transpose()"
   ]
  },
  {
   "cell_type": "code",
   "execution_count": 116,
   "metadata": {
    "collapsed": false
   },
   "outputs": [
    {
     "data": {
      "text/html": [
       "<div>\n",
       "<table border=\"1\" class=\"dataframe\">\n",
       "  <thead>\n",
       "    <tr style=\"text-align: right;\">\n",
       "      <th></th>\n",
       "      <th>Bonds, Debentures and Shares in companies</th>\n",
       "      <th>Cash</th>\n",
       "      <th>Deposits in Banks, Financial Institutions and Non-Banking Financial Companies</th>\n",
       "      <th>Gross Total Value (as per Affidavit)</th>\n",
       "      <th>Jewellery (give details weight value)</th>\n",
       "      <th>LIC or other insurance Policies</th>\n",
       "      <th>Motor Vehicles (details of make, etc.)</th>\n",
       "      <th>NSS, Postal Savings etc</th>\n",
       "      <th>Other assets, such as values of claims / interests</th>\n",
       "      <th>Personal loans/advance given</th>\n",
       "      <th>Totals (Calculated as Sum of Values)</th>\n",
       "      <th>url</th>\n",
       "    </tr>\n",
       "  </thead>\n",
       "  <tbody>\n",
       "    <tr>\n",
       "      <th>candidate.php?candidate_id=10</th>\n",
       "      <td>NaN</td>\n",
       "      <td>500</td>\n",
       "      <td>250</td>\n",
       "      <td>750</td>\n",
       "      <td>NaN</td>\n",
       "      <td>NaN</td>\n",
       "      <td>NaN</td>\n",
       "      <td>NaN</td>\n",
       "      <td>NaN</td>\n",
       "      <td>NaN</td>\n",
       "      <td>750</td>\n",
       "      <td>http://myneta.info/ls2014/candidate.php?candid...</td>\n",
       "    </tr>\n",
       "    <tr>\n",
       "      <th>candidate.php?candidate_id=100</th>\n",
       "      <td>20000000</td>\n",
       "      <td>14250000</td>\n",
       "      <td>180914202</td>\n",
       "      <td>373216000</td>\n",
       "      <td>21150000</td>\n",
       "      <td>NaN</td>\n",
       "      <td>31086774</td>\n",
       "      <td>2200000</td>\n",
       "      <td>NaN</td>\n",
       "      <td>103700000</td>\n",
       "      <td>368684524</td>\n",
       "      <td>http://myneta.info/ls2014/candidate.php?candid...</td>\n",
       "    </tr>\n",
       "  </tbody>\n",
       "</table>\n",
       "</div>"
      ],
      "text/plain": [
       "                                Bonds, Debentures and Shares in companies      Cash  Deposits in Banks, Financial Institutions and Non-Banking Financial Companies  Gross Total Value (as per Affidavit)  Jewellery (give details weight value)  LIC or other insurance Policies  Motor Vehicles (details of make, etc.)  NSS, Postal Savings etc  Other assets, such as values of claims / interests  \\\n",
       "candidate.php?candidate_id=10                                         NaN       500                                                250                                                               750                                    NaN                              NaN                                     NaN                      NaN                                                NaN    \n",
       "candidate.php?candidate_id=100                                   20000000  14250000                                          180914202                                                         373216000                               21150000                              NaN                                31086774                  2200000                                                NaN    \n",
       "\n",
       "                                Personal loans/advance given  Totals (Calculated as Sum of Values)                                                url  \n",
       "candidate.php?candidate_id=10                            NaN                                   750  http://myneta.info/ls2014/candidate.php?candid...  \n",
       "candidate.php?candidate_id=100                     103700000                             368684524  http://myneta.info/ls2014/candidate.php?candid...  "
      ]
     },
     "execution_count": 116,
     "metadata": {},
     "output_type": "execute_result"
    }
   ],
   "source": [
    "movassets=movassets.replace('Nil',np.nan)\n",
    "movassets.head(2)"
   ]
  },
  {
   "cell_type": "code",
   "execution_count": 117,
   "metadata": {
    "collapsed": true
   },
   "outputs": [],
   "source": [
    "movassets.to_csv(\"movassets.csv\", header=True, index=True, encoding='utf-8')"
   ]
  },
  {
   "cell_type": "code",
   "execution_count": 118,
   "metadata": {
    "collapsed": false
   },
   "outputs": [],
   "source": [
    "immovassets=pd.DataFrame(immovassets)\n",
    "immovassets=immovassets.transpose()"
   ]
  },
  {
   "cell_type": "code",
   "execution_count": 119,
   "metadata": {
    "collapsed": false
   },
   "outputs": [
    {
     "data": {
      "text/html": [
       "<div>\n",
       "<table border=\"1\" class=\"dataframe\">\n",
       "  <thead>\n",
       "    <tr style=\"text-align: right;\">\n",
       "      <th></th>\n",
       "      <th>Agricultural Land</th>\n",
       "      <th>Commercial Buildings</th>\n",
       "      <th>Non Agricultural Land</th>\n",
       "      <th>Others</th>\n",
       "      <th>Residential Buildings</th>\n",
       "      <th>Total Current Market Value of (i) to (v) (as per Affidavit)</th>\n",
       "      <th>Totals Calculated</th>\n",
       "      <th>url</th>\n",
       "    </tr>\n",
       "  </thead>\n",
       "  <tbody>\n",
       "    <tr>\n",
       "      <th>candidate.php?candidate_id=10</th>\n",
       "      <td>NaN</td>\n",
       "      <td>NaN</td>\n",
       "      <td>NaN</td>\n",
       "      <td>NaN</td>\n",
       "      <td>NaN</td>\n",
       "      <td>NaN</td>\n",
       "      <td>NaN</td>\n",
       "      <td>http://myneta.info/ls2014/candidate.php?candid...</td>\n",
       "    </tr>\n",
       "    <tr>\n",
       "      <th>candidate.php?candidate_id=100</th>\n",
       "      <td>NaN</td>\n",
       "      <td>120000000</td>\n",
       "      <td>9000000</td>\n",
       "      <td>NaN</td>\n",
       "      <td>628000000</td>\n",
       "      <td>757000000</td>\n",
       "      <td>757000000</td>\n",
       "      <td>http://myneta.info/ls2014/candidate.php?candid...</td>\n",
       "    </tr>\n",
       "  </tbody>\n",
       "</table>\n",
       "</div>"
      ],
      "text/plain": [
       "                                Agricultural Land  Commercial Buildings  Non Agricultural Land  Others  Residential Buildings  Total Current Market Value of (i) to (v) (as per Affidavit)  Totals Calculated                                                url\n",
       "candidate.php?candidate_id=10                 NaN                   NaN                    NaN     NaN                    NaN                                                NaN                          NaN  http://myneta.info/ls2014/candidate.php?candid...\n",
       "candidate.php?candidate_id=100                NaN             120000000                9000000     NaN              628000000                                          757000000                    757000000  http://myneta.info/ls2014/candidate.php?candid..."
      ]
     },
     "execution_count": 119,
     "metadata": {},
     "output_type": "execute_result"
    }
   ],
   "source": [
    "immovassets=immovassets.replace('Nil',np.nan)\n",
    "immovassets.head(2)"
   ]
  },
  {
   "cell_type": "code",
   "execution_count": 120,
   "metadata": {
    "collapsed": false
   },
   "outputs": [],
   "source": [
    "immovassets.to_csv(\"immovassets.csv\", header=True, index=True, encoding='utf-8')"
   ]
  },
  {
   "cell_type": "code",
   "execution_count": 402,
   "metadata": {
    "collapsed": false
   },
   "outputs": [
    {
     "data": {
      "text/html": [
       "<div>\n",
       "<table border=\"1\" class=\"dataframe\">\n",
       "  <thead>\n",
       "    <tr style=\"text-align: right;\">\n",
       "      <th></th>\n",
       "      <th>dependent1</th>\n",
       "      <th>dependent2</th>\n",
       "      <th>dependent3</th>\n",
       "      <th>description</th>\n",
       "      <th>self</th>\n",
       "      <th>spouse</th>\n",
       "      <th>total</th>\n",
       "    </tr>\n",
       "    <tr>\n",
       "      <th>srn</th>\n",
       "      <th></th>\n",
       "      <th></th>\n",
       "      <th></th>\n",
       "      <th></th>\n",
       "      <th></th>\n",
       "      <th></th>\n",
       "      <th></th>\n",
       "    </tr>\n",
       "  </thead>\n",
       "  <tbody>\n",
       "    <tr>\n",
       "      <th>[i]</th>\n",
       "      <td>[Nil]</td>\n",
       "      <td>[Nil]</td>\n",
       "      <td>[Nil]</td>\n",
       "      <td>[Cash]</td>\n",
       "      <td>[  10,000 ,  10 Thou+,  ]</td>\n",
       "      <td>[  10,000 ,  10 Thou+,  ]</td>\n",
       "      <td>[ Rs 20,000 , 20 Thou+]</td>\n",
       "    </tr>\n",
       "    <tr>\n",
       "      <th>[ii]</th>\n",
       "      <td>[Nil]</td>\n",
       "      <td>[Nil]</td>\n",
       "      <td>[Nil]</td>\n",
       "      <td>[Deposits in Banks, Financial Institutions and...</td>\n",
       "      <td>[Current A/c ,   3,50,000 ,  3 Lacs+,  ]</td>\n",
       "      <td>[Saving A/c ,   75,000 ,  75 Thou+,  ]</td>\n",
       "      <td>[ Rs 4,25,000 , 4 Lacs+]</td>\n",
       "    </tr>\n",
       "    <tr>\n",
       "      <th>[iii]</th>\n",
       "      <td>[Nil]</td>\n",
       "      <td>[Nil]</td>\n",
       "      <td>[Nil]</td>\n",
       "      <td>[Bonds, Debentures and Shares in companies]</td>\n",
       "      <td>[Nil]</td>\n",
       "      <td>[Nil]</td>\n",
       "      <td>[ Nil ]</td>\n",
       "    </tr>\n",
       "    <tr>\n",
       "      <th>[iv]</th>\n",
       "      <td>[Nil]</td>\n",
       "      <td>[Nil]</td>\n",
       "      <td>[Nil]</td>\n",
       "      <td>[(a),  NSS, Postal Savings etc]</td>\n",
       "      <td>[Nil]</td>\n",
       "      <td>[Nil]</td>\n",
       "      <td>[ Nil ]</td>\n",
       "    </tr>\n",
       "    <tr>\n",
       "      <th>-</th>\n",
       "      <td>[Nil]</td>\n",
       "      <td>[Nil]</td>\n",
       "      <td>[Nil]</td>\n",
       "      <td>[(b), LIC or other insurance Policies , &lt;br&gt;&lt;s...</td>\n",
       "      <td>[HDFC Life Insurance,   2,50,000 ,  2 Lacs+,  ]</td>\n",
       "      <td>[LIC Policy,   1,95,000 ,  1 Lacs+,  , HDFC Li...</td>\n",
       "      <td>[ Rs 6,95,000 , 6 Lacs+]</td>\n",
       "    </tr>\n",
       "  </tbody>\n",
       "</table>\n",
       "</div>"
      ],
      "text/plain": [
       "      dependent1 dependent2 dependent3                                        description                                             self                                             spouse                     total\n",
       "srn                                                                                                                                                                                                                    \n",
       "[i]        [Nil]      [Nil]      [Nil]                                             [Cash]                        [  10,000 ,  10 Thou+,  ]                          [  10,000 ,  10 Thou+,  ]   [ Rs 20,000 , 20 Thou+]\n",
       "[ii]       [Nil]      [Nil]      [Nil]  [Deposits in Banks, Financial Institutions and...         [Current A/c ,   3,50,000 ,  3 Lacs+,  ]             [Saving A/c ,   75,000 ,  75 Thou+,  ]  [ Rs 4,25,000 , 4 Lacs+]\n",
       "[iii]      [Nil]      [Nil]      [Nil]        [Bonds, Debentures and Shares in companies]                                            [Nil]                                              [Nil]                   [ Nil ]\n",
       "[iv]       [Nil]      [Nil]      [Nil]                    [(a),  NSS, Postal Savings etc]                                            [Nil]                                              [Nil]                   [ Nil ]\n",
       "-          [Nil]      [Nil]      [Nil]  [(b), LIC or other insurance Policies , <br><s...  [HDFC Life Insurance,   2,50,000 ,  2 Lacs+,  ]  [LIC Policy,   1,95,000 ,  1 Lacs+,  , HDFC Li...  [ Rs 6,95,000 , 6 Lacs+]"
      ]
     },
     "execution_count": 402,
     "metadata": {},
     "output_type": "execute_result"
    }
   ],
   "source": [
    "#example:\n",
    "dft=pd.DataFrame(massets[polinfo.keys()[0]])\n",
    "dft.set_index('srn',inplace=True)\n",
    "dft.head()"
   ]
  },
  {
   "cell_type": "code",
   "execution_count": 112,
   "metadata": {
    "collapsed": false
   },
   "outputs": [
    {
     "data": {
      "text/plain": [
       "0"
      ]
     },
     "execution_count": 112,
     "metadata": {},
     "output_type": "execute_result"
    }
   ],
   "source": [
    "import gc\n",
    "gc.collect()"
   ]
  },
  {
   "cell_type": "code",
   "execution_count": null,
   "metadata": {
    "collapsed": true
   },
   "outputs": [],
   "source": []
  }
 ],
 "metadata": {
  "kernelspec": {
   "display_name": "Python 2",
   "language": "python",
   "name": "python2"
  },
  "language_info": {
   "codemirror_mode": {
    "name": "ipython",
    "version": 2
   },
   "file_extension": ".py",
   "mimetype": "text/x-python",
   "name": "python",
   "nbconvert_exporter": "python",
   "pygments_lexer": "ipython2",
   "version": "2.7.10"
  }
 },
 "nbformat": 4,
 "nbformat_minor": 0
}

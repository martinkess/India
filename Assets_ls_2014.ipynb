{
 "cells": [
  {
   "cell_type": "code",
   "execution_count": 1,
   "metadata": {
    "collapsed": true
   },
   "outputs": [],
   "source": [
    "%matplotlib inline\n",
    "import numpy as np\n",
    "import scipy as sp\n",
    "import matplotlib as mpl\n",
    "import matplotlib.cm as cm\n",
    "import matplotlib.pyplot as plt\n",
    "import pandas as pd\n",
    "pd.set_option('display.width', 400)\n",
    "pd.set_option('display.max_columns', 100)\n",
    "pd.set_option('display.notebook_repr_html', True)\n",
    "import seaborn as sns\n",
    "sns.set_style(\"whitegrid\")\n",
    "sns.set_context(\"poster\")"
   ]
  },
  {
   "cell_type": "code",
   "execution_count": 2,
   "metadata": {
    "collapsed": true
   },
   "outputs": [],
   "source": [
    "from bs4 import BeautifulSoup\n",
    "import urllib2\n",
    "import requests"
   ]
  },
  {
   "cell_type": "code",
   "execution_count": 3,
   "metadata": {
    "collapsed": false
   },
   "outputs": [],
   "source": [
    "import json\n",
    "with open(\"candidate_pages.json\") as json_file:\n",
    "    polinfo = json.load(json_file)\n",
    "    json_file.close()"
   ]
  },
  {
   "cell_type": "code",
   "execution_count": 4,
   "metadata": {
    "collapsed": false
   },
   "outputs": [
    {
     "data": {
      "text/plain": [
       "[u'http://myneta.info/ls2009/candidate.php?candidate_id=7831',\n",
       " u'http://myneta.info/ls2009/candidate.php?candidate_id=1245']"
      ]
     },
     "execution_count": 4,
     "metadata": {},
     "output_type": "execute_result"
    }
   ],
   "source": [
    "polinfo.keys()[0:2]"
   ]
  },
  {
   "cell_type": "code",
   "execution_count": 78,
   "metadata": {
    "collapsed": false
   },
   "outputs": [
    {
     "name": "stdout",
     "output_type": "stream",
     "text": [
      "lo\n",
      "ls2014\n"
     ]
    }
   ],
   "source": [
    "#polinfo['http://myneta.info/ls2009/candidate.php?candidate_id=7831']\n",
    "len('http://myneta.info/loksabha')\n",
    "s='http://myneta.info/loksabha2004/'\n",
    "s[27:31]\n",
    "print s[19:21]\n",
    "v='http://myneta.info/ls2014/'\n",
    "print v[19:25]"
   ]
  },
  {
   "cell_type": "code",
   "execution_count": 63,
   "metadata": {
    "collapsed": false
   },
   "outputs": [
    {
     "data": {
      "text/plain": [
       "'6,00,000'"
      ]
     },
     "execution_count": 63,
     "metadata": {},
     "output_type": "execute_result"
    }
   ],
   "source": [
    "#TEST LS 2004 or LS 2009: MOVABLE ASSETS\n",
    "soup1=BeautifulSoup(polinfo['http://myneta.info/ls2009/candidate.php?candidate_id=7831'],\"html.parser\")\n",
    "table1 = soup1.find(\"a\", attrs={\"name\": \"movable_assets\"}).find(\"table\")\n",
    "for r in table1.findAll('td'):\n",
    "    if r.get_text()==\"iv\":\n",
    "        x = r.findAllNext('b',limit=4)[3].get_text().encode('ascii', 'ignore').replace(\"Rs\",\"\").strip()\n",
    "x"
   ]
  },
  {
   "cell_type": "code",
   "execution_count": 71,
   "metadata": {
    "collapsed": false
   },
   "outputs": [
    {
     "data": {
      "text/plain": [
       "'73,88,000'"
      ]
     },
     "execution_count": 71,
     "metadata": {},
     "output_type": "execute_result"
    }
   ],
   "source": [
    "#TEST LS 2014: : MOVABLE ASSETS\n",
    "soup2=BeautifulSoup(polinfo['http://myneta.info/ls2014/candidate.php?candidate_id=4062'],\"html.parser\")\n",
    "table2 = soup2.find(\"a\", attrs={\"name\": \"movable_assets\"}).find(\"table\")\n",
    "for r in table2.findAll('td'):\n",
    "    if r.get_text()==\"Totals (Calculated as Sum of Values)\":\n",
    "        y = r.findAllNext('b',limit=6)[5].get_text().encode('ascii', 'ignore').replace(\"Rs\",\"\").strip()\n",
    "y"
   ]
  },
  {
   "cell_type": "code",
   "execution_count": 96,
   "metadata": {
    "collapsed": false
   },
   "outputs": [],
   "source": [
    "def movable_assets(info,url):\n",
    "    soup=BeautifulSoup(info[url],\"html.parser\")\n",
    "    table = soup.find(\"a\", attrs={\"name\": \"movable_assets\"}).find(\"table\")\n",
    "    madict={}\n",
    "    madict[\"url\"]=url\n",
    "    \n",
    "    if url[19:21]==\"lo\":\n",
    "        madict['year']=url[len('http://myneta.info/loksabha'): 4 + len('http://myneta.info/loksabha')]\n",
    "    else:\n",
    "        madict['year']=url[len('http://myneta.info/ls'): 4 + len('http://myneta.info/ls')]\n",
    "   \n",
    "    for r in table.findAll('td'):\n",
    "        try:\n",
    "            if r.get_text()==\"i\":\n",
    "                madict[\"Cash\"] = r.findNext('b').get_text().strip().encode('ascii', 'ignore').replace(\"Rs\",\"\")\n",
    "\n",
    "            if r.get_text()==\"ii\":\n",
    "                madict[\"Deposits in Banks, Financial Institutions and Non-Banking Financial Companies\"] = r.findNext('b').get_text().encode('ascii', 'ignore').replace(\"Rs\",\"\").strip()\n",
    "\n",
    "            if r.get_text()==\"iii\":\n",
    "                madict[\"Bonds, Debentures and Shares in companies\"] = r.findNext('b').get_text().encode('ascii', 'ignore').replace(\"Rs\",\"\").strip()\n",
    "                             # use different tag and attribute to pick up text. Limit specifies # of iteration for findall method\n",
    "            if r.get_text()==\"iv\":\n",
    "                madict[\"NSS, Postal Savings etc\"] = r.findAllNext('b',limit=4)[1].get_text().encode('ascii', 'ignore').replace(\"Rs\",\"\").strip()\n",
    "                madict[\"LIC or other insurance Policies\"] = r.findAllNext('b',limit=4)[3].get_text().encode('ascii', 'ignore').replace(\"Rs\",\"\").strip()\n",
    "           \n",
    "            \n",
    "            if url[19:25]==\"ls2014\":\n",
    "                \n",
    "                if r.get_text()==\"v\":\n",
    "                    madict[\"Personal loans/advance given\"] = r.findNext('b').get_text().encode('ascii', 'ignore').replace(\"Rs\",\"\").strip()\n",
    "\n",
    "                if r.get_text()==\"vi\":\n",
    "                    madict[\"Motor Vehicles (details of make, etc.)\"] = r.findNext('b').get_text().encode('ascii', 'ignore').replace(\"Rs\",\"\").strip()\n",
    "\n",
    "                if r.get_text()==\"vii\":\n",
    "                    madict[\"Jewellery (give details weight value)\"] = r.findNext('b').get_text().encode('ascii', 'ignore').replace(\"Rs\",\"\").strip()\n",
    "\n",
    "                if r.get_text()==\"viii\":\n",
    "                    madict[\"Other assets, such as values of claims / interests\"] = r.findNext('b').get_text().encode('ascii', 'ignore').replace(\"Rs\",\"\").strip()\n",
    "\n",
    "                if r.get_text()==\"Gross Total Value (as per Affidavit)\":\n",
    "                    madict[\"Gross Total Value (as per Affidavit)\"] = r.findAllNext('b',limit=1)[0].get_text().encode('ascii', 'ignore').replace(\"Rs\",\"\").strip()\n",
    "\n",
    "                if r.get_text()==\"Totals (Calculated as Sum of Values)\":\n",
    "                    madict[\"Totals (Calculated as Sum of Values)\"] = r.findAllNext('b',limit=6)[5].get_text().encode('ascii', 'ignore').replace(\"Rs\",\"\").strip()\n",
    "                    \n",
    "                madict[\"TOTAL_MOVABLE_ASSESTS\"]=  int(madict[\"Totals (Calculated as Sum of Values)\"].replace(',','') )\n",
    "      \n",
    "            else:\n",
    "                \n",
    "                if r.get_text()==\"v\":\n",
    "                    madict[\"Motor Vehicles (details of make, etc.)\"] = r.findNext('b').get_text().encode('ascii', 'ignore').replace(\"Rs\",\"\").strip()\n",
    "\n",
    "                if r.get_text()==\"vi\":\n",
    "                    madict[\"Jewellery (give details weight value)\"] = r.findNext('b').get_text().encode('ascii', 'ignore').replace(\"Rs\",\"\").strip()\n",
    "\n",
    "                if r.get_text()==\"vii\":\n",
    "                    madict[\"Other assets, such as values of claims / interests\"] = r.findNext('b').get_text().encode('ascii', 'ignore').replace(\"Rs\",\"\").strip()\n",
    "\n",
    "                if r.get_text()==\"Totals\":\n",
    "                    madict[\"Totals (Calculated as Sum of Values)\"] = r.findAllNext('b', limit=6)[5].get_text().encode('ascii', 'ignore').replace(\"Rs\",\"\").strip()\n",
    "        \n",
    "                if madict[\"LIC or other insurance Policies\"]==\"Nil\":\n",
    "                    madict[\"TOTAL_MOVABLE_ASSESTS\"]=  int(madict[\"Totals (Calculated as Sum of Values)\"].replace(',',''))\n",
    "                else:\n",
    "                    madict[\"TOTAL_MOVABLE_ASSESTS\"]=  int(madict[\"Totals (Calculated as Sum of Values)\"].replace(',','')) + int(madict[\"LIC or other insurance Policies\"].replace(',',''))\n",
    "        \n",
    "        except:\n",
    "            pass    \n",
    "        \n",
    "\n",
    "    return madict\n"
   ]
  },
  {
   "cell_type": "code",
   "execution_count": 94,
   "metadata": {
    "collapsed": false
   },
   "outputs": [
    {
     "data": {
      "text/plain": [
       "{'Bonds, Debentures and Shares in companies': 'Nil',\n",
       " 'Cash': '50,000',\n",
       " 'Deposits in Banks, Financial Institutions and Non-Banking Financial Companies': '20,000',\n",
       " 'Jewellery (give details weight value)': '1,50,000',\n",
       " 'LIC or other insurance Policies': '6,00,000',\n",
       " 'Motor Vehicles (details of make, etc.)': '0',\n",
       " 'NSS, Postal Savings etc': 'Nil',\n",
       " 'Other assets, such as values of claims / interests': 'Nil',\n",
       " 'TOTAL_MOVABLE_ASSESTS': 820000,\n",
       " 'Totals (Calculated as Sum of Values)': '2,20,000',\n",
       " 'url': 'http://myneta.info/ls2009/candidate.php?candidate_id=7831',\n",
       " 'year': '2009'}"
      ]
     },
     "execution_count": 94,
     "metadata": {},
     "output_type": "execute_result"
    }
   ],
   "source": [
    "movable_assets(polinfo,'http://myneta.info/ls2009/candidate.php?candidate_id=7831')"
   ]
  },
  {
   "cell_type": "code",
   "execution_count": 95,
   "metadata": {
    "collapsed": false
   },
   "outputs": [
    {
     "data": {
      "text/plain": [
       "{'Bonds, Debentures and Shares in companies': 'Nil',\n",
       " 'Cash': '7,00,000',\n",
       " 'Deposits in Banks, Financial Institutions and Non-Banking Financial Companies': '3,88,000',\n",
       " 'Gross Total Value (as per Affidavit)': '73,88,000',\n",
       " 'Jewellery (give details weight value)': '18,00,000',\n",
       " 'LIC or other insurance Policies': 'Nil',\n",
       " 'Motor Vehicles (details of make, etc.)': '13,00,000',\n",
       " 'NSS, Postal Savings etc': 'Nil',\n",
       " 'Other assets, such as values of claims / interests': 'Nil',\n",
       " 'Personal loans/advance given': '32,00,000',\n",
       " 'TOTAL_MOVABLE_ASSESTS': 7388000,\n",
       " 'Totals (Calculated as Sum of Values)': '73,88,000',\n",
       " 'url': 'http://myneta.info/ls2014/candidate.php?candidate_id=4062',\n",
       " 'year': '2014'}"
      ]
     },
     "execution_count": 95,
     "metadata": {},
     "output_type": "execute_result"
    }
   ],
   "source": [
    "movable_assets(polinfo,'http://myneta.info/ls2014/candidate.php?candidate_id=4062')"
   ]
  },
  {
   "cell_type": "code",
   "execution_count": null,
   "metadata": {
    "collapsed": true
   },
   "outputs": [],
   "source": [
    "#TEST LS 2004 or LS 2009: IMMOVABLE ASSETS\n",
    "soup1=BeautifulSoup(polinfo['http://myneta.info/ls2009/candidate.php?candidate_id=7831'],\"html.parser\")\n",
    "table1 = soup1.findAll(\"table\",attrs={\"class\":\"table1\"})[2]\n",
    "for r in table1.findAll('td'):\n",
    "    if r.get_text()==\"iv\":\n",
    "        x = r.findAllNext('b',limit=4)[3].get_text().encode('ascii', 'ignore').replace(\"Rs\",\"\").strip()\n",
    "x"
   ]
  },
  {
   "cell_type": "code",
   "execution_count": null,
   "metadata": {
    "collapsed": true
   },
   "outputs": [],
   "source": [
    "#TEST LS 2014: : IMMOVABLE ASSETS\n",
    "soup2=BeautifulSoup(polinfo['http://myneta.info/ls2014/candidate.php?candidate_id=4062'],\"html.parser\")\n",
    "table2 = soup2.findAll(\"table\",attrs={\"class\":\"table1\"})[2]\n",
    "for r in table2.findAll('td'):\n",
    "    if r.get_text()==\"Totals (Calculated as Sum of Values)\":\n",
    "        y = r.findAllNext('b',limit=6)[5].get_text().encode('ascii', 'ignore').replace(\"Rs\",\"\").strip()\n",
    "y"
   ]
  },
  {
   "cell_type": "code",
   "execution_count": 101,
   "metadata": {
    "collapsed": false
   },
   "outputs": [
    {
     "data": {
      "text/plain": [
       "{'Agricultural Land': '0',\n",
       " 'Commercial Buildings': 'Nil',\n",
       " 'Non Agricultural Land': 'Nil',\n",
       " 'Others': 'Nil',\n",
       " 'Residential Buildings': '5,00,000',\n",
       " 'TOTAL_IMMOVABLE_ASSESTS': '5,00,000',\n",
       " 'url': 'http://myneta.info/ls2009/candidate.php?candidate_id=7831',\n",
       " 'year': '2009'}"
      ]
     },
     "execution_count": 101,
     "metadata": {},
     "output_type": "execute_result"
    }
   ],
   "source": [
    "immovable_assets(polinfo,'http://myneta.info/ls2009/candidate.php?candidate_id=7831')"
   ]
  },
  {
   "cell_type": "code",
   "execution_count": 102,
   "metadata": {
    "collapsed": false
   },
   "outputs": [
    {
     "data": {
      "text/plain": [
       "{'Agricultural Land': '5,50,000',\n",
       " 'Commercial Buildings': 'Nil',\n",
       " 'Non Agricultural Land': '4,00,00,000',\n",
       " 'Others': 'Nil',\n",
       " 'Residential Buildings': '1,00,00,000',\n",
       " 'TOTAL_IMMOVABLE_ASSESTS': '5,05,50,000',\n",
       " 'Total Current Market Value of (i) to (v) (as per Affidavit)': '5,05,50,000',\n",
       " 'url': 'http://myneta.info/ls2014/candidate.php?candidate_id=4062',\n",
       " 'year': '2014'}"
      ]
     },
     "execution_count": 102,
     "metadata": {},
     "output_type": "execute_result"
    }
   ],
   "source": [
    "immovable_assets(polinfo,'http://myneta.info/ls2014/candidate.php?candidate_id=4062')"
   ]
  },
  {
   "cell_type": "code",
   "execution_count": 103,
   "metadata": {
    "collapsed": true
   },
   "outputs": [],
   "source": [
    "def immovable_assets(info,url):\n",
    "    soup=BeautifulSoup(info[url],\"html.parser\")\n",
    "    table = soup.findAll(\"table\",attrs={\"class\":\"table1\"})[2]\n",
    "    immadict={}\n",
    "    immadict[\"url\"]=url\n",
    "    \n",
    "    if url[19:21]==\"lo\":\n",
    "        immadict['year']=url[len('http://myneta.info/loksabha'): 4 + len('http://myneta.info/loksabha')]\n",
    "    else:\n",
    "        immadict['year']=url[len('http://myneta.info/ls'): 4 + len('http://myneta.info/ls')]\n",
    "\n",
    "    for r in table.findAll('td'):\n",
    "        try:\n",
    "            if r.get_text()==\"i\":\n",
    "                immadict[\"Agricultural Land\"] = r.findNext('b').get_text().strip().encode('ascii', 'ignore').replace(\"Rs\",\"\")\n",
    "\n",
    "            if r.get_text()==\"ii\":\n",
    "                immadict[\"Non Agricultural Land\"] = r.findNext('b').get_text().strip().encode('ascii', 'ignore').replace(\"Rs\",\"\")\n",
    "           \n",
    "            if r.get_text()==\"iii\":\n",
    "                immadict[\"Commercial Buildings\"] = r.findNext('b').get_text().strip().encode('ascii', 'ignore').replace(\"Rs\",\"\")\n",
    "\n",
    "            if r.get_text()==\"iv\":\n",
    "                immadict[\"Residential Buildings\"] = r.findNext('b').get_text().strip().encode('ascii', 'ignore').replace(\"Rs\",\"\")\n",
    "\n",
    "            if r.get_text()==\"v\":\n",
    "                immadict[\"Others\"] = r.findNext('b').get_text().strip().encode('ascii', 'ignore').replace(\"Rs\",\"\")\n",
    "            \n",
    "            if url[19:25]==\"ls2014\":\n",
    "                \n",
    "                if r.get_text()==\"Total Current Market Value of (i) to (v) (as per Affidavit)\":\n",
    "                    immadict[\"Total Current Market Value of (i) to (v) (as per Affidavit)\"] = r.findAllNext('b',limit=1)[0].get_text().strip().encode('ascii', 'ignore').replace(\"Rs\",\"\")\n",
    "\n",
    "                if r.get_text()==\"Totals Calculated\":\n",
    "                    immadict[\"TOTAL_IMMOVABLE_ASSESTS\"] = r.findAllNext('b',limit=6)[5].get_text().strip().encode('ascii', 'ignore').replace(\"Rs\",\"\")\n",
    "            else:\n",
    "                if r.get_text()==\"Totals\":\n",
    "                    immadict[\"TOTAL_IMMOVABLE_ASSESTS\"] = r.findAllNext('b',limit=6)[5].get_text().strip().encode('ascii', 'ignore').replace(\"Rs\",\"\")\n",
    "                \n",
    "        except:\n",
    "            pass\n",
    "    \n",
    "    return immadict\n",
    "                "
   ]
  },
  {
   "cell_type": "code",
   "execution_count": 100,
   "metadata": {
    "collapsed": true
   },
   "outputs": [],
   "source": [
    "def cleaner(d):\n",
    "    for key in d.keys():\n",
    "        if d[key]=='Nil':\n",
    "            d[key]==np.nan\n",
    "        else:\n",
    "            try:\n",
    "                d[key]=float(d[key].replace(',',''))\n",
    "            except:\n",
    "                pass\n",
    "    return d"
   ]
  },
  {
   "cell_type": "code",
   "execution_count": null,
   "metadata": {
    "collapsed": true
   },
   "outputs": [],
   "source": []
  },
  {
   "cell_type": "code",
   "execution_count": 97,
   "metadata": {
    "collapsed": false,
    "scrolled": true
   },
   "outputs": [
    {
     "name": "stdout",
     "output_type": "stream",
     "text": [
      "CPU times: user 34min 11s, sys: 18.3 s, total: 34min 30s\n",
      "Wall time: 38min 42s\n"
     ]
    }
   ],
   "source": [
    "%%time\n",
    "movassets={}\n",
    "for url in polinfo.keys():\n",
    "    try:\n",
    "        massetdict=cleaner(movable_assets(polinfo,url))\n",
    "        movassets[url] = massetdict\n",
    "        \n",
    "    except TypeError: \n",
    "        print \"error: \",url"
   ]
  },
  {
   "cell_type": "code",
   "execution_count": 13,
   "metadata": {
    "collapsed": false
   },
   "outputs": [],
   "source": [
    "#fd=open(\"movassets.json\",\"w\")\n",
    "#json.dump(movassets, fd)\n",
    "#fd.close()"
   ]
  },
  {
   "cell_type": "code",
   "execution_count": 104,
   "metadata": {
    "collapsed": false
   },
   "outputs": [
    {
     "name": "stdout",
     "output_type": "stream",
     "text": [
      "CPU times: user 36min 40s, sys: 21 s, total: 37min 1s\n",
      "Wall time: 40min 6s\n"
     ]
    }
   ],
   "source": [
    "%%time\n",
    "immovassets={}\n",
    "for url in polinfo.keys():\n",
    "    try:\n",
    "        immassetdict=cleaner(immovable_assets(polinfo,url))\n",
    "        immovassets[url] = immassetdict\n",
    "        \n",
    "    except TypeError: \n",
    "        print \"error: \",url\n",
    "        "
   ]
  },
  {
   "cell_type": "code",
   "execution_count": 105,
   "metadata": {
    "collapsed": false
   },
   "outputs": [
    {
     "data": {
      "text/plain": [
       "19134"
      ]
     },
     "execution_count": 105,
     "metadata": {},
     "output_type": "execute_result"
    }
   ],
   "source": [
    "len(movassets)"
   ]
  },
  {
   "cell_type": "code",
   "execution_count": 106,
   "metadata": {
    "collapsed": false
   },
   "outputs": [],
   "source": [
    "movassets=pd.DataFrame(movassets)\n",
    "movassets=movassets.transpose()"
   ]
  },
  {
   "cell_type": "code",
   "execution_count": 107,
   "metadata": {
    "collapsed": false
   },
   "outputs": [
    {
     "data": {
      "text/html": [
       "<div>\n",
       "<table border=\"1\" class=\"dataframe\">\n",
       "  <thead>\n",
       "    <tr style=\"text-align: right;\">\n",
       "      <th></th>\n",
       "      <th>Bonds, Debentures and Shares in companies</th>\n",
       "      <th>Cash</th>\n",
       "      <th>Deposits in Banks, Financial Institutions and Non-Banking Financial Companies</th>\n",
       "      <th>Gross Total Value (as per Affidavit)</th>\n",
       "      <th>Jewellery (give details weight value)</th>\n",
       "      <th>LIC or other insurance Policies</th>\n",
       "      <th>Motor Vehicles (details of make, etc.)</th>\n",
       "      <th>NSS, Postal Savings etc</th>\n",
       "      <th>Other assets, such as values of claims / interests</th>\n",
       "      <th>Personal loans/advance given</th>\n",
       "      <th>TOTAL_MOVABLE_ASSESTS</th>\n",
       "      <th>Totals (Calculated as Sum of Values)</th>\n",
       "      <th>url</th>\n",
       "      <th>year</th>\n",
       "    </tr>\n",
       "  </thead>\n",
       "  <tbody>\n",
       "    <tr>\n",
       "      <th>http://myneta.info/loksabha2004/candidate.php?candidate_id=1</th>\n",
       "      <td>NaN</td>\n",
       "      <td>70500</td>\n",
       "      <td>1519565</td>\n",
       "      <td>NaN</td>\n",
       "      <td>128501</td>\n",
       "      <td>350000</td>\n",
       "      <td>410000</td>\n",
       "      <td>316155</td>\n",
       "      <td>621439</td>\n",
       "      <td>NaN</td>\n",
       "      <td>3416160</td>\n",
       "      <td>3066160</td>\n",
       "      <td>http://myneta.info/loksabha2004/candidate.php?...</td>\n",
       "      <td>2004</td>\n",
       "    </tr>\n",
       "    <tr>\n",
       "      <th>http://myneta.info/loksabha2004/candidate.php?candidate_id=10</th>\n",
       "      <td>NaN</td>\n",
       "      <td>70000</td>\n",
       "      <td>NaN</td>\n",
       "      <td>NaN</td>\n",
       "      <td>0</td>\n",
       "      <td>450000</td>\n",
       "      <td>0</td>\n",
       "      <td>NaN</td>\n",
       "      <td>0</td>\n",
       "      <td>NaN</td>\n",
       "      <td>520000</td>\n",
       "      <td>70000</td>\n",
       "      <td>http://myneta.info/loksabha2004/candidate.php?...</td>\n",
       "      <td>2004</td>\n",
       "    </tr>\n",
       "  </tbody>\n",
       "</table>\n",
       "</div>"
      ],
      "text/plain": [
       "                                                    Bonds, Debentures and Shares in companies   Cash  Deposits in Banks, Financial Institutions and Non-Banking Financial Companies  Gross Total Value (as per Affidavit)  Jewellery (give details weight value)  LIC or other insurance Policies  Motor Vehicles (details of make, etc.)  NSS, Postal Savings etc  \\\n",
       "http://myneta.info/loksabha2004/candidate.php?c...                                        NaN  70500                                            1519565                                                               NaN                                 128501                           350000                                  410000                   316155   \n",
       "http://myneta.info/loksabha2004/candidate.php?c...                                        NaN  70000                                                NaN                                                               NaN                                      0                           450000                                       0                      NaN   \n",
       "\n",
       "                                                    Other assets, such as values of claims / interests  Personal loans/advance given  TOTAL_MOVABLE_ASSESTS  Totals (Calculated as Sum of Values)                                                url  year  \n",
       "http://myneta.info/loksabha2004/candidate.php?c...                                             621439                            NaN                3416160                               3066160  http://myneta.info/loksabha2004/candidate.php?...  2004  \n",
       "http://myneta.info/loksabha2004/candidate.php?c...                                                  0                            NaN                 520000                                 70000  http://myneta.info/loksabha2004/candidate.php?...  2004  "
      ]
     },
     "execution_count": 107,
     "metadata": {},
     "output_type": "execute_result"
    }
   ],
   "source": [
    "movassets=movassets.replace('Nil',np.nan)\n",
    "movassets.head(2)"
   ]
  },
  {
   "cell_type": "code",
   "execution_count": 108,
   "metadata": {
    "collapsed": true
   },
   "outputs": [],
   "source": [
    "movassets.to_csv(\"movassets.csv\", header=True, index=True, encoding='utf-8')"
   ]
  },
  {
   "cell_type": "code",
   "execution_count": 109,
   "metadata": {
    "collapsed": false
   },
   "outputs": [],
   "source": [
    "immovassets=pd.DataFrame(immovassets)\n",
    "immovassets=immovassets.transpose()"
   ]
  },
  {
   "cell_type": "code",
   "execution_count": 110,
   "metadata": {
    "collapsed": false
   },
   "outputs": [
    {
     "data": {
      "text/html": [
       "<div>\n",
       "<table border=\"1\" class=\"dataframe\">\n",
       "  <thead>\n",
       "    <tr style=\"text-align: right;\">\n",
       "      <th></th>\n",
       "      <th>Agricultural Land</th>\n",
       "      <th>Commercial Buildings</th>\n",
       "      <th>Non Agricultural Land</th>\n",
       "      <th>Others</th>\n",
       "      <th>Residential Buildings</th>\n",
       "      <th>TOTAL_IMMOVABLE_ASSESTS</th>\n",
       "      <th>Total Current Market Value of (i) to (v) (as per Affidavit)</th>\n",
       "      <th>url</th>\n",
       "      <th>year</th>\n",
       "    </tr>\n",
       "  </thead>\n",
       "  <tbody>\n",
       "    <tr>\n",
       "      <th>http://myneta.info/loksabha2004/candidate.php?candidate_id=1</th>\n",
       "      <td>846000</td>\n",
       "      <td>NaN</td>\n",
       "      <td>64580</td>\n",
       "      <td>NaN</td>\n",
       "      <td>1950000</td>\n",
       "      <td>2860580</td>\n",
       "      <td>NaN</td>\n",
       "      <td>http://myneta.info/loksabha2004/candidate.php?...</td>\n",
       "      <td>2004</td>\n",
       "    </tr>\n",
       "    <tr>\n",
       "      <th>http://myneta.info/loksabha2004/candidate.php?candidate_id=10</th>\n",
       "      <td>3000000</td>\n",
       "      <td>NaN</td>\n",
       "      <td>NaN</td>\n",
       "      <td>NaN</td>\n",
       "      <td>NaN</td>\n",
       "      <td>3000000</td>\n",
       "      <td>NaN</td>\n",
       "      <td>http://myneta.info/loksabha2004/candidate.php?...</td>\n",
       "      <td>2004</td>\n",
       "    </tr>\n",
       "  </tbody>\n",
       "</table>\n",
       "</div>"
      ],
      "text/plain": [
       "                                                    Agricultural Land  Commercial Buildings  Non Agricultural Land  Others  Residential Buildings  TOTAL_IMMOVABLE_ASSESTS  Total Current Market Value of (i) to (v) (as per Affidavit)                                                url  year\n",
       "http://myneta.info/loksabha2004/candidate.php?c...             846000                   NaN                  64580     NaN                1950000                  2860580                                                NaN            http://myneta.info/loksabha2004/candidate.php?...  2004\n",
       "http://myneta.info/loksabha2004/candidate.php?c...            3000000                   NaN                    NaN     NaN                    NaN                  3000000                                                NaN            http://myneta.info/loksabha2004/candidate.php?...  2004"
      ]
     },
     "execution_count": 110,
     "metadata": {},
     "output_type": "execute_result"
    }
   ],
   "source": [
    "immovassets=immovassets.replace('Nil',np.nan)\n",
    "immovassets.head(2)"
   ]
  },
  {
   "cell_type": "code",
   "execution_count": 111,
   "metadata": {
    "collapsed": false
   },
   "outputs": [],
   "source": [
    "immovassets.to_csv(\"immovassets.csv\", header=True, index=True, encoding='utf-8')"
   ]
  },
  {
   "cell_type": "code",
   "execution_count": 112,
   "metadata": {
    "collapsed": true
   },
   "outputs": [],
   "source": [
    "# example:\n",
    "#dft=pd.DataFrame(massets[polinfo.keys()[0]])\n",
    "#dft.set_index('srn',inplace=True)\n",
    "#dft.head()"
   ]
  },
  {
   "cell_type": "code",
   "execution_count": 113,
   "metadata": {
    "collapsed": false
   },
   "outputs": [
    {
     "data": {
      "text/plain": [
       "301"
      ]
     },
     "execution_count": 113,
     "metadata": {},
     "output_type": "execute_result"
    }
   ],
   "source": [
    "import gc\n",
    "gc.collect()"
   ]
  },
  {
   "cell_type": "code",
   "execution_count": null,
   "metadata": {
    "collapsed": true
   },
   "outputs": [],
   "source": []
  }
 ],
 "metadata": {
  "kernelspec": {
   "display_name": "Python 2",
   "language": "python",
   "name": "python2"
  },
  "language_info": {
   "codemirror_mode": {
    "name": "ipython",
    "version": 2
   },
   "file_extension": ".py",
   "mimetype": "text/x-python",
   "name": "python",
   "nbconvert_exporter": "python",
   "pygments_lexer": "ipython2",
   "version": "2.7.10"
  }
 },
 "nbformat": 4,
 "nbformat_minor": 0
}

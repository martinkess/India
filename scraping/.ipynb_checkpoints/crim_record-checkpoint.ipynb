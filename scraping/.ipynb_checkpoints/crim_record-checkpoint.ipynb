{
 "cells": [
  {
   "cell_type": "code",
   "execution_count": 2,
   "metadata": {
    "collapsed": false
   },
   "outputs": [],
   "source": [
    "from pyquery import PyQuery as pq\n",
    "import urllib2\n",
    "import requests\n",
    "import pandas as pd\n",
    "import re\n",
    "import time\n",
    "import numpy as np\n",
    "import json\n",
    "from pprint import PrettyPrinter as pp"
   ]
  },
  {
   "cell_type": "code",
   "execution_count": 65,
   "metadata": {
    "collapsed": false
   },
   "outputs": [],
   "source": [
    "with open('../candidate_pages.json') as data_file:    \n",
    "    candidate_json = json.load(data_file)\n"
   ]
  },
  {
   "cell_type": "code",
   "execution_count": 5,
   "metadata": {
    "collapsed": false
   },
   "outputs": [],
   "source": [
    "for key,val in candidate_json.iteritems():\n",
    "    if isinstance( val, int ):\n",
    "        print key\n",
    "    elif len(val) < 5:\n",
    "        print key"
   ]
  },
  {
   "cell_type": "code",
   "execution_count": 190,
   "metadata": {
    "collapsed": false
   },
   "outputs": [
    {
     "data": {
      "text/plain": [
       "[{'detail': 'Brief Details of IPCs 2 charges related to Cheating and dishonestly inducing delivery of property (IPC Section-420',\n",
       "  'url': 'http://myneta.info/ls2009/candidate.php?candidate_id=587'},\n",
       " {'detail': '2 charges related to  criminal intimidation (IPC Section-506',\n",
       "  'url': 'http://myneta.info/ls2009/candidate.php?candidate_id=587'},\n",
       " {'detail': '1 charges related to Forgery for purpose of cheating (IPC Section-468',\n",
       "  'url': 'http://myneta.info/ls2009/candidate.php?candidate_id=587'},\n",
       " {'detail': '1 charges related to  extortion (IPC Section-384',\n",
       "  'url': 'http://myneta.info/ls2009/candidate.php?candidate_id=587'},\n",
       " {'detail': '1 charges related to Acts done by several persons in furtherance of common intention (IPC Section-34)',\n",
       "  'url': 'http://myneta.info/ls2009/candidate.php?candidate_id=587'}]"
      ]
     },
     "execution_count": 190,
     "metadata": {},
     "output_type": "execute_result"
    }
   ],
   "source": [
    "def get_crimdata2(year, page_text, url):\n",
    "    \n",
    "    crim_list = []\n",
    "    crim_det_list = []\n",
    "    success = 0\n",
    "    crim_dict = {'year_election': year, 'url': url}\n",
    "    header = ['serial_no','IPC_sections','Other']\n",
    "    \n",
    "    for h3 in pq(page_text)(\"h3\"):\n",
    "        #print h3.text\n",
    "        if h3.text == \"Cases where charges framed\":\n",
    "            framed = pq(h3).next('table')\n",
    "            crim_dict['type'] = 'Framed'\n",
    "            for i,tr in enumerate(pq(framed)('tr')):\n",
    "                crim_dict_copy = crim_dict.copy()\n",
    "                if i > 0:\n",
    "                    for j,child in enumerate(tr.iterchildren()):\n",
    "                        if child.text != '---------':\n",
    "                            crim_dict_copy[header[j]] = child.text\n",
    "                            success = 1\n",
    "                    if success == 1:\n",
    "                        crim_list.append(crim_dict_copy)\n",
    "                        success = 0\n",
    "        if h3.text == \"Cases where Cognizance taken\":\n",
    "            framed = pq(h3).next('table')\n",
    "            crim_dict['type'] = 'Cogniz'\n",
    "            for i,tr in enumerate(pq(framed)('tr')):\n",
    "                crim_dict_copy = crim_dict.copy()\n",
    "                if i > 0:\n",
    "                    for j,child in enumerate(tr.iterchildren()):\n",
    "                        if child.text != '---------':\n",
    "                            crim_dict_copy[header[j]] = child.text\n",
    "                            success = 1\n",
    "                    if success == 1:\n",
    "                        crim_list.append(crim_dict_copy)\n",
    "                        success = 0\n",
    "        if h3.text == \"Cases where convicted\":\n",
    "            framed = pq(h3).next('table')\n",
    "            crim_dict['type'] = 'Convict'\n",
    "            for i,tr in enumerate(pq(framed)('tr')):\n",
    "                crim_dict_copy = crim_dict.copy()\n",
    "                if i > 0:\n",
    "                    for j,child in enumerate(tr.iterchildren()):\n",
    "                        if child.text != '---------':\n",
    "                            crim_dict_copy[header[j]] = child.text\n",
    "                            success = 1\n",
    "                    if success == 1:\n",
    "                        crim_list.append(crim_dict_copy)\n",
    "                        success = 0\n",
    "        \n",
    "        if h3.text == \"Brief Details of IPCs\":\n",
    "            crim_det_dict = {'url': url}\n",
    "            parent = pq(h3).parent()\n",
    "            details = parent.text().split(') ')\n",
    "            \n",
    "            for x in details:\n",
    "                if len(x)>0:\n",
    "                    crim_det_copy = crim_det_dict.copy()\n",
    "                    crim_det_copy['detail'] = x\n",
    "                    crim_det_list.append(crim_det_copy)\n",
    "        \n",
    "    return crim_det_list, crim_list\n",
    "\n",
    "det_list, crim_list = get_crimdata2(2014,page_data2,test_index)\n",
    "det_list"
   ]
  },
  {
   "cell_type": "code",
   "execution_count": 191,
   "metadata": {
    "collapsed": false
   },
   "outputs": [],
   "source": [
    "def get_crimdata(year, page_text, url):\n",
    "    crim_list = []\n",
    "    crim_det_list = []\n",
    "    success = 0\n",
    "    crim_dict = {'year_election': year, 'url': url}\n",
    "    header = ['serial_no','IPC_sections','Other']\n",
    "    for h3 in pq(page_text)(\"h3\"):\n",
    "        if h3.text == \"Details of Criminal Cases\":\n",
    "            tablecrims = pq(h3).nextAll('table')\n",
    "            if len(tablecrims) == 0:\n",
    "                tablecrims = pq(h3).parent().find('h3')\n",
    "                print \"TC: %s \" % tablecrims\n",
    "            for h3_2 in pq(tablecrims)(\"h3\"): \n",
    "                print h3_2.text\n",
    "                if h3_2.text == \"Cases where charges framed\":\n",
    "                    framed = pq(h3_2).next('table')\n",
    "                    crim_dict['type'] = 'Framed'\n",
    "                    for i,tr in enumerate(pq(framed)('tr')):\n",
    "                        crim_dict_copy = crim_dict.copy()\n",
    "                        if i > 0:\n",
    "                            for j,child in enumerate(tr.iterchildren()):\n",
    "                                if child.text != '---------':\n",
    "                                    crim_dict_copy[header[j]] = child.text\n",
    "                                    success = 1\n",
    "                            if success == 1:\n",
    "                                crim_list.append(crim_dict_copy)\n",
    "                                success = 0\n",
    "                    \n",
    "                if h3_2.text == \"Cases where Cognizance taken\":\n",
    "                    framed = pq(h3_2).next('table')\n",
    "                    crim_dict['type'] = 'Cogniz'\n",
    "                    for i,tr in enumerate(pq(framed)('tr')):\n",
    "                        crim_dict_copy = crim_dict.copy()\n",
    "                        if i > 0:\n",
    "                            for j,child in enumerate(tr.iterchildren()):\n",
    "                                if child.text != '---------':\n",
    "                                    crim_dict_copy[header[j]] = child.text\n",
    "                                    success = 1\n",
    "                            if success == 1:\n",
    "                                crim_list.append(crim_dict_copy)\n",
    "                                success = 0\n",
    "                                \n",
    "                    \n",
    "                if h3_2.text == \"Cases where convicted\":\n",
    "                    framed = pq(h3_2).next('table')\n",
    "                    crim_dict['type'] = 'Convict'\n",
    "                    for i,tr in enumerate(pq(framed)('tr')):\n",
    "                        crim_dict_copy = crim_dict.copy()\n",
    "                        if i > 0:\n",
    "                            for j,child in enumerate(tr.iterchildren()):\n",
    "                                if child.text != '---------':\n",
    "                                    crim_dict_copy[header[j]] = child.text\n",
    "                                    success = 1\n",
    "                            if success == 1:\n",
    "                                crim_list.append(crim_dict_copy)\n",
    "                                success = 0\n",
    "\n",
    "        if h3.text == \"Brief Details of IPCs\":\n",
    "            crim_det_dict = {'url': url}\n",
    "            parent = pq(h3).parent()\n",
    "            details = parent.text().split(') ')\n",
    "            \n",
    "            for x in details:\n",
    "                if len(x)>0:\n",
    "                    crim_det_copy = crim_det_dict.copy()\n",
    "                    crim_det_copy['detail'] = x\n",
    "                    crim_det_list.append(crim_det_copy)\n",
    "                \n",
    "#             for x in pq(parent).children()[1:]:\n",
    "#                 dets = pq(x).text()\n",
    "#                 if len(dets) > 0:\n",
    "#                     crim_det_copy = crim_det_dict.copy()\n",
    "#                     crim_det_copy['detail'] = dets\n",
    "#                     crim_det_list.append(crim_det_copy)\n",
    "                \n",
    "        \n",
    "    return crim_det_list, crim_list\n",
    "\n"
   ]
  },
  {
   "cell_type": "code",
   "execution_count": 208,
   "metadata": {
    "collapsed": false
   },
   "outputs": [
    {
     "data": {
      "text/plain": [
       "'2014'"
      ]
     },
     "execution_count": 208,
     "metadata": {},
     "output_type": "execute_result"
    }
   ],
   "source": [
    "### FOR TESTING ###\n",
    "test_index = \"http://myneta.info/ls2009/candidate.php?candidate_id=587\"\n",
    "test_index2 = \"http://myneta.info/loksabha2014/candidate.php?candidate_id=4882\"\n",
    "#page_data = candidate_json[test_index]\n",
    "#page_data2 = candidate_json[test_index2]\n",
    "#det_list, crim_list = get_crimdata2(2014,page_data2,test_index)\n",
    "#det_list2, crim_list2 = get_crimdata2(2014,page_data,test_index)\n",
    "\n",
    "int(test_index2.split(\"/\")[3].strip('ls').strip('loksabha'))\n",
    "\n",
    "\n",
    "\n",
    "#print page_data\n",
    "#det_list\n",
    "#crim_list"
   ]
  },
  {
   "cell_type": "code",
   "execution_count": 209,
   "metadata": {
    "collapsed": false,
    "scrolled": true
   },
   "outputs": [
    {
     "name": "stdout",
     "output_type": "stream",
     "text": [
      ". . . . . . . . . . . . . . . . . . . . . . . . . . . . . . . . . . . . . . . . . . . . . . . . . . . . . . . . . . . . . . . . . . . . . . . . . . . . . . . . . . . . . . . . . . . . . . . . . . . . . . . . . . . . . . . . . . . . . . . . . . . . . . . . . . . . . . . . . . . . . . . . . . . . . . . . . . . . . . . . . . . . . . . . . . . . . . . . . . . . . . . . . . . . . . . ."
     ]
    },
    {
     "data": {
      "text/plain": [
       "IPC_sections     8742\n",
       "Other            8742\n",
       "serial_no        8742\n",
       "type             8742\n",
       "url              8742\n",
       "year_election    8742\n",
       "dtype: int64"
      ]
     },
     "execution_count": 209,
     "metadata": {},
     "output_type": "execute_result"
    },
    {
     "name": "stdout",
     "output_type": "stream",
     "text": [
      "\n"
     ]
    }
   ],
   "source": [
    "crimdataset = []\n",
    "crimdetailset = []\n",
    "for i,urls in enumerate(candidate_json.keys()):\n",
    "    page_data = candidate_json[urls]\n",
    "    if (i%100.0) == 0.0:\n",
    "        print \".\",\n",
    "    \n",
    "    year = int(test_index2.split(\"/\")[3].strip('ls').strip('loksabha'))\n",
    "    details, dataset = get_crimdata2(year,page_data,urls)\n",
    "    crimdataset = crimdataset + dataset\n",
    "    crimdetailset = crimdetailset + details\n",
    "    \n",
    "criminal_df = pd.DataFrame(crimdataset)\n",
    "crim_details_df = pd.DataFrame(crimdetailset)\n",
    "criminal_df.count()"
   ]
  },
  {
   "cell_type": "code",
   "execution_count": 217,
   "metadata": {
    "collapsed": true
   },
   "outputs": [],
   "source": [
    "def clean_list(input_list):\n",
    "    z=[]\n",
    "    for i in input_list:\n",
    "        cleaned = i.lstrip().rstrip()\n",
    "        if len(cleaned) > 0:\n",
    "            z.append(cleaned)\n",
    "    return z"
   ]
  },
  {
   "cell_type": "code",
   "execution_count": 218,
   "metadata": {
    "collapsed": false
   },
   "outputs": [
    {
     "data": {
      "text/html": [
       "<div>\n",
       "<table border=\"1\" class=\"dataframe\">\n",
       "  <thead>\n",
       "    <tr style=\"text-align: right;\">\n",
       "      <th></th>\n",
       "      <th>IPC_sections</th>\n",
       "      <th>Other</th>\n",
       "      <th>serial_no</th>\n",
       "      <th>type</th>\n",
       "      <th>url</th>\n",
       "      <th>year_election</th>\n",
       "    </tr>\n",
       "  </thead>\n",
       "  <tbody>\n",
       "    <tr>\n",
       "      <th>3822</th>\n",
       "      <td>[143,  147,  149,  323,  324,  336,  427 ]</td>\n",
       "      <td>Judicial Magistrate Saheb, Class-1, R.T.C. 31...</td>\n",
       "      <td>1</td>\n",
       "      <td>Framed</td>\n",
       "      <td>http://myneta.info/ls2014/candidate.php?candid...</td>\n",
       "      <td>2014</td>\n",
       "    </tr>\n",
       "    <tr>\n",
       "      <th>3823</th>\n",
       "      <td>[143,  149,  341 ]</td>\n",
       "      <td>Judicial Magistrate Saheb, Class-1, R.T.C. 18...</td>\n",
       "      <td>2</td>\n",
       "      <td>Framed</td>\n",
       "      <td>http://myneta.info/ls2014/candidate.php?candid...</td>\n",
       "      <td>2014</td>\n",
       "    </tr>\n",
       "    <tr>\n",
       "      <th>3824</th>\n",
       "      <td>[341,  143,  147 ]</td>\n",
       "      <td>Judicial Magistrate Saheb, Class-1, R.T.C. 34...</td>\n",
       "      <td>3</td>\n",
       "      <td>Framed</td>\n",
       "      <td>http://myneta.info/ls2014/candidate.php?candid...</td>\n",
       "      <td>2014</td>\n",
       "    </tr>\n",
       "    <tr>\n",
       "      <th>3825</th>\n",
       "      <td>[182,  171 ]</td>\n",
       "      <td>Judicial Magistrate Saheb, Class-1, R.T.C. 22...</td>\n",
       "      <td>4</td>\n",
       "      <td>Framed</td>\n",
       "      <td>http://myneta.info/ls2014/candidate.php?candid...</td>\n",
       "      <td>2014</td>\n",
       "    </tr>\n",
       "    <tr>\n",
       "      <th>3826</th>\n",
       "      <td>[171H ]</td>\n",
       "      <td>Judicial Magistrate Saheb, Class-1, R.T.C. 29...</td>\n",
       "      <td>5</td>\n",
       "      <td>Framed</td>\n",
       "      <td>http://myneta.info/ls2014/candidate.php?candid...</td>\n",
       "      <td>2014</td>\n",
       "    </tr>\n",
       "  </tbody>\n",
       "</table>\n",
       "</div>"
      ],
      "text/plain": [
       "                                    IPC_sections  \\\n",
       "3822  [143,  147,  149,  323,  324,  336,  427 ]   \n",
       "3823                          [143,  149,  341 ]   \n",
       "3824                          [341,  143,  147 ]   \n",
       "3825                                [182,  171 ]   \n",
       "3826                                     [171H ]   \n",
       "\n",
       "                                                  Other serial_no    type  \\\n",
       "3822   Judicial Magistrate Saheb, Class-1, R.T.C. 31...         1  Framed   \n",
       "3823   Judicial Magistrate Saheb, Class-1, R.T.C. 18...         2  Framed   \n",
       "3824   Judicial Magistrate Saheb, Class-1, R.T.C. 34...         3  Framed   \n",
       "3825   Judicial Magistrate Saheb, Class-1, R.T.C. 22...         4  Framed   \n",
       "3826   Judicial Magistrate Saheb, Class-1, R.T.C. 29...         5  Framed   \n",
       "\n",
       "                                                    url  year_election  \n",
       "3822  http://myneta.info/ls2014/candidate.php?candid...           2014  \n",
       "3823  http://myneta.info/ls2014/candidate.php?candid...           2014  \n",
       "3824  http://myneta.info/ls2014/candidate.php?candid...           2014  \n",
       "3825  http://myneta.info/ls2014/candidate.php?candid...           2014  \n",
       "3826  http://myneta.info/ls2014/candidate.php?candid...           2014  "
      ]
     },
     "execution_count": 218,
     "metadata": {},
     "output_type": "execute_result"
    }
   ],
   "source": [
    "criminal_df.IPC_sections.apply(clean_list)\n",
    "criminal_df.IPC_sections = criminal_df.IPC_sections.apply(lambda x: str(x).split(', '))\n",
    "\n",
    "criminal_df[criminal_df.url == 'http://myneta.info/ls2014/candidate.php?candidate_id=3492'].head(5)"
   ]
  },
  {
   "cell_type": "code",
   "execution_count": 219,
   "metadata": {
    "collapsed": false
   },
   "outputs": [
    {
     "data": {
      "text/html": [
       "<div>\n",
       "<table border=\"1\" class=\"dataframe\">\n",
       "  <thead>\n",
       "    <tr style=\"text-align: right;\">\n",
       "      <th></th>\n",
       "      <th>detail</th>\n",
       "      <th>url</th>\n",
       "    </tr>\n",
       "  </thead>\n",
       "  <tbody>\n",
       "    <tr>\n",
       "      <th>7802</th>\n",
       "      <td>Brief Details of IPCs 2 charges related to Vol...</td>\n",
       "      <td>http://myneta.info/ls2014/candidate.php?candid...</td>\n",
       "    </tr>\n",
       "    <tr>\n",
       "      <th>7803</th>\n",
       "      <td>2 charges related to  criminal intimidation (I...</td>\n",
       "      <td>http://myneta.info/ls2014/candidate.php?candid...</td>\n",
       "    </tr>\n",
       "    <tr>\n",
       "      <th>7804</th>\n",
       "      <td>1 charges related to Illegal payments in conne...</td>\n",
       "      <td>http://myneta.info/ls2014/candidate.php?candid...</td>\n",
       "    </tr>\n",
       "    <tr>\n",
       "      <th>7805</th>\n",
       "      <td>8 charges related to Being member of an unlawf...</td>\n",
       "      <td>http://myneta.info/ls2014/candidate.php?candid...</td>\n",
       "    </tr>\n",
       "    <tr>\n",
       "      <th>7806</th>\n",
       "      <td>5 charges related to  rioting (IPC Section-147</td>\n",
       "      <td>http://myneta.info/ls2014/candidate.php?candid...</td>\n",
       "    </tr>\n",
       "  </tbody>\n",
       "</table>\n",
       "</div>"
      ],
      "text/plain": [
       "                                                 detail  \\\n",
       "7802  Brief Details of IPCs 2 charges related to Vol...   \n",
       "7803  2 charges related to  criminal intimidation (I...   \n",
       "7804  1 charges related to Illegal payments in conne...   \n",
       "7805  8 charges related to Being member of an unlawf...   \n",
       "7806     5 charges related to  rioting (IPC Section-147   \n",
       "\n",
       "                                                    url  \n",
       "7802  http://myneta.info/ls2014/candidate.php?candid...  \n",
       "7803  http://myneta.info/ls2014/candidate.php?candid...  \n",
       "7804  http://myneta.info/ls2014/candidate.php?candid...  \n",
       "7805  http://myneta.info/ls2014/candidate.php?candid...  \n",
       "7806  http://myneta.info/ls2014/candidate.php?candid...  "
      ]
     },
     "execution_count": 219,
     "metadata": {},
     "output_type": "execute_result"
    }
   ],
   "source": [
    "crim_details_df[crim_details_df.url == 'http://myneta.info/ls2014/candidate.php?candidate_id=3492'].head(5)"
   ]
  },
  {
   "cell_type": "code",
   "execution_count": 220,
   "metadata": {
    "collapsed": false
   },
   "outputs": [],
   "source": [
    "criminal_df.to_csv('../criminal_record.csv',encoding='utf-8')\n",
    "crim_details_df.to_csv('../criminal_details.csv')"
   ]
  },
  {
   "cell_type": "code",
   "execution_count": null,
   "metadata": {
    "collapsed": true
   },
   "outputs": [],
   "source": []
  }
 ],
 "metadata": {
  "kernelspec": {
   "display_name": "Python 2",
   "language": "python",
   "name": "python2"
  },
  "language_info": {
   "codemirror_mode": {
    "name": "ipython",
    "version": 2
   },
   "file_extension": ".py",
   "mimetype": "text/x-python",
   "name": "python",
   "nbconvert_exporter": "python",
   "pygments_lexer": "ipython2",
   "version": "2.7.10"
  }
 },
 "nbformat": 4,
 "nbformat_minor": 0
}

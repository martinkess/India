{
 "cells": [
  {
   "cell_type": "code",
   "execution_count": 1,
   "metadata": {
    "collapsed": false
   },
   "outputs": [],
   "source": [
    "from pyquery import PyQuery as pq\n",
    "import urllib2\n",
    "import requests\n",
    "import pandas as pd\n",
    "import re\n",
    "import time\n",
    "import numpy as np\n",
    "import json\n",
    "from pprint import PrettyPrinter as pp"
   ]
  },
  {
   "cell_type": "code",
   "execution_count": 2,
   "metadata": {
    "collapsed": false
   },
   "outputs": [],
   "source": [
    "with open('../candidate_pages.json') as data_file:    \n",
    "    candidate_json = json.load(data_file)"
   ]
  },
  {
   "cell_type": "code",
   "execution_count": 3,
   "metadata": {
    "collapsed": true
   },
   "outputs": [],
   "source": [
    "ROOT_LINK = \"http://myneta.info\""
   ]
  },
  {
   "cell_type": "code",
   "execution_count": 4,
   "metadata": {
    "collapsed": false
   },
   "outputs": [],
   "source": [
    "for key,val in candidate_json.iteritems():\n",
    "    if isinstance( val, int ):\n",
    "        print key\n",
    "    elif len(val) < 5:\n",
    "        print key"
   ]
  },
  {
   "cell_type": "code",
   "execution_count": 18,
   "metadata": {
    "collapsed": false
   },
   "outputs": [],
   "source": [
    "def get_otherelec_link(page_text, url):\n",
    "    for a in pq(page_text)(\"a\"):\n",
    "        if a.text == \"Click here for more details\":\n",
    "            other_elec_link = pq(a).attr.href\n",
    "            return ROOT_LINK+other_elec_link\n",
    "    return False\n",
    "\n",
    "test_index = \"http://myneta.info/ls2009/candidate.php?candidate_id=1245\"\n",
    "page_data = candidate_json[test_index]\n",
    "other_link = get_otherelec_link(page_data,test_index)\n"
   ]
  },
  {
   "cell_type": "code",
   "execution_count": 29,
   "metadata": {
    "collapsed": false
   },
   "outputs": [
    {
     "data": {
      "text/plain": [
       "[{'Age': '71',\n",
       "  'Constituency': 'Hazaribagh',\n",
       "  'Criminal_Cases': 'Yes',\n",
       "  'Education_Level': 'Post Graduate',\n",
       "  'Name': 'YASHWANT SINHA in Lok Sabha 2009',\n",
       "  'Number_of_Cases': '1',\n",
       "  'PAN_Given_(Y_or_N)': 'Y',\n",
       "  'Party_Code': 'BJP',\n",
       "  'Total_Assets': '36576217',\n",
       "  'Total_Liabilities': '0',\n",
       "  'common_link': 'http://myneta.info/compare_profile.php?group_id=6ZTQyN2EV2kbL4FLA8dP',\n",
       "  'elec_link': 'http://myneta.info/ls2009/candidate.php?candidate_id=1245'},\n",
       " {'Age': '66',\n",
       "  'Constituency': 'Hazaribagh',\n",
       "  'Criminal_Cases': 'No',\n",
       "  'Education_Level': 'Post Graduate',\n",
       "  'Name': 'YASHWANT SINHA in Lok Sabha 2004',\n",
       "  'Number_of_Cases': '0',\n",
       "  'PAN_Given_(Y_or_N)': 'Y',\n",
       "  'Party_Code': 'BJP',\n",
       "  'Total_Assets': '15637769',\n",
       "  'Total_Liabilities': '0',\n",
       "  'common_link': 'http://myneta.info/compare_profile.php?group_id=6ZTQyN2EV2kbL4FLA8dP',\n",
       "  'elec_link': 'http://myneta.info/loksabha2004/candidate.php?candidate_id=1529'}]"
      ]
     },
     "execution_count": 29,
     "metadata": {},
     "output_type": "execute_result"
    }
   ],
   "source": [
    "def get_otherelec_data(otherelec_link):\n",
    "    \n",
    "    otherelec_dict = {'common_link': otherelec_link}\n",
    "    \n",
    "    html = requests.get(otherelec_link)\n",
    "    doc = pq(html.content)\n",
    "    \n",
    "    columns = []\n",
    "    all_dicts = []\n",
    "    add = 0\n",
    "    trs = doc('tr')\n",
    "    for tr in trs:\n",
    "        elec_dict = otherelec_dict.copy()\n",
    "        for th in pq(tr)('th'):\n",
    "            columns.append(pq(th).text().replace(\" \",\"_\"))\n",
    "            add = 0\n",
    "        for i,td in enumerate(pq(tr)('td')):\n",
    "            a = pq(td)('a')\n",
    "            if a:\n",
    "                elec_dict['elec_link'] = ROOT_LINK+a.attr.href\n",
    "                elec_dict[columns[i]] = a.text()\n",
    "            else:\n",
    "                try:\n",
    "                    if pq(td)('span') and i < 6:\n",
    "                        elec_dict[columns[i]] = pq(td)('span').text()\n",
    "                    else:\n",
    "                        elec_dict[columns[i]] = str(pq(td).contents()[0]).encode('utf-8').strip().replace(',','')\n",
    "                except:\n",
    "                    print \"\"\n",
    "                    print \"Skipping col %s for %s\" % (columns[i], elec_dict['common_link'])\n",
    "            add = 1\n",
    "            \n",
    "        if add == 1:\n",
    "            all_dicts.append(elec_dict)\n",
    "    \n",
    "    return all_dicts\n",
    "\n",
    "get_otherelec_data(other_link)"
   ]
  },
  {
   "cell_type": "code",
   "execution_count": 30,
   "metadata": {
    "collapsed": false
   },
   "outputs": [
    {
     "name": "stdout",
     "output_type": "stream",
     "text": [
      ". . . . . . . . . . . . . . . . . . . . . . . . . . . . . . . . . . . . . . . . . . . . . . . . . . . . . . . . . . . . . . . . . . . . . . . . . . . . . . . . . . . . . . . . . . . . . . . . . . . . . . . . . . . . . . . . . . . . . . . . . . . . . . . . \n",
      "Skipping col Constituency for http://myneta.info/compare_profile.php?group_id=JqXzgmSjQcXmaqJ9SSz8\n",
      ". . . . . . . . . . . . . . . . . . . . . . . . . . . . . . . . . . . . . . . . . . . . . . . . . . . . . . . . . . . . . . ."
     ]
    },
    {
     "data": {
      "text/plain": [
       "0    http://myneta.info/compare_profile.php?group_i...\n",
       "1    http://myneta.info/compare_profile.php?group_i...\n",
       "2    http://myneta.info/compare_profile.php?group_i...\n",
       "Name: common_link, dtype: object"
      ]
     },
     "execution_count": 30,
     "metadata": {},
     "output_type": "execute_result"
    },
    {
     "name": "stdout",
     "output_type": "stream",
     "text": [
      "\n"
     ]
    }
   ],
   "source": [
    "def get_all_elec():\n",
    "    all_elec_data = []   \n",
    "    counter = 0.0\n",
    "    for key, val in candidate_json.iteritems():\n",
    "        thelink = get_otherelec_link(val,key)\n",
    "        counter += 1\n",
    "        if counter%100 == 0.0:\n",
    "            print \".\",\n",
    "        if thelink:\n",
    "            all_elec_data = all_elec_data + get_otherelec_data(thelink)\n",
    "    \n",
    "    df = pd.DataFrame(all_elec_data)\n",
    "    return df.drop_duplicates()\n",
    "\n",
    "all_elecs_df = get_all_elec()\n",
    "all_elecs_df.head(3)['common_link']"
   ]
  },
  {
   "cell_type": "code",
   "execution_count": 31,
   "metadata": {
    "collapsed": false
   },
   "outputs": [
    {
     "data": {
      "text/html": [
       "<div>\n",
       "<table border=\"1\" class=\"dataframe\">\n",
       "  <thead>\n",
       "    <tr style=\"text-align: right;\">\n",
       "      <th></th>\n",
       "      <th>Age</th>\n",
       "      <th>Constituency</th>\n",
       "      <th>Criminal_Cases</th>\n",
       "      <th>Education_Level</th>\n",
       "      <th>Name</th>\n",
       "      <th>Number_of_Cases</th>\n",
       "      <th>PAN_Given_(Y_or_N)</th>\n",
       "      <th>Party_Code</th>\n",
       "      <th>Total_Assets</th>\n",
       "      <th>Total_Liabilities</th>\n",
       "      <th>common_link</th>\n",
       "      <th>elec_link</th>\n",
       "    </tr>\n",
       "  </thead>\n",
       "  <tbody>\n",
       "    <tr>\n",
       "      <th>0</th>\n",
       "      <td>71</td>\n",
       "      <td>Hazaribagh</td>\n",
       "      <td>Yes</td>\n",
       "      <td>Post Graduate</td>\n",
       "      <td>YASHWANT SINHA in Lok Sabha 2009</td>\n",
       "      <td>1</td>\n",
       "      <td>Y</td>\n",
       "      <td>BJP</td>\n",
       "      <td>36576217</td>\n",
       "      <td>0</td>\n",
       "      <td>http://myneta.info/compare_profile.php?group_i...</td>\n",
       "      <td>http://myneta.info/ls2009/candidate.php?candid...</td>\n",
       "    </tr>\n",
       "    <tr>\n",
       "      <th>1</th>\n",
       "      <td>66</td>\n",
       "      <td>Hazaribagh</td>\n",
       "      <td>No</td>\n",
       "      <td>Post Graduate</td>\n",
       "      <td>YASHWANT SINHA in Lok Sabha 2004</td>\n",
       "      <td>0</td>\n",
       "      <td>Y</td>\n",
       "      <td>BJP</td>\n",
       "      <td>15637769</td>\n",
       "      <td>0</td>\n",
       "      <td>http://myneta.info/compare_profile.php?group_i...</td>\n",
       "      <td>http://myneta.info/loksabha2004/candidate.php?...</td>\n",
       "    </tr>\n",
       "    <tr>\n",
       "      <th>2</th>\n",
       "      <td>78</td>\n",
       "      <td>SHIMLA RURAL</td>\n",
       "      <td>Yes</td>\n",
       "      <td>Post Graduate</td>\n",
       "      <td>Virbhadra Singh in Himachal Pradesh 2012</td>\n",
       "      <td>1</td>\n",
       "      <td>Y</td>\n",
       "      <td>INC</td>\n",
       "      <td>336564971</td>\n",
       "      <td>2402720</td>\n",
       "      <td>http://myneta.info/compare_profile.php?group_i...</td>\n",
       "      <td>http://myneta.info/hp2012/candidate.php?candid...</td>\n",
       "    </tr>\n",
       "  </tbody>\n",
       "</table>\n",
       "</div>"
      ],
      "text/plain": [
       "  Age  Constituency Criminal_Cases Education_Level  \\\n",
       "0  71    Hazaribagh            Yes   Post Graduate   \n",
       "1  66    Hazaribagh             No   Post Graduate   \n",
       "2  78  SHIMLA RURAL            Yes   Post Graduate   \n",
       "\n",
       "                                       Name Number_of_Cases  \\\n",
       "0          YASHWANT SINHA in Lok Sabha 2009               1   \n",
       "1          YASHWANT SINHA in Lok Sabha 2004               0   \n",
       "2  Virbhadra Singh in Himachal Pradesh 2012               1   \n",
       "\n",
       "  PAN_Given_(Y_or_N) Party_Code Total_Assets Total_Liabilities  \\\n",
       "0                  Y        BJP     36576217                 0   \n",
       "1                  Y        BJP     15637769                 0   \n",
       "2                  Y        INC    336564971           2402720   \n",
       "\n",
       "                                         common_link  \\\n",
       "0  http://myneta.info/compare_profile.php?group_i...   \n",
       "1  http://myneta.info/compare_profile.php?group_i...   \n",
       "2  http://myneta.info/compare_profile.php?group_i...   \n",
       "\n",
       "                                           elec_link  \n",
       "0  http://myneta.info/ls2009/candidate.php?candid...  \n",
       "1  http://myneta.info/loksabha2004/candidate.php?...  \n",
       "2  http://myneta.info/hp2012/candidate.php?candid...  "
      ]
     },
     "execution_count": 31,
     "metadata": {},
     "output_type": "execute_result"
    }
   ],
   "source": [
    "all_elecs_df.head(3)"
   ]
  },
  {
   "cell_type": "code",
   "execution_count": 32,
   "metadata": {
    "collapsed": false
   },
   "outputs": [],
   "source": [
    "all_elecs_df.to_csv('../multiple_elections.csv',encoding='utf-8')"
   ]
  }
 ],
 "metadata": {
  "kernelspec": {
   "display_name": "Python 2",
   "language": "python",
   "name": "python2"
  },
  "language_info": {
   "codemirror_mode": {
    "name": "ipython",
    "version": 2
   },
   "file_extension": ".py",
   "mimetype": "text/x-python",
   "name": "python",
   "nbconvert_exporter": "python",
   "pygments_lexer": "ipython2",
   "version": "2.7.10"
  }
 },
 "nbformat": 4,
 "nbformat_minor": 0
}

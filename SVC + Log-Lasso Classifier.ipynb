{
 "cells": [
  {
   "cell_type": "markdown",
   "metadata": {},
   "source": [
    "###Trying SVC & Log-LassoClassifiers:"
   ]
  },
  {
   "cell_type": "code",
   "execution_count": 216,
   "metadata": {
    "collapsed": true
   },
   "outputs": [],
   "source": [
    "%matplotlib inline\n",
    "import numpy as np\n",
    "import scipy as sp\n",
    "import matplotlib as mpl\n",
    "import matplotlib.cm as cm\n",
    "import matplotlib.pyplot as plt\n",
    "import pandas as pd\n",
    "pd.set_option('display.width', 400)\n",
    "pd.set_option('display.max_columns', 100)\n",
    "pd.set_option('display.notebook_repr_html', True)\n",
    "import seaborn as sns\n",
    "sns.set_style(\"whitegrid\")\n",
    "sns.set_context(\"poster\")\n",
    "\n",
    "from sklearn.preprocessing import StandardScaler, OneHotEncoder, LabelEncoder"
   ]
  },
  {
   "cell_type": "code",
   "execution_count": 185,
   "metadata": {
    "collapsed": true
   },
   "outputs": [],
   "source": [
    "#this data set has: i) candidate info; ii) movable assets; iii) immovable assets\n",
    "assets_df=pd.read_csv(\"assets_df.csv\")"
   ]
  },
  {
   "cell_type": "code",
   "execution_count": 186,
   "metadata": {
    "collapsed": false
   },
   "outputs": [],
   "source": [
    "assets_df.drop('Unnamed: 0_x', axis=1, inplace=True)\n",
    "assets_df.drop('Unnamed: 0', axis=1, inplace=True)\n",
    "assets_df.drop('Unnamed: 0.1', axis=1, inplace=True)"
   ]
  },
  {
   "cell_type": "code",
   "execution_count": 187,
   "metadata": {
    "collapsed": false
   },
   "outputs": [
    {
     "data": {
      "text/html": [
       "<div>\n",
       "<table border=\"1\" class=\"dataframe\">\n",
       "  <thead>\n",
       "    <tr style=\"text-align: right;\">\n",
       "      <th></th>\n",
       "      <th>Bonds, Debentures and Shares in companies</th>\n",
       "      <th>Cash</th>\n",
       "      <th>Deposits in Banks, Financial Institutions and Non-Banking Financial Companies</th>\n",
       "      <th>Gross Total Value (as per Affidavit)</th>\n",
       "      <th>Jewellery (give details weight value)</th>\n",
       "      <th>LIC or other insurance Policies</th>\n",
       "      <th>Motor Vehicles (details of make, etc.)</th>\n",
       "      <th>NSS, Postal Savings etc</th>\n",
       "      <th>Other assets, such as values of claims / interests</th>\n",
       "      <th>Personal loans/advance given</th>\n",
       "      <th>TOTAL_MOVABLE_ASSESTS</th>\n",
       "      <th>Totals (Calculated as Sum of Values)</th>\n",
       "      <th>url</th>\n",
       "      <th>year_x</th>\n",
       "      <th>winner</th>\n",
       "      <th>location</th>\n",
       "      <th>state</th>\n",
       "      <th>Age</th>\n",
       "      <th>Assets_Rs</th>\n",
       "      <th>Constituency</th>\n",
       "      <th>Criminal_Cases</th>\n",
       "      <th>Education</th>\n",
       "      <th>Liabilities_Rs</th>\n",
       "      <th>Link</th>\n",
       "      <th>Name</th>\n",
       "      <th>Party</th>\n",
       "      <th>State</th>\n",
       "      <th>Agricultural Land</th>\n",
       "      <th>Commercial Buildings</th>\n",
       "      <th>Non Agricultural Land</th>\n",
       "      <th>Others</th>\n",
       "      <th>Residential Buildings</th>\n",
       "      <th>TOTAL_IMMOVABLE_ASSESTS</th>\n",
       "      <th>Total Current Market Value of (i) to (v) (as per Affidavit)</th>\n",
       "      <th>year_y</th>\n",
       "    </tr>\n",
       "  </thead>\n",
       "  <tbody>\n",
       "    <tr>\n",
       "      <th>0</th>\n",
       "      <td>NaN</td>\n",
       "      <td>70500</td>\n",
       "      <td>1519565</td>\n",
       "      <td>NaN</td>\n",
       "      <td>128501</td>\n",
       "      <td>350000</td>\n",
       "      <td>410000</td>\n",
       "      <td>316155</td>\n",
       "      <td>621439</td>\n",
       "      <td>NaN</td>\n",
       "      <td>3416160</td>\n",
       "      <td>3066160</td>\n",
       "      <td>http://myneta.info/loksabha2004/candidate.php?...</td>\n",
       "      <td>2004</td>\n",
       "      <td>1</td>\n",
       "      <td>Andaman &amp; Nicobar Islands  (ANDAMAN &amp; NICOBAR ...</td>\n",
       "      <td>ANDAMAN &amp; NICOBAR ISLANDS</td>\n",
       "      <td>65</td>\n",
       "      <td>5926740</td>\n",
       "      <td>Andaman &amp; Nicobar Islands</td>\n",
       "      <td>0</td>\n",
       "      <td>Post Graduate</td>\n",
       "      <td>272061</td>\n",
       "      <td>candidate.php?candidate_id=1</td>\n",
       "      <td>MANORANJAN BHAKTA</td>\n",
       "      <td>INC</td>\n",
       "      <td>ANDAMAN &amp; NICOBAR ISLANDS</td>\n",
       "      <td>846000</td>\n",
       "      <td>NaN</td>\n",
       "      <td>64580</td>\n",
       "      <td>NaN</td>\n",
       "      <td>1950000</td>\n",
       "      <td>2860580</td>\n",
       "      <td>NaN</td>\n",
       "      <td>2004</td>\n",
       "    </tr>\n",
       "  </tbody>\n",
       "</table>\n",
       "</div>"
      ],
      "text/plain": [
       "   Bonds, Debentures and Shares in companies   Cash  Deposits in Banks, Financial Institutions and Non-Banking Financial Companies  Gross Total Value (as per Affidavit)  Jewellery (give details weight value)  LIC or other insurance Policies  Motor Vehicles (details of make, etc.)  NSS, Postal Savings etc  Other assets, such as values of claims / interests  Personal loans/advance given  \\\n",
       "0                                        NaN  70500                                            1519565                                                               NaN                                 128501                           350000                                  410000                   316155                                             621439                            NaN   \n",
       "\n",
       "   TOTAL_MOVABLE_ASSESTS  Totals (Calculated as Sum of Values)                                                url  year_x  winner                                           location                      state  Age Assets_Rs               Constituency  Criminal_Cases      Education  Liabilities_Rs                          Link               Name Party                      State  Agricultural Land  \\\n",
       "0                3416160                               3066160  http://myneta.info/loksabha2004/candidate.php?...    2004       1  Andaman & Nicobar Islands  (ANDAMAN & NICOBAR ...  ANDAMAN & NICOBAR ISLANDS   65   5926740  Andaman & Nicobar Islands               0  Post Graduate          272061  candidate.php?candidate_id=1  MANORANJAN BHAKTA   INC  ANDAMAN & NICOBAR ISLANDS             846000   \n",
       "\n",
       "   Commercial Buildings  Non Agricultural Land  Others  Residential Buildings  TOTAL_IMMOVABLE_ASSESTS  Total Current Market Value of (i) to (v) (as per Affidavit)  year_y  \n",
       "0                   NaN                  64580     NaN                1950000                  2860580                                                NaN              2004  "
      ]
     },
     "execution_count": 187,
     "metadata": {},
     "output_type": "execute_result"
    }
   ],
   "source": [
    "assets_df.head(1)"
   ]
  },
  {
   "cell_type": "markdown",
   "metadata": {},
   "source": [
    "#####Step 1: Log-transform income data"
   ]
  },
  {
   "cell_type": "code",
   "execution_count": 188,
   "metadata": {
    "collapsed": true
   },
   "outputs": [],
   "source": [
    "assets_df=assets_df.replace(np.NaN,0.0)"
   ]
  },
  {
   "cell_type": "code",
   "execution_count": 204,
   "metadata": {
    "collapsed": false
   },
   "outputs": [
    {
     "name": "stderr",
     "output_type": "stream",
     "text": [
      "/Users/anneshrestha/anaconda/lib/python2.7/site-packages/pandas/core/common.py:516: FutureWarning: elementwise comparison failed; returning scalar instead, but in the future will perform elementwise comparison\n",
      "  mask = arr == x\n"
     ]
    }
   ],
   "source": [
    "assets_df=assets_df.replace('NATIONAL CAPITAL TERRITORY OF DELHI','DELHI')"
   ]
  },
  {
   "cell_type": "code",
   "execution_count": 205,
   "metadata": {
    "collapsed": false
   },
   "outputs": [],
   "source": [
    "#list(assets_df.columns)"
   ]
  },
  {
   "cell_type": "code",
   "execution_count": 206,
   "metadata": {
    "collapsed": false
   },
   "outputs": [],
   "source": [
    "logcols=list(assets_df.columns)\n",
    "non_assest=('Gross Total Value (as per Affidavit)','url','year_x','winner','location','state','Age',\n",
    "            'Assets_Rs','Constituency','Criminal_Cases','Education','Liabilities_Rs','Link','Name','Party','State','year_y',\n",
    "            'Total Current Market Value of (i) to (v) (as per Affidavit)','Totals (Calculated as Sum of Values)')"
   ]
  },
  {
   "cell_type": "code",
   "execution_count": 207,
   "metadata": {
    "collapsed": false
   },
   "outputs": [
    {
     "name": "stdout",
     "output_type": "stream",
     "text": [
      "16\n"
     ]
    }
   ],
   "source": [
    "for i in non_assest:\n",
    "    try:\n",
    "        logcols.remove(i)\n",
    "    except:\n",
    "        print i\n",
    "print len(logcols)"
   ]
  },
  {
   "cell_type": "markdown",
   "metadata": {},
   "source": [
    "Remove observations with zero total assets. \n",
    "Treat tables where immovable assets=0 as missing data since it's not credible that candidates have zero cash; they must have avoided reporting altogether..."
   ]
  },
  {
   "cell_type": "code",
   "execution_count": 226,
   "metadata": {
    "collapsed": false
   },
   "outputs": [
    {
     "name": "stdout",
     "output_type": "stream",
     "text": [
      "2155\n"
     ]
    }
   ],
   "source": [
    "#remove tables where total assests report including cash=0\n",
    "nonempty=assets_df[(assets_df['TOTAL_MOVABLE_ASSESTS']!=0)]\n",
    "count_nonempty=len(nonempty.TOTAL_MOVABLE_ASSESTS)\n",
    "count_all=len(assets_df.TOTAL_MOVABLE_ASSESTS)\n",
    "print count_all-count_nonempty"
   ]
  },
  {
   "cell_type": "code",
   "execution_count": 227,
   "metadata": {
    "collapsed": false
   },
   "outputs": [
    {
     "name": "stderr",
     "output_type": "stream",
     "text": [
      "/Users/anneshrestha/anaconda/lib/python2.7/site-packages/IPython/kernel/__main__.py:3: SettingWithCopyWarning: \n",
      "A value is trying to be set on a copy of a slice from a DataFrame.\n",
      "Try using .loc[row_indexer,col_indexer] = value instead\n",
      "\n",
      "See the the caveats in the documentation: http://pandas.pydata.org/pandas-docs/stable/indexing.html#indexing-view-versus-copy\n",
      "  app.launch_new_instance()\n"
     ]
    }
   ],
   "source": [
    "#log transofrm asset info:\n",
    "for st in logcols:\n",
    "    nonempty[st]=np.log(nonempty[st]+1)"
   ]
  },
  {
   "cell_type": "markdown",
   "metadata": {},
   "source": [
    "#####Step 2: Standardize all the columns\n",
    "In this step all the features will be normalized with zero mean and unit standard deviation."
   ]
  },
  {
   "cell_type": "code",
   "execution_count": 228,
   "metadata": {
    "collapsed": false
   },
   "outputs": [
    {
     "name": "stderr",
     "output_type": "stream",
     "text": [
      "/Users/anneshrestha/anaconda/lib/python2.7/site-packages/IPython/kernel/__main__.py:4: SettingWithCopyWarning: \n",
      "A value is trying to be set on a copy of a slice from a DataFrame.\n",
      "Try using .loc[row_indexer,col_indexer] = value instead\n",
      "\n",
      "See the the caveats in the documentation: http://pandas.pydata.org/pandas-docs/stable/indexing.html#indexing-view-versus-copy\n"
     ]
    }
   ],
   "source": [
    "categorical = ['Constituency','Education','Party','State']\n",
    "for c in categorical:\n",
    "    le = LabelEncoder().fit(nonempty[c])\n",
    "    nonempty[c]=le.transform(nonempty[c])"
   ]
  },
  {
   "cell_type": "code",
   "execution_count": 229,
   "metadata": {
    "collapsed": true
   },
   "outputs": [],
   "source": [
    "from sklearn.cross_validation import train_test_split\n",
    "itrain, itest = train_test_split(xrange(nonempty.shape[0]), train_size=0.8)"
   ]
  },
  {
   "cell_type": "code",
   "execution_count": 238,
   "metadata": {
    "collapsed": false
   },
   "outputs": [],
   "source": [
    "mask=np.ones(nonempty.shape[0], dtype='int')\n",
    "mask[itrain]=1\n",
    "mask[itest]=0\n",
    "mask = (mask==1)"
   ]
  },
  {
   "cell_type": "code",
   "execution_count": 239,
   "metadata": {
    "collapsed": false
   },
   "outputs": [],
   "source": [
    "#list(nonempty.columns)"
   ]
  },
  {
   "cell_type": "code",
   "execution_count": 241,
   "metadata": {
    "collapsed": false,
    "scrolled": true
   },
   "outputs": [
    {
     "name": "stdout",
     "output_type": "stream",
     "text": [
      "CPU times: user 3.47 s, sys: 46.8 ms, total: 3.52 s\n",
      "Wall time: 4.11 s\n"
     ]
    },
    {
     "name": "stderr",
     "output_type": "stream",
     "text": [
      "/Users/anneshrestha/anaconda/lib/python2.7/site-packages/IPython/kernel/__main__.py:8: SettingWithCopyWarning: \n",
      "A value is trying to be set on a copy of a slice from a DataFrame.\n",
      "Try using .loc[row_indexer,col_indexer] = value instead\n",
      "\n",
      "See the the caveats in the documentation: http://pandas.pydata.org/pandas-docs/stable/indexing.html#indexing-view-versus-copy\n"
     ]
    }
   ],
   "source": [
    "%%time\n",
    "dftrain=nonempty[mask]\n",
    "\n",
    "numeric = logcols + ['Criminal_Cases']\n",
    "\n",
    "std_scale = StandardScaler().fit(dftrain[numeric])\n",
    "#enc = OneHotEncoder().fit(dftrain['Education'])\n",
    "\n",
    "nonempty[numeric] = std_scale.transform(nonempty[numeric])\n",
    "#categorical_vars = enc.transform(nonempty['Education']).toarray()\n",
    "\n",
    "#standarized = []\n",
    "#for x,y in zip(numeric_vars, categorical_vars):\n",
    "#    standarized.append(np.concatenate([x,y]))\n",
    "#    std_df = pd.DataFrame(standarized)\n",
    "\n",
    "#std_df.head(1)"
   ]
  },
  {
   "cell_type": "markdown",
   "metadata": {},
   "source": [
    "####Classifiers"
   ]
  },
  {
   "cell_type": "markdown",
   "metadata": {},
   "source": [
    "#####SVC Classifier:"
   ]
  },
  {
   "cell_type": "code",
   "execution_count": 242,
   "metadata": {
    "collapsed": true
   },
   "outputs": [],
   "source": [
    "from sklearn.svm import SVC"
   ]
  },
  {
   "cell_type": "code",
   "execution_count": 243,
   "metadata": {
    "collapsed": true
   },
   "outputs": [],
   "source": [
    "clfsvm=SVC()\n",
    "Cs=[0.001, 0.01, 0.1, 1.0, 10.0, 100.0]\n",
    "Xmatrix=nonempty[numeric].values\n",
    "Yresp=nonempty['winner'].values"
   ]
  },
  {
   "cell_type": "code",
   "execution_count": 244,
   "metadata": {
    "collapsed": true
   },
   "outputs": [],
   "source": [
    "Xmatrix_train=Xmatrix[mask]\n",
    "Xmatrix_test=Xmatrix[~mask]\n",
    "Yresp_train=Yresp[mask]\n",
    "Yresp_test=Yresp[~mask]"
   ]
  },
  {
   "cell_type": "code",
   "execution_count": 259,
   "metadata": {
    "collapsed": true
   },
   "outputs": [],
   "source": [
    "from sklearn.metrics import accuracy_score, confusion_matrix, roc_curve, auc\n",
    "from sklearn.grid_search import GridSearchCV"
   ]
  },
  {
   "cell_type": "code",
   "execution_count": 260,
   "metadata": {
    "collapsed": true
   },
   "outputs": [],
   "source": [
    "def cv_optimize(clf, parameters, X, y, n_folds=5, score_func=None):\n",
    "    gs = GridSearchCV(clf, param_grid=parameters, cv=n_folds)\n",
    "    gs.fit(X, y)\n",
    "    print \"BEST PARAMS\", gs.best_params_\n",
    "    best = gs.best_estimator_\n",
    "    return best\n",
    "\n",
    "#code from hw3"
   ]
  },
  {
   "cell_type": "code",
   "execution_count": 261,
   "metadata": {
    "collapsed": true
   },
   "outputs": [],
   "source": [
    "\n",
    "def do_classify(clf, parameters, indf, featurenames, targetname, target1val, mask=None, reuse_split=None, score_func=None, n_folds=5):\n",
    "    subdf=indf[featurenames]\n",
    "    X=subdf.values\n",
    "    y=(indf[targetname].values==target1val)*1\n",
    "    if mask !=None:\n",
    "        print \"using mask\"\n",
    "        Xtrain, Xtest, ytrain, ytest = X[mask], X[~mask], y[mask], y[~mask]\n",
    "    if reuse_split !=None:\n",
    "        print \"using reuse split\"\n",
    "        Xtrain, Xtest, ytrain, ytest = reuse_split['Xtrain'], reuse_split['Xtest'], reuse_split['ytrain'], reuse_split['ytest']\n",
    "    if parameters:\n",
    "        clf = cv_optimize(clf, parameters, Xtrain, ytrain, n_folds=n_folds, score_func=score_func)\n",
    "    clf=clf.fit(Xtrain, ytrain)\n",
    "    training_accuracy = clf.score(Xtrain, ytrain)\n",
    "    test_accuracy = clf.score(Xtest, ytest)\n",
    "    print \"Based on standard predict::\"\n",
    "    print \"  Accuracy on training data: %0.2f\" % (training_accuracy)\n",
    "    print \"  Accuracy on test data:     %0.2f\" % (test_accuracy)\n",
    "    print confusion_matrix(ytest, clf.predict(Xtest))\n",
    "    print \"-\"\n",
    "    return clf, Xtrain, ytrain, Xtest, ytest\n",
    "\n",
    "#code from hw3"
   ]
  },
  {
   "cell_type": "code",
   "execution_count": 279,
   "metadata": {
    "collapsed": false
   },
   "outputs": [
    {
     "name": "stdout",
     "output_type": "stream",
     "text": [
      "using mask\n",
      "BEST PARAMS {'C': 0.1}\n",
      "Based on standard predict::\n",
      "  Accuracy on training data: 0.92\n",
      "  Accuracy on test data:     0.93\n",
      "[[3146    0]\n",
      " [ 250    0]]\n",
      "-\n",
      "CPU times: user 2min 59s, sys: 3.63 s, total: 3min 3s\n",
      "Wall time: 3min 29s\n"
     ]
    },
    {
     "name": "stderr",
     "output_type": "stream",
     "text": [
      "/Users/anneshrestha/anaconda/lib/python2.7/site-packages/IPython/kernel/__main__.py:6: FutureWarning: comparison to `None` will result in an elementwise object comparison in the future.\n"
     ]
    }
   ],
   "source": [
    "%%time\n",
    "clfsvm, Xtrain, ytrain, Xtest, ytest = do_classify(SVC(), {\"C\": [100, 10, 1, 0.1, 0.01,0.001,0.0001,0.00001,0.000001,0.0000001 ]}, nonempty,logcols, 'winner',1, mask=mask)"
   ]
  },
  {
   "cell_type": "code",
   "execution_count": 263,
   "metadata": {
    "collapsed": false
   },
   "outputs": [],
   "source": [
    "#plt.hist(ytest)"
   ]
  },
  {
   "cell_type": "code",
   "execution_count": 267,
   "metadata": {
    "collapsed": true
   },
   "outputs": [],
   "source": [
    "reuse_split=dict(Xtrain=Xtrain, Xtest=Xtest, ytrain=ytrain, ytest=ytest)"
   ]
  },
  {
   "cell_type": "code",
   "execution_count": 268,
   "metadata": {
    "collapsed": false
   },
   "outputs": [
    {
     "name": "stdout",
     "output_type": "stream",
     "text": [
      "whole data set 0.0774486129925\n",
      "training set 0.0784068320695 test set 0.0736160188457\n"
     ]
    }
   ],
   "source": [
    "print \"whole data set\", nonempty['winner'].mean()\n",
    "print \"training set\", nonempty['winner'][mask].mean(), \"test set\", nonempty['winner'][~mask].mean()"
   ]
  },
  {
   "cell_type": "code",
   "execution_count": 277,
   "metadata": {
    "collapsed": true
   },
   "outputs": [],
   "source": [
    "#set different thresholds\n",
    "def t_repredict(est,t, xtest):\n",
    "    probs=est.predict_proba(xtest)\n",
    "    p0 = probs[:,0]\n",
    "    p1 = probs[:,1]\n",
    "    ypred = (p1 > t)*1\n",
    "    return ypred\n",
    "#from hw3"
   ]
  },
  {
   "cell_type": "code",
   "execution_count": 280,
   "metadata": {
    "collapsed": false
   },
   "outputs": [
    {
     "name": "stdout",
     "output_type": "stream",
     "text": [
      "Threshold of  0.1 :  \n",
      "[[   0 3146]\n",
      " [   0  250]]\n",
      "Threshold of  0.2 :  \n",
      "[[3145    1]\n",
      " [ 250    0]]\n",
      "Threshold of  0.4 :  \n",
      "[[3146    0]\n",
      " [ 250    0]]\n",
      "Threshold of  0.5 :  \n",
      "[[3146    0]\n",
      " [ 250    0]]\n",
      "Threshold of  0.8 :  \n",
      "[[3146    0]\n",
      " [ 250    0]]\n"
     ]
    }
   ],
   "source": [
    "for p in [0.1,0.2,0.4,0.5,0.8]:\n",
    "    print \"Threshold of \", p, \":  \"\n",
    "    print confusion_matrix(ytest,t_repredict(clflog, p, Xtest))"
   ]
  },
  {
   "cell_type": "markdown",
   "metadata": {},
   "source": [
    "#####Log-Lasso Classifier:\n",
    "penalty l1 = lasso regularization"
   ]
  },
  {
   "cell_type": "code",
   "execution_count": 269,
   "metadata": {
    "collapsed": false
   },
   "outputs": [
    {
     "name": "stdout",
     "output_type": "stream",
     "text": [
      "using reuse split\n",
      "BEST PARAMS {'C': 0.001}\n",
      "Based on standard predict::\n",
      "  Accuracy on training data: 0.92\n",
      "  Accuracy on test data:     0.93\n",
      "[[3146    0]\n",
      " [ 250    0]]\n",
      "-\n"
     ]
    }
   ],
   "source": [
    "from sklearn.linear_model import LogisticRegression\n",
    "\n",
    "clf = LogisticRegression(penalty=\"l1\")\n",
    "parameters = {\"C\": [0.01,0.001,0.0001,0.00001,0.000001,0.0000001, 0.1, 1, 10, 100]}\n",
    "clflog, Xtrain, ytrain, Xtest, ytest = do_classify(clf,parameters, nonempty,logcols, 'winner',0, reuse_split=reuse_split)\n"
   ]
  },
  {
   "cell_type": "markdown",
   "metadata": {},
   "source": [
    "###### ROC curves:\n",
    "Write Code:"
   ]
  },
  {
   "cell_type": "markdown",
   "metadata": {},
   "source": [
    "##### Running the two classifiers on a balanced train set:"
   ]
  },
  {
   "cell_type": "code",
   "execution_count": 158,
   "metadata": {
    "collapsed": false
   },
   "outputs": [
    {
     "name": "stdout",
     "output_type": "stream",
     "text": [
      "1273 14034\n"
     ]
    }
   ],
   "source": [
    "jtrain=np.arange(0, ytrain.shape[0])\n",
    "n_pos=len(jtrain[ytrain==1])\n",
    "n_neg=len(jtrain[ytrain==0])\n",
    "print n_pos, n_neg"
   ]
  },
  {
   "cell_type": "code",
   "execution_count": 257,
   "metadata": {
    "collapsed": true
   },
   "outputs": [],
   "source": [
    "ineg = np.random.choice(jtrain[ytrain==0], n_pos, replace=False)"
   ]
  },
  {
   "cell_type": "code",
   "execution_count": 258,
   "metadata": {
    "collapsed": false
   },
   "outputs": [
    {
     "data": {
      "text/plain": [
       "(2546,)"
      ]
     },
     "execution_count": 258,
     "metadata": {},
     "output_type": "execute_result"
    }
   ],
   "source": [
    "alli=np.concatenate((jtrain[ytrain==1], ineg))\n",
    "alli.shape"
   ]
  },
  {
   "cell_type": "code",
   "execution_count": 175,
   "metadata": {
    "collapsed": false
   },
   "outputs": [
    {
     "data": {
      "text/plain": [
       "((5092, 16), (5092,))"
      ]
     },
     "execution_count": 175,
     "metadata": {},
     "output_type": "execute_result"
    }
   ],
   "source": [
    "Xtrain_new = Xtrain[alli]\n",
    "ytrain_new = ytrain[alli]\n",
    "Xtrain_new.shape, ytrain_new.shape"
   ]
  },
  {
   "cell_type": "code",
   "execution_count": 176,
   "metadata": {
    "collapsed": true
   },
   "outputs": [],
   "source": [
    "reuse_split_new=dict(Xtrain=Xtrain_new, Xtest=Xtest, ytrain=ytrain_new, ytest=ytest)"
   ]
  },
  {
   "cell_type": "code",
   "execution_count": 177,
   "metadata": {
    "collapsed": false
   },
   "outputs": [
    {
     "name": "stdout",
     "output_type": "stream",
     "text": [
      "using reuse split\n",
      "BEST PARAMS {'C': 10.0}\n",
      "Based on standard predict::\n",
      "  Accuracy on training data: 0.80\n",
      "  Accuracy on test data:     0.87\n",
      "[[3208  317]\n",
      " [ 165  137]]\n",
      "-\n"
     ]
    }
   ],
   "source": [
    "clflog_b, _,_,_,_  = do_classify(clf, {\"C\": [0.00001,0.0001, 0.001, 0.01, 0.1, 1.0, 10.0, 100.0]}, nonempty,logcols, 'winner',1, reuse_split=reuse_split_new)"
   ]
  },
  {
   "cell_type": "code",
   "execution_count": 172,
   "metadata": {
    "collapsed": false
   },
   "outputs": [
    {
     "name": "stdout",
     "output_type": "stream",
     "text": [
      "using reuse split\n",
      "BEST PARAMS {'C': 0.1}\n",
      "Based on standard predict::\n",
      "  Accuracy on training data: 0.80\n",
      "  Accuracy on test data:     0.81\n",
      "[[2901  624]\n",
      " [  87  215]]\n",
      "-\n"
     ]
    }
   ],
   "source": [
    "clfsvm_b, _,_,_,_  = do_classify(SVC(), {\"C\": [0.00001,0.0001, 0.001, 0.01, 0.1, 1.0, 10.0, 100.0]}, nonempty,logcols, 'winner',1, reuse_split=reuse_split_new)"
   ]
  },
  {
   "cell_type": "code",
   "execution_count": null,
   "metadata": {
    "collapsed": true
   },
   "outputs": [],
   "source": []
  }
 ],
 "metadata": {
  "kernelspec": {
   "display_name": "Python 2",
   "language": "python",
   "name": "python2"
  },
  "language_info": {
   "codemirror_mode": {
    "name": "ipython",
    "version": 2
   },
   "file_extension": ".py",
   "mimetype": "text/x-python",
   "name": "python",
   "nbconvert_exporter": "python",
   "pygments_lexer": "ipython2",
   "version": "2.7.10"
  }
 },
 "nbformat": 4,
 "nbformat_minor": 0
}

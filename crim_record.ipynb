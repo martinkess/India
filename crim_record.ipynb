{
 "cells": [
  {
   "cell_type": "code",
   "execution_count": 202,
   "metadata": {
    "collapsed": false
   },
   "outputs": [],
   "source": [
    "from pyquery import PyQuery as pq\n",
    "import urllib2\n",
    "import requests\n",
    "import pandas as pd\n",
    "import re\n",
    "import time\n",
    "import numpy as np\n",
    "import json\n",
    "from pprint import PrettyPrinter as pp"
   ]
  },
  {
   "cell_type": "code",
   "execution_count": 12,
   "metadata": {
    "collapsed": false
   },
   "outputs": [],
   "source": [
    "with open('./polinfo.json') as data_file:    \n",
    "    candidate_json = json.load(data_file)"
   ]
  },
  {
   "cell_type": "code",
   "execution_count": 279,
   "metadata": {
    "collapsed": false
   },
   "outputs": [
    {
     "name": "stdout",
     "output_type": "stream",
     "text": [
      "2\n"
     ]
    }
   ],
   "source": [
    "print candidate_json['candidate.php?candidate_id=2923']"
   ]
  },
  {
   "cell_type": "code",
   "execution_count": 277,
   "metadata": {
    "collapsed": false
   },
   "outputs": [
    {
     "name": "stdout",
     "output_type": "stream",
     "text": [
      " . . . . . . . . . . . . . . . . . . . . . . . . . . . . . . . . . . . . . . . . . . . . . . . . . . . . . . . . . . . . . . . . . . . . . . . . . . . . . . . . . . ."
     ]
    },
    {
     "data": {
      "text/plain": [
       "Details                    1400\n",
       "cognizance_IPC_sections     728\n",
       "cognizance_Other            728\n",
       "cognizance_serial_no        728\n",
       "convicted_IPC_sections       29\n",
       "convicted_Other              29\n",
       "convicted_serial_no          29\n",
       "framed_IPC_sections         821\n",
       "framed_Other                821\n",
       "framed_serial_no            821\n",
       "url                        8204\n",
       "year_election              8204\n",
       "dtype: int64"
      ]
     },
     "execution_count": 277,
     "metadata": {},
     "output_type": "execute_result"
    },
    {
     "name": "stdout",
     "output_type": "stream",
     "text": [
      "\n"
     ]
    }
   ],
   "source": [
    "crimdataset = []\n",
    "\n",
    "for i,urls in enumerate(candidate_json.keys()):\n",
    "    page_data = candidate_json[urls]\n",
    "    if (i%100) == 0:\n",
    "        print \".\",\n",
    "    crimdataset.append(get_crimdata(2014,page_data,urls))\n",
    "    \n",
    "criminal_df = pd.DataFrame(crimdataset)\n",
    "criminal_df.count()"
   ]
  },
  {
   "cell_type": "code",
   "execution_count": null,
   "metadata": {
    "collapsed": true
   },
   "outputs": [],
   "source": []
  },
  {
   "cell_type": "code",
   "execution_count": 269,
   "metadata": {
    "collapsed": false
   },
   "outputs": [],
   "source": [
    "def get_crimdata(year, page_text, url):\n",
    "    crim_dict = {'year_election': year, 'url': url}\n",
    "    header = ['serial_no','IPC_sections','Other']\n",
    "    for h3 in pq(page_text)(\"h3\"):\n",
    "        if h3.text == \"Details of Criminal Cases\":\n",
    "            tablecrims = pq(h3).next('table')\n",
    "            for h3_2 in pq(tablecrims)(\"h3\"):           \n",
    "                if h3_2.text == \"Cases where charges framed\":\n",
    "                    framed = pq(h3_2).next('table')\n",
    "                    for i,tr in enumerate(pq(framed)('tr')):\n",
    "                        if i > 0:\n",
    "                            for j,child in enumerate(tr.iterchildren()):\n",
    "                                if child.text != '---------':\n",
    "                                    crim_dict[\"framed_\" + header[j]] = child.text\n",
    "\n",
    "                if h3_2.text == \"Cases where Cognizance taken\":\n",
    "                    framed = pq(h3_2).next('table')\n",
    "                    for i,tr in enumerate(pq(framed)('tr')):\n",
    "                        if i > 0:\n",
    "                            for j,child in enumerate(tr.iterchildren()):\n",
    "                                if child.text != '---------':\n",
    "                                    crim_dict[\"cognizance_\" + header[j]] = child.text\n",
    "\n",
    "                if h3_2.text == \"Cases where convicted\":\n",
    "                    framed = pq(h3_2).next('table')\n",
    "                    for i,tr in enumerate(pq(framed)('tr')):\n",
    "                        if i > 0:\n",
    "                            for j,child in enumerate(tr.iterchildren()):\n",
    "                                if child.text != '---------':\n",
    "                                    crim_dict[\"convicted_\" + header[j]] = child.text\n",
    "\n",
    "        if h3.text == \"Brief Details of IPCs\":\n",
    "            details = []\n",
    "            parent = pq(h3).parent()\n",
    "            for x in pq(parent).children()[1:]:\n",
    "                dets = pq(x).text()\n",
    "                if len(dets) > 0:\n",
    "                    details.append(dets)\n",
    "                \n",
    "\n",
    "            crim_dict[\"Details\"] = details\n",
    "        \n",
    "    return crim_dict \n",
    "        \n",
    "\n",
    "        \n",
    "\n",
    "# crim_html = pq(h3)\n",
    "# crim_html.find\n",
    "# table = crim_html.next('table')\n",
    "# print pq(table)\n"
   ]
  },
  {
   "cell_type": "code",
   "execution_count": 270,
   "metadata": {
    "collapsed": false
   },
   "outputs": [
    {
     "data": {
      "text/plain": [
       "{'Details': ['1 charges related to Cheating and dishonestly inducing delivery of property (IPC Section-420)'],\n",
       " 'cognizance_IPC_sections': '309 ',\n",
       " 'cognizance_Other': ' CC 1111/2010 in Cr No 388/2009 Ehuru II Town L&O PS West Godavari,AP; attempt to commit suicide II addl judicial first class magistrate eluru ',\n",
       " 'cognizance_serial_no': ' 1',\n",
       " 'framed_IPC_sections': '420 ',\n",
       " 'framed_Other': ' CC 398/2013 in crime 104/2013 of Narasapur town PS, West Godavari Dist, Andhra Pradesh;Cheating case; Addl Judicial First Class Magistrate,Narsarpur ',\n",
       " 'framed_serial_no': ' 1',\n",
       " 'url': 'candidate.php?candidate_id=8983',\n",
       " 'year_election': 2014}"
      ]
     },
     "execution_count": 270,
     "metadata": {},
     "output_type": "execute_result"
    }
   ],
   "source": [
    "test_index = \"candidate.php?candidate_id=8983\"\n",
    "page_data = candidate_json[test_index]\n",
    "get_crimdata(2014,page_data,test_index)"
   ]
  },
  {
   "cell_type": "code",
   "execution_count": null,
   "metadata": {
    "collapsed": true
   },
   "outputs": [],
   "source": []
  }
 ],
 "metadata": {
  "kernelspec": {
   "display_name": "Python 2",
   "language": "python",
   "name": "python2"
  },
  "language_info": {
   "codemirror_mode": {
    "name": "ipython",
    "version": 2
   },
   "file_extension": ".py",
   "mimetype": "text/x-python",
   "name": "python",
   "nbconvert_exporter": "python",
   "pygments_lexer": "ipython2",
   "version": "2.7.10"
  }
 },
 "nbformat": 4,
 "nbformat_minor": 0
}

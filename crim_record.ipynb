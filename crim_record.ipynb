{
 "cells": [
  {
   "cell_type": "code",
   "execution_count": 1,
   "metadata": {
    "collapsed": false
   },
   "outputs": [],
   "source": [
    "from pyquery import PyQuery as pq\n",
    "import urllib2\n",
    "import requests\n",
    "import pandas as pd\n",
    "import re\n",
    "import time\n",
    "import numpy as np\n",
    "import json\n",
    "from pprint import PrettyPrinter as pp"
   ]
  },
  {
   "cell_type": "code",
   "execution_count": 17,
   "metadata": {
    "collapsed": false
   },
   "outputs": [],
   "source": [
    "with open('./candidate_pages.json') as data_file:    \n",
    "    candidate_json = json.load(data_file)\n",
    "    \n",
    "candidate_json.copy()"
   ]
  },
  {
   "cell_type": "code",
   "execution_count": 18,
   "metadata": {
    "collapsed": false
   },
   "outputs": [],
   "source": [
    "for key,val in candidate_json.iteritems():\n",
    "    if isinstance( val, int ):\n",
    "        print key\n",
    "    elif len(val) < 5:\n",
    "        print key"
   ]
  },
  {
   "cell_type": "code",
   "execution_count": 92,
   "metadata": {
    "collapsed": false
   },
   "outputs": [],
   "source": [
    "def get_crimdata(year, page_text, url):\n",
    "    crim_list = []\n",
    "    crim_det_list = []\n",
    "    success = 0\n",
    "    crim_dict = {'year_election': year, 'url': url}\n",
    "    header = ['serial_no','IPC_sections','Other']\n",
    "    for h3 in pq(page_text)(\"h3\"):\n",
    "        if h3.text == \"Details of Criminal Cases\":\n",
    "            tablecrims = pq(h3).next('table')\n",
    "            for h3_2 in pq(tablecrims)(\"h3\"):           \n",
    "                if h3_2.text == \"Cases where charges framed\":\n",
    "                    framed = pq(h3_2).next('table')\n",
    "                    crim_dict['type'] = 'Framed'\n",
    "                    for i,tr in enumerate(pq(framed)('tr')):\n",
    "                        crim_dict_copy = crim_dict.copy()\n",
    "                        if i > 0:\n",
    "                            for j,child in enumerate(tr.iterchildren()):\n",
    "                                if child.text != '---------':\n",
    "                                    crim_dict_copy[header[j]] = child.text\n",
    "                                    success = 1\n",
    "                            if success == 1:\n",
    "                                crim_list.append(crim_dict_copy)\n",
    "                                success = 0\n",
    "                    \n",
    "                if h3_2.text == \"Cases where Cognizance taken\":\n",
    "                    framed = pq(h3_2).next('table')\n",
    "                    crim_dict['type'] = 'Cogniz'\n",
    "                    for i,tr in enumerate(pq(framed)('tr')):\n",
    "                        crim_dict_copy = crim_dict.copy()\n",
    "                        if i > 0:\n",
    "                            for j,child in enumerate(tr.iterchildren()):\n",
    "                                if child.text != '---------':\n",
    "                                    crim_dict_copy[header[j]] = child.text\n",
    "                                    success = 1\n",
    "                            if success == 1:\n",
    "                                crim_list.append(crim_dict_copy)\n",
    "                                success = 0\n",
    "                                \n",
    "                    \n",
    "                if h3_2.text == \"Cases where convicted\":\n",
    "                    framed = pq(h3_2).next('table')\n",
    "                    crim_dict['type'] = 'Convict'\n",
    "                    for i,tr in enumerate(pq(framed)('tr')):\n",
    "                        crim_dict_copy = crim_dict.copy()\n",
    "                        if i > 0:\n",
    "                            for j,child in enumerate(tr.iterchildren()):\n",
    "                                if child.text != '---------':\n",
    "                                    crim_dict_copy[header[j]] = child.text\n",
    "                                    success = 1\n",
    "                            if success == 1:\n",
    "                                crim_list.append(crim_dict_copy)\n",
    "                                success = 0\n",
    "\n",
    "        if h3.text == \"Brief Details of IPCs\":\n",
    "            crim_det_dict = {'url': url}\n",
    "            parent = pq(h3).parent()\n",
    "            details = parent.text().split(') ')\n",
    "            \n",
    "            for x in details:\n",
    "                if len(x)>0:\n",
    "                    crim_det_copy = crim_det_dict.copy()\n",
    "                    crim_det_copy['detail'] = x\n",
    "                    crim_det_list.append(crim_det_copy)\n",
    "                \n",
    "#             for x in pq(parent).children()[1:]:\n",
    "#                 dets = pq(x).text()\n",
    "#                 if len(dets) > 0:\n",
    "#                     crim_det_copy = crim_det_dict.copy()\n",
    "#                     crim_det_copy['detail'] = dets\n",
    "#                     crim_det_list.append(crim_det_copy)\n",
    "                \n",
    "        \n",
    "    return crim_det_list, crim_list\n",
    "\n"
   ]
  },
  {
   "cell_type": "code",
   "execution_count": 93,
   "metadata": {
    "collapsed": false
   },
   "outputs": [
    {
     "data": {
      "text/plain": [
       "[{'detail': 'Brief Details of IPCs 2 charges related to Voluntarily causing hurt by dangerous weapons or means (IPC Section-324',\n",
       "  'url': 'http://myneta.info/ls2014/candidate.php?candidate_id=3492'},\n",
       " {'detail': '2 charges related to  criminal intimidation (IPC Section-506',\n",
       "  'url': 'http://myneta.info/ls2014/candidate.php?candidate_id=3492'},\n",
       " {'detail': '1 charges related to Illegal payments in connection with an election (IPC Section-171H',\n",
       "  'url': 'http://myneta.info/ls2014/candidate.php?candidate_id=3492'},\n",
       " {'detail': '8 charges related to Being member of an unlawful assembly (IPC Section-143',\n",
       "  'url': 'http://myneta.info/ls2014/candidate.php?candidate_id=3492'},\n",
       " {'detail': '5 charges related to  rioting (IPC Section-147',\n",
       "  'url': 'http://myneta.info/ls2014/candidate.php?candidate_id=3492'},\n",
       " {'detail': '4 charges related to Every member of unlawful assembly guilty of offence committed in prosecution of common object (IPC Section-149',\n",
       "  'url': 'http://myneta.info/ls2014/candidate.php?candidate_id=3492'},\n",
       " {'detail': '4 charges related to  voluntarily causing hurt (IPC Section-323',\n",
       "  'url': 'http://myneta.info/ls2014/candidate.php?candidate_id=3492'},\n",
       " {'detail': '4 charges related to  wrongful restraint (IPC Section-341',\n",
       "  'url': 'http://myneta.info/ls2014/candidate.php?candidate_id=3492'},\n",
       " {'detail': '3 charges related to Intentional insult with intent to provoke breach of the peace (IPC Section-504',\n",
       "  'url': 'http://myneta.info/ls2014/candidate.php?candidate_id=3492'},\n",
       " {'detail': '2 charges related to Assault or criminal force to deter public servant from discharge of his duty (IPC Section-353',\n",
       "  'url': 'http://myneta.info/ls2014/candidate.php?candidate_id=3492'},\n",
       " {'detail': '2 charges related to Act endangering life or personal safety of others (IPC Section-336',\n",
       "  'url': 'http://myneta.info/ls2014/candidate.php?candidate_id=3492'},\n",
       " {'detail': '2 charges related to Mischief causing damage to the amount of fifty rupees (IPC Section-427',\n",
       "  'url': 'http://myneta.info/ls2014/candidate.php?candidate_id=3492'},\n",
       " {'detail': '1 charges related to Rioting, armed with deadly weapon (IPC Section-148',\n",
       "  'url': 'http://myneta.info/ls2014/candidate.php?candidate_id=3492'},\n",
       " {'detail': '1 charges related to Causing hurt by act endangering life or personal safety of others (IPC Section-337',\n",
       "  'url': 'http://myneta.info/ls2014/candidate.php?candidate_id=3492'},\n",
       " {'detail': '1 charges related to Acts done by several persons in furtherance of common intention (IPC Section-34',\n",
       "  'url': 'http://myneta.info/ls2014/candidate.php?candidate_id=3492'},\n",
       " {'detail': '1 charges related to  wrongful Confinement (IPC Section-342',\n",
       "  'url': 'http://myneta.info/ls2014/candidate.php?candidate_id=3492'},\n",
       " {'detail': '1 charges related to False information, with intent to cause public servant to use his lawful power to the injury of another person (IPC Section-182',\n",
       "  'url': 'http://myneta.info/ls2014/candidate.php?candidate_id=3492'},\n",
       " {'detail': '1 charges related to Wearing grab or carrying token used by public servant with fraudulent intent (IPC Section-171)',\n",
       "  'url': 'http://myneta.info/ls2014/candidate.php?candidate_id=3492'}]"
      ]
     },
     "execution_count": 93,
     "metadata": {},
     "output_type": "execute_result"
    }
   ],
   "source": [
    "### FOR TESTING ###\n",
    "test_index = \"http://myneta.info/ls2014/candidate.php?candidate_id=3492\"\n",
    "page_data = candidate_json[test_index]\n",
    "det_list, crim_list = get_crimdata(2014,page_data,test_index)\n",
    "\n",
    "det_list\n",
    "#crim_list"
   ]
  },
  {
   "cell_type": "code",
   "execution_count": 102,
   "metadata": {
    "collapsed": false
   },
   "outputs": [
    {
     "name": "stdout",
     "output_type": "stream",
     "text": [
      ". . . . . . . . . . . . . . . . . . . . . . . . . . . . . . . . . . . . . . . . . . . . . . . . . . . . . . . . . . . . . . . . . . . . . . . . . . . . . . . . . . . . . . . . . . . . . . . . . . . . . . . . . . . . . . . . . . . . . . . . . . . . . . . . . . . . . . . . . . . . . . . . . . . . . . . . . . . . . . . . . . . . . . . . . . . . . . . . . . . . . . . . . . . . . . . ."
     ]
    },
    {
     "data": {
      "text/plain": [
       "IPC_sections     4502\n",
       "Other            4502\n",
       "serial_no        4502\n",
       "type             4502\n",
       "url              4502\n",
       "year_election    4502\n",
       "dtype: int64"
      ]
     },
     "execution_count": 102,
     "metadata": {},
     "output_type": "execute_result"
    },
    {
     "name": "stdout",
     "output_type": "stream",
     "text": [
      "\n"
     ]
    }
   ],
   "source": [
    "crimdataset = []\n",
    "crimdetailset = []\n",
    "for i,urls in enumerate(candidate_json.keys()):\n",
    "    page_data = candidate_json[urls]\n",
    "    if (i%100) == 0:\n",
    "        print \".\",\n",
    "    details, dataset = get_crimdata(2014,page_data,urls)\n",
    "    crimdataset = crimdataset + dataset\n",
    "    crimdetailset = crimdetailset + details\n",
    "    \n",
    "criminal_df = pd.DataFrame(crimdataset)\n",
    "crim_details_df = pd.DataFrame(crimdetailset)\n",
    "criminal_df.count()"
   ]
  },
  {
   "cell_type": "code",
   "execution_count": 103,
   "metadata": {
    "collapsed": false
   },
   "outputs": [
    {
     "data": {
      "text/html": [
       "<div>\n",
       "<table border=\"1\" class=\"dataframe\">\n",
       "  <thead>\n",
       "    <tr style=\"text-align: right;\">\n",
       "      <th></th>\n",
       "      <th>IPC_sections</th>\n",
       "      <th>Other</th>\n",
       "      <th>serial_no</th>\n",
       "      <th>type</th>\n",
       "      <th>url</th>\n",
       "      <th>year_election</th>\n",
       "    </tr>\n",
       "  </thead>\n",
       "  <tbody>\n",
       "    <tr>\n",
       "      <th>2204</th>\n",
       "      <td>143,  147,  149,  323,  324,  336,  427</td>\n",
       "      <td>Judicial Magistrate Saheb, Class-1, R.T.C. 31...</td>\n",
       "      <td>1</td>\n",
       "      <td>Framed</td>\n",
       "      <td>http://myneta.info/ls2014/candidate.php?candid...</td>\n",
       "      <td>2014</td>\n",
       "    </tr>\n",
       "    <tr>\n",
       "      <th>2205</th>\n",
       "      <td>143,  149,  341</td>\n",
       "      <td>Judicial Magistrate Saheb, Class-1, R.T.C. 18...</td>\n",
       "      <td>2</td>\n",
       "      <td>Framed</td>\n",
       "      <td>http://myneta.info/ls2014/candidate.php?candid...</td>\n",
       "      <td>2014</td>\n",
       "    </tr>\n",
       "    <tr>\n",
       "      <th>2206</th>\n",
       "      <td>341,  143,  147</td>\n",
       "      <td>Judicial Magistrate Saheb, Class-1, R.T.C. 34...</td>\n",
       "      <td>3</td>\n",
       "      <td>Framed</td>\n",
       "      <td>http://myneta.info/ls2014/candidate.php?candid...</td>\n",
       "      <td>2014</td>\n",
       "    </tr>\n",
       "    <tr>\n",
       "      <th>2207</th>\n",
       "      <td>182,  171</td>\n",
       "      <td>Judicial Magistrate Saheb, Class-1, R.T.C. 22...</td>\n",
       "      <td>4</td>\n",
       "      <td>Framed</td>\n",
       "      <td>http://myneta.info/ls2014/candidate.php?candid...</td>\n",
       "      <td>2014</td>\n",
       "    </tr>\n",
       "    <tr>\n",
       "      <th>2208</th>\n",
       "      <td>171H</td>\n",
       "      <td>Judicial Magistrate Saheb, Class-1, R.T.C. 29...</td>\n",
       "      <td>5</td>\n",
       "      <td>Framed</td>\n",
       "      <td>http://myneta.info/ls2014/candidate.php?candid...</td>\n",
       "      <td>2014</td>\n",
       "    </tr>\n",
       "  </tbody>\n",
       "</table>\n",
       "</div>"
      ],
      "text/plain": [
       "                                  IPC_sections  \\\n",
       "2204  143,  147,  149,  323,  324,  336,  427    \n",
       "2205                          143,  149,  341    \n",
       "2206                          341,  143,  147    \n",
       "2207                                182,  171    \n",
       "2208                                     171H    \n",
       "\n",
       "                                                  Other serial_no    type  \\\n",
       "2204   Judicial Magistrate Saheb, Class-1, R.T.C. 31...         1  Framed   \n",
       "2205   Judicial Magistrate Saheb, Class-1, R.T.C. 18...         2  Framed   \n",
       "2206   Judicial Magistrate Saheb, Class-1, R.T.C. 34...         3  Framed   \n",
       "2207   Judicial Magistrate Saheb, Class-1, R.T.C. 22...         4  Framed   \n",
       "2208   Judicial Magistrate Saheb, Class-1, R.T.C. 29...         5  Framed   \n",
       "\n",
       "                                                    url  year_election  \n",
       "2204  http://myneta.info/ls2014/candidate.php?candid...           2014  \n",
       "2205  http://myneta.info/ls2014/candidate.php?candid...           2014  \n",
       "2206  http://myneta.info/ls2014/candidate.php?candid...           2014  \n",
       "2207  http://myneta.info/ls2014/candidate.php?candid...           2014  \n",
       "2208  http://myneta.info/ls2014/candidate.php?candid...           2014  "
      ]
     },
     "execution_count": 103,
     "metadata": {},
     "output_type": "execute_result"
    }
   ],
   "source": [
    "criminal_df[criminal_df.url == 'http://myneta.info/ls2014/candidate.php?candidate_id=3492'].head(5)"
   ]
  },
  {
   "cell_type": "code",
   "execution_count": 104,
   "metadata": {
    "collapsed": false
   },
   "outputs": [
    {
     "data": {
      "text/html": [
       "<div>\n",
       "<table border=\"1\" class=\"dataframe\">\n",
       "  <thead>\n",
       "    <tr style=\"text-align: right;\">\n",
       "      <th></th>\n",
       "      <th>detail</th>\n",
       "      <th>url</th>\n",
       "    </tr>\n",
       "  </thead>\n",
       "  <tbody>\n",
       "    <tr>\n",
       "      <th>7802</th>\n",
       "      <td>Brief Details of IPCs 2 charges related to Vol...</td>\n",
       "      <td>http://myneta.info/ls2014/candidate.php?candid...</td>\n",
       "    </tr>\n",
       "    <tr>\n",
       "      <th>7803</th>\n",
       "      <td>2 charges related to  criminal intimidation (I...</td>\n",
       "      <td>http://myneta.info/ls2014/candidate.php?candid...</td>\n",
       "    </tr>\n",
       "    <tr>\n",
       "      <th>7804</th>\n",
       "      <td>1 charges related to Illegal payments in conne...</td>\n",
       "      <td>http://myneta.info/ls2014/candidate.php?candid...</td>\n",
       "    </tr>\n",
       "    <tr>\n",
       "      <th>7805</th>\n",
       "      <td>8 charges related to Being member of an unlawf...</td>\n",
       "      <td>http://myneta.info/ls2014/candidate.php?candid...</td>\n",
       "    </tr>\n",
       "    <tr>\n",
       "      <th>7806</th>\n",
       "      <td>5 charges related to  rioting (IPC Section-147</td>\n",
       "      <td>http://myneta.info/ls2014/candidate.php?candid...</td>\n",
       "    </tr>\n",
       "  </tbody>\n",
       "</table>\n",
       "</div>"
      ],
      "text/plain": [
       "                                                 detail  \\\n",
       "7802  Brief Details of IPCs 2 charges related to Vol...   \n",
       "7803  2 charges related to  criminal intimidation (I...   \n",
       "7804  1 charges related to Illegal payments in conne...   \n",
       "7805  8 charges related to Being member of an unlawf...   \n",
       "7806     5 charges related to  rioting (IPC Section-147   \n",
       "\n",
       "                                                    url  \n",
       "7802  http://myneta.info/ls2014/candidate.php?candid...  \n",
       "7803  http://myneta.info/ls2014/candidate.php?candid...  \n",
       "7804  http://myneta.info/ls2014/candidate.php?candid...  \n",
       "7805  http://myneta.info/ls2014/candidate.php?candid...  \n",
       "7806  http://myneta.info/ls2014/candidate.php?candid...  "
      ]
     },
     "execution_count": 104,
     "metadata": {},
     "output_type": "execute_result"
    }
   ],
   "source": [
    "crim_details_df[crim_details_df.url == 'http://myneta.info/ls2014/candidate.php?candidate_id=3492'].head(5)"
   ]
  },
  {
   "cell_type": "code",
   "execution_count": 105,
   "metadata": {
    "collapsed": true
   },
   "outputs": [],
   "source": [
    "criminal_df.to_csv('criminal_record.csv')\n",
    "crim_details_df.to_csv('criminal_details.csv')"
   ]
  }
 ],
 "metadata": {
  "kernelspec": {
   "display_name": "Python 2",
   "language": "python",
   "name": "python2"
  },
  "language_info": {
   "codemirror_mode": {
    "name": "ipython",
    "version": 2
   },
   "file_extension": ".py",
   "mimetype": "text/x-python",
   "name": "python",
   "nbconvert_exporter": "python",
   "pygments_lexer": "ipython2",
   "version": "2.7.10"
  }
 },
 "nbformat": 4,
 "nbformat_minor": 0
}

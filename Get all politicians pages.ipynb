{
 "cells": [
  {
   "cell_type": "code",
   "execution_count": 2,
   "metadata": {
    "collapsed": true
   },
   "outputs": [],
   "source": [
    "%matplotlib inline \n",
    "import itertools\n",
    "from bs4 import BeautifulSoup\n",
    "import urllib2\n",
    "import requests\n",
    "import pandas as pd\n",
    "import re\n",
    "import time\n",
    "import numpy as np\n",
    "import json\n",
    "import seaborn as sns\n",
    "sns.set_style(\"whitegrid\")\n",
    "sns.set_context(\"poster\")\n",
    "import matplotlib.pyplot as plt\n",
    "from pyquery import PyQuery as pq\n",
    "dropbox = \"C:\\Users\\mkkes_000\\Dropbox\\Indiastuff\\OutputTables\""
   ]
  },
  {
   "cell_type": "markdown",
   "metadata": {},
   "source": [
    "#This notebook takes all the candidates that appear in regional elections in 2012-2015 and takes their personal info #"
   ]
  },
  {
   "cell_type": "code",
   "execution_count": 3,
   "metadata": {
    "collapsed": false
   },
   "outputs": [
    {
     "name": "stdout",
     "output_type": "stream",
     "text": [
      "(37340, 29)\n"
     ]
    },
    {
     "name": "stderr",
     "output_type": "stream",
     "text": [
      "C:\\Users\\mkkes_000\\Anaconda\\lib\\site-packages\\pandas\\io\\parsers.py:1170: DtypeWarning: Columns (28) have mixed types. Specify dtype option on import or set low_memory=False.\n",
      "  data = self._reader.read(nrows)\n"
     ]
    },
    {
     "data": {
      "text/plain": [
       "Index([u'Unnamed: 0', u'Age', u'Criminal Cases', u'Education Level', u'Gender',\n",
       "       u'IPC Details*', u'Immovable Assets', u'Movable Assets', u'Name',\n",
       "       u'Number of Cases', u'PAN Given(Y or N)', u'Party Code',\n",
       "       u'Serious IPC Counts', u'Total Assets', u'Total Liabilities', u'c',\n",
       "       u'consistuency', u'district', u'election', u'id', u'link', u'win',\n",
       "       u'assets new', u'assets old', u'increase', u'name2', u'new_id',\n",
       "       u'old_id', u'pct change'],\n",
       "      dtype='object')"
      ]
     },
     "execution_count": 3,
     "metadata": {},
     "output_type": "execute_result"
    }
   ],
   "source": [
    "#First load the dataframe\n",
    "df_fin = pd.read_csv(\"df_all_regional_elections2.csv\")\n",
    "print df_fin.shape\n",
    "df_fin.head()\n",
    "df_fin.columns"
   ]
  },
  {
   "cell_type": "code",
   "execution_count": 22,
   "metadata": {
    "collapsed": false
   },
   "outputs": [],
   "source": [
    "def url_tsform(el,c_id):\n",
    "    url_link = \"http://myneta.info/%s/candidate.php?candidate_id=%s\" %(el,c_id)\n",
    "    return url_link\n",
    "def url_split(url_link):\n",
    "    return url_link.split(\"/\")[3], url_link.split(\"=\")[1]"
   ]
  },
  {
   "cell_type": "code",
   "execution_count": 35,
   "metadata": {
    "collapsed": false
   },
   "outputs": [
    {
     "data": {
      "text/plain": [
       "('mp2013', '666')"
      ]
     },
     "execution_count": 35,
     "metadata": {},
     "output_type": "execute_result"
    }
   ],
   "source": [
    "url_split(\"http://myneta.info/mp2013/candidate.php?candidate_id=666\")"
   ]
  },
  {
   "cell_type": "code",
   "execution_count": 31,
   "metadata": {
    "collapsed": false
   },
   "outputs": [],
   "source": [
    "def get_page(el,c_id):\n",
    "    # Check if URL has already been visited.\n",
    "    url = (el,c_id)\n",
    "    url_error = []\n",
    "    if (url not in urlcache) or (urlcache[url]==1) or (urlcache[url]==2):\n",
    "        time.sleep(.5)\n",
    "        try:\n",
    "            r = requests.get(url_tsform(el,c_id))\n",
    "            if r.status_code == 200:\n",
    "                urlcache[url] = r.text\n",
    "            else:\n",
    "                urlcache[url] = 1\n",
    "        except:\n",
    "            urlcache[url] = 2\n",
    "            url_error.append(url)\n",
    "            print \"error with:\", url\n",
    "    return urlcache[url]"
   ]
  },
  {
   "cell_type": "code",
   "execution_count": 26,
   "metadata": {
    "collapsed": false
   },
   "outputs": [],
   "source": [
    "#Re open the dict\n",
    "with open('tempdata/largedict.json', 'r') as f:\n",
    "     dict_start = json.load(f)"
   ]
  },
  {
   "cell_type": "code",
   "execution_count": 75,
   "metadata": {
    "collapsed": false
   },
   "outputs": [
    {
     "name": "stdout",
     "output_type": "stream",
     "text": [
      "20998\n"
     ]
    }
   ],
   "source": [
    "dict_id = {url_split(k):v for k,v in dict_start.iteritems()}\n",
    "print len(dict_id)\n",
    "urlcache = {}"
   ]
  },
  {
   "cell_type": "code",
   "execution_count": 78,
   "metadata": {
    "collapsed": false
   },
   "outputs": [
    {
     "name": "stdout",
     "output_type": "stream",
     "text": [
      "initial length:  0\n",
      "1000 2000 3000 4000 5000 6000 7000 8000 9000 10000 11000 12000 13000 14000 15000 16000 17000 18000 19000 20000 21000 22000 23000 24000 25000 26000 27000 28000 29000 30000 31000 32000 33000 34000 35000 36000 37000\n"
     ]
    }
   ],
   "source": [
    "#Creates a giant dictionary\n",
    "#dict_id2 = {}\n",
    "steps = len(dict_id2)\n",
    "print \"initial length: \", steps\n",
    "for row in df_fin.itertuples():\n",
    "    if (row[19],row[20]) in dict_id2:\n",
    "        pass\n",
    "    else:\n",
    "        dict_id2[(row[19],row[20])] = get_page(row[19],row[20])\n",
    "        steps = len(dict_id2)\n",
    "        if steps % 1000 ==0:\n",
    "            print steps,"
   ]
  },
  {
   "cell_type": "code",
   "execution_count": 88,
   "metadata": {
    "collapsed": false
   },
   "outputs": [
    {
     "name": "stdout",
     "output_type": "stream",
     "text": [
      "37340 37340\n"
     ]
    }
   ],
   "source": [
    "dict_clean = {url_tsform(k[0],k[1]):v for k,v in dict_id2.iteritems() if v!=2}\n",
    "print len(dict_clean), len(dict_id2)"
   ]
  },
  {
   "cell_type": "code",
   "execution_count": 89,
   "metadata": {
    "collapsed": false
   },
   "outputs": [],
   "source": [
    "with open('tempdata/largedict.json', 'w') as f:\n",
    "     json.dump(dict_clean, f)"
   ]
  },
  {
   "cell_type": "code",
   "execution_count": 90,
   "metadata": {
    "collapsed": false
   },
   "outputs": [
    {
     "data": {
      "text/plain": [
       "37340"
      ]
     },
     "execution_count": 90,
     "metadata": {},
     "output_type": "execute_result"
    }
   ],
   "source": [
    "listerror=[]\n",
    "for k,v in dict_id2.iteritems():\n",
    "    if isinstance(v, basestring):\n",
    "        listerror.append(v)\n",
    "len(listerror)"
   ]
  },
  {
   "cell_type": "code",
   "execution_count": 103,
   "metadata": {
    "collapsed": false
   },
   "outputs": [],
   "source": [
    "page_ex = dict_clean['http://myneta.info/mp2013/candidate.php?candidate_id=258']"
   ]
  },
  {
   "cell_type": "code",
   "execution_count": 108,
   "metadata": {
    "collapsed": false
   },
   "outputs": [
    {
     "data": {
      "text/plain": [
       "<table cellpadding=\"0\" cellspacing=\"0\" id=\"table3\" width=\"80%\">\n",
       "<tr style=\"background-color:#336633;color:white;\" valign=\"top\"><th colspan=\"3\">Other Elections</th></tr>\n",
       "<tr style=\"background-color:#336633;color:white;\" valign=\"top\"><th>Declaration in</th><th>Declared Assets</th><th>Declared Cases</th></tr>\n",
       "<tr><td style=\"background-color:#F3F3F3;\"><b>Loksabha 2014</b></td> <td style=\"background-color:#F3F3F3;\"><b>Rs25,48,76,883</b><span style=\"color:black;text-decoration:none;white-space:nowrap\"><br>~25 Crore+</br></span></td><td style=\"background-color:#F3F3F3;\">2</td>\n",
       "</tr>\n",
       "<tr><td colspan=\"3\"><a href=\"/compare_profile.php?group_id=uRKRoKnCXyy5tSAuuc8b\">Click here for more details</a></td></tr></table>"
      ]
     },
     "execution_count": 108,
     "metadata": {},
     "output_type": "execute_result"
    }
   ],
   "source": [
    "bs = BeautifulSoup(page_ex,\"html.parser\")\n",
    "bs.findAll(\"table\")[0]"
   ]
  },
  {
   "cell_type": "code",
   "execution_count": 111,
   "metadata": {
    "collapsed": false
   },
   "outputs": [],
   "source": [
    "ROOT_LINK = \"http://myneta.info\"\n",
    "def get_otherelec_link(page_text, url):\n",
    "    for a in pq(page_text)(\"a\"):\n",
    "        if a.text == \"Click here for more details\":\n",
    "            other_elec_link = pq(a).attr.href\n",
    "            return ROOT_LINK+other_elec_link\n",
    "    return False\n",
    "\n",
    "test_index = \"http://myneta.info/mp2013/candidate.php?candidate_id=258\"\n",
    "page_data = dict_clean[test_index]\n",
    "other_link = get_otherelec_link(page_data,test_index)"
   ]
  },
  {
   "cell_type": "code",
   "execution_count": 112,
   "metadata": {
    "collapsed": false
   },
   "outputs": [
    {
     "data": {
      "text/plain": [
       "[{'Age': '58',\n",
       "  'Constituency': 'SATNA',\n",
       "  'Criminal_Cases': 'Yes',\n",
       "  'Education_Level': 'Post Graduate',\n",
       "  'Name': 'Ajay Arjun Singh in Loksabha 2014',\n",
       "  'Number_of_Cases': '2',\n",
       "  'PAN_Given_(Y_or_N)': 'Y',\n",
       "  'Party_Code': 'INC',\n",
       "  'Total_Assets': '254876883',\n",
       "  'Total_Liabilities': '13845072',\n",
       "  'common_link': 'http://myneta.info/compare_profile.php?group_id=uRKRoKnCXyy5tSAuuc8b',\n",
       "  'elec_link': 'http://myneta.info/ls2014/candidate.php?candidate_id=729'},\n",
       " {'Age': '58',\n",
       "  'Constituency': 'CHURHAT',\n",
       "  'Criminal_Cases': 'Yes',\n",
       "  'Education_Level': 'Post Graduate',\n",
       "  'Name': 'Ajay Arjun Singh in Madhya Pradesh 2013',\n",
       "  'Number_of_Cases': '2',\n",
       "  'PAN_Given_(Y_or_N)': 'Y',\n",
       "  'Party_Code': 'INC',\n",
       "  'Total_Assets': '254586772',\n",
       "  'Total_Liabilities': '13939632',\n",
       "  'common_link': 'http://myneta.info/compare_profile.php?group_id=uRKRoKnCXyy5tSAuuc8b',\n",
       "  'elec_link': 'http://myneta.info/mp2013/candidate.php?candidate_id=258'}]"
      ]
     },
     "execution_count": 112,
     "metadata": {},
     "output_type": "execute_result"
    }
   ],
   "source": [
    "def get_otherelec_data(otherelec_link):\n",
    "    \n",
    "    otherelec_dict = {'common_link': otherelec_link}\n",
    "    \n",
    "    html = requests.get(otherelec_link)\n",
    "    doc = pq(html.content)\n",
    "    \n",
    "    columns = []\n",
    "    all_dicts = []\n",
    "    add = 0\n",
    "    trs = doc('tr')\n",
    "    for tr in trs:\n",
    "        elec_dict = otherelec_dict.copy()\n",
    "        for th in pq(tr)('th'):\n",
    "            columns.append(pq(th).text().replace(\" \",\"_\"))\n",
    "            add = 0\n",
    "        for i,td in enumerate(pq(tr)('td')):\n",
    "            a = pq(td)('a')\n",
    "            if a:\n",
    "                elec_dict['elec_link'] = ROOT_LINK+a.attr.href\n",
    "                elec_dict[columns[i]] = a.text()\n",
    "            else:\n",
    "                try:\n",
    "                    if pq(td)('span') and i < 6:\n",
    "                        elec_dict[columns[i]] = pq(td)('span').text()\n",
    "                    else:\n",
    "                        elec_dict[columns[i]] = str(pq(td).contents()[0]).encode('utf-8').strip().replace(',','')\n",
    "                except:\n",
    "                    print \"\"\n",
    "                    print \"Skipping col %s for %s\" % (columns[i], elec_dict['common_link'])\n",
    "            add = 1\n",
    "            \n",
    "        if add == 1:\n",
    "            all_dicts.append(elec_dict)\n",
    "    \n",
    "    return all_dicts\n",
    "\n",
    "get_otherelec_data(other_link)"
   ]
  },
  {
   "cell_type": "code",
   "execution_count": 114,
   "metadata": {
    "collapsed": false
   },
   "outputs": [
    {
     "name": "stdout",
     "output_type": "stream",
     "text": [
      ". . . . . . . . . . . . . . . . . . . . . . . . . . . . . . . . . . . . . . . . . . . . . . . . \n",
      "Skipping col Constituency for http://myneta.info/compare_profile.php?group_id=h4NLnDQeAZybH8ZvLkvz\n",
      ". . . . . . . . . . . . . . . . . . . . . . . . . . . . . . . . . . . . . . . . . . . . . . . . . . . . . . . . . . . . . . . . . . . . . . . . . . . . . . . . . . . . . . . . . . . . . . . . . . . . . . . . . . . . . . . . . . . . . . . . . . . . . . \n",
      "Skipping col Constituency for http://myneta.info/compare_profile.php?group_id=SbP5CVgpok4MGkoZqpN\n",
      ". . . . . . . . . . . . . . . . . . . . . . . . . . . . . . . . . . . . . . . . . . . . . . . . . . . . . . . . . . . . . . . . . . . . . . . . . . . . . . . . . . . . . . . . . . . . . . . . . . . . . . . . . . . . . . . . . . . . . . . . . . . . . . . . . . . . . . . . . . . . . . . . . . . . . . . . . . . . . . . . . . . . . . . . . . . . . . . . . . . . . . . . . . . . . \n",
      "Skipping col Constituency for http://myneta.info/compare_profile.php?group_id=73zhFwwt8NATq2YYhdzn\n",
      ". . . . . . . . . ."
     ]
    },
    {
     "data": {
      "text/plain": [
       "0    http://myneta.info/compare_profile.php?group_i...\n",
       "1    http://myneta.info/compare_profile.php?group_i...\n",
       "2    http://myneta.info/compare_profile.php?group_i...\n",
       "Name: common_link, dtype: object"
      ]
     },
     "execution_count": 114,
     "metadata": {},
     "output_type": "execute_result"
    },
    {
     "name": "stdout",
     "output_type": "stream",
     "text": [
      "\n"
     ]
    }
   ],
   "source": [
    "def get_all_elec():\n",
    "    all_elec_data = []   \n",
    "    counter = 0.0\n",
    "    for key, val in dict_clean.iteritems():\n",
    "        thelink = get_otherelec_link(val,key)\n",
    "        counter += 1\n",
    "        if counter%100 == 0.0:\n",
    "            print \".\",\n",
    "        if thelink:\n",
    "            all_elec_data = all_elec_data + get_otherelec_data(thelink)\n",
    "    \n",
    "    df = pd.DataFrame(all_elec_data)\n",
    "    return df.drop_duplicates()\n",
    "\n",
    "all_elecs_df = get_all_elec()\n",
    "all_elecs_df.head(3)['common_link']"
   ]
  },
  {
   "cell_type": "code",
   "execution_count": 116,
   "metadata": {
    "collapsed": false
   },
   "outputs": [
    {
     "data": {
      "text/plain": [
       "(7793, 12)"
      ]
     },
     "execution_count": 116,
     "metadata": {},
     "output_type": "execute_result"
    }
   ],
   "source": [
    "all_elecs_df.shape"
   ]
  },
  {
   "cell_type": "code",
   "execution_count": 120,
   "metadata": {
    "collapsed": false
   },
   "outputs": [],
   "source": [
    "all_elecs_df.to_excel(\"tempdata/all_elecs_statelevel.xls\")"
   ]
  },
  {
   "cell_type": "code",
   "execution_count": null,
   "metadata": {
    "collapsed": true
   },
   "outputs": [],
   "source": []
  }
 ],
 "metadata": {
  "kernelspec": {
   "display_name": "Python 2",
   "language": "python",
   "name": "python2"
  },
  "language_info": {
   "codemirror_mode": {
    "name": "ipython",
    "version": 2
   },
   "file_extension": ".py",
   "mimetype": "text/x-python",
   "name": "python",
   "nbconvert_exporter": "python",
   "pygments_lexer": "ipython2",
   "version": "2.7.10"
  }
 },
 "nbformat": 4,
 "nbformat_minor": 0
}

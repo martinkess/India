{
 "cells": [
  {
   "cell_type": "code",
   "execution_count": 111,
   "metadata": {
    "collapsed": true
   },
   "outputs": [],
   "source": [
    "from pyquery import PyQuery as pq\n",
    "import urllib2\n",
    "import requests\n",
    "import pandas as pd\n",
    "import re\n",
    "import time\n",
    "import numpy as np\n",
    "import json\n",
    "import matplotlib.pyplot as plt\n",
    "from time import sleep\n",
    "pd.set_option('display.width', 500)\n",
    "pd.set_option('display.max_columns', 100)\n",
    "pd.set_option('display.notebook_repr_html', True)\n",
    "import seaborn as sns\n",
    "sns.set_style(\"white\")\n",
    "sns.set_context(\"notebook\")\n",
    "%matplotlib inline"
   ]
  },
  {
   "cell_type": "markdown",
   "metadata": {},
   "source": [
    "All key links"
   ]
  },
  {
   "cell_type": "code",
   "execution_count": 3,
   "metadata": {
    "collapsed": true
   },
   "outputs": [],
   "source": [
    "ls_2014 = \"http://myneta.info/ls2014/index.php?action=show_winners&sort=default\"\n",
    "ls_2009 = \"http://myneta.info/ls2009/index.php?action=show_winners&sort=default\"\n",
    "ls_2004 = \"http://myneta.info/loksabha2004/index.php?action=show_winners&sort=default\"\n",
    "base_2014 = \"http://myneta.info/ls2014/\"\n",
    "base_2009 = \"http://myneta.info/ls2009/\"\n",
    "base_2004 = \"http://myneta.info/loksabha2004/\"\n",
    "\n",
    "url_list={'2004':ls_2004,'2009':ls_2009,'2014':ls_2014}\n",
    "base_urls = {'2004':base_2004,'2009':base_2009,'2014':base_2014}"
   ]
  },
  {
   "cell_type": "code",
   "execution_count": 236,
   "metadata": {
    "collapsed": false
   },
   "outputs": [],
   "source": [
    "crim_data = pd.read_csv('criminal_record.csv')\n",
    "candidates = pd.read_csv('../candidates.csv')"
   ]
  },
  {
   "cell_type": "code",
   "execution_count": 118,
   "metadata": {
    "collapsed": false
   },
   "outputs": [
    {
     "data": {
      "text/html": [
       "<div>\n",
       "<table border=\"1\" class=\"dataframe\">\n",
       "  <thead>\n",
       "    <tr style=\"text-align: right;\">\n",
       "      <th></th>\n",
       "      <th>Unnamed: 0</th>\n",
       "      <th>Age</th>\n",
       "      <th>Assets_Rs</th>\n",
       "      <th>Constituency</th>\n",
       "      <th>Criminal_Cases</th>\n",
       "      <th>Education</th>\n",
       "      <th>Liabilities_Rs</th>\n",
       "      <th>Link</th>\n",
       "      <th>Name</th>\n",
       "      <th>Party</th>\n",
       "      <th>State</th>\n",
       "      <th>Winner</th>\n",
       "      <th>Year</th>\n",
       "      <th>full_link</th>\n",
       "    </tr>\n",
       "  </thead>\n",
       "  <tbody>\n",
       "    <tr>\n",
       "      <th>2362</th>\n",
       "      <td>0</td>\n",
       "      <td>54</td>\n",
       "      <td>45224706</td>\n",
       "      <td>BANGALORE SOUTH</td>\n",
       "      <td>0</td>\n",
       "      <td>Graduate Professional</td>\n",
       "      <td>2883233</td>\n",
       "      <td>candidate.php?candidate_id=189</td>\n",
       "      <td>Ananth Kumar</td>\n",
       "      <td>BJP</td>\n",
       "      <td>KARNATAKA</td>\n",
       "      <td>1</td>\n",
       "      <td>2014</td>\n",
       "      <td>http://myneta.info/ls2014/candidate.php?candid...</td>\n",
       "    </tr>\n",
       "    <tr>\n",
       "      <th>10658</th>\n",
       "      <td>0</td>\n",
       "      <td>49</td>\n",
       "      <td>12206366</td>\n",
       "      <td>Bangalore South</td>\n",
       "      <td>0</td>\n",
       "      <td>Graduate Professional</td>\n",
       "      <td>0</td>\n",
       "      <td>candidate.php?candidate_id=503</td>\n",
       "      <td>Ananth Kumar</td>\n",
       "      <td>BJP</td>\n",
       "      <td>KARNATAKA</td>\n",
       "      <td>1</td>\n",
       "      <td>2009</td>\n",
       "      <td>http://myneta.info/ls2009/candidate.php?candid...</td>\n",
       "    </tr>\n",
       "  </tbody>\n",
       "</table>\n",
       "</div>"
      ],
      "text/plain": [
       "       Unnamed: 0  Age Assets_Rs     Constituency  Criminal_Cases              Education  Liabilities_Rs                            Link          Name Party      State  Winner  Year                                          full_link\n",
       "2362            0   54  45224706  BANGALORE SOUTH               0  Graduate Professional         2883233  candidate.php?candidate_id=189  Ananth Kumar   BJP  KARNATAKA       1  2014  http://myneta.info/ls2014/candidate.php?candid...\n",
       "10658           0   49  12206366  Bangalore South               0  Graduate Professional               0  candidate.php?candidate_id=503  Ananth Kumar   BJP  KARNATAKA       1  2009  http://myneta.info/ls2009/candidate.php?candid..."
      ]
     },
     "execution_count": 118,
     "metadata": {},
     "output_type": "execute_result"
    }
   ],
   "source": [
    "candidates['full_link'] = candidates.Year.apply(lambda x: base_urls[str(x)]) + candidates.Link\n",
    "candidates[candidates.Name == \"Ananth Kumar\"]"
   ]
  },
  {
   "cell_type": "code",
   "execution_count": 7,
   "metadata": {
    "collapsed": false
   },
   "outputs": [
    {
     "data": {
      "text/plain": [
       "'http://myneta.info/ls2014/candidate.php?candidate_id=264'"
      ]
     },
     "execution_count": 7,
     "metadata": {},
     "output_type": "execute_result"
    }
   ],
   "source": [
    "crim_data.url[1]"
   ]
  },
  {
   "cell_type": "code",
   "execution_count": 8,
   "metadata": {
    "collapsed": true
   },
   "outputs": [],
   "source": [
    "def clean_list(input_list):\n",
    "    z=[]\n",
    "    for i in input_list:\n",
    "        cleaned = i.lstrip().rstrip()\n",
    "        if len(cleaned) > 0:\n",
    "            z.append(cleaned)\n",
    "    return z\n"
   ]
  },
  {
   "cell_type": "code",
   "execution_count": 115,
   "metadata": {
    "collapsed": false
   },
   "outputs": [
    {
     "data": {
      "text/html": [
       "<div>\n",
       "<table border=\"1\" class=\"dataframe\">\n",
       "  <thead>\n",
       "    <tr style=\"text-align: right;\">\n",
       "      <th></th>\n",
       "      <th>Unnamed: 0_x</th>\n",
       "      <th>IPC_sections</th>\n",
       "      <th>Other</th>\n",
       "      <th>serial_no</th>\n",
       "      <th>type</th>\n",
       "      <th>url</th>\n",
       "      <th>year_election</th>\n",
       "      <th>Unnamed: 0_y</th>\n",
       "      <th>Age</th>\n",
       "      <th>Assets_Rs</th>\n",
       "      <th>Constituency</th>\n",
       "      <th>Criminal_Cases</th>\n",
       "      <th>Education</th>\n",
       "      <th>Liabilities_Rs</th>\n",
       "      <th>Link</th>\n",
       "      <th>Name</th>\n",
       "      <th>Party</th>\n",
       "      <th>State</th>\n",
       "      <th>Winner</th>\n",
       "      <th>Year</th>\n",
       "      <th>full_link</th>\n",
       "    </tr>\n",
       "  </thead>\n",
       "  <tbody>\n",
       "    <tr>\n",
       "      <th>0</th>\n",
       "      <td>0</td>\n",
       "      <td>[147, 148, 149, 307, 425]</td>\n",
       "      <td>3rd ADJ,Sonbhadra,No-144/08,Date 12/07/2008</td>\n",
       "      <td>1</td>\n",
       "      <td>Cogniz</td>\n",
       "      <td>http://myneta.info/ls2014/candidate.php?candid...</td>\n",
       "      <td>2014</td>\n",
       "      <td>12</td>\n",
       "      <td>39</td>\n",
       "      <td>1292500</td>\n",
       "      <td>AZAMGARH</td>\n",
       "      <td>1</td>\n",
       "      <td>Post Graduate</td>\n",
       "      <td>294000</td>\n",
       "      <td>candidate.php?candidate_id=9488</td>\n",
       "      <td>Sanjay Chauhan</td>\n",
       "      <td>IND</td>\n",
       "      <td>UTTAR PRADESH</td>\n",
       "      <td>0</td>\n",
       "      <td>2014</td>\n",
       "      <td>http://myneta.info/ls2014/candidate.php?candid...</td>\n",
       "    </tr>\n",
       "    <tr>\n",
       "      <th>1</th>\n",
       "      <td>1</td>\n",
       "      <td>[]</td>\n",
       "      <td>154 Cr.pc, Chief Judicical Magistrate Court K...</td>\n",
       "      <td>1</td>\n",
       "      <td>Framed</td>\n",
       "      <td>http://myneta.info/ls2014/candidate.php?candid...</td>\n",
       "      <td>2014</td>\n",
       "      <td>6</td>\n",
       "      <td>55</td>\n",
       "      <td>4988654</td>\n",
       "      <td>VADAKARA</td>\n",
       "      <td>1</td>\n",
       "      <td>Graduate</td>\n",
       "      <td>0</td>\n",
       "      <td>candidate.php?candidate_id=264</td>\n",
       "      <td>P.Abdul Hameed Master</td>\n",
       "      <td>SDPI</td>\n",
       "      <td>KERALA</td>\n",
       "      <td>0</td>\n",
       "      <td>2014</td>\n",
       "      <td>http://myneta.info/ls2014/candidate.php?candid...</td>\n",
       "    </tr>\n",
       "    <tr>\n",
       "      <th>2</th>\n",
       "      <td>2</td>\n",
       "      <td>[143, 147, 283, 149]</td>\n",
       "      <td>JFCM IV Kozhikode ,CC 1217/2013(Nadakkavu Cr....</td>\n",
       "      <td>1</td>\n",
       "      <td>Cogniz</td>\n",
       "      <td>http://myneta.info/ls2014/candidate.php?candid...</td>\n",
       "      <td>2014</td>\n",
       "      <td>9</td>\n",
       "      <td>60</td>\n",
       "      <td>3697322</td>\n",
       "      <td>WAYANAD</td>\n",
       "      <td>2</td>\n",
       "      <td>Graduate</td>\n",
       "      <td>502699</td>\n",
       "      <td>candidate.php?candidate_id=265</td>\n",
       "      <td>Sathyan Mokeri</td>\n",
       "      <td>CPI</td>\n",
       "      <td>KERALA</td>\n",
       "      <td>0</td>\n",
       "      <td>2014</td>\n",
       "      <td>http://myneta.info/ls2014/candidate.php?candid...</td>\n",
       "    </tr>\n",
       "  </tbody>\n",
       "</table>\n",
       "</div>"
      ],
      "text/plain": [
       "   Unnamed: 0_x               IPC_sections                                              Other  serial_no    type                                                url  year_election  Unnamed: 0_y  Age Assets_Rs Constituency  Criminal_Cases      Education  Liabilities_Rs                             Link                   Name Party          State  Winner  Year                                          full_link\n",
       "0             0  [147, 148, 149, 307, 425]       3rd ADJ,Sonbhadra,No-144/08,Date 12/07/2008           1  Cogniz  http://myneta.info/ls2014/candidate.php?candid...           2014            12   39   1292500     AZAMGARH               1  Post Graduate          294000  candidate.php?candidate_id=9488         Sanjay Chauhan   IND  UTTAR PRADESH       0  2014  http://myneta.info/ls2014/candidate.php?candid...\n",
       "1             1                         []   154 Cr.pc, Chief Judicical Magistrate Court K...          1  Framed  http://myneta.info/ls2014/candidate.php?candid...           2014             6   55   4988654     VADAKARA               1       Graduate               0   candidate.php?candidate_id=264  P.Abdul Hameed Master  SDPI         KERALA       0  2014  http://myneta.info/ls2014/candidate.php?candid...\n",
       "2             2       [143, 147, 283, 149]   JFCM IV Kozhikode ,CC 1217/2013(Nadakkavu Cr....          1  Cogniz  http://myneta.info/ls2014/candidate.php?candid...           2014             9   60   3697322      WAYANAD               2       Graduate          502699   candidate.php?candidate_id=265         Sathyan Mokeri   CPI         KERALA       0  2014  http://myneta.info/ls2014/candidate.php?candid..."
      ]
     },
     "execution_count": 115,
     "metadata": {},
     "output_type": "execute_result"
    }
   ],
   "source": [
    "merged_crim = crim_data.merge(candidates, left_on='url', right_on='full_link', how='left')\n",
    "merged_crim.IPC_sections = merged_crim.IPC_sections.apply(lambda x: str(x).split(', '))\n",
    "merged_crim.IPC_sections = merged_crim.IPC_sections.apply(clean_list)\n",
    "\n",
    "merged_crim.head(3)\n",
    "\n"
   ]
  },
  {
   "cell_type": "code",
   "execution_count": 112,
   "metadata": {
    "collapsed": false
   },
   "outputs": [
    {
     "data": {
      "image/png": "[encoded data removed]",
      "text/plain": [
       "<matplotlib.figure.Figure at 0x10c420610>"
      ]
     },
     "metadata": {},
     "output_type": "display_data"
    }
   ],
   "source": [
    "winner_crim = merged_crim[merged_crim.Winner == 1]\n",
    "for_winners = winner_crim.groupby('full_link').count()\n",
    "\n",
    "losers_crim = merged_crim[merged_crim.Winner == 0]\n",
    "for_losers = losers_crim.groupby('full_link').count()\n",
    "\n",
    "for_losers[for_losers.Criminal_Cases > 200]\n",
    "\n",
    "plt.figure(figsize=(10,5))\n",
    "ax = plt.axes()\n",
    "sns.kdeplot(for_winners.Criminal_Cases, ax=ax,cumulative=True, label=\"Won\")\n",
    "sns.kdeplot(for_losers.Criminal_Cases, ax=ax,cumulative=True, c='red', label=\"Did not win\")\n",
    "ax.set_xbound(lower=0, upper =50)"
   ]
  },
  {
   "cell_type": "code",
   "execution_count": 11,
   "metadata": {
    "collapsed": false
   },
   "outputs": [],
   "source": [
    "def show_top(input_df, num, color, ax=None):\n",
    "    # Collect all the lists\n",
    "    y=[]\n",
    "    for x in input_df.IPC_sections:\n",
    "        y = y+x\n",
    "    \n",
    "    # Get a set of unique codes\n",
    "    z=[]\n",
    "    for code in y:\n",
    "        if len(code) > 0:\n",
    "            z.append(code)\n",
    "    unique_codes = list(set(z))   \n",
    "    \n",
    "    # create a dict for each code\n",
    "    codes_count = {}\n",
    "    for code in unique_codes:\n",
    "        for a,b in input_df.IPC_sections.iteritems():\n",
    "            if code in b:\n",
    "                if code in codes_count.keys():\n",
    "                    codes_count[code] += 1\n",
    "                else:\n",
    "                    codes_count[code] = 1\n",
    "    # create df and plot\n",
    "    codes_count_df = pd.DataFrame(index = codes_count.keys(), data=codes_count.values(), columns=['crim_count'])\n",
    "    codes_count_df = codes_count_df.sort('crim_count', ascending=False)\n",
    "    \n",
    "    if ax == None:\n",
    "        plt.figure(figsize=(10,5))\n",
    "        ax = plt.axes()\n",
    "        \n",
    "    sns.barplot(x=codes_count_df.index[:num], y=codes_count_df.crim_count[:num], color=color, ax=ax)\n",
    "    return ax"
   ]
  },
  {
   "cell_type": "code",
   "execution_count": 114,
   "metadata": {
    "collapsed": false
   },
   "outputs": [
    {
     "data": {
      "text/plain": [
       "<matplotlib.axes._subplots.AxesSubplot at 0x1095555d0>"
      ]
     },
     "execution_count": 114,
     "metadata": {},
     "output_type": "execute_result"
    },
    {
     "data": {
      "image/png": "[encoded data removed]",
      "text/plain": [
       "<matplotlib.figure.Figure at 0x10d31d650>"
      ]
     },
     "metadata": {},
     "output_type": "display_data"
    }
   ],
   "source": [
    "winner_IPC = merged_crim[merged_crim.Winner == 1][['IPC_sections']]\n",
    "loser_IPC = merged_crim[merged_crim.Winner == 0][['IPC_sections']]\n",
    "\n",
    "plt.figure(figsize=(10,7))\n",
    "ax = plt.subplot(211)\n",
    "show_top(winner_IPC, 20, 'r', ax)\n",
    "ax = plt.subplot(212)\n",
    "show_top(loser_IPC, 20, 'b', ax)\n"
   ]
  },
  {
   "cell_type": "code",
   "execution_count": 13,
   "metadata": {
    "collapsed": true
   },
   "outputs": [],
   "source": [
    "def kde_for_code(df, code):\n",
    "    wdf = df[df.Winner == 1]\n",
    "    ldf = df[df.Winner == 0]\n",
    "    \n",
    "    wdf['has_code'] = wdf.IPC_sections.apply(lambda x: code in x)\n",
    "    ldf['has_code'] = ldf.IPC_sections.apply(lambda x: code in x)\n",
    "    \n",
    "    \n",
    "    return (np.mean(wdf.has_code), np.mean(ldf.has_code))\n",
    "    "
   ]
  },
  {
   "cell_type": "code",
   "execution_count": 120,
   "metadata": {
    "collapsed": false
   },
   "outputs": [
    {
     "name": "stderr",
     "output_type": "stream",
     "text": [
      "/Users/sidravinutala1/anaconda/lib/python2.7/site-packages/IPython/kernel/__main__.py:5: SettingWithCopyWarning: \n",
      "A value is trying to be set on a copy of a slice from a DataFrame.\n",
      "Try using .loc[row_indexer,col_indexer] = value instead\n",
      "\n",
      "See the the caveats in the documentation: http://pandas.pydata.org/pandas-docs/stable/indexing.html#indexing-view-versus-copy\n",
      "/Users/sidravinutala1/anaconda/lib/python2.7/site-packages/IPython/kernel/__main__.py:6: SettingWithCopyWarning: \n",
      "A value is trying to be set on a copy of a slice from a DataFrame.\n",
      "Try using .loc[row_indexer,col_indexer] = value instead\n",
      "\n",
      "See the the caveats in the documentation: http://pandas.pydata.org/pandas-docs/stable/indexing.html#indexing-view-versus-copy\n"
     ]
    },
    {
     "data": {
      "text/plain": [
       "(0.14520958083832336, 0.11424100156494522)"
      ]
     },
     "execution_count": 120,
     "metadata": {},
     "output_type": "execute_result"
    }
   ],
   "source": [
    "kde_for_code(merged_crim, '427')"
   ]
  },
  {
   "cell_type": "code",
   "execution_count": 113,
   "metadata": {
    "collapsed": false
   },
   "outputs": [
    {
     "data": {
      "image/png": "[encoded data removed]",
      "text/plain": [
       "<matplotlib.figure.Figure at 0x10afab110>"
      ]
     },
     "metadata": {},
     "output_type": "display_data"
    }
   ],
   "source": [
    "totals= {}\n",
    "\n",
    "totals[1] = merged_crim[merged_crim.Winner == 1].count()[0] \n",
    "totals[0] = merged_crim[merged_crim.Winner == 0].count()[0] \n",
    "\n",
    "gby_type = merged_crim.groupby(['Winner','type']).agg(lambda x: x.count())\n",
    "gby_type = gby_type.reset_index()\n",
    "gby_type.head()\n",
    "\n",
    "gby_type['Totals'] = gby_type.Winner.apply(lambda x: totals[x])\n",
    "gby_type['Criminal_Cases'] = gby_type['Criminal_Cases'] / gby_type.Totals\n",
    "\n",
    "plt.figure(figsize=(10,5))\n",
    "sns.barplot(x='type', y='Criminal_Cases', data=gby_type, hue='Winner')\n",
    "ax.set_xbound(lower=0, upper =50)"
   ]
  },
  {
   "cell_type": "code",
   "execution_count": null,
   "metadata": {
    "collapsed": true
   },
   "outputs": [],
   "source": []
  }
 ],
 "metadata": {
  "kernelspec": {
   "display_name": "Python 2",
   "language": "python",
   "name": "python2"
  },
  "language_info": {
   "codemirror_mode": {
    "name": "ipython",
    "version": 2
   },
   "file_extension": ".py",
   "mimetype": "text/x-python",
   "name": "python",
   "nbconvert_exporter": "python",
   "pygments_lexer": "ipython2",
   "version": "2.7.10"
  }
 },
 "nbformat": 4,
 "nbformat_minor": 0
}

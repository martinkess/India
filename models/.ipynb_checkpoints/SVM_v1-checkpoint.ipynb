{
 "cells": [
  {
   "cell_type": "markdown",
   "metadata": {},
   "source": [
    "# Random Forests Model\n",
    "\n",
    "The one uses the basic model and splits the test and training set by:\n",
    "* Year\n",
    "* Entire constituencies"
   ]
  },
  {
   "cell_type": "code",
   "execution_count": 54,
   "metadata": {
    "collapsed": true
   },
   "outputs": [],
   "source": [
    "from pyquery import PyQuery as pq\n",
    "import urllib2\n",
    "import requests\n",
    "import pandas as pd\n",
    "import re\n",
    "import time\n",
    "import numpy as np\n",
    "import json\n",
    "import matplotlib.pyplot as plt\n",
    "from time import sleep\n",
    "pd.set_option('display.width', 1000)\n",
    "pd.set_option('display.max_columns', 400)\n",
    "pd.set_option('display.notebook_repr_html', True)\n",
    "import seaborn as sns\n",
    "sns.set_style(\"white\")\n",
    "sns.set_context(\"notebook\")\n",
    "%matplotlib inline\n",
    "\n",
    "from sklearn.metrics import roc_curve, auc\n",
    "from scipy import interp\n",
    "from sklearn.svm import SVC\n",
    "from sklearn.ensemble import RandomForestClassifier\n",
    "from sklearn import preprocessing"
   ]
  },
  {
   "cell_type": "markdown",
   "metadata": {},
   "source": [
    "### Load dataset and make variables categorical"
   ]
  },
  {
   "cell_type": "markdown",
   "metadata": {},
   "source": [
    "Following code saves/loads the CSV, you can just start from here"
   ]
  },
  {
   "cell_type": "code",
   "execution_count": 82,
   "metadata": {
    "collapsed": true
   },
   "outputs": [],
   "source": [
    "candidates_simple = pd.read_csv('../candidates_incumbency_crim.csv')\n",
    "candidates_simple.Incumbent = candidates_simple.Incumbent.apply(lambda x: 1 if x else 0)\n",
    "\n",
    "for cols in candidates_simple.columns:\n",
    "    candidates_simple.loc[candidates_simple[cols].isnull(),cols] = 0"
   ]
  },
  {
   "cell_type": "markdown",
   "metadata": {},
   "source": [
    "Load the final dataset"
   ]
  },
  {
   "cell_type": "code",
   "execution_count": 65,
   "metadata": {
    "collapsed": true
   },
   "outputs": [],
   "source": [
    "candidates = pd.read_csv('../candidates_final.csv')\n",
    "candidates.Incumbent = candidates.Incumbent.apply(lambda x: 1 if x else 0)"
   ]
  },
  {
   "cell_type": "markdown",
   "metadata": {},
   "source": [
    "## 1. With a very simple dataset"
   ]
  },
  {
   "cell_type": "markdown",
   "metadata": {},
   "source": [
    "###Normalize data"
   ]
  },
  {
   "cell_type": "markdown",
   "metadata": {},
   "source": [
    "###Create test and train set"
   ]
  },
  {
   "cell_type": "code",
   "execution_count": 7,
   "metadata": {
    "collapsed": false
   },
   "outputs": [],
   "source": [
    "def gen_test_train(df, RATIO, TYPE):\n",
    "\n",
    "    if TYPE == 'YEAR':\n",
    "        train_df = df[df.Year.isin([2009,2004])]\n",
    "        test_df = df[df.Year == 2014]\n",
    "        print \"Using 'YEAR' split\"\n",
    "    \n",
    "    elif TYPE == 'CONST':\n",
    "        print \"Using 'CONSTITUENCY' split\"\n",
    "        df['year_const'] = df.Year.apply(str) + df.Constituency.apply(str)\n",
    "        all_year_const = df.year_const.drop_duplicates()\n",
    "        test_index=np.random.choice(all_year_const, size=RATIO*all_year_const.count(), replace=False)\n",
    "\n",
    "        train_df = df[~df.year_const.isin(test_index)]\n",
    "        test_df = df[df.year_const.isin(test_index)]\n",
    "    \n",
    "    else:\n",
    "        test_index=np.random.choice(range(df.count()[0]), size=RATIO*df.count()[0], replace=False)\n",
    "        test_mask = df.index.isin(list(test_index))\n",
    "        test_df = df[test_mask]\n",
    "        train_df = df[~test_mask]\n",
    "    \n",
    "    print \"Train set: %s, Test set: %s\" % (train_df.count()[0], test_df.count()[0])\n",
    "    \n",
    "    cols = ['Age', 'Constituency', 'Criminal_Cases', 'Assets_Rs','Year',\n",
    "                                  'Education', 'Liabilities_Rs', 'Party', 'State','Cogniz','Convict','Framed',\n",
    "                                  'Total_Wins','History','Years_since','Incumbent']\n",
    "                       \n",
    "                       \n",
    "#     cols = list(train_df.columns)\n",
    "#     cols.remove('Winner')\n",
    "#     cols.remove('Unnamed: 0')\n",
    "#     cols.remove('IPC_sections')\n",
    "#     cols.remove('full_link')    \n",
    "#     cols.remove('Name')\n",
    "#     cols.remove('Link')\n",
    "    \n",
    "    X_train = train_df[cols]\n",
    "    X_test = test_df[cols]\n",
    "\n",
    "    Y_train = train_df.Winner\n",
    "    Y_test = test_df.Winner\n",
    "    \n",
    "    return X_train, Y_train, X_test, Y_test\n",
    "   "
   ]
  },
  {
   "cell_type": "markdown",
   "metadata": {},
   "source": [
    "###A poor effort at balancing - creating weights"
   ]
  },
  {
   "cell_type": "code",
   "execution_count": 8,
   "metadata": {
    "collapsed": false
   },
   "outputs": [],
   "source": [
    "def generate_weights(Y, X_train):\n",
    "    \n",
    "    weight = [0,0]\n",
    "    number_of_wins = np.sum(Y)\n",
    "    weight[1] = float(number_of_wins)/len(Y)\n",
    "    weight[0] = 1.0-weight[1]\n",
    "    \n",
    "    sample_weights = [weight[x] for x in Y]\n",
    "    \n",
    "    return np.array(sample_weights)\n"
   ]
  },
  {
   "cell_type": "markdown",
   "metadata": {},
   "source": [
    "###Define a few functions for a random forest classfier"
   ]
  },
  {
   "cell_type": "code",
   "execution_count": 10,
   "metadata": {
    "collapsed": true
   },
   "outputs": [],
   "source": [
    "def confusion_matrix(y_hat, y, val=[1]):\n",
    "    y_hat = list(y_hat)\n",
    "    y = list(y)\n",
    "    conf = [[0,0],[0,0]]\n",
    "    score = 0.0\n",
    "    for i,x in enumerate(y_hat):\n",
    "        if x in val :\n",
    "            if y[i] == 1:\n",
    "                conf[1][1] += 1\n",
    "                score += 1\n",
    "            if y[i] == 0:\n",
    "                conf[0][1] += 1\n",
    "        if x not in val:\n",
    "            if y[i] == 1:\n",
    "                conf[1][0] += 1\n",
    "            if y[i] == 0:\n",
    "                conf[0][0] += 1    \n",
    "                score += 1\n",
    "    return conf, score/len(y_hat)"
   ]
  },
  {
   "cell_type": "code",
   "execution_count": 56,
   "metadata": {
    "collapsed": false
   },
   "outputs": [],
   "source": [
    "def make_roc(clf, testset, y, save=False, ax=False):\n",
    "    fpr, tpr, thresholds=roc_curve(y, clf.decision_function(testset))\n",
    "    \n",
    "    roc_auc = auc(fpr, tpr)\n",
    "\n",
    "    plt.figure(figsize=(10,8))\n",
    "    if not(ax):\n",
    "        ax = plt.axes()\n",
    "        \n",
    "    ax.plot(fpr, tpr, lw=2, label='RF (area = %0.2f)' % (roc_auc))\n",
    "    ax.plot([0,1],[0,1],ls='--')\n",
    "    ax.legend(loc=0)\n",
    "\n",
    "    if save :\n",
    "        plt.savefig('roc_rf1.png', format='png')\n",
    "    \n",
    "    return ax"
   ]
  },
  {
   "cell_type": "code",
   "execution_count": 77,
   "metadata": {
    "collapsed": true
   },
   "outputs": [],
   "source": [
    "def normalize_df(X_train, X_test):\n",
    "    \n",
    "    all_cols = X_train.columns\n",
    "    categorical = ['Constituency','Education','Party','State']\n",
    "    continuous = [x for x in all_cols if x not in categorical]\n",
    "\n",
    "    scaler = preprocessing.StandardScaler().fit(X_train[continuous])\n",
    "    enc = preprocessing.OneHotEncoder().fit(X_train[categorical])\n",
    "\n",
    "    X_tr_scaled = scaler.transform(X_train[continuous])\n",
    "    X_tr_encoded = enc.transform(X_train[categorical]).toarray()\n",
    "\n",
    "    X_tst_scaled = scaler.transform(X_test[continuous])\n",
    "    X_tst_encoded = enc.transform(X_test[categorical]).toarray()\n",
    "\n",
    "    temp = []\n",
    "    for x,y in zip(X_tr_scaled, X_tr_encoded):\n",
    "         temp.append(np.concatenate([x,y]))\n",
    "    X_train_n = pd.DataFrame(temp)\n",
    "\n",
    "    temp = []\n",
    "    for x,y in zip(X_tst_scaled, X_tst_encoded):\n",
    "         temp.append(np.concatenate([x,y]))\n",
    "    X_test_n = pd.DataFrame(temp)\n",
    "    \n",
    "    return X_train_n, X_test_n\n",
    "    "
   ]
  },
  {
   "cell_type": "markdown",
   "metadata": {},
   "source": [
    "###Run the functions above splitting training and test sets by constituency"
   ]
  },
  {
   "cell_type": "code",
   "execution_count": 78,
   "metadata": {
    "collapsed": false
   },
   "outputs": [
    {
     "name": "stdout",
     "output_type": "stream",
     "text": [
      "Using 'CONSTITUENCY' split\n",
      "Train set: 15146, Test set: 3988\n"
     ]
    }
   ],
   "source": [
    "X_train, Y_train, X_test, Y_test = gen_test_train(candidates_simple, 0.2, 'CONST')\n",
    "X_train, X_test = normalize_df(X_train, X_test)"
   ]
  },
  {
   "cell_type": "code",
   "execution_count": 79,
   "metadata": {
    "collapsed": false
   },
   "outputs": [
    {
     "name": "stdout",
     "output_type": "stream",
     "text": [
      "If you guessed all as losing: 0.921013039117\n",
      "Current model: 0.921013039117\n",
      "Confusion matrix [0,1],[0,1]: [[3673, 0], [315, 0]]\n"
     ]
    }
   ],
   "source": [
    "# get dataset\n",
    "weights = generate_weights(Y_train, X_train)\n",
    "clf = SVC()\n",
    "clf.fit(X_train,Y_train, sample_weight=weights)\n",
    "Y_hat = clf.predict(X_test)\n",
    "conf, score = confusion_matrix(Y_hat, Y_test)\n",
    "all_zeroes = [0]*len(Y_hat)\n",
    "\n",
    "print \"If you guessed all as losing: %s\" % (1.0 - float(np.sum(Y_test))/len(Y_test))\n",
    "print \"Current model: %s\" % score\n",
    "print \"Confusion matrix [0,1],[0,1]: %s\" % conf\n"
   ]
  },
  {
   "cell_type": "code",
   "execution_count": 80,
   "metadata": {
    "collapsed": false
   },
   "outputs": [
    {
     "data": {
      "text/plain": [
       "<matplotlib.axes._subplots.AxesSubplot at 0x10b6e5d90>"
      ]
     },
     "execution_count": 80,
     "metadata": {},
     "output_type": "execute_result"
    },
    {
     "data": {
      "image/png": "[encoded data removed]",
      "text/plain": [
       "<matplotlib.figure.Figure at 0x109c3e2d0>"
      ]
     },
     "metadata": {},
     "output_type": "display_data"
    }
   ],
   "source": [
    "make_roc(clf, X_test, Y_test, save=False)"
   ]
  },
  {
   "cell_type": "markdown",
   "metadata": {},
   "source": [
    "### Now run by splitting by year\n",
    "\n",
    "You can't do it by year because the encoder does not work for categories it hasn't seen before, new districts etc"
   ]
  },
  {
   "cell_type": "code",
   "execution_count": 89,
   "metadata": {
    "collapsed": false
   },
   "outputs": [
    {
     "name": "stdout",
     "output_type": "stream",
     "text": [
      "Using 'YEAR' split\n",
      "Train set: 10930, Test set: 8204\n"
     ]
    }
   ],
   "source": [
    "X_train, Y_train, X_test, Y_test = gen_test_train(candidates_simple, 0.2, 'YEAR')\n",
    "#X_train, X_test = normalize_df(X_train, X_test)"
   ]
  },
  {
   "cell_type": "code",
   "execution_count": null,
   "metadata": {
    "collapsed": true
   },
   "outputs": [],
   "source": [
    "# get dataset\n",
    "weights = generate_weights(Y_train, X_train)\n",
    "clf = SVC()\n",
    "clf.fit(X_train,Y_train, sample_weight=weights)\n",
    "Y_hat = clf.predict(X_test)\n",
    "conf, score = confusion_matrix(Y_hat, Y_test)\n",
    "all_zeroes = [0]*len(Y_hat)\n",
    "\n",
    "print \"If you guessed all as losing: %s\" % (1.0 - float(np.sum(Y_test))/len(Y_test))\n",
    "print \"Current model: %s\" % score\n",
    "print \"Confusion matrix [0,1],[0,1]: %s\" % conf\n"
   ]
  },
  {
   "cell_type": "code",
   "execution_count": null,
   "metadata": {
    "collapsed": true
   },
   "outputs": [],
   "source": [
    "make_roc(clf, X_test, Y_test)"
   ]
  },
  {
   "cell_type": "markdown",
   "metadata": {},
   "source": [
    "### Finally, the 'classic' version ###"
   ]
  },
  {
   "cell_type": "code",
   "execution_count": 86,
   "metadata": {
    "collapsed": false
   },
   "outputs": [
    {
     "name": "stdout",
     "output_type": "stream",
     "text": [
      "Train set: 15308, Test set: 3826\n"
     ]
    }
   ],
   "source": [
    "X_train, Y_train, X_test, Y_test = gen_test_train(candidates_simple, 0.2, 0.40)\n",
    "X_train, X_test = normalize_df(X_train, X_test)"
   ]
  },
  {
   "cell_type": "code",
   "execution_count": 87,
   "metadata": {
    "collapsed": false
   },
   "outputs": [
    {
     "name": "stdout",
     "output_type": "stream",
     "text": [
      "If you guessed all as losing: 0.917668583377\n",
      "Current model: 0.917668583377\n",
      "Confusion matrix [0,1],[0,1]: [[3511, 0], [315, 0]]\n"
     ]
    }
   ],
   "source": [
    "# get dataset\n",
    "weights = generate_weights(Y_train, X_train)\n",
    "clf = SVC()\n",
    "clf.fit(X_train,Y_train, sample_weight=weights)\n",
    "Y_hat = clf.predict(X_test)\n",
    "conf, score = confusion_matrix(Y_hat, Y_test)\n",
    "all_zeroes = [0]*len(Y_hat)\n",
    "\n",
    "print \"If you guessed all as losing: %s\" % (1.0 - float(np.sum(Y_test))/len(Y_test))\n",
    "print \"Current model: %s\" % score\n",
    "print \"Confusion matrix [0,1],[0,1]: %s\" % conf"
   ]
  },
  {
   "cell_type": "code",
   "execution_count": 88,
   "metadata": {
    "collapsed": false
   },
   "outputs": [
    {
     "data": {
      "text/plain": [
       "<matplotlib.axes._subplots.AxesSubplot at 0x103bfc3d0>"
      ]
     },
     "execution_count": 88,
     "metadata": {},
     "output_type": "execute_result"
    },
    {
     "data": {
      "image/png": "[encoded data removed]",
      "text/plain": [
       "<matplotlib.figure.Figure at 0x10c7b10d0>"
      ]
     },
     "metadata": {},
     "output_type": "display_data"
    }
   ],
   "source": [
    "make_roc(clf, X_test, Y_test)"
   ]
  },
  {
   "cell_type": "code",
   "execution_count": null,
   "metadata": {
    "collapsed": true
   },
   "outputs": [],
   "source": []
  }
 ],
 "metadata": {
  "kernelspec": {
   "display_name": "Python 2",
   "language": "python",
   "name": "python2"
  },
  "language_info": {
   "codemirror_mode": {
    "name": "ipython",
    "version": 2
   },
   "file_extension": ".py",
   "mimetype": "text/x-python",
   "name": "python",
   "nbconvert_exporter": "python",
   "pygments_lexer": "ipython2",
   "version": "2.7.10"
  }
 },
 "nbformat": 4,
 "nbformat_minor": 0
}

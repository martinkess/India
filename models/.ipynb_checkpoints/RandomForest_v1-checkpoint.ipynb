{
 "cells": [
  {
   "cell_type": "markdown",
   "metadata": {},
   "source": [
    "# Random Forests Model"
   ]
  },
  {
   "cell_type": "code",
   "execution_count": 5,
   "metadata": {
    "collapsed": true
   },
   "outputs": [],
   "source": [
    "from pyquery import PyQuery as pq\n",
    "import urllib2\n",
    "import requests\n",
    "import pandas as pd\n",
    "import re\n",
    "import time\n",
    "import numpy as np\n",
    "import json\n",
    "import matplotlib.pyplot as plt\n",
    "from time import sleep\n",
    "pd.set_option('display.width', 500)\n",
    "pd.set_option('display.max_columns', 100)\n",
    "pd.set_option('display.notebook_repr_html', True)\n",
    "import seaborn as sns\n",
    "sns.set_style(\"white\")\n",
    "sns.set_context(\"notebook\")\n",
    "from sklearn.ensemble import RandomForestClassifier\n",
    "%matplotlib inline"
   ]
  },
  {
   "cell_type": "markdown",
   "metadata": {},
   "source": [
    "## With a very simple dataset"
   ]
  },
  {
   "cell_type": "markdown",
   "metadata": {},
   "source": [
    "### Load dataset and make variables categorical"
   ]
  },
  {
   "cell_type": "code",
   "execution_count": 6,
   "metadata": {
    "collapsed": false
   },
   "outputs": [
    {
     "name": "stderr",
     "output_type": "stream",
     "text": [
      "/Users/sidravinutala1/anaconda/lib/python2.7/site-packages/IPython/kernel/__main__.py:11: SettingWithCopyWarning: \n",
      "A value is trying to be set on a copy of a slice from a DataFrame\n",
      "\n",
      "See the the caveats in the documentation: http://pandas.pydata.org/pandas-docs/stable/indexing.html#indexing-view-versus-copy\n"
     ]
    }
   ],
   "source": [
    "candidates = pd.read_csv('../candidates.csv')   \n",
    "test_size = 0.2\n",
    "train_size = 0.8\n",
    "\n",
    "candidates.Party = candidates['Party'].astype('category')\n",
    "candidates.Constituency = candidates['Constituency'].astype('category')\n",
    "candidates.State = candidates['State'].astype('category')\n",
    "candidates.Education = candidates['Education'].astype('category')\n",
    "candidates.Assets_Rs = candidates.Assets_Rs.convert_objects(convert_numeric=True)\n",
    "## Some null values in Assets that needed to be cleaned up\n",
    "candidates.Assets_Rs[candidates.Assets_Rs.isnull()] = 0\n",
    "\n",
    "candidates.Constituency = candidates.Constituency.cat.rename_categories(range(0,len(candidates.Constituency.unique())))\n",
    "candidates.Party = candidates.Party.cat.rename_categories(range(0,len(candidates.Party.unique())))\n",
    "candidates.State = candidates.State.cat.rename_categories(range(0,len(candidates.State.unique())))\n",
    "candidates.Education = candidates.Education.cat.rename_categories(range(0,len(candidates.Education.unique())))"
   ]
  },
  {
   "cell_type": "markdown",
   "metadata": {},
   "source": [
    "###Create test and train set"
   ]
  },
  {
   "cell_type": "code",
   "execution_count": 7,
   "metadata": {
    "collapsed": true
   },
   "outputs": [],
   "source": [
    "test_index=np.random.choice(range(candidates.count()[0]), size=0.2*candidates.count()[0], replace=False)\n",
    "test_mask = candidates.index.isin(list(test_index))\n",
    "\n",
    "test_df = candidates[test_mask]\n",
    "train_df = candidates[~test_mask]\n",
    "\n",
    "cols = list(train_df.columns)\n",
    "cols.remove('Winner')\n",
    "\n",
    "train_other = train_df[['Age', 'Constituency', 'Criminal_Cases', 'Assets_Rs',\n",
    "                                  'Education', 'Liabilities_Rs', 'Party', 'State']]\n",
    "test_other = test_df[['Age', 'Constituency', 'Criminal_Cases', 'Assets_Rs',\n",
    "                                  'Education', 'Liabilities_Rs', 'Party', 'State']]"
   ]
  },
  {
   "cell_type": "markdown",
   "metadata": {},
   "source": [
    "###A poor effort at balancing - creating weights"
   ]
  },
  {
   "cell_type": "code",
   "execution_count": 8,
   "metadata": {
    "collapsed": false
   },
   "outputs": [
    {
     "name": "stdout",
     "output_type": "stream",
     "text": [
      "[0.9153383851580873, 0.08466161484191273]\n"
     ]
    }
   ],
   "source": [
    "weight = [0,0]\n",
    "number_of_wins = train_df.Winner[train_df.Winner == 1].count()\n",
    "weight[1] = float(number_of_wins)/train_df.Winner.count()\n",
    "weight[0] = 1.0-weight[1]\n",
    "\n",
    "print weight\n",
    "\n",
    "sample_weights = np.array(train_df.Winner.apply(lambda x: weight[x]))\n",
    "#candidates.isnull()"
   ]
  },
  {
   "cell_type": "markdown",
   "metadata": {},
   "source": [
    "###Running a random forest classfier"
   ]
  },
  {
   "cell_type": "code",
   "execution_count": 9,
   "metadata": {
    "collapsed": true
   },
   "outputs": [],
   "source": [
    "rf = RandomForestClassifier(n_estimators=100)\n",
    "rf.fit(train_other, train_df.Winner,sample_weight=sample_weights )\n",
    "out = rf.predict(test_other)\n",
    "all_zeroes = [0]*len(out)"
   ]
  },
  {
   "cell_type": "markdown",
   "metadata": {},
   "source": [
    "###How did we do?"
   ]
  },
  {
   "cell_type": "code",
   "execution_count": 11,
   "metadata": {
    "collapsed": false
   },
   "outputs": [
    {
     "name": "stdout",
     "output_type": "stream",
     "text": [
      "If you guessed all as losing: 0.964715107162\n",
      "Current model: 0.929952953476\n",
      "Confusion matrix [0,1],[0,1]: [[3485, 206], [62, 73]]\n"
     ]
    }
   ],
   "source": [
    "conf = [[0,0],[0,0]]\n",
    "for i,x in enumerate(out):\n",
    "    if x == 1:\n",
    "        if test_df.Winner.iloc[i] == 1:\n",
    "            conf[1][1] += 1\n",
    "        if test_df.Winner.iloc[i] == 0:\n",
    "            conf[1][0] += 1\n",
    "    if x == 0:\n",
    "        if test_df.Winner.iloc[i] == 1:\n",
    "            conf[0][1] += 1\n",
    "        if test_df.Winner.iloc[i] == 0:\n",
    "            conf[0][0] += 1            \n",
    "\n",
    "print \"If you guessed all as losing: %s\" % rf.score(test_other, all_zeroes)\n",
    "print \"Current model: %s\" % rf.score(test_other, test_df.Winner)\n",
    "\n",
    "print \"Confusion matrix [0,1],[0,1]: %s\" % conf"
   ]
  },
  {
   "cell_type": "code",
   "execution_count": null,
   "metadata": {
    "collapsed": true
   },
   "outputs": [],
   "source": []
  }
 ],
 "metadata": {
  "kernelspec": {
   "display_name": "Python 2",
   "language": "python",
   "name": "python2"
  },
  "language_info": {
   "codemirror_mode": {
    "name": "ipython",
    "version": 2
   },
   "file_extension": ".py",
   "mimetype": "text/x-python",
   "name": "python",
   "nbconvert_exporter": "python",
   "pygments_lexer": "ipython2",
   "version": "2.7.10"
  }
 },
 "nbformat": 4,
 "nbformat_minor": 0
}

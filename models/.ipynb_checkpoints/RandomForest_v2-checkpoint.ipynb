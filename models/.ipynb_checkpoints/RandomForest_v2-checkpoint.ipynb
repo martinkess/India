{
 "cells": [
  {
   "cell_type": "markdown",
   "metadata": {},
   "source": [
    "# Random Forests Model\n",
    "\n",
    "The one uses the basic model and splits the test and training set by:\n",
    "* Year\n",
    "* Entire constituencies"
   ]
  },
  {
   "cell_type": "code",
   "execution_count": 79,
   "metadata": {
    "collapsed": true
   },
   "outputs": [],
   "source": [
    "from pyquery import PyQuery as pq\n",
    "import urllib2\n",
    "import requests\n",
    "import pandas as pd\n",
    "import re\n",
    "import time\n",
    "import numpy as np\n",
    "import json\n",
    "import matplotlib.pyplot as plt\n",
    "from time import sleep\n",
    "pd.set_option('display.width', 1000)\n",
    "pd.set_option('display.max_columns', 400)\n",
    "pd.set_option('display.notebook_repr_html', True)\n",
    "import seaborn as sns\n",
    "sns.set_style(\"white\")\n",
    "sns.set_context(\"notebook\")\n",
    "from sklearn.ensemble import RandomForestClassifier\n",
    "%matplotlib inline\n",
    "\n",
    "from sklearn.metrics import roc_curve, auc\n",
    "from scipy import interp"
   ]
  },
  {
   "cell_type": "markdown",
   "metadata": {},
   "source": [
    "### Load dataset and make variables categorical"
   ]
  },
  {
   "cell_type": "code",
   "execution_count": 80,
   "metadata": {
    "collapsed": true
   },
   "outputs": [],
   "source": [
    "ls_2014 = \"http://myneta.info/ls2014/index.php?action=show_winners&sort=default\"\n",
    "ls_2009 = \"http://myneta.info/ls2009/index.php?action=show_winners&sort=default\"\n",
    "ls_2004 = \"http://myneta.info/loksabha2004/index.php?action=show_winners&sort=default\"\n",
    "base_2014 = \"http://myneta.info/ls2014/\"\n",
    "base_2009 = \"http://myneta.info/ls2009/\"\n",
    "base_2004 = \"http://myneta.info/loksabha2004/\"\n",
    "\n",
    "url_list={'2004':ls_2004,'2009':ls_2009,'2014':ls_2014}\n",
    "base_urls = {'2004':base_2004,'2009':base_2009,'2014':base_2014}"
   ]
  },
  {
   "cell_type": "code",
   "execution_count": 81,
   "metadata": {
    "collapsed": false
   },
   "outputs": [
    {
     "name": "stderr",
     "output_type": "stream",
     "text": [
      "/Users/sidravinutala1/anaconda/lib/python2.7/site-packages/IPython/kernel/__main__.py:9: FutureWarning: convert_objects is deprecated.  Use the data-type specific converters pd.to_datetime, pd.to_timedelta and pd.to_numeric.\n"
     ]
    }
   ],
   "source": [
    "candidates = pd.read_csv('../candidates.csv')   \n",
    "test_size = 0.2\n",
    "train_size = 0.8\n",
    "\n",
    "candidates.Party = candidates['Party'].astype('category')\n",
    "candidates.Constituency = candidates['Constituency'].astype('category')\n",
    "candidates.State = candidates['State'].astype('category')\n",
    "candidates.Education = candidates['Education'].astype('category')\n",
    "candidates.Assets_Rs = candidates.Assets_Rs.convert_objects(convert_numeric=True)\n",
    "## Some null values in Assets that needed to be cleaned up\n",
    "candidates.loc[candidates.Assets_Rs.isnull(),'Assets_Rs'] = 0\n",
    "\n",
    "candidates.Constituency = candidates.Constituency.cat.rename_categories(range(0,len(candidates.Constituency.unique())))\n",
    "candidates.Party = candidates.Party.cat.rename_categories(range(0,len(candidates.Party.unique())))\n",
    "candidates.State = candidates.State.cat.rename_categories(range(0,len(candidates.State.unique())))\n",
    "candidates.Education = candidates.Education.cat.rename_categories(range(0,len(candidates.Education.unique())))\n",
    "\n",
    "\n"
   ]
  },
  {
   "cell_type": "markdown",
   "metadata": {},
   "source": [
    "Merging 'Type of Crime'"
   ]
  },
  {
   "cell_type": "code",
   "execution_count": 82,
   "metadata": {
    "collapsed": false
   },
   "outputs": [],
   "source": [
    "crim_data = pd.read_csv('../criminal_record.csv')\n",
    "\n",
    "gby_type = crim_data.groupby(['url','type']).count()\n",
    "gby_type = gby_type.reset_index()\n",
    "gby_type_piv = gby_type.pivot(index='url',columns='type',values='IPC_sections')\n",
    "candidates['full_link'] = candidates.Year.apply(lambda x: base_urls[str(x)]) + candidates.Link\n",
    "\n",
    "candidates = candidates.merge(gby_type_piv, how='left', left_on='full_link', right_index=True)\n",
    "candidates.loc[candidates.Cogniz.isnull(),'Cogniz'] = 0\n",
    "candidates.loc[candidates.Framed.isnull(),'Framed'] = 0\n",
    "candidates.loc[candidates.Convict.isnull(),'Convict'] = 0"
   ]
  },
  {
   "cell_type": "markdown",
   "metadata": {},
   "source": [
    "Incorporating incumbency"
   ]
  },
  {
   "cell_type": "code",
   "execution_count": 83,
   "metadata": {
    "collapsed": true
   },
   "outputs": [],
   "source": [
    "def find_year(yr_string):\n",
    "    found = re.findall(r'\\d+',yr_string)\n",
    "    if len(found):\n",
    "        return found[0]\n",
    "    else :\n",
    "        return \"0\""
   ]
  },
  {
   "cell_type": "code",
   "execution_count": 88,
   "metadata": {
    "collapsed": false
   },
   "outputs": [],
   "source": [
    "multi_elect = pd.read_csv('../multiple_elections.csv')\n",
    "multi_elect['year'] = multi_elect.elec_link.apply(lambda x: find_year(x.split('/')[3]))\n",
    "#print multi_elect.head(3)\n",
    "\n",
    "\n",
    "prev_list = []\n",
    "for link, df in multi_elect.groupby('common_link'):\n",
    "        df.ite = df.sort_values('year')\n",
    "        prev_elec = {'common_link':link}\n",
    "        for x,y in df[['elec_link','year']].iteritems():                    \n",
    "            prev_elec[x] = list(y)\n",
    "        win = []\n",
    "        for y in prev_elec['elec_link']:\n",
    "            winner = candidates.loc[candidates.full_link == y, 'Winner']\n",
    "            if len(winner > 0):\n",
    "                win.append(int(winner.iloc[0]))\n",
    "            else :\n",
    "                win.append(0)\n",
    "        prev_elec['win'] = win\n",
    "        prev_list.append(prev_elec)"
   ]
  },
  {
   "cell_type": "markdown",
   "metadata": {},
   "source": [
    "Following take a while to run. You may want to load the csv file instead."
   ]
  },
  {
   "cell_type": "code",
   "execution_count": null,
   "metadata": {
    "collapsed": false
   },
   "outputs": [],
   "source": [
    "# Adding recent race information\n",
    "\n",
    "def greater_years(year):\n",
    "    year_list = []\n",
    "    year_int = int(year)\n",
    "    for y in d['year']:\n",
    "        if int(y) < year_int:\n",
    "            year_list.append(y)\n",
    "    return len(year_list)\n",
    "\n",
    "def recent_years(year):\n",
    "    year_list = []\n",
    "    y_small = 0\n",
    "    year_int = int(year)\n",
    "    for y in d['year']:\n",
    "        y_int = int(y)\n",
    "        if (y_int < year_int) and (y_int > y_small) :\n",
    "            y_small = y_int\n",
    "    return (year_int - y_small)\n",
    "\n",
    "def total_wins(year):\n",
    "    win_list = []\n",
    "    year_int = int(year)\n",
    "    for i,y in enumerate(d['year']):\n",
    "        if int(y) < year_int:\n",
    "            win_list.append(d['win'][i])\n",
    "    return np.sum(win_list)\n",
    "    \n",
    "for d in prev_list:\n",
    "    for i,link in enumerate(d['elec_link']):\n",
    "        candidates.loc[candidates.full_link == link, 'Other_years'] = str(d['year'])\n",
    "        candidates.loc[candidates.full_link == link, 'Total_Wins'] = candidates.Year.apply(total_wins)\n",
    "        candidates.loc[candidates.full_link == link, 'History'] = candidates.Year.apply(greater_years)\n",
    "        candidates.loc[candidates.full_link == link, 'Years_since'] = candidates.Year.apply(recent_years)\n",
    "        candidates.loc[candidates.full_link == link, 'Incumbent'] = candidates.Years_since.apply(lambda x: (x<=5) and (x>0))\n",
    "        candidates.loc[candidates.full_link == link, 'Other_elec'] = len(d['year'])\n",
    "        candidates.loc[candidates.full_link == link, 'Common_link'] = d['common_link']\n",
    "\n",
    "candidates.head(3)"
   ]
  },
  {
   "cell_type": "markdown",
   "metadata": {},
   "source": [
    "Following code saves/loads the CSV, you can just start from here"
   ]
  },
  {
   "cell_type": "code",
   "execution_count": null,
   "metadata": {
    "collapsed": true
   },
   "outputs": [],
   "source": [
    "candidates.to_csv('../candidates_incumbency_crim.csv')"
   ]
  },
  {
   "cell_type": "code",
   "execution_count": null,
   "metadata": {
    "collapsed": true
   },
   "outputs": [],
   "source": [
    "candidates = pd.read_csv('../candidates_incumbency_crim.csv')"
   ]
  },
  {
   "cell_type": "markdown",
   "metadata": {},
   "source": [
    "Merging 'Code of Crime'"
   ]
  },
  {
   "cell_type": "code",
   "execution_count": null,
   "metadata": {
    "collapsed": false
   },
   "outputs": [],
   "source": [
    "def concat_IPC(IPC):\n",
    "    list = []\n",
    "    for x in IPC:\n",
    "        list = list + x.strip('[').strip(']').split(', ')\n",
    "    return list\n",
    "\n",
    "IPCs = crim_data[['url','IPC_sections']].groupby('url').agg(concat_IPC)\n",
    "IPCs.head(3)"
   ]
  },
  {
   "cell_type": "code",
   "execution_count": null,
   "metadata": {
    "collapsed": false
   },
   "outputs": [],
   "source": [
    "# Collect all the lists\n",
    "y=[]\n",
    "for x in crim_data.IPC_sections:\n",
    "    x = x.strip('[').strip(']').split(', ')\n",
    "    type(y)\n",
    "    y = y + x\n",
    "\n",
    "# Get a set of unique codes\n",
    "z=[]\n",
    "for code in y:\n",
    "    if len(code) > 0:\n",
    "        z.append(code)\n",
    "unique_codes = list(set(z))\n",
    "\n",
    "for col in unique_codes:\n",
    "    IPCs[col] = IPCs.IPC_sections.apply(lambda x: int(col in x))\n",
    "\n",
    "candidates = candidates.merge(IPCs,how='left',left_on='full_link',right_index=True)"
   ]
  },
  {
   "cell_type": "code",
   "execution_count": null,
   "metadata": {
    "collapsed": false
   },
   "outputs": [],
   "source": [
    "for cols in candidates.columns:\n",
    "    candidates.loc[candidates[cols].isnull(),cols] = 0"
   ]
  },
  {
   "cell_type": "markdown",
   "metadata": {},
   "source": [
    "Save/Load the final dataset"
   ]
  },
  {
   "cell_type": "code",
   "execution_count": null,
   "metadata": {
    "collapsed": true
   },
   "outputs": [],
   "source": [
    "candidates.to_csv('../candidates_final.csv')"
   ]
  },
  {
   "cell_type": "code",
   "execution_count": null,
   "metadata": {
    "collapsed": true
   },
   "outputs": [],
   "source": [
    "candidates = pd.read_csv('../candidates_incumbency_crim.csv')"
   ]
  },
  {
   "cell_type": "markdown",
   "metadata": {},
   "source": [
    "## 1. With a very simple dataset"
   ]
  },
  {
   "cell_type": "markdown",
   "metadata": {},
   "source": [
    "###Create test and train set"
   ]
  },
  {
   "cell_type": "code",
   "execution_count": 71,
   "metadata": {
    "collapsed": false
   },
   "outputs": [],
   "source": [
    "def gen_test_train(df, RATIO, TYPE):\n",
    "\n",
    "    if TYPE == 'YEAR':\n",
    "        train_df = df[df.Year.isin([2009,2004])]\n",
    "        test_df = df[df.Year == 2014]\n",
    "        print \"Using 'YEAR' split\"\n",
    "    \n",
    "    elif TYPE == 'CONST':\n",
    "        print \"Using 'CONSTITUENCY' split\"\n",
    "        df['year_const'] = df.Year.apply(str) + df.Constituency.apply(str)\n",
    "        all_year_const = df.year_const.drop_duplicates()\n",
    "        test_index=np.random.choice(all_year_const, size=RATIO*all_year_const.count(), replace=False)\n",
    "\n",
    "        train_df = df[~df.year_const.isin(test_index)]\n",
    "        test_df = df[df.year_const.isin(test_index)]\n",
    "    \n",
    "    else:\n",
    "        test_index=np.random.choice(range(df.count()[0]), size=RATIO*df.count()[0], replace=False)\n",
    "        test_mask = df.index.isin(list(test_index))\n",
    "        test_df = df[test_mask]\n",
    "        train_df = df[~test_mask]\n",
    "    \n",
    "    print \"Train set: %s, Test set: %s\" % (train_df.count()[0], test_df.count()[0])\n",
    "    \n",
    "    cols = ['Age', 'Constituency', 'Criminal_Cases', 'Assets_Rs','Year',\n",
    "                                  'Education', 'Liabilities_Rs', 'Party', 'State','Cogniz','Convict','Framed',\n",
    "                                  'Total_Wins','History','Years_since','Incumbent']\n",
    "                       \n",
    "                       \n",
    "#     cols = list(train_df.columns)\n",
    "#     cols.remove('Winner')\n",
    "#     cols.remove('Unnamed: 0')\n",
    "#     cols.remove('IPC_sections')\n",
    "#     cols.remove('full_link')    \n",
    "#     cols.remove('Name')\n",
    "#     cols.remove('Link')\n",
    "    \n",
    "    X_train = train_df[cols]\n",
    "    X_test = test_df[cols]\n",
    "\n",
    "    Y_train = train_df.Winner\n",
    "    Y_test = test_df.Winner\n",
    "    \n",
    "    return X_train, Y_train, X_test, Y_test\n",
    "   "
   ]
  },
  {
   "cell_type": "markdown",
   "metadata": {},
   "source": [
    "###A poor effort at balancing - creating weights"
   ]
  },
  {
   "cell_type": "code",
   "execution_count": 9,
   "metadata": {
    "collapsed": false
   },
   "outputs": [],
   "source": [
    "def generate_weights(Y, X_train):\n",
    "    \n",
    "    weight = [0,0]\n",
    "    number_of_wins = np.sum(Y)\n",
    "    weight[1] = float(number_of_wins)/len(Y)\n",
    "    weight[0] = 1.0-weight[1]\n",
    "    \n",
    "    sample_weights = [weight[x] for x in Y]\n",
    "    \n",
    "    return np.array(sample_weights)\n"
   ]
  },
  {
   "cell_type": "markdown",
   "metadata": {},
   "source": [
    "###Define a few functions for a random forest classfier"
   ]
  },
  {
   "cell_type": "code",
   "execution_count": 65,
   "metadata": {
    "collapsed": false
   },
   "outputs": [],
   "source": [
    "def run_rforest(x_train, y_train, x_test, y_test, weight, est_type, n_est=100):\n",
    "    \n",
    "    rf = RandomForestClassifier(n_estimators=n_est)\n",
    "    rf.fit(x_train, y_train, sample_weight=weight)\n",
    "\n",
    "    prob = [x[1] for x in rf.predict_proba(x_test)]\n",
    "    x_test_cp = x_test.copy()\n",
    "    x_test_cp['y_hat'] = prob\n",
    "    x_test_cp['y'] = y_test\n",
    "    all_dfs = []\n",
    "    if (est_type == 'YEAR') or (est_type == 'CONST'):\n",
    "        big_df = pd.DataFrame()\n",
    "        for const, df in x_test_cp.groupby('Constituency'):\n",
    "            df = df.sort_values(['y_hat'],ascending=False)\n",
    "            if len(df) > 0 :\n",
    "                df['out'] = [0] * len(df)\n",
    "                df.out.iloc[0] = 1\n",
    "                if len(df) > 1:\n",
    "                    df.out.iloc[1] = 2\n",
    "                df = df.reset_index()\n",
    "                all_dfs.append(df)\n",
    "        big_df = pd.concat(all_dfs)\n",
    "        return rf, big_df.out, big_df.y\n",
    "    else:\n",
    "        y_hat = []\n",
    "        for val in prob:\n",
    "            if val > est_type:\n",
    "                y_hat.append(1)\n",
    "            else:\n",
    "                y_hat.append(0)\n",
    "        return rf, y_hat, y_test\n",
    "        \n"
   ]
  },
  {
   "cell_type": "code",
   "execution_count": 66,
   "metadata": {
    "collapsed": true
   },
   "outputs": [],
   "source": [
    "def confusion_matrix(y_hat, y, val=[1]):\n",
    "    y_hat = list(y_hat)\n",
    "    y = list(y)\n",
    "    conf = [[0,0],[0,0]]\n",
    "    score = 0.0\n",
    "    for i,x in enumerate(y_hat):\n",
    "        if x in val :\n",
    "            if y[i] == 1:\n",
    "                conf[1][1] += 1\n",
    "                score += 1\n",
    "            if y[i] == 0:\n",
    "                conf[0][1] += 1\n",
    "        if x not in val:\n",
    "            if y[i] == 1:\n",
    "                conf[1][0] += 1\n",
    "            if y[i] == 0:\n",
    "                conf[0][0] += 1    \n",
    "                score += 1\n",
    "    return conf, score/len(y_hat)"
   ]
  },
  {
   "cell_type": "code",
   "execution_count": 67,
   "metadata": {
    "collapsed": false
   },
   "outputs": [],
   "source": [
    "def make_roc(clf, testset, y, save=False, ax=False):\n",
    "    probas_ = clf.predict_proba(testset)\n",
    "    # Compute ROC curve and area the curve\n",
    "    fpr, tpr, thresholds = roc_curve(y, probas_[:, 1])\n",
    "    roc_auc = auc(fpr, tpr)\n",
    "\n",
    "    plt.figure(figsize=(10,8))\n",
    "    if not(ax):\n",
    "        ax = plt.axes()\n",
    "        \n",
    "    ax.plot(fpr, tpr, lw=2, label='RF (area = %0.2f)' % (roc_auc))\n",
    "    ax.plot([0,1],[0,1],ls='--')\n",
    "    ax.legend(loc=0)\n",
    "\n",
    "    if save :\n",
    "        plt.savefig('roc_rf1.png', format='png')\n",
    "    \n",
    "    return ax"
   ]
  },
  {
   "cell_type": "markdown",
   "metadata": {},
   "source": [
    "###Run the functions above splitting training and test sets by constituency"
   ]
  },
  {
   "cell_type": "code",
   "execution_count": 68,
   "metadata": {
    "collapsed": false
   },
   "outputs": [
    {
     "name": "stdout",
     "output_type": "stream",
     "text": [
      "Using 'CONSTITUENCY' split\n",
      "Train set: 15400, Test set: 3734\n",
      "If you guessed all as losing: 0.915640064274\n",
      "Current model: 0.925549009106\n",
      "Confusion matrix [0,1],[0,1]: [[3282, 137], [141, 174]]\n"
     ]
    },
    {
     "data": {
      "image/png": "[encoded data removed]",
      "text/plain": [
       "<matplotlib.figure.Figure at 0x10de2f4d0>"
      ]
     },
     "metadata": {},
     "output_type": "display_data"
    }
   ],
   "source": [
    "# get dataset\n",
    "X_train, Y_train, X_test, Y_test = gen_test_train(candidates, 0.2, 'CONST')\n",
    "weights = generate_weights(Y_train, X_train)\n",
    "(rf, Y_hat, Y) = run_rforest(X_train, Y_train, X_test, Y_test, weights, 'CONST', n_est=100)\n",
    "conf, score = confusion_matrix(Y_hat, Y)\n",
    "all_zeroes = [0]*len(Y_hat)\n",
    "\n",
    "print \"If you guessed all as losing: %s\" % (1.0 - float(np.sum(Y_test))/len(Y_test))\n",
    "print \"Current model: %s\" % score\n",
    "print \"Confusion matrix [0,1],[0,1]: %s\" % conf\n",
    "\n",
    "ax = make_roc(rf, X_test, Y_test, save=False)"
   ]
  },
  {
   "cell_type": "markdown",
   "metadata": {},
   "source": [
    "### Now run by splitting by year"
   ]
  },
  {
   "cell_type": "code",
   "execution_count": 69,
   "metadata": {
    "collapsed": false
   },
   "outputs": [
    {
     "name": "stdout",
     "output_type": "stream",
     "text": [
      "Using 'YEAR' split\n",
      "Train set: 10930, Test set: 8204\n",
      "If you guessed all as losing: 0.933934666017\n",
      "Current model: 0.911262798635\n",
      "Confusion matrix [0,1],[0,1]: [[7299, 363], [365, 177]]\n"
     ]
    },
    {
     "data": {
      "text/plain": [
       "<matplotlib.axes._subplots.AxesSubplot at 0x10de82e10>"
      ]
     },
     "execution_count": 69,
     "metadata": {},
     "output_type": "execute_result"
    },
    {
     "data": {
      "image/png": "[encoded data removed]",
      "text/plain": [
       "<matplotlib.figure.Figure at 0x10b995690>"
      ]
     },
     "metadata": {},
     "output_type": "display_data"
    }
   ],
   "source": [
    "# get dataset\n",
    "X_train, Y_train, X_test, Y_test = gen_test_train(candidates, 0.2, 'YEAR')\n",
    "weights = generate_weights(Y_train, X_train)\n",
    "(rf, Y_hat, Y) = run_rforest(X_train, Y_train, X_test, Y_test, weights, 'YEAR', n_est=100)\n",
    "conf, score = confusion_matrix(Y_hat, Y)\n",
    "all_zeroes = [0]*len(Y_hat)\n",
    "\n",
    "print \"If you guessed all as losing: %s\" % (1.0 - float(np.sum(Y_test))/len(Y_test))\n",
    "print \"Current model: %s\" % score\n",
    "print \"Confusion matrix [0,1],[0,1]: %s\" % conf\n",
    "\n",
    "make_roc(rf, X_test, Y_test, save=False)"
   ]
  },
  {
   "cell_type": "markdown",
   "metadata": {},
   "source": [
    "### Finally, the 'classic' version ###"
   ]
  },
  {
   "cell_type": "code",
   "execution_count": 70,
   "metadata": {
    "collapsed": false
   },
   "outputs": [
    {
     "name": "stdout",
     "output_type": "stream",
     "text": [
      "Train set: 15308, Test set: 3826\n",
      "If you guessed all as losing: 0.91819132253\n",
      "Current model: 0.933873497125\n",
      "Confusion matrix [0,1],[0,1]: [[3475, 38], [215, 98]]\n"
     ]
    },
    {
     "data": {
      "text/plain": [
       "<matplotlib.axes._subplots.AxesSubplot at 0x10de8cb10>"
      ]
     },
     "execution_count": 70,
     "metadata": {},
     "output_type": "execute_result"
    },
    {
     "data": {
      "image/png": "[encoded data removed]",
      "text/plain": [
       "<matplotlib.figure.Figure at 0x10b2ea450>"
      ]
     },
     "metadata": {},
     "output_type": "display_data"
    }
   ],
   "source": [
    "# get dataset\n",
    "X_train, Y_train, X_test, Y_test = gen_test_train(candidates, 0.2, 0.40)\n",
    "weights = generate_weights(Y_train, X_train)\n",
    "(rf, Y_hat, Y) = run_rforest(X_train, Y_train, X_test, Y_test, weights, 0.40, n_est=100)\n",
    "conf, score = confusion_matrix(Y_hat, Y, val=[1,2])\n",
    "all_zeroes = [0]*len(Y_hat)\n",
    "\n",
    "print \"If you guessed all as losing: %s\" % (1.0 - float(np.sum(Y_test))/len(Y_test))\n",
    "print \"Current model: %s\" % score\n",
    "print \"Confusion matrix [0,1],[0,1]: %s\" % conf\n",
    "\n",
    "make_roc(rf, X_test, Y_test, save=False)"
   ]
  },
  {
   "cell_type": "code",
   "execution_count": null,
   "metadata": {
    "collapsed": true
   },
   "outputs": [],
   "source": []
  }
 ],
 "metadata": {
  "kernelspec": {
   "display_name": "Python 2",
   "language": "python",
   "name": "python2"
  },
  "language_info": {
   "codemirror_mode": {
    "name": "ipython",
    "version": 2
   },
   "file_extension": ".py",
   "mimetype": "text/x-python",
   "name": "python",
   "nbconvert_exporter": "python",
   "pygments_lexer": "ipython2",
   "version": "2.7.10"
  }
 },
 "nbformat": 4,
 "nbformat_minor": 0
}

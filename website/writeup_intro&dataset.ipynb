{
 "cells": [
  {
   "cell_type": "markdown",
   "metadata": {},
   "source": [
    "## 1.  Introduction and motivation ##\n",
    "\n",
    "India is often ranked as one of the countries with a very high level of corruption. This has consequences for the trust in the largest democracy of the world, but also at a more basic level, despite its recent economic successes, the perception of India as a complex and corrupt environment has limited investment and productivity growth. For example, according to a survey in 2014, 35% of firms were quoting corruption as the major constraint for doing business (World Bank, 2014). It is ranked 93rd country in the world in the probability of being forced to make irregular payments or bribes in the widely used World Economic Forum ranking.\n",
    "\n",
    "Corruption at the \"bottom\" (think policemen asking for a bribe to forego a driving offence) is often most criticized: a consultancy even ranked India as having \"the worst bureaucrats in Asia\" (Forbes). But powerful politicians, or \"Babu\", are also often in the middle of major scandals. Colorful character and thriller-like storylines are often in coverpages of newspapers: in the summer of 2015, about 40 people died in \"mysterious circumstances\" because they were linked to scam implicating the Chief Minister of the State of Madhya Pradesh. \n",
    "\n",
    "But beyond anecdotes, can we measure the real cost of corruption? India's transparency laws have helped making progress on that: since the early 2000s, candidates at the legislative elections both at the national and state levels are required to submit affidavits detailing their assets and the criminal cases existing against them. This allowed to see that among representatives in the National Assembly (Lok Sabha), about 34% have criminal cases against them. There is a long economic literature on the causes and consequences of corruption in developing countries in general and India in particular.\n",
    "\n",
    "Our inspiration comes in particular from Fisman, Schultz and Vig: they measure the asset growth of politicians in races to the state assemblies who win by a tight margin. Considering a tight election as a \"random treatment\", they show that winning an election leads to a 3-6 percentage point faster asset growth. Other studies have looked at the chance of selecting politicians with a criminal record (sometimes serious, such as murder and rape) given information on corruption, etc.\n",
    "\n",
    "Our goal in this exercise has been more modest. We scrape the affidavits dataset and use it to try to predict election wins and the resulting asset growth. We also had the intention of innovating by describing the *composition of asset growth*, especially looking at the firms owned by politicians. Do they make more profit after they owner is elected? It would be a convinving evidence of illegal transfers of wealth. But on this count, the quality of the data was not as good as we expected. So we settled on two questions:\n",
    "\n",
    "- Can one predict the elections results based on a set of observables variables?\n",
    "- What is the return of winning an election on net assets?\n",
    "\n",
    "In the following parts, we start by describing the data used and the scraping work, which was extensive. We then show salient descriptive statistics linking corruption, politics and assets of politicians at the national and state level. We then document the results of our models, where we predicted election results, and conclude by our plans for further work."
   ]
  },
  {
   "cell_type": "markdown",
   "metadata": {},
   "source": [
    "## 2. The Dataset ##\n",
    "\n",
    "Since the \"Right to Information Act\" was passed in 2005, candidates to national and state level representatives elections are required to submit affidavits to the Electoral Commission of India (ECI) detailing their assets (land, real estate, bank accounts, jewelry, shares and bonds, etc.), their criminal record and those of their family. These data were digitized and put online by the Association for Democratic Reform (ADR). This yields a very rich set of information on about 40000 candidates, both those who have been elected and those who ran and have not been elected.\n",
    "\n",
    "Our initial intention was to integrate another dataset called 'Prowess', produced by a consulting company in India and avaialbale at the Harvard Business School, which has information on the perfomance of firms: profit, investment, number of employees, etc. as well as stock price for the publicly traded companies. But we quickly realized that the matching would be very hard, and could not be done in the intended time frame.\n",
    "\n",
    "Other data we used are state-level information to correlate with level of education of different states, etc.\n",
    "\n",
    "We scraped for 3 elections at the national level: 2005, 2009 and 2014 (about 19000 candidates for the 3 waves); and we also took all the possible information for elections at the state assemblies in their latest years (2012-2015), yielding information for about 37000 individuals. \n",
    "\n",
    "The scraping procedure was long and turned out to be a major part of our project. Each politician has a page containing information on:\n",
    "- Personal information: address, age, education, profession\n",
    "- Criminal record: about 34% of MPs declare a criminal case, but only 17% of the candidates do. We collect the number of cases, but also their nature: each crime category is described (from murder to petty offences), as well as whether this is just an accusation, or whether the person has been convicted. We try to huge this very rich source of information.\n",
    "- Asset holdings: we have access to asset description at a highly detailed leved. This information is avaiable for the household of the individual, which means that we group together self holdings, spouse holdings and dependents (it is a well known technique to \"hide\" assets in one's wife's (or husband's) bank account, so we can observe that. But note that if someone \"gives\" assets to a sibling, it will not be observed).   We know what are the \"movable assets\": cash, bank accounts (with detailed on each bank account), shares and bonds. However, on this category, the description of each amount is not standardized enough to be linked to other databases. We also have \"immovable assets\" (real estate, land, etc.).\n",
    "- Income: this is available only recently, and for a subset of candidates, so we decided against using it.\n",
    "\n",
    "One problem that we ran into is that candidates' pages are not linked across time: if someone runs once and loses, and then runs again, s/he is observed as two different individuals. If s/he wins, however, a page linking different information is created, which means that we can describe the gain in assets for elected members, but not for losers. This is a problem, because we would like to do the matching for all and compare the asset increase. And note that Indian names are transcribed in a irregular way (even names of districts are transcribed differently across years), so matching has not been possible. We did the most to end up with a usable, consistent dataset, both for the elections at the Lok Sabha in 2005, 2009 and 2014. For state level data, repeat information was harder to find, but we end up with 3000 individuals for whom we are able to measure asset increases.\n",
    "\n"
   ]
  },
  {
   "cell_type": "code",
   "execution_count": null,
   "metadata": {
    "collapsed": true
   },
   "outputs": [],
   "source": []
  }
 ],
 "metadata": {
  "kernelspec": {
   "display_name": "Python 2",
   "language": "python",
   "name": "python2"
  },
  "language_info": {
   "codemirror_mode": {
    "name": "ipython",
    "version": 2
   },
   "file_extension": ".py",
   "mimetype": "text/x-python",
   "name": "python",
   "nbconvert_exporter": "python",
   "pygments_lexer": "ipython2",
   "version": "2.7.10"
  }
 },
 "nbformat": 4,
 "nbformat_minor": 0
}

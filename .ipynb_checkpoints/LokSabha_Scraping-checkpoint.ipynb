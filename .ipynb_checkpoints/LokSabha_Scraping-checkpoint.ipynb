{
 "cells": [
  {
   "cell_type": "code",
   "execution_count": 1,
   "metadata": {
    "collapsed": true
   },
   "outputs": [],
   "source": [
    "from bs4 import BeautifulSoup\n",
    "import urllib2\n",
    "import requests"
   ]
  },
  {
   "cell_type": "code",
   "execution_count": 3,
   "metadata": {
    "collapsed": false
   },
   "outputs": [],
   "source": [
    "source=requests.get('http://myneta.info/ls2014/index.php?action=summary&subAction=candidates_analyzed&sort=candidate#summary')"
   ]
  },
  {
   "cell_type": "code",
   "execution_count": 4,
   "metadata": {
    "collapsed": false
   },
   "outputs": [],
   "source": [
    "tree= BeautifulSoup(source.text,\"html.parser\")"
   ]
  },
  {
   "cell_type": "code",
   "execution_count": 5,
   "metadata": {
    "collapsed": false
   },
   "outputs": [
    {
     "data": {
      "text/plain": [
       "22"
      ]
     },
     "execution_count": 5,
     "metadata": {},
     "output_type": "execute_result"
    }
   ],
   "source": [
    "len(tree)"
   ]
  },
  {
   "cell_type": "code",
   "execution_count": 6,
   "metadata": {
    "collapsed": false
   },
   "outputs": [
    {
     "data": {
      "text/plain": [
       "<title>Total candidates analyzed by NEW:Loksabha 2014 Election</title>"
      ]
     },
     "execution_count": 6,
     "metadata": {},
     "output_type": "execute_result"
    }
   ],
   "source": [
    "tree.title"
   ]
  },
  {
   "cell_type": "code",
   "execution_count": 7,
   "metadata": {
    "collapsed": false
   },
   "outputs": [],
   "source": [
    "all_links = tree.find_all('a')"
   ]
  },
  {
   "cell_type": "code",
   "execution_count": 8,
   "metadata": {
    "collapsed": false
   },
   "outputs": [],
   "source": [
    "table_pol = tree.findAll('table')[2]\n",
    "rows = table_pol.findAll(\"tr\")[2:]"
   ]
  },
  {
   "cell_type": "code",
   "execution_count": 9,
   "metadata": {
    "collapsed": false
   },
   "outputs": [],
   "source": [
    "# We build one dictionary per candidate #\n",
    "\n",
    "def c_link(r):\n",
    "    return r.find(\"a\").get(\"href\")\n",
    "def name(r):\n",
    "    return r.find(\"a\").get_text()\n",
    "def cols(r):\n",
    "    return r.findAll(\"td\")\n",
    "def assets(r):\n",
    "    col = cols(r)\n",
    "    ass = col[6].get_text().split(\"~\")[0].encode('ascii', 'ignore').replace(\"Rs\",\"\").replace(\",\",\"\")\n",
    "    return ass\n",
    "def liab(r):\n",
    "    col = cols(r)\n",
    "    liabilities = int(col[7].get_text().split(\"~\")[0].encode('ascii', 'ignore').replace(\"Rs\",\"\").replace(\",\",\"\"))\n",
    "    return liabilities\n",
    "\n",
    "info_candidate = lambda r: [int(cols(r)[0].get_text()), r.find(\"a\").get(\"href\"),r.find(\"a\").get_text(),\n",
    "                            cols(r)[2].get_text(),cols(r)[3].get_text(),cols(r)[5].get_text(),\n",
    "                            cols(r)[4].get_text(),assets(r), liab(r)]\n",
    "\n",
    "title = ['id','url','name','district','party','education','nr_crime','assets','liabilities']\n",
    "dict_candidates = [dict(zip(title,info_candidate(r))) for r in rows]"
   ]
  },
  {
   "cell_type": "code",
   "execution_count": 10,
   "metadata": {
    "collapsed": false
   },
   "outputs": [
    {
     "data": {
      "text/plain": [
       "8204"
      ]
     },
     "execution_count": 10,
     "metadata": {},
     "output_type": "execute_result"
    }
   ],
   "source": [
    "len(dict_candidates)"
   ]
  },
  {
   "cell_type": "code",
   "execution_count": 11,
   "metadata": {
    "collapsed": false
   },
   "outputs": [
    {
     "name": "stdout",
     "output_type": "stream",
     "text": [
      "http://myneta.info/ls2014/candidate.php?candidate_id=2885\n"
     ]
    }
   ],
   "source": [
    "# Now each candidate has an url - so we parse each of their pages and scrape them#\n",
    "#But first let's look how the page looks like for a few individual candidates\n",
    "short_url = dict_candidates[1555]['url']\n",
    "full_url = \"http://myneta.info/ls2014/\"+short_url\n",
    "print full_url\n",
    "page_candidate = requests.get(full_url)\n",
    "c_soup = BeautifulSoup(page_candidate.text,\"html.parser\")"
   ]
  },
  {
   "cell_type": "code",
   "execution_count": 44,
   "metadata": {
    "collapsed": false
   },
   "outputs": [
    {
     "name": "stdout",
     "output_type": "stream",
     "text": [
      "DASHRATH GAGRAI  \n",
      " works as a: Agriculture . \n",
      " Profession of spouse: Agriculture & Para Teacher . \n",
      " Address:              R/O Vill-Losodiki,Po jojo Kudma,Panchayat Telahidih,Parkhand Kharsawa Thana Kharsawa,Distt-Saraykela Kharsawa,Pin 833102 , in district:  \n",
      "        SINGHBHUM  (JHARKHAND)\n",
      "         for party: JVM(P)\n",
      "  The dude is 38 years old\n",
      "\n",
      " \n",
      " \n",
      "9\n",
      "[<table cellpadding=\"0\" cellspacing=\"0\" id=\"table3\" width=\"80%\">\n",
      "<tr style=\"background-color:#336633;color:white;\" valign=\"top\"><th colspan=\"3\">Other Elections</th></tr>\n",
      "<tr style=\"background-color:#336633;color:white;\" valign=\"top\"><th>Declaration in</th><th>Declared Assets</th><th>Declared Cases</th></tr>\n",
      "<tr><td style=\"background-color:#F3F3F3;\"><b>Jharkhand Election 2014</b></td> <td style=\"background-color:#F3F3F3;\"><b>Rs35,92,489</b><span style=\"color:black;text-decoration:none;white-space:nowrap\"><br>~35 Lacs+</br></span></td><td style=\"background-color:#F3F3F3;\">7</td>\n",
      "</tr>\n",
      "<tr><td colspan=\"3\"><a href=\"/compare_profile.php?group_id=viRFrVNrTJWbFaQgAMGt\">Click here for more details</a></td></tr></table>, <table border=\"1\" width=\"100%\">\n",
      "<tr><th>Relation Type</th><th>PAN Given</th><th>Financial Year</th><th>Total Income Shown in ITR</th></tr>\n",
      "<tr><td>self</td><td>Y</td><td>2013 - 2014</td><td><b>Rs 2,56,330</b><span style=\"color:black;font-size:60%;text-decoration:none;white-space:nowrap\"> ~ 2 Lacs+</span></td></tr><tr><td>spouse</td><td>Y</td><td>None</td><td><b>Rs 0</b><span style=\"color:black;font-size:60%;text-decoration:none;white-space:nowrap\"> ~ </span></td></tr><tr><td>dependent1</td><td>N</td><td>None</td><td><b>Rs 0</b><span style=\"color:black;font-size:60%;text-decoration:none;white-space:nowrap\"> ~ </span></td></tr><tr><td>dependent2</td><td>N</td><td>None</td><td><b>Rs 0</b><span style=\"color:black;font-size:60%;text-decoration:none;white-space:nowrap\"> ~ </span></td></tr><tr><td>dependent3</td><td>N</td><td>None</td><td><b>Rs 0</b><span style=\"color:black;font-size:60%;text-decoration:none;white-space:nowrap\"> ~ </span></td></tr><tr><td>dependent4</td><td></td><td></td><td><b>Nil</b></td></tr>\n",
      "</table>, <table class=\"table1\" width=\"100%\"><tr valign=\"top\"><td>\n",
      "<h3 class=\"title blue\">Cases where charges framed</h3>\n",
      "<table border=\"1\" cellpadding=\"1\" width=\"80%\">\n",
      "<tr style=\"font-weight:bold\"><td>Serial No.</td><td>IPC Sections Applicable</td><td>Other Details / Other Acts / Sections Applicable</td></tr>\n",
      "<tr><td> 1</td><td>426, 427 </td><td> P.s.Chakardharpur Case no 152/10 ,08.02.09 (G.R.Case no.327/2009)10.05.2010 West Sighbhoom Chaibasa Jharkhand 3PDP Act Sub Divisinol Judicial Magistrate Podahat Chaibasa 19.02.03  Case pending For Witness  </td></tr>\n",
      "</table>\n",
      "<h3 class=\"title blue\">Cases where Cognizance taken</h3>\n",
      "<table border=\"1\" cellpadding=\"1\" width=\"80%\">\n",
      "<tr style=\"font-weight:bold\"><td>Serial No.</td><td>IPC Sections Applicable</td><td>Other Details / Other Acts / Sections Applicable</td></tr>\n",
      "<tr><td> 1</td><td>147,  148,  149, 447,  307,  379,  427,  323,  324,  411 </td><td> Cogizance  Date 03.08.2013 Gr No-Case no 55/11(S), ACJM  Saraykela, kharsaba  Jharkhand,  </td></tr>\n",
      "</table>\n",
      "<h3 class=\"title blue\">Cases where convicted</h3>\n",
      "<table border=\"1\" cellpadding=\"1\" width=\"80%\">\n",
      "<tr style=\"font-weight:bold\"><td>Serial No.</td><td>IPC Sections Applicable</td><td>Other Details / Other Acts / Sections Applicable</td></tr>\n",
      "<tr><td> 1</td><td> </td><td> Chakerdhar(Tokolo) Thana Case No-76/2000,Sec.25(1-b) A/26/35 Arms Act,Gr Case No-159/2000,Criminal Apeal No-100/2005 Sub Divisinol Judicial Magistrate Podahat Chaibasa(Arms Act Sec 25(1-b)A 3Years Jail &amp;fine; 500rs( (Sec 26-2Years Jail &amp;500Fine ) Cr no 100/2005 Appeal Accepted &amp; 08.02.2007 Released On Bond  </td></tr>\n",
      "</table></td><td><h3 class=\"title blue\">Brief Details of IPCs</h3> <b>1 charges related to Attempt to murder (IPC Section-307)</b><hr><b>1 charges related to  theft (IPC Section-379)</b><hr><b>1 charges related to Voluntarily causing hurt by dangerous weapons or means (IPC Section-324)</b><hr><b>1 charges related to Dishonestly receiving stolen property (IPC Section-411)</b><hr>2 charges related to Mischief causing damage to the amount of fifty rupees (IPC Section-427)<hr>1 charges related to  rioting (IPC Section-147)<hr>1 charges related to Rioting, armed with deadly weapon (IPC Section-148)<hr>1 charges related to Every member of unlawful assembly guilty of offence committed in prosecution of common object (IPC Section-149)<hr>1 charges related to  criminal trespass (IPC Section-447)<hr>1 charges related to  voluntarily causing hurt (IPC Section-323)<hr>1 charges related to Punished for mischief (IPC Section-426)<hr> </hr></hr></hr></hr></hr></hr></hr></hr></hr></hr></hr></td></tr></table>, <table border=\"1\" cellpadding=\"1\" width=\"80%\">\n",
      "<tr style=\"font-weight:bold\"><td>Serial No.</td><td>IPC Sections Applicable</td><td>Other Details / Other Acts / Sections Applicable</td></tr>\n",
      "<tr><td> 1</td><td>426, 427 </td><td> P.s.Chakardharpur Case no 152/10 ,08.02.09 (G.R.Case no.327/2009)10.05.2010 West Sighbhoom Chaibasa Jharkhand 3PDP Act Sub Divisinol Judicial Magistrate Podahat Chaibasa 19.02.03  Case pending For Witness  </td></tr>\n",
      "</table>, <table border=\"1\" cellpadding=\"1\" width=\"80%\">\n",
      "<tr style=\"font-weight:bold\"><td>Serial No.</td><td>IPC Sections Applicable</td><td>Other Details / Other Acts / Sections Applicable</td></tr>\n",
      "<tr><td> 1</td><td>147,  148,  149, 447,  307,  379,  427,  323,  324,  411 </td><td> Cogizance  Date 03.08.2013 Gr No-Case no 55/11(S), ACJM  Saraykela, kharsaba  Jharkhand,  </td></tr>\n",
      "</table>, <table border=\"1\" cellpadding=\"1\" width=\"80%\">\n",
      "<tr style=\"font-weight:bold\"><td>Serial No.</td><td>IPC Sections Applicable</td><td>Other Details / Other Acts / Sections Applicable</td></tr>\n",
      "<tr><td> 1</td><td> </td><td> Chakerdhar(Tokolo) Thana Case No-76/2000,Sec.25(1-b) A/26/35 Arms Act,Gr Case No-159/2000,Criminal Apeal No-100/2005 Sub Divisinol Judicial Magistrate Podahat Chaibasa(Arms Act Sec 25(1-b)A 3Years Jail &amp;fine; 500rs( (Sec 26-2Years Jail &amp;500Fine ) Cr no 100/2005 Appeal Accepted &amp; 08.02.2007 Released On Bond  </td></tr>\n",
      "</table>, <table border=\"1\" cellpadding=\"1\" class=\"table1\" width=\"95%\">\n",
      "<tr><td>Sr No</td><td>Description</td><td align=\"right\">self</td><td align=\"right\">spouse</td><td align=\"right\">dependent1</td><td align=\"right\">dependent2</td><td align=\"right\">dependent3</td><td align=\"right\">dependent4</td></tr>\n",
      "<tr valign=\"top\"><td>i</td><td>Cash</td><td align=\"right\">  55,000 <span style=\"color:brown;font-size:70%;text-decoration:none;white-space:nowrap\"> 55 Thou+</span> <br><br/></br></td><td align=\"right\">  30,000 <span style=\"color:brown;font-size:70%;text-decoration:none;white-space:nowrap\"> 30 Thou+</span> <br><br/></br></td><td align=\"right\">Nil</td><td align=\"right\">Nil</td><td align=\"right\">Nil</td><td align=\"right\">Nil</td><td align=\"right\"><span style=\"color:black\"><b> Rs 85,000 </b></span><span style=\"color:brown;font-size:70%;text-decoration:none;white-space:nowrap\"><br>85 Thou+</br></span></td></tr>\n",
      "<tr valign=\"top\"><td>ii</td><td>Deposits in Banks, Financial Institutions and Non-Banking Financial Companies</td><td align=\"right\"><span class=\"desc\">BOI,SB A/C No-152710110004579</span><br>  630 <span style=\"color:brown;font-size:70%;text-decoration:none;white-space:nowrap\"> 6 Hund+</span> <br><br><span class=\"desc\">SBI A/C No-20005883912,Br Saraykela</span><br>  495 <span style=\"color:brown;font-size:70%;text-decoration:none;white-space:nowrap\"> 4 Hund+</span> <br><br><span class=\"desc\">SBI,Br Chakerdharpur,A/C No-2021037150</span><br>  2,500 <span style=\"color:brown;font-size:70%;text-decoration:none;white-space:nowrap\"> 2 Thou+</span> <br><br/></br></br></br></br></br></br></br></br></td><td align=\"right\"><span class=\"desc\">BOI,SB A/C No-9194</span><br>  5,500 <span style=\"color:brown;font-size:70%;text-decoration:none;white-space:nowrap\"> 5 Thou+</span> <br><br><span class=\"desc\">BOI,SB A/C No-4546201101549,Br Kharsambo</span><br>  5,500 <span style=\"color:brown;font-size:70%;text-decoration:none;white-space:nowrap\"> 5 Thou+</span> <br><br/></br></br></br></br></br></td><td align=\"right\"><span class=\"desc\">BOI,Br Chakerdharpur,A/C No-451210110005664</span><br>  499 <span style=\"color:brown;font-size:70%;text-decoration:none;white-space:nowrap\"> 4 Hund+</span> <br><br/></br></br></td><td align=\"right\">Nil</td><td align=\"right\">Nil</td><td align=\"right\"><span class=\"desc\">PNB A/C No-1501001500085913</span><br>  600 <span style=\"color:brown;font-size:70%;text-decoration:none;white-space:nowrap\"> 6 Hund+</span> <br><br/></br></br></td><td align=\"right\"><span style=\"color:black\"><b> Rs 15,724 </b></span><span style=\"color:brown;font-size:70%;text-decoration:none;white-space:nowrap\"><br>15 Thou+</br></span></td></tr>\n",
      "<tr valign=\"top\"><td>iii</td><td>Bonds, Debentures and Shares in companies</td><td align=\"right\">Nil</td><td align=\"right\">Nil</td><td align=\"right\">Nil</td><td align=\"right\">Nil</td><td align=\"right\">Nil</td><td align=\"right\">Nil</td><td align=\"right\"><span style=\"color:black\"><b> Nil </b></span><span style=\"color:brown;font-size:70%;text-decoration:none;white-space:nowrap\"><br/></span></td></tr>\n",
      "<tr valign=\"top\"><td rowspan=\"2\">iv</td><td><b>(a)</b><br> NSS, Postal Savings etc</br></td><td align=\"right\">Nil</td><td align=\"right\">Nil</td><td align=\"right\">Nil</td><td align=\"right\">Nil</td><td align=\"right\">Nil</td><td align=\"right\">Nil</td><td align=\"right\"><span style=\"color:black\"><b> Nil </b></span><span style=\"color:brown;font-size:70%;text-decoration:none;white-space:nowrap\"><br/></span></td></tr>\n",
      "<tr valign=\"top\"><td><b>(b)</b><br>LIC or other insurance Policies <!--<br><span style='font-size:80%;color:yellow;background-color:red'>**Not counted in total assets</span> --></br></td><td align=\"right\"><span class=\"desc\">LIC No-556616708</span><br>  15,00,000 <span style=\"color:brown;font-size:70%;text-decoration:none;white-space:nowrap\"> 15 Lacs+</span> <br><br><span class=\"desc\">LIC No-556619456</span><br>  5,00,000 <span style=\"color:brown;font-size:70%;text-decoration:none;white-space:nowrap\"> 5 Lacs+</span> <br><br><span class=\"desc\">LIC No-556619455</span><br>  8,50,000 <span style=\"color:brown;font-size:70%;text-decoration:none;white-space:nowrap\"> 8 Lacs+</span> <br><br/></br></br></br></br></br></br></br></br></td><td align=\"right\">Nil</td><td align=\"right\">Nil</td><td align=\"right\">Nil</td><td align=\"right\">Nil</td><td align=\"right\">Nil</td><td align=\"right\"><span style=\"color:black\"><b> Rs 28,50,000 </b></span><span style=\"color:brown;font-size:70%;text-decoration:none;white-space:nowrap\"><br>28 Lacs+</br></span></td></tr>\n",
      "<tr valign=\"top\"><td>v</td><td>Personal loans/advance given </td><td align=\"right\">Nil</td><td align=\"right\">Nil</td><td align=\"right\">Nil</td><td align=\"right\">Nil</td><td align=\"right\">Nil</td><td align=\"right\">Nil</td><td align=\"right\"><span style=\"color:black\"><b> Nil </b></span><span style=\"color:brown;font-size:70%;text-decoration:none;white-space:nowrap\"><br/></span></td></tr>\n",
      "<tr valign=\"top\"><td>vi</td><td>Motor Vehicles (details of make, etc.)</td><td align=\"right\"><span class=\"desc\">Bullet M/C No-DR15597,dt 27/09/1994</span><br>  4,00,000 <span style=\"color:brown;font-size:70%;text-decoration:none;white-space:nowrap\"> 4 Lacs+</span> <br><br/></br></br></td><td align=\"right\"><span class=\"desc\">Hero Scooty,No-JH05AL3954,Dt 21/11/2011</span><br>  40,000 <span style=\"color:brown;font-size:70%;text-decoration:none;white-space:nowrap\"> 40 Thou+</span> <br><br/></br></br></td><td align=\"right\">Nil</td><td align=\"right\">Nil</td><td align=\"right\">Nil</td><td align=\"right\">Nil</td><td align=\"right\"><span style=\"color:black\"><b> Rs 4,40,000 </b></span><span style=\"color:brown;font-size:70%;text-decoration:none;white-space:nowrap\"><br>4 Lacs+</br></span></td></tr>\n",
      "<tr valign=\"top\"><td>vii</td><td>Jewellery (give details weight value)</td><td align=\"right\"><span class=\"desc\">10 Gm Gold</span><br>  30,000 <span style=\"color:brown;font-size:70%;text-decoration:none;white-space:nowrap\"> 30 Thou+</span> <br><br/></br></br></td><td align=\"right\"><span class=\"desc\">40 Gm Gold,10 Gm Silver</span><br>  1,20,000 <span style=\"color:brown;font-size:70%;text-decoration:none;white-space:nowrap\"> 1 Lacs+</span> <br><br/></br></br></td><td align=\"right\">Nil</td><td align=\"right\">Nil</td><td align=\"right\">Nil</td><td align=\"right\">Nil</td><td align=\"right\"><span style=\"color:black\"><b> Rs 1,50,000 </b></span><span style=\"color:brown;font-size:70%;text-decoration:none;white-space:nowrap\"><br>1 Lacs+</br></span></td></tr>\n",
      "<tr valign=\"top\"><td>viii</td><td>Other assets, such as values of claims / interests</td><td align=\"right\">Nil</td><td align=\"right\">Nil</td><td align=\"right\">Nil</td><td align=\"right\">Nil</td><td align=\"right\">Nil</td><td align=\"right\">Nil</td><td align=\"right\"><span style=\"color:black\"><b> Nil </b></span><span style=\"color:brown;font-size:70%;text-decoration:none;white-space:nowrap\"><br/></span></td></tr>\n",
      "<tr valign=\"top\"><td colspan=\"2\">Gross Total Value (as per Affidavit)</td> <td align=\"right\"><a name=\"movabletotal\"></a> 0 <span style=\"color:brown;font-size:70%;text-decoration:none;white-space:nowrap\"> </span></td><td align=\"right\"><a name=\"movabletotal\"></a> 0 <span style=\"color:brown;font-size:70%;text-decoration:none;white-space:nowrap\"> </span></td><td align=\"right\"><a name=\"movabletotal\"></a> 0 <span style=\"color:brown;font-size:70%;text-decoration:none;white-space:nowrap\"> </span></td><td align=\"right\"><a name=\"movabletotal\"></a> Nil</td><td align=\"right\"><a name=\"movabletotal\"></a> Nil</td><td align=\"right\"><a name=\"movabletotal\"></a> 0 <span style=\"color:brown;font-size:70%;text-decoration:none;white-space:nowrap\"> </span></td><td align=\"right\"><span style=\"color:green\"><b> Rs 0 </b></span><span style=\"color:brown;font-size:70%;text-decoration:none;white-space:nowrap\"><br/></span></td> </tr>\n",
      "<tr valign=\"top\"><td colspan=\"2\">Totals (Calculated as Sum of Values)</td> <td align=\"right\"><span style=\"color:blue\"><b> Rs 33,38,625 </b></span><span style=\"color:brown;font-size:70%;text-decoration:none;white-space:nowrap\"><br>33 Lacs+</br></span></td><td align=\"right\"><span style=\"color:blue\"><b> Rs 2,01,000 </b></span><span style=\"color:brown;font-size:70%;text-decoration:none;white-space:nowrap\"><br>2 Lacs+</br></span></td><td align=\"right\"><span style=\"color:blue\"><b> Rs 499 </b></span><span style=\"color:brown;font-size:70%;text-decoration:none;white-space:nowrap\"><br>4 Hund+</br></span></td><td align=\"right\"><span style=\"color:blue\"><b> Nil </b></span><span style=\"color:brown;font-size:70%;text-decoration:none;white-space:nowrap\"><br/></span></td><td align=\"right\"><span style=\"color:blue\"><b> Nil </b></span><span style=\"color:brown;font-size:70%;text-decoration:none;white-space:nowrap\"><br/></span></td><td align=\"right\"><span style=\"color:blue\"><b> Rs 600 </b></span><span style=\"color:brown;font-size:70%;text-decoration:none;white-space:nowrap\"><br>6 Hund+</br></span></td> <td align=\"right\"><span style=\"color:purple\"><b> Rs 35,40,724 </b></span><span style=\"color:brown;font-size:70%;text-decoration:none;white-space:nowrap\"><br>35 Lacs+</br></span></td></tr>\n",
      "</table>, <table border=\"1\" cellpadding=\"1\" class=\"table1\" width=\"95%\">\n",
      "<tr><td>Sr No</td><td>Description</td><td align=\"right\">self</td><td align=\"right\">spouse</td><td align=\"right\">dependent1</td><td align=\"right\">dependent2</td><td align=\"right\">dependent3</td><td align=\"right\">dependent4</td></tr>\n",
      "<tr valign=\"top\"><td>i</td><td>Agricultural Land</td><td align=\"right\"><span class=\"desc\">Mouja-Talaidih,Thana Kharsambo,Thana No-56,kh No-72</span><br>\n",
      "<span class=\"desc\">Total Area</span> <span class=\"immov\">1.21 Acre</span> <br>\n",
      "<span class=\"desc\">Whether Inherited </span><span class=\"immov\">Y</span> <br>\n",
      "<span class=\"desc\">Purchase Date </span><span class=\"immov\">0000-00-00</span> <br>\n",
      "<span class=\"desc\">Purchase Cost </span><span class=\"immov\">0.00</span> <br>\n",
      "<span class=\"desc\">Development Cost</span> <span class=\"immov\">0.00</span><br> 2,80,000 <span style=\"color:brown;font-size:70%;text-decoration:none;white-space:nowrap\"> 2 Lacs+</span> <br><br/></br></br></br></br></br></br></br></td><td align=\"right\">Nil</td><td align=\"right\">Nil</td><td align=\"right\">Nil</td><td align=\"right\">Nil</td><td align=\"right\">Nil</td><td align=\"right\"><span style=\"color:black\"><b> Rs 2,80,000 </b></span><span style=\"color:brown;font-size:70%;text-decoration:none;white-space:nowrap\"><br>2 Lacs+</br></span></td></tr>\n",
      "<tr valign=\"top\"><td>ii</td><td>Non Agricultural Land</td><td align=\"right\"><span class=\"desc\">Mouja-Talaidih,Thana Kharsambo,Thana No-56,kh No-72\r\n",
      "</span><br>\n",
      "<span class=\"desc\">Total Area</span> <span class=\"immov\">2 Dec.</span> <br>\n",
      "<span class=\"desc\">Whether Inherited </span><span class=\"immov\">Y</span> <br>\n",
      "<span class=\"desc\">Purchase Date </span><span class=\"immov\">0000-00-00</span> <br>\n",
      "<span class=\"desc\">Purchase Cost </span><span class=\"immov\">0.00</span> <br>\n",
      "<span class=\"desc\">Development Cost</span> <span class=\"immov\">0.00</span><br> 40,000 <span style=\"color:brown;font-size:70%;text-decoration:none;white-space:nowrap\"> 40 Thou+</span> <br><br/></br></br></br></br></br></br></br></td><td align=\"right\">Nil</td><td align=\"right\">Nil</td><td align=\"right\">Nil</td><td align=\"right\">Nil</td><td align=\"right\">Nil</td><td align=\"right\"><span style=\"color:black\"><b> Rs 40,000 </b></span><span style=\"color:brown;font-size:70%;text-decoration:none;white-space:nowrap\"><br>40 Thou+</br></span></td></tr>\n",
      "<tr valign=\"top\"><td>iii</td><td>Commercial Buildings</td><td align=\"right\">Nil</td><td align=\"right\">Nil</td><td align=\"right\">Nil</td><td align=\"right\">Nil</td><td align=\"right\">Nil</td><td align=\"right\">Nil</td><td align=\"right\"><span style=\"color:black\"><b> Nil </b></span><span style=\"color:brown;font-size:70%;text-decoration:none;white-space:nowrap\"><br/></span></td></tr>\n",
      "<tr valign=\"top\"><td>iv</td><td>Residential Buildings</td><td align=\"right\"><span class=\"desc\">Mouja-Talaidih,Thana Kharsambo,Thana No-56,kh No-72\r\n",
      "Plot No-559</span><br>\n",
      "<span class=\"desc\">Total Area</span> <span class=\"immov\">2 Dec</span> <br>\n",
      "<span class=\"desc\">Built Up Area </span><span class=\"immov\">800 Sq.Ft.</span> <br>\n",
      "<span class=\"desc\">Whether Inherited </span><span class=\"immov\">Y</span> <br>\n",
      "<span class=\"desc\">Purchase Date </span><span class=\"immov\">0000-00-00</span> <br>\n",
      "<span class=\"desc\">Purchase Cost </span><span class=\"immov\">0.00</span> <br>\n",
      "<span class=\"desc\">Development Cost</span> <span class=\"immov\">0.00</span><br> 80,000 <span style=\"color:brown;font-size:70%;text-decoration:none;white-space:nowrap\"> 80 Thou+</span> <br><br/></br></br></br></br></br></br></br></br></td><td align=\"right\">Nil</td><td align=\"right\">Nil</td><td align=\"right\">Nil</td><td align=\"right\">Nil</td><td align=\"right\">Nil</td><td align=\"right\"><span style=\"color:black\"><b> Rs 80,000 </b></span><span style=\"color:brown;font-size:70%;text-decoration:none;white-space:nowrap\"><br>80 Thou+</br></span></td></tr>\n",
      "<tr valign=\"top\"><td>v</td><td>Others</td><td align=\"right\">Nil</td><td align=\"right\">Nil</td><td align=\"right\">Nil</td><td align=\"right\">Nil</td><td align=\"right\">Nil</td><td align=\"right\">Nil</td><td align=\"right\"><span style=\"color:black\"><b> Nil </b></span><span style=\"color:brown;font-size:70%;text-decoration:none;white-space:nowrap\"><br/></span></td></tr>\n",
      "<tr valign=\"top\"><td colspan=\"2\">Total Current Market Value of (i) to (v) (as per Affidavit)</td> <td align=\"right\"><a name=\"immovabletotal\"></a> 4,00,000 <span style=\"color:brown;font-size:70%;text-decoration:none;white-space:nowrap\"> 4 Lacs+</span></td><td align=\"right\"><a name=\"immovabletotal\"></a> Nil</td><td align=\"right\"><a name=\"immovabletotal\"></a> Nil</td><td align=\"right\"><a name=\"immovabletotal\"></a> Nil</td><td align=\"right\"><a name=\"immovabletotal\"></a> Nil</td><td align=\"right\"><a name=\"immovabletotal\"></a> Nil</td><td align=\"right\"><span style=\"color:green\"><b> Rs 4,00,000 </b></span><span style=\"color:brown;font-size:70%;text-decoration:none;white-space:nowrap\"><br>4 Lacs+</br></span></td> </tr>\n",
      "<tr valign=\"top\"><td colspan=\"2\">Totals Calculated</td> <td align=\"right\"><span style=\"color:blue\"><b> Rs 4,00,000 </b></span><span style=\"color:brown;font-size:70%;text-decoration:none;white-space:nowrap\"><br>4 Lacs+</br></span></td><td align=\"right\"><span style=\"color:blue\"><b> Nil </b></span><span style=\"color:brown;font-size:70%;text-decoration:none;white-space:nowrap\"><br/></span></td><td align=\"right\"><span style=\"color:blue\"><b> Nil </b></span><span style=\"color:brown;font-size:70%;text-decoration:none;white-space:nowrap\"><br/></span></td><td align=\"right\"><span style=\"color:blue\"><b> Nil </b></span><span style=\"color:brown;font-size:70%;text-decoration:none;white-space:nowrap\"><br/></span></td><td align=\"right\"><span style=\"color:blue\"><b> Nil </b></span><span style=\"color:brown;font-size:70%;text-decoration:none;white-space:nowrap\"><br/></span></td><td align=\"right\"><span style=\"color:blue\"><b> Nil </b></span><span style=\"color:brown;font-size:70%;text-decoration:none;white-space:nowrap\"><br/></span></td> <td align=\"right\"><span style=\"color:purple\"><b> Rs 4,00,000 </b></span><span style=\"color:brown;font-size:70%;text-decoration:none;white-space:nowrap\"><br>4 Lacs+</br></span></td></tr>\n",
      "</table>, <table border=\"1\" cellpadding=\"1\" class=\"table1\" width=\"95%\">\n",
      "<tr><td>Sr No</td><td>Description</td><td align=\"right\">self</td><td align=\"right\">spouse</td><td align=\"right\">dependent1</td><td align=\"right\">dependent2</td><td align=\"right\">dependent3</td><td align=\"right\">dependent4</td></tr>\n",
      "<tr valign=\"top\"><td rowspan=\"4\">i</td><td>Loans from Banks / FIs</td><td align=\"right\"><span class=\"desc\">BOI,Be Aamda,KCC Loan</span><br>  50,000 <span style=\"color:brown;font-size:70%;text-decoration:none;white-space:nowrap\"> 50 Thou+</span> <br><br/></br></br></td><td align=\"right\"><span class=\"desc\">BOI,Br. Aamda,KCC Loan\r\n",
      "</span><br>  50,000 <span style=\"color:brown;font-size:70%;text-decoration:none;white-space:nowrap\"> 50 Thou+</span> <br><br/></br></br></td><td align=\"right\">Nil</td><td align=\"right\">Nil</td><td align=\"right\">Nil</td><td align=\"right\">Nil</td><td align=\"right\"><span style=\"color:black\"><b> Rs 1,00,000 </b></span><span style=\"color:brown;font-size:70%;text-decoration:none;white-space:nowrap\"><br>1 Lacs+</br></span></td></tr>\n",
      "<tr valign=\"top\"><td>Loans due to Individual / Entity</td><td align=\"right\">Nil</td><td align=\"right\">Nil</td><td align=\"right\">Nil</td><td align=\"right\">Nil</td><td align=\"right\">Nil</td><td align=\"right\">Nil</td><td align=\"right\"><span style=\"color:black\"><b> Nil </b></span><span style=\"color:brown;font-size:70%;text-decoration:none;white-space:nowrap\"><br/></span></td></tr>\n",
      "<tr valign=\"top\"><td>Any other Liability</td><td align=\"right\">Nil</td><td align=\"right\">Nil</td><td align=\"right\">Nil</td><td align=\"right\">Nil</td><td align=\"right\">Nil</td><td align=\"right\">Nil</td><td align=\"right\"><span style=\"color:black\"><b> Nil </b></span><span style=\"color:brown;font-size:70%;text-decoration:none;white-space:nowrap\"><br/></span></td></tr>\n",
      "<tr valign=\"top\"><td>Grand Total of Liabilities (as per affidavit)</td><td align=\"right\"><a name=\"liabilitiestotal\"></a> 50,000 <span style=\"color:brown;font-size:70%;text-decoration:none;white-space:nowrap\"> 50 Thou+</span></td><td align=\"right\"><a name=\"liabilitiestotal\"></a> 50,000 <span style=\"color:brown;font-size:70%;text-decoration:none;white-space:nowrap\"> 50 Thou+</span></td><td align=\"right\"><a name=\"liabilitiestotal\"></a> Nil</td><td align=\"right\"><a name=\"liabilitiestotal\"></a> Nil</td><td align=\"right\"><a name=\"liabilitiestotal\"></a> Nil</td><td align=\"right\"><a name=\"liabilitiestotal\"></a> Nil</td><td align=\"right\"><span style=\"color:green\"><b> Rs 1,00,000 </b></span><span style=\"color:brown;font-size:70%;text-decoration:none;white-space:nowrap\"><br>1 Lacs+</br></span></td></tr>\n",
      "<tr valign=\"top\"><td rowspan=\"11\">ii</td><td>Dues to departments dealing with government accommodation</td><td align=\"right\">Nil</td><td align=\"right\">Nil</td><td align=\"right\">Nil</td><td align=\"right\">Nil</td><td align=\"right\">Nil</td><td align=\"right\">Nil</td><td align=\"right\"><span style=\"color:black\"><b> Nil </b></span><span style=\"color:brown;font-size:70%;text-decoration:none;white-space:nowrap\"><br/></span></td></tr>\n",
      "<tr valign=\"top\"><td>Dues to departments dealing with supply of water</td><td align=\"right\">Nil</td><td align=\"right\">Nil</td><td align=\"right\">Nil</td><td align=\"right\">Nil</td><td align=\"right\">Nil</td><td align=\"right\">Nil</td><td align=\"right\"><span style=\"color:black\"><b> Nil </b></span><span style=\"color:brown;font-size:70%;text-decoration:none;white-space:nowrap\"><br/></span></td></tr>\n",
      "<tr valign=\"top\"><td>Dues to departments dealing with supply of electricity</td><td align=\"right\">Nil</td><td align=\"right\">Nil</td><td align=\"right\">Nil</td><td align=\"right\">Nil</td><td align=\"right\">Nil</td><td align=\"right\">Nil</td><td align=\"right\"><span style=\"color:black\"><b> Nil </b></span><span style=\"color:brown;font-size:70%;text-decoration:none;white-space:nowrap\"><br/></span></td></tr>\n",
      "<tr valign=\"top\"><td>Dues to departments dealing with telephones</td><td align=\"right\">Nil</td><td align=\"right\">Nil</td><td align=\"right\">Nil</td><td align=\"right\">Nil</td><td align=\"right\">Nil</td><td align=\"right\">Nil</td><td align=\"right\"><span style=\"color:black\"><b> Nil </b></span><span style=\"color:brown;font-size:70%;text-decoration:none;white-space:nowrap\"><br/></span></td></tr>\n",
      "<tr valign=\"top\"><td>Dues to departments dealing with supply of transport</td><td align=\"right\">Nil</td><td align=\"right\">Nil</td><td align=\"right\">Nil</td><td align=\"right\">Nil</td><td align=\"right\">Nil</td><td align=\"right\">Nil</td><td align=\"right\"><span style=\"color:black\"><b> Nil </b></span><span style=\"color:brown;font-size:70%;text-decoration:none;white-space:nowrap\"><br/></span></td></tr>\n",
      "<tr valign=\"top\"><td>Income Tax Dues</td><td align=\"right\">Nil</td><td align=\"right\">Nil</td><td align=\"right\">Nil</td><td align=\"right\">Nil</td><td align=\"right\">Nil</td><td align=\"right\">Nil</td><td align=\"right\"><span style=\"color:black\"><b> Nil </b></span><span style=\"color:brown;font-size:70%;text-decoration:none;white-space:nowrap\"><br/></span></td></tr>\n",
      "<tr valign=\"top\"><td>Wealth Tax Dues</td><td align=\"right\">Nil</td><td align=\"right\">Nil</td><td align=\"right\">Nil</td><td align=\"right\">Nil</td><td align=\"right\">Nil</td><td align=\"right\">Nil</td><td align=\"right\"><span style=\"color:black\"><b> Nil </b></span><span style=\"color:brown;font-size:70%;text-decoration:none;white-space:nowrap\"><br/></span></td></tr>\n",
      "<tr valign=\"top\"><td>Service Tax Dues</td><td align=\"right\">Nil</td><td align=\"right\">Nil</td><td align=\"right\">Nil</td><td align=\"right\">Nil</td><td align=\"right\">Nil</td><td align=\"right\">Nil</td><td align=\"right\"><span style=\"color:black\"><b> Nil </b></span><span style=\"color:brown;font-size:70%;text-decoration:none;white-space:nowrap\"><br/></span></td></tr>\n",
      "<tr valign=\"top\"><td>Property Tax Dues</td><td align=\"right\">Nil</td><td align=\"right\">Nil</td><td align=\"right\">Nil</td><td align=\"right\">Nil</td><td align=\"right\">Nil</td><td align=\"right\">Nil</td><td align=\"right\"><span style=\"color:black\"><b> Nil </b></span><span style=\"color:brown;font-size:70%;text-decoration:none;white-space:nowrap\"><br/></span></td></tr>\n",
      "<tr valign=\"top\"><td>Sales Tax Dues</td><td align=\"right\">Nil</td><td align=\"right\">Nil</td><td align=\"right\">Nil</td><td align=\"right\">Nil</td><td align=\"right\">Nil</td><td align=\"right\">Nil</td><td align=\"right\"><span style=\"color:black\"><b> Nil </b></span><span style=\"color:brown;font-size:70%;text-decoration:none;white-space:nowrap\"><br/></span></td></tr>\n",
      "<tr valign=\"top\"><td>Any Other Dues</td><td align=\"right\">Nil</td><td align=\"right\">Nil</td><td align=\"right\">Nil</td><td align=\"right\">Nil</td><td align=\"right\">Nil</td><td align=\"right\">Nil</td><td align=\"right\"><span style=\"color:black\"><b> Nil </b></span><span style=\"color:brown;font-size:70%;text-decoration:none;white-space:nowrap\"><br/></span></td></tr>\n",
      "<tr valign=\"top\"><td>iii</td><td>Grand Total of all Govt Dues (as per affidavit)</td><td align=\"right\"><a name=\"duestotal\"></a> Nil</td><td align=\"right\"><a name=\"duestotal\"></a> Nil</td><td align=\"right\"><a name=\"duestotal\"></a> Nil</td><td align=\"right\"><a name=\"duestotal\"></a> Nil</td><td align=\"right\"><a name=\"duestotal\"></a> Nil</td><td align=\"right\"><a name=\"duestotal\"></a> Nil</td><td align=\"right\"><span style=\"color:green\"><b> Nil </b></span><span style=\"color:brown;font-size:70%;text-decoration:none;white-space:nowrap\"><br/></span></td></tr>\n",
      "<tr valign=\"top\"><td rowspan=\"2\">iv</td><td>Whether any other liabilities are in dispute, if so, mention the amount involved and the authority before which it is pending</td><td align=\"right\">Nil</td><td align=\"right\">Nil</td><td align=\"right\">Nil</td><td align=\"right\">Nil</td><td align=\"right\">Nil</td><td align=\"right\">Nil</td><td align=\"right\"><span style=\"color:black\"><b> Nil </b></span><span style=\"color:brown;font-size:70%;text-decoration:none;white-space:nowrap\"><br/></span></td></tr>\n",
      "<tr valign=\"top\"><td>Totals (Calculated as Sum of Values)</td> <td align=\"right\"><span style=\"color:blue\"><b> Rs 50,000 </b></span><span style=\"color:brown;font-size:70%;text-decoration:none;white-space:nowrap\"><br>50 Thou+</br></span></td><td align=\"right\"><span style=\"color:blue\"><b> Rs 50,000 </b></span><span style=\"color:brown;font-size:70%;text-decoration:none;white-space:nowrap\"><br>50 Thou+</br></span></td><td align=\"right\"><span style=\"color:blue\"><b> Nil </b></span><span style=\"color:brown;font-size:70%;text-decoration:none;white-space:nowrap\"><br/></span></td><td align=\"right\"><span style=\"color:blue\"><b> Nil </b></span><span style=\"color:brown;font-size:70%;text-decoration:none;white-space:nowrap\"><br/></span></td><td align=\"right\"><span style=\"color:blue\"><b> Nil </b></span><span style=\"color:brown;font-size:70%;text-decoration:none;white-space:nowrap\"><br/></span></td><td align=\"right\"><span style=\"color:blue\"><b> Nil </b></span><span style=\"color:brown;font-size:70%;text-decoration:none;white-space:nowrap\"><br/></span></td> <td align=\"right\"><span style=\"color:purple\"><b> Rs 1,00,000 </b></span><span style=\"color:brown;font-size:70%;text-decoration:none;white-space:nowrap\"><br>1 Lacs+</br></span></td></tr>\n",
      "</table>]\n"
     ]
    }
   ],
   "source": [
    "#### Personal info #########\n",
    "\n",
    "personal = c_soup.findAll(attrs={\"class\": \"grid_3 alpha\"})[0]\n",
    "full_name = personal.find(\"h2\").get_text()\n",
    "district1 = personal.find(\"h5\").get_text()\n",
    "grid2 = personal.findAll(attrs={\"class\":\"grid_2 alpha\"})\n",
    "party_full = grid2[0].get_text().split(\":\")[1]\n",
    "age = int(grid2[2].get_text().split(\":\")[1])\n",
    "address = grid2[3].get_text().split(\":\")[1].split(\"\\n\")[1] # Careful this one changes\n",
    "self_profession = personal.find(\"p\").get_text().split('\\n')[0].split(\":\")[1]\n",
    "spouse_profession = personal.find(\"p\").get_text().split('\\n')[1].split(\":\")[1]\n",
    "print full_name, \"\\n works as a:\", self_profession, \". \\n Profession of spouse:\", spouse_profession, \". \\n Address: \",\n",
    "print address, \", in district: \", district1, \"for party:\", party_full, \"The dude is\", age, \"years old\"\n",
    "\n",
    "########## Assets  & Criminality ###########\n",
    "# Ok let's get serious and find his assets and criminal activity\n",
    "all_tables = c_soup.findAll(\"table\")\n",
    "print \"\\n \\n \\n\" , len(all_tables)\n",
    "table_inc = all_tables[0]\n",
    "table_crim = all_tables[1]\n",
    "table_assets1 = all_tables[2]\n",
    "table_assets2 = all_tables[3]\n",
    "table_liab = all_tables[4]\n",
    "#print table_inc\n",
    "print all_tables\n"
   ]
  },
  {
   "cell_type": "code",
   "execution_count": null,
   "metadata": {
    "collapsed": true
   },
   "outputs": [],
   "source": []
  }
 ],
 "metadata": {
  "kernelspec": {
   "display_name": "Python 2",
   "language": "python",
   "name": "python2"
  },
  "language_info": {
   "codemirror_mode": {
    "name": "ipython",
    "version": 2
   },
   "file_extension": ".py",
   "mimetype": "text/x-python",
   "name": "python",
   "nbconvert_exporter": "python",
   "pygments_lexer": "ipython2",
   "version": "2.7.10"
  }
 },
 "nbformat": 4,
 "nbformat_minor": 0
}

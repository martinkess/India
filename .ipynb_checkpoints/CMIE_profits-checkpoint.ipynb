{
 "cells": [
  {
   "cell_type": "code",
   "execution_count": 1,
   "metadata": {
    "collapsed": true
   },
   "outputs": [],
   "source": [
    "%matplotlib inline\n",
    "import json\n",
    "import numpy as np\n",
    "import scipy as sp\n",
    "import matplotlib as mpl\n",
    "import matplotlib.cm as cm\n",
    "import matplotlib.pyplot as plt\n",
    "import pandas as pd\n",
    "pd.set_option('display.width', 500)\n",
    "pd.set_option('display.max_columns', 100)\n",
    "pd.set_option('display.notebook_repr_html', True)\n",
    "import seaborn as sns\n",
    "sns.set_style(\"whitegrid\")\n",
    "sns.set_context(\"poster\")"
   ]
  },
  {
   "cell_type": "code",
   "execution_count": 2,
   "metadata": {
    "collapsed": false
   },
   "outputs": [],
   "source": [
    "prowess1 = pd.read_excel(\"C:/Users/mkkes_000/Dropbox/Indiastuff/profits&income.xlsx\")[3:]\n",
    "namecies = prowess1.index\n",
    "col_replace = [\"tot_inc\",\"year\",\"profit\"]*19\n",
    "prowess1.columns = col_replace\n",
    "df_profits = prowess1['profit']\n",
    "df_totinc = prowess1['tot_inc']\n",
    "years = range(1997,2016)"
   ]
  },
  {
   "cell_type": "code",
   "execution_count": 3,
   "metadata": {
    "collapsed": false
   },
   "outputs": [],
   "source": [
    "df_profits.columns = years\n",
    "df_totinc.columns = years\n",
    "cols = {'profit': df_profits, 'income': df_totinc}\n",
    "df1 = pd.concat(cols).stack().reset_index()\n",
    "df1.columns = ['var','cie','year','X']"
   ]
  },
  {
   "cell_type": "code",
   "execution_count": 4,
   "metadata": {
    "collapsed": false
   },
   "outputs": [],
   "source": [
    "df = df1.set_index(['cie','year'])\n",
    "df['id']=df.index\n",
    "df2 = df.pivot(index = 'id',columns='var',values='X')\n",
    "df2['cie'] = [k[0] for k in df2.index]\n",
    "df2['year'] = [k[1] for k in df2.index]\n",
    "df_fin = df2.reset_index()"
   ]
  },
  {
   "cell_type": "code",
   "execution_count": 38,
   "metadata": {
    "collapsed": false
   },
   "outputs": [
    {
     "name": "stderr",
     "output_type": "stream",
     "text": [
      "C:\\Users\\mkkes_000\\Anaconda\\lib\\site-packages\\IPython\\kernel\\__main__.py:5: SettingWithCopyWarning: \n",
      "A value is trying to be set on a copy of a slice from a DataFrame.\n",
      "Try using .loc[row_indexer,col_indexer] = value instead\n",
      "\n",
      "See the the caveats in the documentation: http://pandas.pydata.org/pandas-docs/stable/indexing.html#indexing-view-versus-copy\n",
      "C:\\Users\\mkkes_000\\Anaconda\\lib\\site-packages\\IPython\\kernel\\__main__.py:6: SettingWithCopyWarning: \n",
      "A value is trying to be set on a copy of a slice from a DataFrame.\n",
      "Try using .loc[row_indexer,col_indexer] = value instead\n",
      "\n",
      "See the the caveats in the documentation: http://pandas.pydata.org/pandas-docs/stable/indexing.html#indexing-view-versus-copy\n",
      "C:\\Users\\mkkes_000\\Anaconda\\lib\\site-packages\\pandas\\core\\generic.py:2177: SettingWithCopyWarning: \n",
      "A value is trying to be set on a copy of a slice from a DataFrame.\n",
      "Try using .loc[row_indexer,col_indexer] = value instead\n",
      "\n",
      "See the the caveats in the documentation: http://pandas.pydata.org/pandas-docs/stable/indexing.html#indexing-view-versus-copy\n",
      "  self[name] = value\n"
     ]
    },
    {
     "name": "stdout",
     "output_type": "stream",
     "text": [
      " . . . . . . . . . . . . . . . . . . . . . . . . . . . . . . . . . . . . . . . . . . . . . . . . . . . . . . . . . . . . . . . . . . . . . . . . . . . . . . . . . . . . . . . . . . . . . . . . . . . . . . . . . . . . . . . . . . . . . . . . . . . . . . . . . . . . . . . . . . . . . . . . . . . . . . . . . . . . . . . . . . . . . . . . . . . . . . . . . . . . . . . . . . . . . . . . . . . . . . . . . . . . . . . . . . . . . . . . . . . . . . . . . . . . . . . . . . . . . . . . . . . . . . . . . . . .\n"
     ]
    }
   ],
   "source": [
    "companies = df_fin.cie.unique()\n",
    "master_df = pd.DataFrame()\n",
    "for k,c in enumerate(companies):\n",
    "    temp_df = df_fin[df_fin.cie == c]\n",
    "    temp_df['inc_gr'] = temp_df['income'].pct_change()\n",
    "    temp_df['inc_gr4'] = temp_df['income'].pct_change(periods = 4)\n",
    "    temp_df[temp_df.inc_gr==-1].inc_gr= np.nan\n",
    "    temp_df[temp_df.inc_gr4==-1].inc_gr4 = np.nan\n",
    "    master_df.append(temp_df)\n",
    "    if k % 100 ==0:\n",
    "        print \".\","
   ]
  },
  {
   "cell_type": "code",
   "execution_count": 40,
   "metadata": {
    "collapsed": false
   },
   "outputs": [
    {
     "data": {
      "text/html": [
       "<div>\n",
       "<table border=\"1\" class=\"dataframe\">\n",
       "  <thead>\n",
       "    <tr style=\"text-align: right;\">\n",
       "      <th>var</th>\n",
       "      <th>id</th>\n",
       "      <th>income</th>\n",
       "      <th>profit</th>\n",
       "      <th>cie</th>\n",
       "      <th>year</th>\n",
       "      <th>inc_gr</th>\n",
       "      <th>inc_gr4</th>\n",
       "    </tr>\n",
       "  </thead>\n",
       "  <tbody>\n",
       "    <tr>\n",
       "      <th>241817</th>\n",
       "      <td>(Zytel Investments Ltd., 2000)</td>\n",
       "      <td>0.3</td>\n",
       "      <td>-0.8</td>\n",
       "      <td>Zytel Investments Ltd.</td>\n",
       "      <td>2000</td>\n",
       "      <td>NaN</td>\n",
       "      <td>NaN</td>\n",
       "    </tr>\n",
       "    <tr>\n",
       "      <th>241818</th>\n",
       "      <td>(Zytel Investments Ltd., 2001)</td>\n",
       "      <td>0.1</td>\n",
       "      <td>-0.4</td>\n",
       "      <td>Zytel Investments Ltd.</td>\n",
       "      <td>2001</td>\n",
       "      <td>-0.666667</td>\n",
       "      <td>NaN</td>\n",
       "    </tr>\n",
       "    <tr>\n",
       "      <th>241819</th>\n",
       "      <td>(Zytel Investments Ltd., 2002)</td>\n",
       "      <td>0.1</td>\n",
       "      <td>-0.5</td>\n",
       "      <td>Zytel Investments Ltd.</td>\n",
       "      <td>2002</td>\n",
       "      <td>0.000000</td>\n",
       "      <td>NaN</td>\n",
       "    </tr>\n",
       "    <tr>\n",
       "      <th>241820</th>\n",
       "      <td>(Zytel Investments Ltd., 2003)</td>\n",
       "      <td>NaN</td>\n",
       "      <td>-0.5</td>\n",
       "      <td>Zytel Investments Ltd.</td>\n",
       "      <td>2003</td>\n",
       "      <td>NaN</td>\n",
       "      <td>NaN</td>\n",
       "    </tr>\n",
       "    <tr>\n",
       "      <th>241821</th>\n",
       "      <td>(Zytel Investments Ltd., 2004)</td>\n",
       "      <td>NaN</td>\n",
       "      <td>-0.3</td>\n",
       "      <td>Zytel Investments Ltd.</td>\n",
       "      <td>2004</td>\n",
       "      <td>NaN</td>\n",
       "      <td>NaN</td>\n",
       "    </tr>\n",
       "  </tbody>\n",
       "</table>\n",
       "</div>"
      ],
      "text/plain": [
       "var                                 id income profit                     cie  year    inc_gr  inc_gr4\n",
       "241817  (Zytel Investments Ltd., 2000)    0.3   -0.8  Zytel Investments Ltd.  2000       NaN      NaN\n",
       "241818  (Zytel Investments Ltd., 2001)    0.1   -0.4  Zytel Investments Ltd.  2001 -0.666667      NaN\n",
       "241819  (Zytel Investments Ltd., 2002)    0.1   -0.5  Zytel Investments Ltd.  2002  0.000000      NaN\n",
       "241820  (Zytel Investments Ltd., 2003)    NaN   -0.5  Zytel Investments Ltd.  2003       NaN      NaN\n",
       "241821  (Zytel Investments Ltd., 2004)    NaN   -0.3  Zytel Investments Ltd.  2004       NaN      NaN"
      ]
     },
     "execution_count": 40,
     "metadata": {},
     "output_type": "execute_result"
    }
   ],
   "source": [
    "temp_df.head()"
   ]
  },
  {
   "cell_type": "code",
   "execution_count": null,
   "metadata": {
    "collapsed": true
   },
   "outputs": [],
   "source": []
  }
 ],
 "metadata": {
  "kernelspec": {
   "display_name": "Python 2",
   "language": "python",
   "name": "python2"
  },
  "language_info": {
   "codemirror_mode": {
    "name": "ipython",
    "version": 2
   },
   "file_extension": ".py",
   "mimetype": "text/x-python",
   "name": "python",
   "nbconvert_exporter": "python",
   "pygments_lexer": "ipython2",
   "version": "2.7.10"
  }
 },
 "nbformat": 4,
 "nbformat_minor": 0
}

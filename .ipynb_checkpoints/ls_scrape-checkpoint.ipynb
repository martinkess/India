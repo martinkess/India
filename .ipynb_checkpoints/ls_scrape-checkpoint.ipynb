{
 "cells": [
  {
   "cell_type": "code",
   "execution_count": 1,
   "metadata": {
    "collapsed": true
   },
   "outputs": [],
   "source": [
    "from bs4 import BeautifulSoup\n",
    "import urllib2\n",
    "import requests\n",
    "import pandas as pd\n",
    "import re\n",
    "import time\n",
    "import numpy as np\n",
    "import json"
   ]
  },
  {
   "cell_type": "code",
   "execution_count": 6,
   "metadata": {
    "collapsed": false
   },
   "outputs": [],
   "source": [
    "all_cand = \"http://myneta.info/ls2014/index.php?action=summary&subAction=candidates_analyzed&sort=candidate#summary\"\n",
    "winners_crim = \"http://myneta.info/ls2014/index.php?action=summary&subAction=winner_crime&sort=candidate#summary\"\n",
    "source=requests.get(all_cand) # Modify here: winners works with smaller sample, all_cand with the whole set"
   ]
  },
  {
   "cell_type": "code",
   "execution_count": 7,
   "metadata": {
    "collapsed": false
   },
   "outputs": [],
   "source": [
    "tree= BeautifulSoup(source.text,\"html.parser\")"
   ]
  },
  {
   "cell_type": "code",
   "execution_count": 8,
   "metadata": {
    "collapsed": false
   },
   "outputs": [
    {
     "data": {
      "text/plain": [
       "22"
      ]
     },
     "execution_count": 8,
     "metadata": {},
     "output_type": "execute_result"
    }
   ],
   "source": [
    "len(tree)"
   ]
  },
  {
   "cell_type": "code",
   "execution_count": 9,
   "metadata": {
    "collapsed": false
   },
   "outputs": [
    {
     "data": {
      "text/plain": [
       "<title>Total candidates analyzed by NEW:Loksabha 2014 Election</title>"
      ]
     },
     "execution_count": 9,
     "metadata": {},
     "output_type": "execute_result"
    }
   ],
   "source": [
    "tree.title"
   ]
  },
  {
   "cell_type": "code",
   "execution_count": 10,
   "metadata": {
    "collapsed": false
   },
   "outputs": [],
   "source": [
    "all_links = tree.find_all('a')"
   ]
  },
  {
   "cell_type": "code",
   "execution_count": 11,
   "metadata": {
    "collapsed": false
   },
   "outputs": [
    {
     "name": "stdout",
     "output_type": "stream",
     "text": [
      "[<tr><td>11</td><td><a href=\"candidate.php?candidate_id=1105\">A Prasad</a><b></b></td><td>KOLAR</td>\n",
      "<td>IND</td><td align=\"center\" style=\"\">0</td><td>10th Pass</td>\n",
      "<td align=\"right\">Rs 8,40,000<br><span style=\"color:black;font-size:70%;text-decoration:none;white-space:nowrap\"> ~ 8 Lacs+</span></br></td><td align=\"right\">Rs 0<br><span style=\"color:black;font-size:70%;text-decoration:none;white-space:nowrap\"> ~ </span> </br></td></tr>, <tr><td>12</td><td><a href=\"candidate.php?candidate_id=340\">A Sampath</a><b></b></td><td>ATTINGAL</td>\n",
      "<td>CPI(M)</td><td align=\"center\" style=\"\"><span style=\"color:red;font-weight:bold;font-size:150%\">1</span></td><td>Doctorate</td>\n",
      "<td align=\"right\">Rs 1,77,91,149<br><span style=\"color:black;font-size:70%;text-decoration:none;white-space:nowrap\"> ~ 1 Crore+</span></br></td><td align=\"right\">Rs 14,21,392<br><span style=\"color:black;font-size:70%;text-decoration:none;white-space:nowrap\"> ~ 14 Lacs+</span> </br></td></tr>, <tr><td>13</td><td><a href=\"candidate.php?candidate_id=7501\">A Thavamani</a><b></b></td><td>MADURAI</td>\n",
      "<td>BSP</td><td align=\"center\" style=\"\">0</td><td>Illiterate</td>\n",
      "<td align=\"right\">Rs 51,000<br><span style=\"color:black;font-size:70%;text-decoration:none;white-space:nowrap\"> ~ 51 Thou+</span></br></td><td align=\"right\">Rs 0<br><span style=\"color:black;font-size:70%;text-decoration:none;white-space:nowrap\"> ~ </span> </br></td></tr>]\n"
     ]
    }
   ],
   "source": [
    "table_pol = tree.findAll('table')[2]\n",
    "rows = table_pol.findAll(\"tr\")[2:]\n",
    "print rows[10:13]"
   ]
  },
  {
   "cell_type": "code",
   "execution_count": 12,
   "metadata": {
    "collapsed": false
   },
   "outputs": [],
   "source": [
    "# We build one dictionary per candidate #\n",
    "# We give each candidates to idenfiers: its order in the list and its url address\n",
    "\n",
    "def id2(r):\n",
    "    url_string = str(r.find(\"a\").get(\"href\"))\n",
    "    id2 = int(re.search(r'\\d+', url_string).group())\n",
    "    return id2\n",
    "\n",
    "def c_link(r):\n",
    "    return r.find(\"a\").get(\"href\")\n",
    "def name(r):\n",
    "    return r.find(\"a\").get_text()\n",
    "def cols(r):\n",
    "    return r.findAll(\"td\")\n",
    "def assets(r):\n",
    "    col = cols(r)\n",
    "    ass1 = col[6].get_text().split(\"~\")[0].encode('ascii', 'ignore').replace(\"Rs\",\"\").replace(\",\",\"\")\n",
    "    if ass1 == \"Nil\":\n",
    "        ass2 = 0\n",
    "    else:\n",
    "        ass2=int(ass1)\n",
    "    return ass2\n",
    "\n",
    "def liab(r):\n",
    "    col = cols(r)\n",
    "    liab1 = col[7].get_text().split(\"~\")[0].encode('ascii', 'ignore').replace(\"Rs\",\"\").replace(\",\",\"\")\n",
    "    if liab1 == \"Nil\":\n",
    "        liab2 = 0\n",
    "    else:\n",
    "        liab2 = int(liab1)\n",
    "    return liab2\n",
    "\n",
    "info_candidate = lambda r: [int(cols(r)[0].get_text()),id2(r), r.find(\"a\").get(\"href\"),r.find(\"a\").get_text(),\n",
    "                            cols(r)[2].get_text(),cols(r)[3].get_text(),cols(r)[5].get_text(),\n",
    "                            int(cols(r)[4].get_text()),assets(r), liab(r)]\n",
    "\n",
    "title = ['id','id2','url','name','district','party','education','nr_crime','assets','liabilities']\n",
    "dict_candidates = [dict(zip(title,info_candidate(r))) for r in rows]"
   ]
  },
  {
   "cell_type": "code",
   "execution_count": 13,
   "metadata": {
    "collapsed": false
   },
   "outputs": [
    {
     "data": {
      "text/plain": [
       "[{'assets': 154566136,\n",
       "  'district': u'NAWADA',\n",
       "  'education': u'Post Graduate',\n",
       "  'id': 1,\n",
       "  'id2': 148,\n",
       "  'liabilities': 2604969,\n",
       "  'name': u'Kaushal Yadav',\n",
       "  'nr_crime': 8,\n",
       "  'party': u'JD(U)',\n",
       "  'url': u'candidate.php?candidate_id=148'},\n",
       " {'assets': 2191523,\n",
       "  'district': u'AZAMGARH',\n",
       "  'education': u'Others',\n",
       "  'id': 2,\n",
       "  'id2': 9496,\n",
       "  'liabilities': 0,\n",
       "  'name': u'M. Aamir Rashadi',\n",
       "  'nr_crime': 1,\n",
       "  'party': u'Rashtriya Ulama Council',\n",
       "  'url': u'candidate.php?candidate_id=9496'},\n",
       " {'assets': 306023,\n",
       "  'district': u'MAHARAJGANJ',\n",
       "  'education': u'Graduate Professional',\n",
       "  'id': 3,\n",
       "  'id2': 9706,\n",
       "  'liabilities': 0,\n",
       "  'name': u'Rakesh Kumar Giri',\n",
       "  'nr_crime': 0,\n",
       "  'party': u'IND',\n",
       "  'url': u'candidate.php?candidate_id=9706'},\n",
       " {'assets': 3630000,\n",
       "  'district': u'CHENNAI SOUTH',\n",
       "  'education': u'8th Pass',\n",
       "  'id': 4,\n",
       "  'id2': 6912,\n",
       "  'liabilities': 850000,\n",
       "  'name': u'(Kuppal)G.Devadoss',\n",
       "  'nr_crime': 0,\n",
       "  'party': u'IND',\n",
       "  'url': u'candidate.php?candidate_id=6912'},\n",
       " {'assets': 44357368,\n",
       "  'district': u'GARHWAL',\n",
       "  'education': u'Graduate Professional',\n",
       "  'id': 5,\n",
       "  'id2': 74,\n",
       "  'liabilities': 0,\n",
       "  'name': u'(Maj Gen (Retd.) ) Bhuwan Chandra Khanduri (Avsm)',\n",
       "  'nr_crime': 0,\n",
       "  'party': u'BJP',\n",
       "  'url': u'candidate.php?candidate_id=74'}]"
      ]
     },
     "execution_count": 13,
     "metadata": {},
     "output_type": "execute_result"
    }
   ],
   "source": [
    "len(dict_candidates)\n",
    "dict_candidates[0:5]"
   ]
  },
  {
   "cell_type": "code",
   "execution_count": 14,
   "metadata": {
    "collapsed": false
   },
   "outputs": [
    {
     "data": {
      "text/html": [
       "<div>\n",
       "<table border=\"1\" class=\"dataframe\">\n",
       "  <thead>\n",
       "    <tr style=\"text-align: right;\">\n",
       "      <th></th>\n",
       "      <th>id2</th>\n",
       "      <th>name</th>\n",
       "      <th>district</th>\n",
       "      <th>party</th>\n",
       "      <th>education</th>\n",
       "      <th>assets</th>\n",
       "      <th>liabilities</th>\n",
       "      <th>nr_crime</th>\n",
       "      <th>url</th>\n",
       "    </tr>\n",
       "  </thead>\n",
       "  <tbody>\n",
       "    <tr>\n",
       "      <th>4522</th>\n",
       "      <td>611</td>\n",
       "      <td>Nandan Nilekani</td>\n",
       "      <td>BANGALORE SOUTH</td>\n",
       "      <td>INC</td>\n",
       "      <td>Graduate Professional</td>\n",
       "      <td>77102957219</td>\n",
       "      <td>0</td>\n",
       "      <td>0</td>\n",
       "      <td>candidate.php?candidate_id=611</td>\n",
       "    </tr>\n",
       "    <tr>\n",
       "      <th>6782</th>\n",
       "      <td>9403</td>\n",
       "      <td>Shamali Das</td>\n",
       "      <td>KOLKATA DAKSHIN</td>\n",
       "      <td>IND</td>\n",
       "      <td>8th Pass</td>\n",
       "      <td>20000060000</td>\n",
       "      <td>0</td>\n",
       "      <td>0</td>\n",
       "      <td>candidate.php?candidate_id=9403</td>\n",
       "    </tr>\n",
       "    <tr>\n",
       "      <th>6781</th>\n",
       "      <td>9378</td>\n",
       "      <td>Shamali Das</td>\n",
       "      <td>JADAVPUR</td>\n",
       "      <td>IND</td>\n",
       "      <td>8th Pass</td>\n",
       "      <td>20000060000</td>\n",
       "      <td>0</td>\n",
       "      <td>0</td>\n",
       "      <td>candidate.php?candidate_id=9378</td>\n",
       "    </tr>\n",
       "    <tr>\n",
       "      <th>433</th>\n",
       "      <td>2677</td>\n",
       "      <td>Anil Kumar Sharma</td>\n",
       "      <td>JAHANABAD</td>\n",
       "      <td>JD(U)</td>\n",
       "      <td>Doctorate</td>\n",
       "      <td>8498803720</td>\n",
       "      <td>1095393904</td>\n",
       "      <td>1</td>\n",
       "      <td>candidate.php?candidate_id=2677</td>\n",
       "    </tr>\n",
       "    <tr>\n",
       "      <th>2846</th>\n",
       "      <td>8183</td>\n",
       "      <td>Jayadev Galla</td>\n",
       "      <td>GUNTUR</td>\n",
       "      <td>TDP</td>\n",
       "      <td>Graduate</td>\n",
       "      <td>6830581361</td>\n",
       "      <td>202334283</td>\n",
       "      <td>0</td>\n",
       "      <td>candidate.php?candidate_id=8183</td>\n",
       "    </tr>\n",
       "  </tbody>\n",
       "</table>\n",
       "</div>"
      ],
      "text/plain": [
       "       id2               name          district  party              education  \\\n",
       "4522   611    Nandan Nilekani   BANGALORE SOUTH    INC  Graduate Professional   \n",
       "6782  9403        Shamali Das  KOLKATA DAKSHIN     IND               8th Pass   \n",
       "6781  9378        Shamali Das          JADAVPUR    IND               8th Pass   \n",
       "433   2677  Anil Kumar Sharma         JAHANABAD  JD(U)              Doctorate   \n",
       "2846  8183      Jayadev Galla            GUNTUR    TDP               Graduate   \n",
       "\n",
       "           assets  liabilities  nr_crime                              url  \n",
       "4522  77102957219            0         0   candidate.php?candidate_id=611  \n",
       "6782  20000060000            0         0  candidate.php?candidate_id=9403  \n",
       "6781  20000060000            0         0  candidate.php?candidate_id=9378  \n",
       "433    8498803720   1095393904         1  candidate.php?candidate_id=2677  \n",
       "2846   6830581361    202334283         0  candidate.php?candidate_id=8183  "
      ]
     },
     "execution_count": 14,
     "metadata": {},
     "output_type": "execute_result"
    }
   ],
   "source": [
    "# Now we create a really big dictionary which stores url and page for each candidate\n",
    "# Work in progress...\n",
    "# First transform the thing into a dataframe\n",
    "\n",
    "df_pol = pd.DataFrame(dict_candidates)\n",
    "order_cols = ['id2','name','district','party','education','assets','liabilities','nr_crime','url']\n",
    "df_pol = df_pol[order_cols].sort(['assets'],ascending=0)\n",
    "\n",
    "df_small=df_pol[[\"id2\",\"url\"]][0:3] # I use df_small to test the code before running it on 8400 candidates!\n",
    "df_small\n",
    "df_pol.head()\n",
    "\n",
    "#Note already that the same guy can be candidate at 2 districts #\n",
    "# Might be a problem"
   ]
  },
  {
   "cell_type": "code",
   "execution_count": 51,
   "metadata": {
    "collapsed": true
   },
   "outputs": [],
   "source": [
    "urlcache={}"
   ]
  },
  {
   "cell_type": "code",
   "execution_count": 52,
   "metadata": {
    "collapsed": false
   },
   "outputs": [],
   "source": [
    "def get_page(url):\n",
    "    # Check if URL has already been visited.\n",
    "    if (url not in urlcache) or (urlcache[url]==1) or (urlcache[url]==2):\n",
    "        time.sleep(1)\n",
    "        steps = len(urlcache)\n",
    "        if 100*int(steps/100)==steps:\n",
    "            print steps # This counter tells us how many links were downloaded at every 100 mark\n",
    "        # try/except blocks are used whenever the code could generate an exception (e.g. division by zero).\n",
    "        # In this case we don't know if the page really exists, or even if it does, if we'll be able to reach it.\n",
    "        try:\n",
    "            r = requests.get(\"http://myneta.info/ls2014/%s\" % url)\n",
    "\n",
    "            if r.status_code == 200:\n",
    "                urlcache[url] = r.text\n",
    "            else:\n",
    "                urlcache[url] = 1\n",
    "        except:\n",
    "            urlcache[url] = 2\n",
    "    return urlcache[url]"
   ]
  },
  {
   "cell_type": "code",
   "execution_count": 57,
   "metadata": {
    "collapsed": false
   },
   "outputs": [
    {
     "ename": "NameError",
     "evalue": "global name 'urlcache' is not defined",
     "output_type": "error",
     "traceback": [
      "\u001b[1;31m---------------------------------------------------------------------------\u001b[0m",
      "\u001b[1;31mNameError\u001b[0m                                 Traceback (most recent call last)",
      "\u001b[1;32m<ipython-input-57-893c9dcedc6f>\u001b[0m in \u001b[0;36m<module>\u001b[1;34m()\u001b[0m\n\u001b[1;32m----> 1\u001b[1;33m \u001b[0mdf_pol\u001b[0m\u001b[1;33m[\u001b[0m\u001b[1;34m\"url\"\u001b[0m\u001b[1;33m]\u001b[0m\u001b[1;33m.\u001b[0m\u001b[0mapply\u001b[0m\u001b[1;33m(\u001b[0m\u001b[0mget_page\u001b[0m\u001b[1;33m)\u001b[0m \u001b[1;31m# This is a very long call (~4.5 hours on full dataset)\u001b[0m\u001b[1;33m\u001b[0m\u001b[0m\n\u001b[0m\u001b[0;32m      2\u001b[0m                               \u001b[1;31m# I am saving it in order to run it only once\u001b[0m\u001b[1;33m\u001b[0m\u001b[1;33m\u001b[0m\u001b[0m\n",
      "\u001b[1;32mC:\\Users\\mkkes_000\\Anaconda\\lib\\site-packages\\pandas\\core\\series.pyc\u001b[0m in \u001b[0;36mapply\u001b[1;34m(self, func, convert_dtype, args, **kwds)\u001b[0m\n\u001b[0;32m   2058\u001b[0m             \u001b[0mvalues\u001b[0m \u001b[1;33m=\u001b[0m \u001b[0mlib\u001b[0m\u001b[1;33m.\u001b[0m\u001b[0mmap_infer\u001b[0m\u001b[1;33m(\u001b[0m\u001b[0mvalues\u001b[0m\u001b[1;33m,\u001b[0m \u001b[0mlib\u001b[0m\u001b[1;33m.\u001b[0m\u001b[0mTimestamp\u001b[0m\u001b[1;33m)\u001b[0m\u001b[1;33m\u001b[0m\u001b[0m\n\u001b[0;32m   2059\u001b[0m \u001b[1;33m\u001b[0m\u001b[0m\n\u001b[1;32m-> 2060\u001b[1;33m         \u001b[0mmapped\u001b[0m \u001b[1;33m=\u001b[0m \u001b[0mlib\u001b[0m\u001b[1;33m.\u001b[0m\u001b[0mmap_infer\u001b[0m\u001b[1;33m(\u001b[0m\u001b[0mvalues\u001b[0m\u001b[1;33m,\u001b[0m \u001b[0mf\u001b[0m\u001b[1;33m,\u001b[0m \u001b[0mconvert\u001b[0m\u001b[1;33m=\u001b[0m\u001b[0mconvert_dtype\u001b[0m\u001b[1;33m)\u001b[0m\u001b[1;33m\u001b[0m\u001b[0m\n\u001b[0m\u001b[0;32m   2061\u001b[0m         \u001b[1;32mif\u001b[0m \u001b[0mlen\u001b[0m\u001b[1;33m(\u001b[0m\u001b[0mmapped\u001b[0m\u001b[1;33m)\u001b[0m \u001b[1;32mand\u001b[0m \u001b[0misinstance\u001b[0m\u001b[1;33m(\u001b[0m\u001b[0mmapped\u001b[0m\u001b[1;33m[\u001b[0m\u001b[1;36m0\u001b[0m\u001b[1;33m]\u001b[0m\u001b[1;33m,\u001b[0m \u001b[0mSeries\u001b[0m\u001b[1;33m)\u001b[0m\u001b[1;33m:\u001b[0m\u001b[1;33m\u001b[0m\u001b[0m\n\u001b[0;32m   2062\u001b[0m             \u001b[1;32mfrom\u001b[0m \u001b[0mpandas\u001b[0m\u001b[1;33m.\u001b[0m\u001b[0mcore\u001b[0m\u001b[1;33m.\u001b[0m\u001b[0mframe\u001b[0m \u001b[1;32mimport\u001b[0m \u001b[0mDataFrame\u001b[0m\u001b[1;33m\u001b[0m\u001b[0m\n",
      "\u001b[1;32mpandas\\src\\inference.pyx\u001b[0m in \u001b[0;36mpandas.lib.map_infer (pandas\\lib.c:58435)\u001b[1;34m()\u001b[0m\n",
      "\u001b[1;32m<ipython-input-52-b98a48979740>\u001b[0m in \u001b[0;36mget_page\u001b[1;34m(url)\u001b[0m\n\u001b[0;32m      1\u001b[0m \u001b[1;32mdef\u001b[0m \u001b[0mget_page\u001b[0m\u001b[1;33m(\u001b[0m\u001b[0murl\u001b[0m\u001b[1;33m)\u001b[0m\u001b[1;33m:\u001b[0m\u001b[1;33m\u001b[0m\u001b[0m\n\u001b[0;32m      2\u001b[0m     \u001b[1;31m# Check if URL has already been visited.\u001b[0m\u001b[1;33m\u001b[0m\u001b[1;33m\u001b[0m\u001b[0m\n\u001b[1;32m----> 3\u001b[1;33m     \u001b[1;32mif\u001b[0m \u001b[1;33m(\u001b[0m\u001b[0murl\u001b[0m \u001b[1;32mnot\u001b[0m \u001b[1;32min\u001b[0m \u001b[0murlcache\u001b[0m\u001b[1;33m)\u001b[0m \u001b[1;32mor\u001b[0m \u001b[1;33m(\u001b[0m\u001b[0murlcache\u001b[0m\u001b[1;33m[\u001b[0m\u001b[0murl\u001b[0m\u001b[1;33m]\u001b[0m\u001b[1;33m==\u001b[0m\u001b[1;36m1\u001b[0m\u001b[1;33m)\u001b[0m \u001b[1;32mor\u001b[0m \u001b[1;33m(\u001b[0m\u001b[0murlcache\u001b[0m\u001b[1;33m[\u001b[0m\u001b[0murl\u001b[0m\u001b[1;33m]\u001b[0m\u001b[1;33m==\u001b[0m\u001b[1;36m2\u001b[0m\u001b[1;33m)\u001b[0m\u001b[1;33m:\u001b[0m\u001b[1;33m\u001b[0m\u001b[0m\n\u001b[0m\u001b[0;32m      4\u001b[0m         \u001b[0mtime\u001b[0m\u001b[1;33m.\u001b[0m\u001b[0msleep\u001b[0m\u001b[1;33m(\u001b[0m\u001b[1;36m1\u001b[0m\u001b[1;33m)\u001b[0m\u001b[1;33m\u001b[0m\u001b[0m\n\u001b[0;32m      5\u001b[0m         \u001b[0msteps\u001b[0m \u001b[1;33m=\u001b[0m \u001b[0mlen\u001b[0m\u001b[1;33m(\u001b[0m\u001b[0murlcache\u001b[0m\u001b[1;33m)\u001b[0m\u001b[1;33m\u001b[0m\u001b[0m\n",
      "\u001b[1;31mNameError\u001b[0m: global name 'urlcache' is not defined"
     ]
    }
   ],
   "source": [
    "df_pol[\"url\"].apply(get_page) # This is a very long call (~4.5 hours on full dataset)\n",
    "                              # I am saving it in order to run it only once"
   ]
  },
  {
   "cell_type": "code",
   "execution_count": 54,
   "metadata": {
    "collapsed": false
   },
   "outputs": [
    {
     "name": "stdout",
     "output_type": "stream",
     "text": [
      "7\n",
      "True\n"
     ]
    }
   ],
   "source": [
    "print np.sum([(urlcache[k]==1) or (urlcache[k]==2) for k in urlcache])# no one or 0's\n",
    "print len(df_pol.url.unique())==len(urlcache)#we got all of the urls"
   ]
  },
  {
   "cell_type": "code",
   "execution_count": 55,
   "metadata": {
    "collapsed": false
   },
   "outputs": [],
   "source": [
    "with open(\"tempdata/polinfo.json\",\"w\") as fd:\n",
    "    json.dump(urlcache, fd)\n",
    "del urlcache"
   ]
  },
  {
   "cell_type": "code",
   "execution_count": 56,
   "metadata": {
    "collapsed": true
   },
   "outputs": [],
   "source": [
    "with open(\"tempdata/polinfo.json\") as json_file:\n",
    "    pol_pages = json.load(json_file) # Next iterations will start from here!"
   ]
  },
  {
   "cell_type": "code",
   "execution_count": 58,
   "metadata": {
    "collapsed": false
   },
   "outputs": [
    {
     "name": "stdout",
     "output_type": "stream",
     "text": [
      "http://myneta.info/ls2014/candidate.php?candidate_id=4794\n"
     ]
    }
   ],
   "source": [
    "# Now each candidate has an url - so later we  will parse each of their pages and scrape them#\n",
    "#But first let's look how the page looks like for a few individual candidates\n",
    "pages_list = [pol_pages[x] for x in df_pol['url'][0:10]] # List of 10 that we can start looking at\n",
    "\n",
    "i = 5\n",
    "url_candidate = pol_pages.keys()[i]\n",
    "full_url = \"http://myneta.info/ls2014/\" + url_candidate\n",
    "page_candidate = pol_pages.values()[i]\n",
    "c_soup = BeautifulSoup(page_candidate,\"html.parser\")\n",
    "print full_url"
   ]
  },
  {
   "cell_type": "code",
   "execution_count": 59,
   "metadata": {
    "collapsed": false
   },
   "outputs": [
    {
     "name": "stdout",
     "output_type": "stream",
     "text": [
      "PARAS DADA SAKLECHA  \n",
      " works as a:  . \n",
      " Profession of spouse: Interest &  Job work . \n",
      " Address:              H. NO. 19/1 Shanti nagar Shatlam  , in district:  \n",
      "        MANDSOUR  (MADHYA PRADESH)\n",
      "         for party: AAP\n",
      "  The dude is 59 years old\n",
      "\n",
      " \n",
      "9\n",
      "<table cellpadding=\"0\" cellspacing=\"0\" id=\"table3\" width=\"80%\">\n",
      "<tr style=\"background-color:#336633;color:white;\" valign=\"top\"><th colspan=\"3\">Other Elections</th></tr>\n",
      "<tr style=\"background-color:#336633;color:white;\" valign=\"top\"><th>Declaration in</th><th>Declared Assets</th><th>Declared Cases</th></tr>\n",
      "<tr><td style=\"background-color:#F3F3F3;\"><b>Madhya Pradesh 2013</b></td> <td style=\"background-color:#F3F3F3;\"><b>Rs46,24,553</b><span style=\"color:black;text-decoration:none;white-space:nowrap\"><br>~46 Lacs+</br></span></td><td style=\"background-color:#F3F3F3;\">0</td>\n",
      "</tr><tr><td style=\"background-color:#F3F3F3;\"><b>Madhya Pradesh 2008</b></td> <td style=\"background-color:#F3F3F3;\"><b>Rs9,45,000</b><span style=\"color:black;text-decoration:none;white-space:nowrap\"><br>~9 Lacs+</br></span></td><td style=\"background-color:#F3F3F3;\">0</td>\n",
      "</tr>\n",
      "<tr><td colspan=\"3\"><a href=\"/compare_profile.php?group_id=SbnN5qtWskKnxzuJrcp2\">Click here for more details</a></td></tr></table>\n"
     ]
    }
   ],
   "source": [
    "#### Personal info #########\n",
    "\n",
    "personal = c_soup.findAll(attrs={\"class\": \"grid_3 alpha\"})[0]\n",
    "full_name = personal.find(\"h2\").get_text()\n",
    "district1 = personal.find(\"h5\").get_text()\n",
    "grid2 = personal.findAll(attrs={\"class\":\"grid_2 alpha\"})\n",
    "party_full = grid2[0].get_text().split(\":\")[1]\n",
    "age = int(grid2[2].get_text().split(\":\")[1])\n",
    "address = grid2[3].get_text().split(\":\")[1].split(\"\\n\")[1] # Careful this one changes\n",
    "self_profession = personal.find(\"p\").get_text().split('\\n')[0].split(\":\")[1]\n",
    "spouse_profession = personal.find(\"p\").get_text().split('\\n')[1].split(\":\")[1]\n",
    "print full_name, \"\\n works as a:\", self_profession, \". \\n Profession of spouse:\", spouse_profession, \". \\n Address: \",\n",
    "print address, \", in district: \", district1, \"for party:\", party_full, \"The dude is\", age, \"years old\"\n",
    "\n",
    "########## Assets  & Criminality ###########\n",
    "# Ok let's get serious and find his assets and criminal activity\n",
    "all_tables = c_soup.findAll(\"table\")\n",
    "print \"\\n \\n\" , len(all_tables)\n",
    "table_inc = all_tables[0]\n",
    "table_crim = all_tables[1]\n",
    "table_assets1 = all_tables[2]\n",
    "table_assets2 = all_tables[3]\n",
    "table_liab = all_tables[4]\n",
    "print table_inc\n",
    "# That does not really work: some have a table for criminal activities, others not\n",
    "# So we need more work to know exactly how to have the right table correspond to the right thing\n"
   ]
  },
  {
   "cell_type": "code",
   "execution_count": null,
   "metadata": {
    "collapsed": true
   },
   "outputs": [],
   "source": []
  }
 ],
 "metadata": {
  "kernelspec": {
   "display_name": "Python 2",
   "language": "python",
   "name": "python2"
  },
  "language_info": {
   "codemirror_mode": {
    "name": "ipython",
    "version": 2
   },
   "file_extension": ".py",
   "mimetype": "text/x-python",
   "name": "python",
   "nbconvert_exporter": "python",
   "pygments_lexer": "ipython2",
   "version": "2.7.10"
  }
 },
 "nbformat": 4,
 "nbformat_minor": 0
}

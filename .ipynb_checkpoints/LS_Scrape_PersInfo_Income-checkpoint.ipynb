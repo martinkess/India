{
 "cells": [
  {
   "cell_type": "code",
   "execution_count": 1,
   "metadata": {
    "collapsed": false
   },
   "outputs": [],
   "source": [
    "%matplotlib inline \n",
    "from bs4 import BeautifulSoup\n",
    "import urllib2\n",
    "import requests\n",
    "import pandas as pd\n",
    "import re\n",
    "import time\n",
    "import numpy as np\n",
    "import json\n",
    "import seaborn as sns\n",
    "sns.set_style(\"whitegrid\")\n",
    "sns.set_context(\"poster\")\n",
    "import matplotlib.pyplot as plt\n",
    "from pyquery import PyQuery as pq\n",
    "dropbox = \"C:\\Users\\mkkes_000\\Dropbox\\Indiastuff\\OutputTables\""
   ]
  },
  {
   "cell_type": "code",
   "execution_count": 2,
   "metadata": {
    "collapsed": false
   },
   "outputs": [],
   "source": [
    "with open(dropbox + \"\\candidate_pages.json\") as json_file:\n",
    "    pol_pages = json.load(json_file) # Next iterations will start from here!"
   ]
  },
  {
   "cell_type": "code",
   "execution_count": 54,
   "metadata": {
    "collapsed": true
   },
   "outputs": [],
   "source": [
    "def find_year(link):\n",
    "    year = re.findall('\\d+', link)\n",
    "    return int(year[0])"
   ]
  },
  {
   "cell_type": "code",
   "execution_count": 55,
   "metadata": {
    "collapsed": false
   },
   "outputs": [
    {
     "data": {
      "text/plain": [
       "2014"
      ]
     },
     "execution_count": 55,
     "metadata": {},
     "output_type": "execute_result"
    }
   ],
   "source": [
    "find_year(\"http://www.myneta.info/andhra2014/index.php?action=affidavitComparison&myneta_folder2=ap09&id1=2150&id2=2415\")"
   ]
  },
  {
   "cell_type": "markdown",
   "metadata": {},
   "source": [
    "### First we start with the income data for each candidate, collecting all info in a csv file. ###"
   ]
  },
  {
   "cell_type": "code",
   "execution_count": 8,
   "metadata": {
    "collapsed": true
   },
   "outputs": [],
   "source": [
    "cleaner = lambda e: int(re.findall('\\d+', e.replace(',', '').split(\" ~ \")[0])[0])\n",
    "income_cols = [\"Relation\",\"PAN\",\"Year\",\"Income\"]\n",
    "\n",
    "def income_table(candidate_id):\n",
    "    page_candidate = pol_pages[candidate_id]\n",
    "    c_soup = BeautifulSoup(page_candidate,\"html.parser\")\n",
    "    table_titles =[x.get_text().strip() for x in c_soup.findAll(\"h3\")]\n",
    "    tables = [x.find_next() for x in c_soup.findAll(\"h3\")]\n",
    "    dict_tab = dict(zip(table_titles,tables))\n",
    "    income_tab = dict_tab['Details of PAN and status of Income Tax return']\n",
    "    income_rows = income_tab.find_all(\"tr\")\n",
    "    dict_income = {}\n",
    "    df_inc = pd.DataFrame([])\n",
    "    if income_cols==[]:\n",
    "        dict_income = {'HH':{\"Year\":np.nan,\"PAN\":\"N\",\"Relation\":np.nan,\"Income\":np.nan}}\n",
    "    else:\n",
    "        for r in income_rows[1:]:\n",
    "            list_items = [x.get_text() for x in r.findAll(\"td\")]\n",
    "            if len(list_items)==4 and list_items[3]!=\"Nil\":\n",
    "                list_items[3] = cleaner(list_items[3])\n",
    "            if len(list_items)==4 and list_items[3]==\"Nil\":\n",
    "                list_items[3] = 0\n",
    "            dict_income[list_items[0]] = dict(zip(income_cols,list_items))\n",
    "        df_inc = df_inc.from_dict(dict_income,orient = \"index\")\n",
    "    try:\n",
    "        df_inc = df_inc[df_inc.PAN==\"Y\"]\n",
    "        HHinc = np.sum(df_inc['Income'])\n",
    "        HHDeclarations = np.count_nonzero(df_inc['PAN'])\n",
    "        self_income = dict_income['self']['Income']\n",
    "        self_declare = dict_income['self']['PAN']\n",
    "    except AttributeError:\n",
    "        df_inc=df_inc\n",
    "        HHinc = np.nan\n",
    "        HHDeclarations = 0\n",
    "        self_income = np.nan\n",
    "        self_declare = np.nan\n",
    "    newdict = {'self_inc':self_income,'self_declare':self_declare,'HHinc':HHinc,\"HHDeclarations\":HHDeclarations}\n",
    "    return newdict"
   ]
  },
  {
   "cell_type": "code",
   "execution_count": 14,
   "metadata": {
    "collapsed": false
   },
   "outputs": [
    {
     "name": "stdout",
     "output_type": "stream",
     "text": [
      "http://myneta.info/ls2009/candidate.php?candidate_id=8732\n"
     ]
    },
    {
     "data": {
      "text/plain": [
       "[u'Educational Details',\n",
       " u'Details of Liabilities',\n",
       " u'Crime-O-Meter',\n",
       " u'Assets & Liabilities',\n",
       " u'Details of Immovable Assets',\n",
       " u'Details of Criminal Cases',\n",
       " u'Details of Movable Assets',\n",
       " u'HelpLine & SMS',\n",
       " u'Connect with us',\n",
       " u'Myneta Android App',\n",
       " u'If you notice any discrepancy between affidavits and our data, you can use the message box below to send a message to us.',\n",
       " u'Find us on facebook']"
      ]
     },
     "execution_count": 14,
     "metadata": {},
     "output_type": "execute_result"
    }
   ],
   "source": [
    "candidate_id = pol_pages.keys()[5]\n",
    "print candidate_id\n",
    "page_candidate = pol_pages[candidate_id]\n",
    "c_soup = BeautifulSoup(page_candidate,\"html.parser\")\n",
    "table_titles =[x.get_text().strip() for x in c_soup.findAll(\"h3\")]\n",
    "tables = [x.find_next() for x in c_soup.findAll(\"h3\")]\n",
    "dict_tab = dict(zip(table_titles,tables))\n",
    "dict_tab.keys()\n",
    "#    income_tab = dict_tab['Details of PAN and status of Income Tax return']\n",
    "#    income_rows = income_tab.find_all(\"tr\")\n",
    "#    dict_income = {}\n",
    "#    df_inc = pd.DataFrame([])\n",
    "#    if income_cols==[]:\n",
    "#        dict_income = {'HH':{\"Year\":np.nan,\"PAN\":\"N\",\"Relation\":np.nan,\"Income\":np.nan}}\n",
    "#    else:\n",
    "#        for r in income_rows[1:]:\n",
    "#            list_items = [x.get_text() for x in r.findAll(\"td\")]\n",
    "#            if len(list_items)==4 and list_items[3]!=\"Nil\":\n",
    "#                list_items[3] = cleaner(list_items[3])\n",
    "#            if len(list_items)==4 and list_items[3]==\"Nil\":\n",
    "#                list_items[3] = 0\n",
    "#            dict_income[list_items[0]] = dict(zip(income_cols,list_items))\n",
    "#        df_inc = df_inc.from_dict(dict_income,orient = \"index\")\n",
    "#    try:\n",
    "   #     df_inc = df_inc[df_inc.PAN==\"Y\"]\n",
    "    #    HHinc = np.sum(df_inc['Income'])\n",
    "     #   HHDeclarations = np.count_nonzero(df_inc['PAN'])\n",
    "      #  self_income = dict_income['self']['Income']\n",
    "       # self_declare = dict_income['self']['PAN']\n",
    "   # except AttributeError:\n",
    "    #    df_inc=df_inc\n",
    "     #   HHinc = np.nan\n",
    "      #  HHDeclarations = 0\n",
    "       # self_income = np.nan\n",
    "        #self_declare = np.nan\n",
    "    #newdict = {'self_inc':self_income,'self_declare':self_declare,'HHinc':HHinc,\"HHDeclarations\":HHDeclarations}"
   ]
  },
  {
   "cell_type": "code",
   "execution_count": 33,
   "metadata": {
    "collapsed": false
   },
   "outputs": [
    {
     "ename": "SyntaxError",
     "evalue": "'break' outside loop (<timed exec>, line 4)",
     "output_type": "error",
     "traceback": [
      "\u001b[1;36m  File \u001b[1;32m\"<timed exec>\"\u001b[1;36m, line \u001b[1;32m4\u001b[0m\n\u001b[1;31mSyntaxError\u001b[0m\u001b[1;31m:\u001b[0m 'break' outside loop\n"
     ]
    }
   ],
   "source": [
    "%%time\n",
    "counterror = 0\n",
    "dict_allinc = {}\n",
    "if any(\"Details of PAN and status of Income Tax return\" in dict_tab.keys())==False:\n",
    "    break\n",
    "else:\n",
    "    for k,cid in enumerate(pol_pages.keys()):\n",
    "        year = find_year(cid)\n",
    "        try:\n",
    "            dict_allinc[cid] = income_table(cid)\n",
    "        except TypeError:\n",
    "            counterror = counterror+1\n",
    "            print \"Error with this page: \", cid\n",
    "        except KeyError:\n",
    "            counterror = counterror+1\n",
    "            print \"Error with this page: \", cid\n",
    "        if k%100==0:\n",
    "            print k,\n",
    "print \"\\n Number of errors: \", counterror"
   ]
  },
  {
   "cell_type": "code",
   "execution_count": null,
   "metadata": {
    "collapsed": false
   },
   "outputs": [],
   "source": [
    "d_inc_HH=pd.DataFrame([])\n",
    "d_inc_HH = d_inc_HH.from_dict(dict_allinc,orient = \"index\") #d_inc_HH associates income to all candidates\n",
    "                                                             # as well as for the whole family\n",
    "                                                             # and the number of declarations\n",
    "d_inc_HH.to_csv(\"C:\\Users\\mkkes_000\\Dropbox\\Indiastuff\\OutputTables\\incomes.csv\", index=True)\n",
    "d_inc_HH.head()"
   ]
  },
  {
   "cell_type": "code",
   "execution_count": null,
   "metadata": {
    "collapsed": false
   },
   "outputs": [],
   "source": [
    "#This part is just to play a bit with incomes\n",
    "d_inc = d_inc_HH.copy()\n",
    "d_inc['ln_HHinc'] = np.log(d_inc['HHinc'])\n",
    "d_inc['ln_selfinc'] = np.log(d_inc['self_inc'])\n",
    "d_inc['sh_self'] = d_inc['self_inc']/d_inc['HHinc']\n",
    "sns.kdeplot(d_inc.ln_HHinc)\n",
    "sns.kdeplot(d_inc.ln_selfinc)"
   ]
  },
  {
   "cell_type": "code",
   "execution_count": 23,
   "metadata": {
    "collapsed": false
   },
   "outputs": [
    {
     "data": {
      "text/html": [
       "<div>\n",
       "<table border=\"1\" class=\"dataframe\">\n",
       "  <thead>\n",
       "    <tr style=\"text-align: right;\">\n",
       "      <th></th>\n",
       "      <th>HHinc</th>\n",
       "      <th>HHDeclarations</th>\n",
       "      <th>self_inc</th>\n",
       "      <th>ln_HHinc</th>\n",
       "      <th>ln_selfinc</th>\n",
       "      <th>sh_self</th>\n",
       "    </tr>\n",
       "  </thead>\n",
       "  <tbody>\n",
       "    <tr>\n",
       "      <th>count</th>\n",
       "      <td>3.797000e+03</td>\n",
       "      <td>5965.000000</td>\n",
       "      <td>3.797000e+03</td>\n",
       "      <td>3797.000000</td>\n",
       "      <td>3797.000000</td>\n",
       "      <td>3797.000000</td>\n",
       "    </tr>\n",
       "    <tr>\n",
       "      <th>mean</th>\n",
       "      <td>2.907485e+06</td>\n",
       "      <td>1.146857</td>\n",
       "      <td>2.010333e+06</td>\n",
       "      <td>13.377243</td>\n",
       "      <td>-inf</td>\n",
       "      <td>0.754972</td>\n",
       "    </tr>\n",
       "    <tr>\n",
       "      <th>std</th>\n",
       "      <td>3.334908e+07</td>\n",
       "      <td>1.076341</td>\n",
       "      <td>2.396129e+07</td>\n",
       "      <td>1.336438</td>\n",
       "      <td>NaN</td>\n",
       "      <td>0.325898</td>\n",
       "    </tr>\n",
       "    <tr>\n",
       "      <th>min</th>\n",
       "      <td>1.670000e+02</td>\n",
       "      <td>0.000000</td>\n",
       "      <td>0.000000e+00</td>\n",
       "      <td>5.117994</td>\n",
       "      <td>-inf</td>\n",
       "      <td>0.000000</td>\n",
       "    </tr>\n",
       "    <tr>\n",
       "      <th>25%</th>\n",
       "      <td>2.609200e+05</td>\n",
       "      <td>0.000000</td>\n",
       "      <td>2.023000e+05</td>\n",
       "      <td>12.471969</td>\n",
       "      <td>12.217507</td>\n",
       "      <td>0.532683</td>\n",
       "    </tr>\n",
       "    <tr>\n",
       "      <th>50%</th>\n",
       "      <td>5.855120e+05</td>\n",
       "      <td>1.000000</td>\n",
       "      <td>3.750000e+05</td>\n",
       "      <td>13.280242</td>\n",
       "      <td>12.834681</td>\n",
       "      <td>0.991629</td>\n",
       "    </tr>\n",
       "    <tr>\n",
       "      <th>75%</th>\n",
       "      <td>1.295175e+06</td>\n",
       "      <td>2.000000</td>\n",
       "      <td>8.150000e+05</td>\n",
       "      <td>14.074156</td>\n",
       "      <td>13.610943</td>\n",
       "      <td>1.000000</td>\n",
       "    </tr>\n",
       "    <tr>\n",
       "      <th>max</th>\n",
       "      <td>1.684165e+09</td>\n",
       "      <td>6.000000</td>\n",
       "      <td>1.016221e+09</td>\n",
       "      <td>21.244536</td>\n",
       "      <td>20.739357</td>\n",
       "      <td>8.000000</td>\n",
       "    </tr>\n",
       "  </tbody>\n",
       "</table>\n",
       "</div>"
      ],
      "text/plain": [
       "              HHinc  HHDeclarations      self_inc     ln_HHinc   ln_selfinc  \\\n",
       "count  3.797000e+03     5965.000000  3.797000e+03  3797.000000  3797.000000   \n",
       "mean   2.907485e+06        1.146857  2.010333e+06    13.377243         -inf   \n",
       "std    3.334908e+07        1.076341  2.396129e+07     1.336438          NaN   \n",
       "min    1.670000e+02        0.000000  0.000000e+00     5.117994         -inf   \n",
       "25%    2.609200e+05        0.000000  2.023000e+05    12.471969    12.217507   \n",
       "50%    5.855120e+05        1.000000  3.750000e+05    13.280242    12.834681   \n",
       "75%    1.295175e+06        2.000000  8.150000e+05    14.074156    13.610943   \n",
       "max    1.684165e+09        6.000000  1.016221e+09    21.244536    20.739357   \n",
       "\n",
       "           sh_self  \n",
       "count  3797.000000  \n",
       "mean      0.754972  \n",
       "std       0.325898  \n",
       "min       0.000000  \n",
       "25%       0.532683  \n",
       "50%       0.991629  \n",
       "75%       1.000000  \n",
       "max       8.000000  "
      ]
     },
     "execution_count": 23,
     "metadata": {},
     "output_type": "execute_result"
    }
   ],
   "source": [
    "d_inc[d_inc.HHinc!=0].describe()"
   ]
  },
  {
   "cell_type": "markdown",
   "metadata": {},
   "source": [
    "### In this second part we look at the personal information for each candidate. ###"
   ]
  },
  {
   "cell_type": "code",
   "execution_count": 58,
   "metadata": {
    "collapsed": false
   },
   "outputs": [],
   "source": [
    "cols = ['year','cid','full_name','district','state','party_full','address','self_profession','spouse_profession','age']\n",
    "def personal_info(candidate_id):\n",
    "    year = find_year(candidate_id)\n",
    "    page_candidate = pol_pages[candidate_id]\n",
    "    c_soup = BeautifulSoup(page_candidate,\"html.parser\")\n",
    "    personal = c_soup.findAll(attrs={\"class\": \"grid_3 alpha\"})[0]\n",
    "    full_name = personal.find(\"h2\").get_text().strip().title()\n",
    "    district1 = personal.find(\"h5\").get_text().strip()\n",
    "    district = district1.title()\n",
    "    state = district1[district1.find(\"(\")+1:district1.find(\")\")].title()\n",
    "    grid2 = personal.findAll(attrs={\"class\":\"grid_2 alpha\"})\n",
    "    party_full = grid2[0].get_text().split(\":\")[1].split(\"\\n\")[0]\n",
    "    age = grid2[2].get_text().split(\":\")[1].split(\"\\n\")[0]\n",
    "    try:\n",
    "        age = float(age)\n",
    "    except ValueError:\n",
    "        age = np.nan\n",
    "    address = grid2[3].get_text().split(\":\")[1].split(\"\\n\")[1].strip() # Careful this one changes\n",
    "    if personal.find(\"p\").get_text()==\"\":\n",
    "        self_profession = \"\"\n",
    "        spouse_profession = \"\"\n",
    "    else:\n",
    "        self_profession = personal.find(\"p\").get_text().split('\\n')[0].split(\":\")[1].capitalize()\n",
    "        spouse_profession = personal.find(\"p\").get_text().split('\\n')[1].split(\":\")[1].capitalize()\n",
    "    list_info = [candidate_id,full_name,district,state,party_full,address,self_profession,spouse_profession]\n",
    "    list_encode = [year]+[x.encode('utf-8') for x in list_info]+[age]\n",
    "    dict_info = dict(zip(cols,list_encode))\n",
    "    return dict_info"
   ]
  },
  {
   "cell_type": "code",
   "execution_count": 59,
   "metadata": {
    "collapsed": false
   },
   "outputs": [
    {
     "name": "stdout",
     "output_type": "stream",
     "text": [
      "0 100 200 300 400 500 600 700 800 900 1000 1100 1200 1300 1400 1500 1600 1700 1800 1900 2000 2100 2200 2300 2400 2500 2600 2700 2800 2900 3000 3100 3200 3300 3400 3500 3600 3700 3800 3900 4000 4100 4200 4300 4400 4500 4600 4700 4800 4900 5000 5100 5200 5300 5400 5500 5600 5700 5800 5900 6000 6100 6200 6300 6400 6500 6600 6700 6800 6900 7000 7100 7200 7300 7400 7500 7600 7700 7800 7900 8000 8100 8200 8300 8400 8500 8600 8700 8800 8900 9000 9100 9200 9300 9400 9500 9600 9700 9800 9900 10000 10100 10200 10300 10400 10500 10600 10700 10800 10900 11000 11100 11200 11300 11400 11500 11600 11700 11800 11900 12000 12100 12200 12300 12400 12500 12600 12700 12800 12900 13000 13100 13200 13300 13400 13500 13600 13700 13800 13900 14000 14100 14200 14300 14400 14500 14600 14700 14800 14900 15000 15100 15200 15300 15400 15500 15600 15700 15800 15900 16000 16100 16200 16300 16400 16500 16600 16700 16800 16900 17000 17100 17200 17300 17400 17500 17600 17700 17800 17900 18000 18100 18200 18300 18400 18500 18600 18700 18800 18900 19000 19100 Number of errors:  0\n",
      "Wall time: 5h 25min 17s\n"
     ]
    }
   ],
   "source": [
    "%%time\n",
    "counterror = 0\n",
    "dict_allcand = {}\n",
    "for k,cid in enumerate(pol_pages.keys()):\n",
    "    try:\n",
    "        dict_allcand[cid] = personal_info(cid)\n",
    "    except TypeError:\n",
    "        counterror = counterror+1\n",
    "        print \"Error with this page: \", cid\n",
    "    if k%100==0:\n",
    "        print k,\n",
    "print \"Number of errors: \", counterror"
   ]
  },
  {
   "cell_type": "code",
   "execution_count": 34,
   "metadata": {
    "collapsed": false
   },
   "outputs": [],
   "source": [
    "d_perso_info = pd.DataFrame([])\n",
    "d_perso_info = d_perso_info.from_dict(dict_allcand, orient=\"index\") # Dumping into a dataframe\n",
    "d_perso_info.to_csv(\"C:\\Users\\mkkes_000\\Dropbox\\Indiastuff\\OutputTables\\info_perso_LS.csv\",index = True)"
   ]
  },
  {
   "cell_type": "code",
   "execution_count": 36,
   "metadata": {
    "collapsed": false
   },
   "outputs": [
    {
     "data": {
      "text/html": [
       "<div>\n",
       "<table border=\"1\" class=\"dataframe\">\n",
       "  <thead>\n",
       "    <tr style=\"text-align: right;\">\n",
       "      <th></th>\n",
       "      <th>self_profession</th>\n",
       "      <th>party_full</th>\n",
       "      <th>district</th>\n",
       "      <th>cid</th>\n",
       "      <th>age</th>\n",
       "      <th>state</th>\n",
       "      <th>full_name</th>\n",
       "      <th>address</th>\n",
       "      <th>spouse_profession</th>\n",
       "    </tr>\n",
       "  </thead>\n",
       "  <tbody>\n",
       "    <tr>\n",
       "      <th>http://myneta.info/ls2014/candidate.php?candidate_id=10</th>\n",
       "      <td>Social worker</td>\n",
       "      <td>SUCI(C)</td>\n",
       "      <td>Kottayam  (Kerala)</td>\n",
       "      <td>http://myneta.info/ls2014/candidate.php?candid...</td>\n",
       "      <td>46</td>\n",
       "      <td>Kerala</td>\n",
       "      <td>N.K.Biju</td>\n",
       "      <td>Naduvathuseril, Sachivothamapuramla, Kottayam</td>\n",
       "      <td>Social worker</td>\n",
       "    </tr>\n",
       "    <tr>\n",
       "      <th>http://myneta.info/ls2014/candidate.php?candidate_id=100</th>\n",
       "      <td>Leader of opposition rajya sabha</td>\n",
       "      <td>BJP</td>\n",
       "      <td>Amritsar  (Punjab)</td>\n",
       "      <td>http://myneta.info/ls2014/candidate.php?candid...</td>\n",
       "      <td>61</td>\n",
       "      <td>Punjab</td>\n",
       "      <td>Arun Jaitley</td>\n",
       "      <td>A-44 Kailash Colony New Delhi 110048</td>\n",
       "      <td>House wife</td>\n",
       "    </tr>\n",
       "    <tr>\n",
       "      <th>http://myneta.info/ls2014/candidate.php?candidate_id=1000</th>\n",
       "      <td>Bussiness/self emplyed</td>\n",
       "      <td>IND</td>\n",
       "      <td>North East Delhi  (National Capital Territory ...</td>\n",
       "      <td>http://myneta.info/ls2014/candidate.php?candid...</td>\n",
       "      <td>38</td>\n",
       "      <td>National Capital Territory Of Delhi</td>\n",
       "      <td>Amit Kumar Sharma</td>\n",
       "      <td>506, CHANDER LOK MANDOLI ROAD SHAHDOR DELHI-93</td>\n",
       "      <td>Bussiness/ self employed</td>\n",
       "    </tr>\n",
       "    <tr>\n",
       "      <th>http://myneta.info/ls2014/candidate.php?candidate_id=1001</th>\n",
       "      <td>Property dealer</td>\n",
       "      <td>JKNPP</td>\n",
       "      <td>North East Delhi  (National Capital Territory ...</td>\n",
       "      <td>http://myneta.info/ls2014/candidate.php?candid...</td>\n",
       "      <td>33</td>\n",
       "      <td>National Capital Territory Of Delhi</td>\n",
       "      <td>Mohd Hasnan Khan</td>\n",
       "      <td>B1/498 GALI NO 4 V BLOK  VIJAY PARK DELHI 53</td>\n",
       "      <td></td>\n",
       "    </tr>\n",
       "    <tr>\n",
       "      <th>http://myneta.info/ls2014/candidate.php?candidate_id=1002</th>\n",
       "      <td>Business</td>\n",
       "      <td>National Loktantrik Party</td>\n",
       "      <td>North East Delhi  (National Capital Territory ...</td>\n",
       "      <td>http://myneta.info/ls2014/candidate.php?candid...</td>\n",
       "      <td>56</td>\n",
       "      <td>National Capital Territory Of Delhi</td>\n",
       "      <td>Roshan Ali</td>\n",
       "      <td>A-544, 6 NO-15 SRI RAM COLONY RAJIV NAGAR DELH...</td>\n",
       "      <td>House wife</td>\n",
       "    </tr>\n",
       "    <tr>\n",
       "      <th>http://myneta.info/ls2014/candidate.php?candidate_id=1003</th>\n",
       "      <td>Nothing</td>\n",
       "      <td>IND</td>\n",
       "      <td>North East Delhi  (National Capital Territory ...</td>\n",
       "      <td>http://myneta.info/ls2014/candidate.php?candid...</td>\n",
       "      <td>78</td>\n",
       "      <td>National Capital Territory Of Delhi</td>\n",
       "      <td>H.K. Mahendru</td>\n",
       "      <td>120, Pocket-D, Dislhad Garden Delhi</td>\n",
       "      <td></td>\n",
       "    </tr>\n",
       "    <tr>\n",
       "      <th>http://myneta.info/ls2014/candidate.php?candidate_id=1004</th>\n",
       "      <td>Self employee</td>\n",
       "      <td>AITC</td>\n",
       "      <td>North East Delhi  (National Capital Territory ...</td>\n",
       "      <td>http://myneta.info/ls2014/candidate.php?candid...</td>\n",
       "      <td>26</td>\n",
       "      <td>National Capital Territory Of Delhi</td>\n",
       "      <td>Mohd Arif Siddique</td>\n",
       "      <td>D-1/75, G.NO.-1, Nehru Vihar Mustfabad Delhi-94</td>\n",
       "      <td></td>\n",
       "    </tr>\n",
       "    <tr>\n",
       "      <th>http://myneta.info/ls2014/candidate.php?candidate_id=1005</th>\n",
       "      <td>Social worker and business</td>\n",
       "      <td>SHS</td>\n",
       "      <td>North East Delhi  (National Capital Territory ...</td>\n",
       "      <td>http://myneta.info/ls2014/candidate.php?candid...</td>\n",
       "      <td>49</td>\n",
       "      <td>National Capital Territory Of Delhi</td>\n",
       "      <td>Om Dutt Sharma</td>\n",
       "      <td>House No. 1/11820/1, Block- C, Opposite Parsur...</td>\n",
       "      <td>House wife</td>\n",
       "    </tr>\n",
       "    <tr>\n",
       "      <th>http://myneta.info/ls2014/candidate.php?candidate_id=1006</th>\n",
       "      <td>Tuetor (teachy)</td>\n",
       "      <td>Ambedkar National Congress</td>\n",
       "      <td>North East Delhi  (National Capital Territory ...</td>\n",
       "      <td>http://myneta.info/ls2014/candidate.php?candid...</td>\n",
       "      <td>31</td>\n",
       "      <td>National Capital Territory Of Delhi</td>\n",
       "      <td>Pradesh Kumar</td>\n",
       "      <td>10/375-B, Mandoli Extn. Delhi-93</td>\n",
       "      <td>Tuetor (teachy)</td>\n",
       "    </tr>\n",
       "    <tr>\n",
       "      <th>http://myneta.info/ls2014/candidate.php?candidate_id=1008</th>\n",
       "      <td>Student</td>\n",
       "      <td>AITC</td>\n",
       "      <td>Kairana  (Uttar Pradesh)</td>\n",
       "      <td>http://myneta.info/ls2014/candidate.php?candid...</td>\n",
       "      <td>29</td>\n",
       "      <td>Uttar Pradesh</td>\n",
       "      <td>Diwakar</td>\n",
       "      <td>Resident Of H.No. 1096, Shivpuri Hapur</td>\n",
       "      <td>House hold</td>\n",
       "    </tr>\n",
       "  </tbody>\n",
       "</table>\n",
       "</div>"
      ],
      "text/plain": [
       "                                                                      self_profession  \\\n",
       "http://myneta.info/ls2014/candidate.php?candida...                      Social worker   \n",
       "http://myneta.info/ls2014/candidate.php?candida...  Leader of opposition rajya sabha    \n",
       "http://myneta.info/ls2014/candidate.php?candida...             Bussiness/self emplyed   \n",
       "http://myneta.info/ls2014/candidate.php?candida...                    Property dealer   \n",
       "http://myneta.info/ls2014/candidate.php?candida...                           Business   \n",
       "http://myneta.info/ls2014/candidate.php?candida...                            Nothing   \n",
       "http://myneta.info/ls2014/candidate.php?candida...                      Self employee   \n",
       "http://myneta.info/ls2014/candidate.php?candida...         Social worker and business   \n",
       "http://myneta.info/ls2014/candidate.php?candida...                    Tuetor (teachy)   \n",
       "http://myneta.info/ls2014/candidate.php?candida...                           Student    \n",
       "\n",
       "                                                                    party_full  \\\n",
       "http://myneta.info/ls2014/candidate.php?candida...                     SUCI(C)   \n",
       "http://myneta.info/ls2014/candidate.php?candida...                         BJP   \n",
       "http://myneta.info/ls2014/candidate.php?candida...                         IND   \n",
       "http://myneta.info/ls2014/candidate.php?candida...                       JKNPP   \n",
       "http://myneta.info/ls2014/candidate.php?candida...   National Loktantrik Party   \n",
       "http://myneta.info/ls2014/candidate.php?candida...                         IND   \n",
       "http://myneta.info/ls2014/candidate.php?candida...                        AITC   \n",
       "http://myneta.info/ls2014/candidate.php?candida...                         SHS   \n",
       "http://myneta.info/ls2014/candidate.php?candida...  Ambedkar National Congress   \n",
       "http://myneta.info/ls2014/candidate.php?candida...                        AITC   \n",
       "\n",
       "                                                                                             district  \\\n",
       "http://myneta.info/ls2014/candidate.php?candida...                                 Kottayam  (Kerala)   \n",
       "http://myneta.info/ls2014/candidate.php?candida...                                 Amritsar  (Punjab)   \n",
       "http://myneta.info/ls2014/candidate.php?candida...  North East Delhi  (National Capital Territory ...   \n",
       "http://myneta.info/ls2014/candidate.php?candida...  North East Delhi  (National Capital Territory ...   \n",
       "http://myneta.info/ls2014/candidate.php?candida...  North East Delhi  (National Capital Territory ...   \n",
       "http://myneta.info/ls2014/candidate.php?candida...  North East Delhi  (National Capital Territory ...   \n",
       "http://myneta.info/ls2014/candidate.php?candida...  North East Delhi  (National Capital Territory ...   \n",
       "http://myneta.info/ls2014/candidate.php?candida...  North East Delhi  (National Capital Territory ...   \n",
       "http://myneta.info/ls2014/candidate.php?candida...  North East Delhi  (National Capital Territory ...   \n",
       "http://myneta.info/ls2014/candidate.php?candida...                           Kairana  (Uttar Pradesh)   \n",
       "\n",
       "                                                                                                  cid  \\\n",
       "http://myneta.info/ls2014/candidate.php?candida...  http://myneta.info/ls2014/candidate.php?candid...   \n",
       "http://myneta.info/ls2014/candidate.php?candida...  http://myneta.info/ls2014/candidate.php?candid...   \n",
       "http://myneta.info/ls2014/candidate.php?candida...  http://myneta.info/ls2014/candidate.php?candid...   \n",
       "http://myneta.info/ls2014/candidate.php?candida...  http://myneta.info/ls2014/candidate.php?candid...   \n",
       "http://myneta.info/ls2014/candidate.php?candida...  http://myneta.info/ls2014/candidate.php?candid...   \n",
       "http://myneta.info/ls2014/candidate.php?candida...  http://myneta.info/ls2014/candidate.php?candid...   \n",
       "http://myneta.info/ls2014/candidate.php?candida...  http://myneta.info/ls2014/candidate.php?candid...   \n",
       "http://myneta.info/ls2014/candidate.php?candida...  http://myneta.info/ls2014/candidate.php?candid...   \n",
       "http://myneta.info/ls2014/candidate.php?candida...  http://myneta.info/ls2014/candidate.php?candid...   \n",
       "http://myneta.info/ls2014/candidate.php?candida...  http://myneta.info/ls2014/candidate.php?candid...   \n",
       "\n",
       "                                                    age  \\\n",
       "http://myneta.info/ls2014/candidate.php?candida...   46   \n",
       "http://myneta.info/ls2014/candidate.php?candida...   61   \n",
       "http://myneta.info/ls2014/candidate.php?candida...   38   \n",
       "http://myneta.info/ls2014/candidate.php?candida...   33   \n",
       "http://myneta.info/ls2014/candidate.php?candida...   56   \n",
       "http://myneta.info/ls2014/candidate.php?candida...   78   \n",
       "http://myneta.info/ls2014/candidate.php?candida...   26   \n",
       "http://myneta.info/ls2014/candidate.php?candida...   49   \n",
       "http://myneta.info/ls2014/candidate.php?candida...   31   \n",
       "http://myneta.info/ls2014/candidate.php?candida...   29   \n",
       "\n",
       "                                                                                  state  \\\n",
       "http://myneta.info/ls2014/candidate.php?candida...                               Kerala   \n",
       "http://myneta.info/ls2014/candidate.php?candida...                               Punjab   \n",
       "http://myneta.info/ls2014/candidate.php?candida...  National Capital Territory Of Delhi   \n",
       "http://myneta.info/ls2014/candidate.php?candida...  National Capital Territory Of Delhi   \n",
       "http://myneta.info/ls2014/candidate.php?candida...  National Capital Territory Of Delhi   \n",
       "http://myneta.info/ls2014/candidate.php?candida...  National Capital Territory Of Delhi   \n",
       "http://myneta.info/ls2014/candidate.php?candida...  National Capital Territory Of Delhi   \n",
       "http://myneta.info/ls2014/candidate.php?candida...  National Capital Territory Of Delhi   \n",
       "http://myneta.info/ls2014/candidate.php?candida...  National Capital Territory Of Delhi   \n",
       "http://myneta.info/ls2014/candidate.php?candida...                        Uttar Pradesh   \n",
       "\n",
       "                                                             full_name  \\\n",
       "http://myneta.info/ls2014/candidate.php?candida...            N.K.Biju   \n",
       "http://myneta.info/ls2014/candidate.php?candida...        Arun Jaitley   \n",
       "http://myneta.info/ls2014/candidate.php?candida...   Amit Kumar Sharma   \n",
       "http://myneta.info/ls2014/candidate.php?candida...    Mohd Hasnan Khan   \n",
       "http://myneta.info/ls2014/candidate.php?candida...          Roshan Ali   \n",
       "http://myneta.info/ls2014/candidate.php?candida...       H.K. Mahendru   \n",
       "http://myneta.info/ls2014/candidate.php?candida...  Mohd Arif Siddique   \n",
       "http://myneta.info/ls2014/candidate.php?candida...      Om Dutt Sharma   \n",
       "http://myneta.info/ls2014/candidate.php?candida...       Pradesh Kumar   \n",
       "http://myneta.info/ls2014/candidate.php?candida...             Diwakar   \n",
       "\n",
       "                                                                                              address  \\\n",
       "http://myneta.info/ls2014/candidate.php?candida...      Naduvathuseril, Sachivothamapuramla, Kottayam   \n",
       "http://myneta.info/ls2014/candidate.php?candida...               A-44 Kailash Colony New Delhi 110048   \n",
       "http://myneta.info/ls2014/candidate.php?candida...     506, CHANDER LOK MANDOLI ROAD SHAHDOR DELHI-93   \n",
       "http://myneta.info/ls2014/candidate.php?candida...       B1/498 GALI NO 4 V BLOK  VIJAY PARK DELHI 53   \n",
       "http://myneta.info/ls2014/candidate.php?candida...  A-544, 6 NO-15 SRI RAM COLONY RAJIV NAGAR DELH...   \n",
       "http://myneta.info/ls2014/candidate.php?candida...                120, Pocket-D, Dislhad Garden Delhi   \n",
       "http://myneta.info/ls2014/candidate.php?candida...    D-1/75, G.NO.-1, Nehru Vihar Mustfabad Delhi-94   \n",
       "http://myneta.info/ls2014/candidate.php?candida...  House No. 1/11820/1, Block- C, Opposite Parsur...   \n",
       "http://myneta.info/ls2014/candidate.php?candida...                   10/375-B, Mandoli Extn. Delhi-93   \n",
       "http://myneta.info/ls2014/candidate.php?candida...             Resident Of H.No. 1096, Shivpuri Hapur   \n",
       "\n",
       "                                                           spouse_profession  \n",
       "http://myneta.info/ls2014/candidate.php?candida...             Social worker  \n",
       "http://myneta.info/ls2014/candidate.php?candida...                House wife  \n",
       "http://myneta.info/ls2014/candidate.php?candida...  Bussiness/ self employed  \n",
       "http://myneta.info/ls2014/candidate.php?candida...                            \n",
       "http://myneta.info/ls2014/candidate.php?candida...                House wife  \n",
       "http://myneta.info/ls2014/candidate.php?candida...                            \n",
       "http://myneta.info/ls2014/candidate.php?candida...                            \n",
       "http://myneta.info/ls2014/candidate.php?candida...                House wife  \n",
       "http://myneta.info/ls2014/candidate.php?candida...           Tuetor (teachy)  \n",
       "http://myneta.info/ls2014/candidate.php?candida...                House hold  "
      ]
     },
     "execution_count": 36,
     "metadata": {},
     "output_type": "execute_result"
    }
   ],
   "source": [
    "d_perso_info[d_perso_info.self_profession!=\"\"].head(10)"
   ]
  },
  {
   "cell_type": "code",
   "execution_count": 62,
   "metadata": {
    "collapsed": false
   },
   "outputs": [
    {
     "data": {
      "text/html": [
       "<div>\n",
       "<table border=\"1\" class=\"dataframe\">\n",
       "  <thead>\n",
       "    <tr style=\"text-align: right;\">\n",
       "      <th></th>\n",
       "      <th>age</th>\n",
       "    </tr>\n",
       "  </thead>\n",
       "  <tbody>\n",
       "    <tr>\n",
       "      <th>count</th>\n",
       "      <td>8128.000000</td>\n",
       "    </tr>\n",
       "    <tr>\n",
       "      <th>mean</th>\n",
       "      <td>47.197219</td>\n",
       "    </tr>\n",
       "    <tr>\n",
       "      <th>std</th>\n",
       "      <td>11.929827</td>\n",
       "    </tr>\n",
       "    <tr>\n",
       "      <th>min</th>\n",
       "      <td>21.000000</td>\n",
       "    </tr>\n",
       "    <tr>\n",
       "      <th>25%</th>\n",
       "      <td>38.000000</td>\n",
       "    </tr>\n",
       "    <tr>\n",
       "      <th>50%</th>\n",
       "      <td>46.000000</td>\n",
       "    </tr>\n",
       "    <tr>\n",
       "      <th>75%</th>\n",
       "      <td>56.000000</td>\n",
       "    </tr>\n",
       "    <tr>\n",
       "      <th>max</th>\n",
       "      <td>93.000000</td>\n",
       "    </tr>\n",
       "  </tbody>\n",
       "</table>\n",
       "</div>"
      ],
      "text/plain": [
       "               age\n",
       "count  8128.000000\n",
       "mean     47.197219\n",
       "std      11.929827\n",
       "min      21.000000\n",
       "25%      38.000000\n",
       "50%      46.000000\n",
       "75%      56.000000\n",
       "max      93.000000"
      ]
     },
     "execution_count": 62,
     "metadata": {},
     "output_type": "execute_result"
    }
   ],
   "source": [
    "d_perso_info.describe()"
   ]
  },
  {
   "cell_type": "code",
   "execution_count": 68,
   "metadata": {
    "collapsed": false
   },
   "outputs": [
    {
     "data": {
      "text/plain": [
       "<matplotlib.axes._subplots.AxesSubplot at 0x22420ef0>"
      ]
     },
     "execution_count": 68,
     "metadata": {},
     "output_type": "execute_result"
    },
    {
     "data": {
      "image/png": "[encoded data removed]",
      "text/plain": [
       "<matplotlib.figure.Figure at 0x20892d68>"
      ]
     },
     "metadata": {},
     "output_type": "display_data"
    }
   ],
   "source": [
    "sns.kdeplot(d_perso_info.age.dropna(),cumulative=True)"
   ]
  }
 ],
 "metadata": {
  "kernelspec": {
   "display_name": "Python 2",
   "language": "python",
   "name": "python2"
  },
  "language_info": {
   "codemirror_mode": {
    "name": "ipython",
    "version": 2
   },
   "file_extension": ".py",
   "mimetype": "text/x-python",
   "name": "python",
   "nbconvert_exporter": "python",
   "pygments_lexer": "ipython2",
   "version": "2.7.10"
  }
 },
 "nbformat": 4,
 "nbformat_minor": 0
}

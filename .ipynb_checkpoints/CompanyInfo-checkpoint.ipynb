{
 "cells": [
  {
   "cell_type": "markdown",
   "metadata": {},
   "source": [
    "##Company Info"
   ]
  },
  {
   "cell_type": "code",
   "execution_count": 2,
   "metadata": {
    "collapsed": true
   },
   "outputs": [],
   "source": [
    "%matplotlib inline\n",
    "import numpy as np\n",
    "import scipy as sp\n",
    "import matplotlib as mpl\n",
    "import matplotlib.cm as cm\n",
    "import matplotlib.pyplot as plt\n",
    "import pandas as pd\n",
    "pd.set_option('display.width', 400)\n",
    "pd.set_option('display.max_columns', 100)\n",
    "pd.set_option('display.notebook_repr_html', True)\n",
    "import seaborn as sns\n",
    "sns.set_style(\"whitegrid\")\n",
    "sns.set_context(\"poster\")"
   ]
  },
  {
   "cell_type": "code",
   "execution_count": 23,
   "metadata": {
    "collapsed": false
   },
   "outputs": [
    {
     "data": {
      "text/html": [
       "<div>\n",
       "<table border=\"1\" class=\"dataframe\">\n",
       "  <thead>\n",
       "    <tr style=\"text-align: right;\">\n",
       "      <th></th>\n",
       "      <th>Company_Name</th>\n",
       "      <th>CMIE_company_code</th>\n",
       "      <th>Entity_type</th>\n",
       "      <th>ROC_registration_number</th>\n",
       "      <th>Incorporation_year</th>\n",
       "      <th>Industry_group</th>\n",
       "      <th>Main_product/service_group</th>\n",
       "      <th>Main_product/service_group_code</th>\n",
       "      <th>NIC_code</th>\n",
       "      <th>Ownership_group</th>\n",
       "      <th>NSE_symbol</th>\n",
       "      <th>Registered_office_address</th>\n",
       "      <th>Head_office_address</th>\n",
       "      <th>Registrar_name</th>\n",
       "      <th>Unnamed:_14</th>\n",
       "      <th>Unnamed:_15</th>\n",
       "      <th>Unnamed:_16</th>\n",
       "      <th>Unnamed:_17</th>\n",
       "      <th>Unnamed:_18</th>\n",
       "    </tr>\n",
       "  </thead>\n",
       "  <tbody>\n",
       "    <tr>\n",
       "      <th>0</th>\n",
       "      <td>'K' Steamship Agencies Pvt. Ltd.</td>\n",
       "      <td>3</td>\n",
       "      <td>Private Ltd.</td>\n",
       "      <td>11-15089</td>\n",
       "      <td>1971</td>\n",
       "      <td>Other miscellaneous services</td>\n",
       "      <td>Services</td>\n",
       "      <td>2.100000e+19</td>\n",
       "      <td>46909</td>\n",
       "      <td>Private (Indian)</td>\n",
       "      <td>NaN</td>\n",
       "      <td>No. 29, Bank Street, Fort,  Mumbai Maharashtra</td>\n",
       "      <td>NaN</td>\n",
       "      <td>NaN</td>\n",
       "      <td>NaN</td>\n",
       "      <td>NaN</td>\n",
       "      <td>NaN</td>\n",
       "      <td>NaN</td>\n",
       "      <td>NaN</td>\n",
       "    </tr>\n",
       "  </tbody>\n",
       "</table>\n",
       "</div>"
      ],
      "text/plain": [
       "                       Company_Name  CMIE_company_code   Entity_type ROC_registration_number  Incorporation_year                Industry_group Main_product/service_group  Main_product/service_group_code  NIC_code   Ownership_group NSE_symbol                       Registered_office_address Head_office_address Registrar_name  Unnamed:_14 Unnamed:_15 Unnamed:_16 Unnamed:_17 Unnamed:_18\n",
       "0  'K' Steamship Agencies Pvt. Ltd.                  3  Private Ltd.                11-15089                1971  Other miscellaneous services                   Services                     2.100000e+19     46909  Private (Indian)        NaN  No. 29, Bank Street, Fort,  Mumbai Maharashtra                 NaN            NaN          NaN         NaN         NaN         NaN         NaN"
      ]
     },
     "execution_count": 23,
     "metadata": {},
     "output_type": "execute_result"
    }
   ],
   "source": [
    "companyinfo=pd.read_csv(\"CompanyInfo.csv\")\n",
    "new_cols = []\n",
    "for col in companyinfo.columns:\n",
    "    new_cols.append(col.replace(' ','_'))\n",
    "\n",
    "companyinfo.columns = new_cols\n",
    "companyinfo.head(1)"
   ]
  },
  {
   "cell_type": "code",
   "execution_count": 108,
   "metadata": {
    "collapsed": false
   },
   "outputs": [],
   "source": [
    "states=pd.read_csv(\"Indiastates.csv\")\n",
    "new_cols = []\n",
    "for col in states.columns:\n",
    "    new_cols.append(col.replace(' ','_'))\n",
    "\n",
    "states.columns = new_cols"
   ]
  },
  {
   "cell_type": "code",
   "execution_count": 109,
   "metadata": {
    "collapsed": false
   },
   "outputs": [],
   "source": [
    "states.drop(states.index[36],inplace=True)\n",
    "states.loc[23,'State_or_union_territory']='Manipur'"
   ]
  },
  {
   "cell_type": "code",
   "execution_count": 112,
   "metadata": {
    "collapsed": false
   },
   "outputs": [
    {
     "data": {
      "text/html": [
       "<div>\n",
       "<table border=\"1\" class=\"dataframe\">\n",
       "  <thead>\n",
       "    <tr style=\"text-align: right;\">\n",
       "      <th></th>\n",
       "      <th>Rank</th>\n",
       "      <th>State_or_union_territory</th>\n",
       "      <th>Population�(2011_Census)[12]</th>\n",
       "      <th>%Decadal_Growth_(2001�2011)</th>\n",
       "      <th>Rural_Pop.[14]</th>\n",
       "      <th>Urban_Pop.[14]</th>\n",
       "      <th>Area[15]</th>\n",
       "      <th>Density</th>\n",
       "      <th>Sex_ratio</th>\n",
       "      <th>(%_of_Population_of_India)[13]</th>\n",
       "    </tr>\n",
       "  </thead>\n",
       "  <tbody>\n",
       "    <tr>\n",
       "      <th>0</th>\n",
       "      <td>1</td>\n",
       "      <td>Uttar Pradesh</td>\n",
       "      <td>199281477</td>\n",
       "      <td>0.201</td>\n",
       "      <td>155111022</td>\n",
       "      <td>44470455</td>\n",
       "      <td>240,928�km2(93,023�sq�mi)</td>\n",
       "      <td>828/km2(2,140/sq�mi)</td>\n",
       "      <td>908</td>\n",
       "      <td>16.49%</td>\n",
       "    </tr>\n",
       "    <tr>\n",
       "      <th>1</th>\n",
       "      <td>2</td>\n",
       "      <td>Maharashtra</td>\n",
       "      <td>112372972</td>\n",
       "      <td>0.160</td>\n",
       "      <td>61545441</td>\n",
       "      <td>50827531</td>\n",
       "      <td>307,713�km2(118,809�sq�mi)</td>\n",
       "      <td>365/km2�(950/sq�mi)</td>\n",
       "      <td>946</td>\n",
       "      <td>9.28%</td>\n",
       "    </tr>\n",
       "    <tr>\n",
       "      <th>2</th>\n",
       "      <td>3</td>\n",
       "      <td>Bihar</td>\n",
       "      <td>103804637</td>\n",
       "      <td>0.251</td>\n",
       "      <td>92075028</td>\n",
       "      <td>11729609</td>\n",
       "      <td>94,163�km2(36,357�sq�mi)</td>\n",
       "      <td>1,102/km2(2,850/sq�mi)</td>\n",
       "      <td>916</td>\n",
       "      <td>8.58%</td>\n",
       "    </tr>\n",
       "    <tr>\n",
       "      <th>3</th>\n",
       "      <td>4</td>\n",
       "      <td>West Bengal</td>\n",
       "      <td>91347736</td>\n",
       "      <td>0.139</td>\n",
       "      <td>62213676</td>\n",
       "      <td>29134060</td>\n",
       "      <td>88,752�km2(34,267�sq�mi)</td>\n",
       "      <td>1,029/km2(2,670/sq�mi)</td>\n",
       "      <td>947</td>\n",
       "      <td>7.55%</td>\n",
       "    </tr>\n",
       "    <tr>\n",
       "      <th>4</th>\n",
       "      <td>5</td>\n",
       "      <td>Madhya Pradesh</td>\n",
       "      <td>72597565</td>\n",
       "      <td>0.203</td>\n",
       "      <td>52537899</td>\n",
       "      <td>20059666</td>\n",
       "      <td>308,245�km2(119,014�sq�mi)</td>\n",
       "      <td>236/km2�(610/sq�mi)</td>\n",
       "      <td>930</td>\n",
       "      <td>6.00%</td>\n",
       "    </tr>\n",
       "  </tbody>\n",
       "</table>\n",
       "</div>"
      ],
      "text/plain": [
       "  Rank State_or_union_territory  Population�(2011_Census)[12]  %Decadal_Growth_(2001�2011)  Rural_Pop.[14]  Urban_Pop.[14]                    Area[15]                 Density  Sex_ratio (%_of_Population_of_India)[13]\n",
       "0    1            Uttar Pradesh                     199281477                        0.201       155111022        44470455   240,928�km2(93,023�sq�mi)    828/km2(2,140/sq�mi)        908                         16.49%\n",
       "1    2              Maharashtra                     112372972                        0.160        61545441        50827531  307,713�km2(118,809�sq�mi)     365/km2�(950/sq�mi)        946                          9.28%\n",
       "2    3                    Bihar                     103804637                        0.251        92075028        11729609    94,163�km2(36,357�sq�mi)  1,102/km2(2,850/sq�mi)        916                          8.58%\n",
       "3    4              West Bengal                      91347736                        0.139        62213676        29134060    88,752�km2(34,267�sq�mi)  1,029/km2(2,670/sq�mi)        947                          7.55%\n",
       "4    5           Madhya Pradesh                      72597565                        0.203        52537899        20059666  308,245�km2(119,014�sq�mi)     236/km2�(610/sq�mi)        930                          6.00%"
      ]
     },
     "execution_count": 112,
     "metadata": {},
     "output_type": "execute_result"
    }
   ],
   "source": [
    "states.head()"
   ]
  },
  {
   "cell_type": "code",
   "execution_count": 113,
   "metadata": {
    "collapsed": false
   },
   "outputs": [
    {
     "name": "stdout",
     "output_type": "stream",
     "text": [
      "['Uttar Pradesh', 'Maharashtra', 'Bihar', 'West Bengal', 'Madhya Pradesh', 'Tamil Nadu', 'Rajasthan', 'Karnataka', 'Gujarat', 'Andhra Pradesh', 'Odisha', 'Telangana', 'Kerala', 'Jharkhand', 'Assam', 'Punjab', 'Chhattisgarh', 'Haryana', 'Jammu and Kashmir', 'Uttarakhand', 'Himachal Pradesh', 'Tripura', 'Meghalaya', 'Manipur', 'Nagaland', 'Goa', 'Arunachal Pradesh', 'Mizoram', 'Sikkim', 'Delhi', 'Puducherry', 'Chandigarh', 'Andaman and Nicobar Islands', 'Dadra and Nagar Haveli', 'Daman and Diu', 'Lakshadweep']\n"
     ]
    }
   ],
   "source": [
    "statelist=[]\n",
    "for states in states.State_or_union_territory: \n",
    "    statelist.append(states)\n",
    "print statelist"
   ]
  },
  {
   "cell_type": "code",
   "execution_count": 114,
   "metadata": {
    "collapsed": false
   },
   "outputs": [
    {
     "name": "stdout",
     "output_type": "stream",
     "text": [
      "CPU times: user 67.5 ms, sys: 4.39 ms, total: 71.9 ms\n",
      "Wall time: 79 ms\n"
     ]
    }
   ],
   "source": [
    "%%time\n",
    "companylist=[]\n",
    "for i in companyinfo['Registered_office_address']:\n",
    "    wordlist= str(i).split()\n",
    "    companylist.append(wordlist[-1])\n",
    "companyinfo['State']=companylist\n"
   ]
  },
  {
   "cell_type": "code",
   "execution_count": 119,
   "metadata": {
    "collapsed": false
   },
   "outputs": [
    {
     "name": "stdout",
     "output_type": "stream",
     "text": [
      "['2RR' '3.' '5BS' '70130-3245' '7HD' '7SB' '97006' '9DP,' 'Assam' 'Bengal'\n",
      " 'Bihar' 'Chandigarh' 'Chhattisgarh' 'Delhi' 'Diu' 'Goa' 'Gujarat' 'HD'\n",
      " 'Haryana' 'Haveli' 'Jharkhand' 'Kamptee,' 'Karnataka' 'Kashmir' 'Kerala'\n",
      " 'London,' 'Maharashtra' 'Manipur' 'Mauritius' 'Meghalaya' 'Mizoram' 'Nadu'\n",
      " 'Nagaland' 'Odisha' 'Oman' 'Orissa' 'Pradesh' 'Puducherry' 'Punjab'\n",
      " 'Rajasthan' 'Telangana' 'Tripura' 'Uttarakhand' 'nan']\n",
      "44\n"
     ]
    }
   ],
   "source": [
    "statelist1=np.unique(companyinfo.State)\n",
    "print statelist1\n",
    "print len(statelist1)"
   ]
  },
  {
   "cell_type": "code",
   "execution_count": 46,
   "metadata": {
    "collapsed": false
   },
   "outputs": [],
   "source": []
  },
  {
   "cell_type": "code",
   "execution_count": 118,
   "metadata": {
    "collapsed": false
   },
   "outputs": [
    {
     "data": {
      "text/html": [
       "<div>\n",
       "<table border=\"1\" class=\"dataframe\">\n",
       "  <thead>\n",
       "    <tr style=\"text-align: right;\">\n",
       "      <th></th>\n",
       "      <th>Company_Name</th>\n",
       "      <th>CMIE_company_code</th>\n",
       "      <th>Entity_type</th>\n",
       "      <th>ROC_registration_number</th>\n",
       "      <th>Incorporation_year</th>\n",
       "      <th>Industry_group</th>\n",
       "      <th>Main_product/service_group</th>\n",
       "      <th>Main_product/service_group_code</th>\n",
       "      <th>NIC_code</th>\n",
       "      <th>Ownership_group</th>\n",
       "      <th>NSE_symbol</th>\n",
       "      <th>Registered_office_address</th>\n",
       "      <th>Head_office_address</th>\n",
       "      <th>Registrar_name</th>\n",
       "      <th>Unnamed:_14</th>\n",
       "      <th>Unnamed:_15</th>\n",
       "      <th>Unnamed:_16</th>\n",
       "      <th>Unnamed:_17</th>\n",
       "      <th>Unnamed:_18</th>\n",
       "      <th>State</th>\n",
       "    </tr>\n",
       "  </thead>\n",
       "  <tbody>\n",
       "    <tr>\n",
       "      <th>0</th>\n",
       "      <td>'K' Steamship Agencies Pvt. Ltd.</td>\n",
       "      <td>3</td>\n",
       "      <td>Private Ltd.</td>\n",
       "      <td>11-15089</td>\n",
       "      <td>1971</td>\n",
       "      <td>Other miscellaneous services</td>\n",
       "      <td>Services</td>\n",
       "      <td>2.100000e+19</td>\n",
       "      <td>46909</td>\n",
       "      <td>Private (Indian)</td>\n",
       "      <td>NaN</td>\n",
       "      <td>No. 29, Bank Street, Fort,  Mumbai Maharashtra</td>\n",
       "      <td>NaN</td>\n",
       "      <td>NaN</td>\n",
       "      <td>NaN</td>\n",
       "      <td>NaN</td>\n",
       "      <td>NaN</td>\n",
       "      <td>NaN</td>\n",
       "      <td>NaN</td>\n",
       "      <td>Maharashtra</td>\n",
       "    </tr>\n",
       "    <tr>\n",
       "      <th>1</th>\n",
       "      <td>'X'Clusive Business Centre Pvt. Ltd.</td>\n",
       "      <td>307865</td>\n",
       "      <td>Private Ltd.</td>\n",
       "      <td>21-77610</td>\n",
       "      <td>1996</td>\n",
       "      <td>Other financial services</td>\n",
       "      <td>Financial services including leasing</td>\n",
       "      <td>2.106000e+19</td>\n",
       "      <td>64910</td>\n",
       "      <td>Private (Indian)</td>\n",
       "      <td>NaN</td>\n",
       "      <td>35, Chittaranjan Avenue, 6th Floor,  Kolkata W...</td>\n",
       "      <td>NaN</td>\n",
       "      <td>NaN</td>\n",
       "      <td>NaN</td>\n",
       "      <td>NaN</td>\n",
       "      <td>NaN</td>\n",
       "      <td>NaN</td>\n",
       "      <td>NaN</td>\n",
       "      <td>Bengal</td>\n",
       "    </tr>\n",
       "    <tr>\n",
       "      <th>2</th>\n",
       "      <td>18Th Step Resorts Pvt. Ltd.</td>\n",
       "      <td>366257</td>\n",
       "      <td>Private Ltd.</td>\n",
       "      <td>09-14575</td>\n",
       "      <td>2001</td>\n",
       "      <td>Hotels &amp; restaurants</td>\n",
       "      <td>Lodging, guest houses &amp; service apartments</td>\n",
       "      <td>2.102020e+19</td>\n",
       "      <td>55109</td>\n",
       "      <td>Private (Indian)</td>\n",
       "      <td>NaN</td>\n",
       "      <td>No. 30/335-A, Poonitura, Vettackal Buildings, ...</td>\n",
       "      <td>NaN</td>\n",
       "      <td>NaN</td>\n",
       "      <td>NaN</td>\n",
       "      <td>NaN</td>\n",
       "      <td>NaN</td>\n",
       "      <td>NaN</td>\n",
       "      <td>NaN</td>\n",
       "      <td>Kerala</td>\n",
       "    </tr>\n",
       "    <tr>\n",
       "      <th>3</th>\n",
       "      <td>20 Microns Ltd.</td>\n",
       "      <td>11</td>\n",
       "      <td>Public Ltd.</td>\n",
       "      <td>Apr-68</td>\n",
       "      <td>1987</td>\n",
       "      <td>Minerals</td>\n",
       "      <td>Mineral Products</td>\n",
       "      <td>3.000000e+18</td>\n",
       "      <td>8920</td>\n",
       "      <td>Private (Indian)</td>\n",
       "      <td>20MICRONS</td>\n",
       "      <td>9/10, G I D C Industrial Estate, Waghodia,  Va...</td>\n",
       "      <td>347, G I D C Industrial Estate, Waghodia,  Vad...</td>\n",
       "      <td>Cameo Corporate Services Ltd.</td>\n",
       "      <td>NaN</td>\n",
       "      <td>NaN</td>\n",
       "      <td>NaN</td>\n",
       "      <td>NaN</td>\n",
       "      <td>NaN</td>\n",
       "      <td>Gujarat</td>\n",
       "    </tr>\n",
       "    <tr>\n",
       "      <th>4</th>\n",
       "      <td>20 Microns Nano Minerals Ltd.</td>\n",
       "      <td>232579</td>\n",
       "      <td>Public Ltd.</td>\n",
       "      <td>04-20540</td>\n",
       "      <td>1993</td>\n",
       "      <td>Minerals</td>\n",
       "      <td>Kaolin crude / natural</td>\n",
       "      <td>3.010700e+18</td>\n",
       "      <td>8108</td>\n",
       "      <td>Private (Indian)</td>\n",
       "      <td>NaN</td>\n",
       "      <td>Plot No.157, Village Mamuara, Tal. Bhuj,  Kach...</td>\n",
       "      <td>NaN</td>\n",
       "      <td>NaN</td>\n",
       "      <td>NaN</td>\n",
       "      <td>NaN</td>\n",
       "      <td>NaN</td>\n",
       "      <td>NaN</td>\n",
       "      <td>NaN</td>\n",
       "      <td>Gujarat</td>\n",
       "    </tr>\n",
       "  </tbody>\n",
       "</table>\n",
       "</div>"
      ],
      "text/plain": [
       "                           Company_Name  CMIE_company_code   Entity_type ROC_registration_number  Incorporation_year                Industry_group                  Main_product/service_group  Main_product/service_group_code  NIC_code   Ownership_group NSE_symbol                          Registered_office_address                                Head_office_address                 Registrar_name  \\\n",
       "0      'K' Steamship Agencies Pvt. Ltd.                  3  Private Ltd.                11-15089                1971  Other miscellaneous services                                    Services                     2.100000e+19     46909  Private (Indian)        NaN     No. 29, Bank Street, Fort,  Mumbai Maharashtra                                                NaN                            NaN   \n",
       "1  'X'Clusive Business Centre Pvt. Ltd.             307865  Private Ltd.                21-77610                1996      Other financial services        Financial services including leasing                     2.106000e+19     64910  Private (Indian)        NaN  35, Chittaranjan Avenue, 6th Floor,  Kolkata W...                                                NaN                            NaN   \n",
       "2           18Th Step Resorts Pvt. Ltd.             366257  Private Ltd.                09-14575                2001          Hotels & restaurants  Lodging, guest houses & service apartments                     2.102020e+19     55109  Private (Indian)        NaN  No. 30/335-A, Poonitura, Vettackal Buildings, ...                                                NaN                            NaN   \n",
       "3                       20 Microns Ltd.                 11   Public Ltd.                  Apr-68                1987                      Minerals                            Mineral Products                     3.000000e+18      8920  Private (Indian)  20MICRONS  9/10, G I D C Industrial Estate, Waghodia,  Va...  347, G I D C Industrial Estate, Waghodia,  Vad...  Cameo Corporate Services Ltd.   \n",
       "4         20 Microns Nano Minerals Ltd.             232579   Public Ltd.                04-20540                1993                      Minerals                      Kaolin crude / natural                     3.010700e+18      8108  Private (Indian)        NaN  Plot No.157, Village Mamuara, Tal. Bhuj,  Kach...                                                NaN                            NaN   \n",
       "\n",
       "   Unnamed:_14 Unnamed:_15 Unnamed:_16 Unnamed:_17 Unnamed:_18        State  \n",
       "0          NaN         NaN         NaN         NaN         NaN  Maharashtra  \n",
       "1          NaN         NaN         NaN         NaN         NaN       Bengal  \n",
       "2          NaN         NaN         NaN         NaN         NaN       Kerala  \n",
       "3          NaN         NaN         NaN         NaN         NaN      Gujarat  \n",
       "4          NaN         NaN         NaN         NaN         NaN      Gujarat  "
      ]
     },
     "execution_count": 118,
     "metadata": {},
     "output_type": "execute_result"
    }
   ],
   "source": []
  },
  {
   "cell_type": "code",
   "execution_count": null,
   "metadata": {
    "collapsed": true
   },
   "outputs": [],
   "source": []
  }
 ],
 "metadata": {
  "kernelspec": {
   "display_name": "Python 2",
   "language": "python",
   "name": "python2"
  },
  "language_info": {
   "codemirror_mode": {
    "name": "ipython",
    "version": 2
   },
   "file_extension": ".py",
   "mimetype": "text/x-python",
   "name": "python",
   "nbconvert_exporter": "python",
   "pygments_lexer": "ipython2",
   "version": "2.7.10"
  }
 },
 "nbformat": 4,
 "nbformat_minor": 0
}

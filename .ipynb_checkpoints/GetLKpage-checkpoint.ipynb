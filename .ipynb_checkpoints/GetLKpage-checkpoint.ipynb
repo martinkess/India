{
 "cells": [
  {
   "cell_type": "code",
   "execution_count": 1,
   "metadata": {
    "collapsed": false
   },
   "outputs": [],
   "source": [
    "from pyquery import PyQuery as pq\n",
    "import urllib2\n",
    "import requests\n",
    "import pandas as pd\n",
    "import re\n",
    "import time\n",
    "import numpy as np\n",
    "import json\n",
    "from time import sleep"
   ]
  },
  {
   "cell_type": "markdown",
   "metadata": {},
   "source": [
    "###1. Define URLs:###"
   ]
  },
  {
   "cell_type": "code",
   "execution_count": 2,
   "metadata": {
    "collapsed": false
   },
   "outputs": [],
   "source": [
    "ls_2014 = \"http://myneta.info/ls2014/index.php?action=show_winners&sort=default\"\n",
    "ls_2009 = \"http://myneta.info/ls2009/index.php?action=show_winners&sort=default\"\n",
    "ls_2004 = \"http://myneta.info/loksabha2004/index.php?action=show_winners&sort=default\"\n",
    "base_2014 = \"http://myneta.info/ls2014/\"\n",
    "base_2009 = \"http://myneta.info/ls2009/\"\n",
    "base_2004 = \"http://myneta.info/loksabha2004/\"\n",
    "\n",
    "url_list={'2004':ls_2004,'2009':ls_2009,'2014':ls_2014}\n",
    "base_urls = {'2004':base_2004,'2009':base_2009,'2014':base_2014}"
   ]
  },
  {
   "cell_type": "markdown",
   "metadata": {},
   "source": [
    "###2. Define key functions to get data ###"
   ]
  },
  {
   "cell_type": "markdown",
   "metadata": {},
   "source": [
    "#### The following functions returns a dataframe of winners within each state ####"
   ]
  },
  {
   "cell_type": "code",
   "execution_count": 3,
   "metadata": {
    "collapsed": false
   },
   "outputs": [],
   "source": [
    "def process_winner_link(link, year):\n",
    "    \n",
    "    html = requests.get(link)\n",
    "    doc = pq(html.content)\n",
    "    trs = doc('table').eq(2).children('tr')\n",
    "\n",
    "    datalist=[]\n",
    "\n",
    "    for tr in trs:\n",
    "        winner_dict = {'year':year}\n",
    "        for i,td in enumerate(tr.findall('td')):\n",
    "            if i == 0:\n",
    "                winner_dict['idnum'] = td.text\n",
    "            if i == 1:\n",
    "                winner_dict['name'] = td.findall('a')[1].text\n",
    "                winner_dict['url'] = pq(td)('a').attr.href\n",
    "            if i == 2:\n",
    "                winner_dict['constituency'] = td.text\n",
    "            if i == 3:\n",
    "                winner_dict['party'] = td.text\n",
    "            if i == 4:\n",
    "                winner_dict['crim_cases'] = td.text\n",
    "                if td.text == None:\n",
    "                    winner_dict['crim_cases'] = td.find('span').text\n",
    "            if i == 5:\n",
    "                winner_dict['education'] = td.text\n",
    "            if i == 6:\n",
    "                winner_dict['assets'] =  td.text.replace(',','').replace('Rs','').lstrip()\n",
    "            if i == 7:\n",
    "                winner_dict['liabilities'] =  td.text.replace(',','').replace('Rs','').lstrip()\n",
    "\n",
    "        datalist.append(winner_dict)\n",
    "\n",
    "    return pd.DataFrame(datalist)\n",
    "    "
   ]
  },
  {
   "cell_type": "markdown",
   "metadata": {},
   "source": [
    "####The following functions returns a dataframe of constituencies within a state####"
   ]
  },
  {
   "cell_type": "code",
   "execution_count": 4,
   "metadata": {
    "collapsed": false
   },
   "outputs": [],
   "source": [
    "def get_constituents(year, thelink):\n",
    "    html = requests.get(thelink)\n",
    "    doc = pq(html.content)\n",
    "    trs = doc('table').eq(2).find('tr')\n",
    "    datalist=[]\n",
    "    print \"\"\n",
    "    print \"Number of constituent: %s :\" % len(trs),\n",
    "    for tr in trs:\n",
    "        new_state = pq(tr)('th').text()\n",
    "        if new_state != \"\":\n",
    "            print \"!\",\n",
    "            curr_state = new_state \n",
    "            #print \"state: %s\" % curr_state\n",
    "        else:\n",
    "            print \".\",\n",
    "            districts = pq(tr)('td')\n",
    "            if districts != \"\":\n",
    "                for x in districts:\n",
    "                    dist_name = pq(x)('a').text()\n",
    "                    if dist_name != \"\":\n",
    "                        district_dict = {'year':year, 'state':curr_state}\n",
    "                        district_dict['district'] = dist_name\n",
    "                        district_dict['thelink'] = pq(x)('a').attr.href\n",
    "                        datalist.append(district_dict)\n",
    "\n",
    "    return pd.DataFrame(datalist)\n"
   ]
  },
  {
   "cell_type": "markdown",
   "metadata": {},
   "source": [
    "####The following functions returns a dataframe of candidates from a constituency####"
   ]
  },
  {
   "cell_type": "code",
   "execution_count": 5,
   "metadata": {
    "collapsed": false
   },
   "outputs": [],
   "source": [
    "def get_candidates(constituency, state, thelink, year):\n",
    "\n",
    "    masterlink = thelink\n",
    "    thepage = requests.get(masterlink)\n",
    "    doc = pq(thepage.content)\n",
    "\n",
    "    trs = doc('table').eq(2).children('tr')\n",
    "\n",
    "    #print pq(trs)\n",
    "    datalist = []\n",
    "\n",
    "    for tr in trs[1:]:\n",
    "        candidate_dict = {'Year':year, 'State':state, 'Constituency':constituency, 'Winner': 0}\n",
    "        for i,td in enumerate(pq(tr)('td')):\n",
    "            if i == 0:\n",
    "                candidate_dict['Name'] = pq(td)('a').text()\n",
    "                candidate_dict['Link'] = pq(td)('a').attr.href\n",
    "                if pq(td)('font').text() == \"Winner\":\n",
    "                    candidate_dict['Winner'] = 1\n",
    "            if i == 1:\n",
    "                candidate_dict['Party'] = pq(td).text()\n",
    "            if i == 2:\n",
    "                candidate_dict['Criminal_Cases'] = pq(td).text()\n",
    "            if i == 3:\n",
    "                candidate_dict['Education'] = pq(td).text()                \n",
    "            if i == 4:\n",
    "                candidate_dict['Age'] = pq(td).text() \n",
    "            if i == 5:\n",
    "                candidate_dict['Assets_Rs'] = td.text.replace(\"Rs\",'').replace(',','').lstrip()\n",
    "            if i == 6:\n",
    "                candidate_dict['Liabilities_Rs'] = td.text.replace(\"Rs\",'').replace(',','').lstrip()\n",
    "        datalist.append(candidate_dict)\n",
    "    return pd.DataFrame(datalist)"
   ]
  },
  {
   "cell_type": "markdown",
   "metadata": {
    "collapsed": true
   },
   "source": [
    "###3. Put it all together and get dataframes###"
   ]
  },
  {
   "cell_type": "markdown",
   "metadata": {},
   "source": [
    "Get all the winner"
   ]
  },
  {
   "cell_type": "code",
   "execution_count": 6,
   "metadata": {
    "collapsed": false
   },
   "outputs": [],
   "source": [
    "#For each url, get the list of winners\n",
    "winner_df_list = []\n",
    "for year,url in url_list.iteritems():\n",
    "    winner_df_list.append(process_winner_link(url, year))\n",
    "\n",
    "winner_df = pd.concat(winner_df_list)"
   ]
  },
  {
   "cell_type": "code",
   "execution_count": 7,
   "metadata": {
    "collapsed": false
   },
   "outputs": [
    {
     "name": "stdout",
     "output_type": "stream",
     "text": [
      "assets          1575\n",
      "constituency    1575\n",
      "crim_cases      1575\n",
      "education       1575\n",
      "idnum           1575\n",
      "liabilities     1575\n",
      "name            1575\n",
      "party           1575\n",
      "url             1575\n",
      "year            1575\n",
      "dtype: int64\n"
     ]
    }
   ],
   "source": [
    "print winner_df.count()\n",
    "winner_df.head(3)\n",
    "winner_df.to_csv('winners.csv')"
   ]
  },
  {
   "cell_type": "markdown",
   "metadata": {
    "collapsed": true
   },
   "source": [
    "Get all the contituencies"
   ]
  },
  {
   "cell_type": "code",
   "execution_count": 8,
   "metadata": {
    "collapsed": false
   },
   "outputs": [
    {
     "name": "stdout",
     "output_type": "stream",
     "text": [
      "\n",
      "Number of constituent: 226 : ! . . ! . . . . . . . . ! . . ! . . . . . ! . . . . . . . . . . . ! . . ! . . . . ! . . ! . . ! . . ! . . . . . . . . ! . . . . ! . . ! . . . ! . . . . . ! . . . . . . . . ! . . . . . . ! . . ! . . . . . . . . . ! . . . . . . . . . . . . . ! . . ! . . ! . . ! . . ! . . . ! . . . . . . . ! . . ! . . . . . ! . . . . . . . . ! . . ! . . . . . . . . . . . ! . . . . . . ! . . ! . . . . . . . . . . . . . . . . . . . . . ! . . . ! . . . . . . . . . . . . \n",
      "Number of constituent: 223 : ! . . ! . . . . . . . . . . . . ! . . ! . . . . . ! . . . . . . . . . . . ! . . ! . . . . ! . . ! . . ! . . ! . . . . . . . . ! . . . . ! . . ! . . . ! . . . . . ! . . . . . . . . ! . . . . . . ! . . ! . . . . . . . . . ! . . . . . . . . . . . . . ! . . ! . . ! . . ! . . ! . . . ! . . . . . . . ! . . ! . . . . . ! . . . . . . . . ! . . ! . . . . . . . . . . . ! . . ! . . . . . . . . . . . . . . . . . . . . . ! . . . ! . . . . . . . . . . . . \n",
      "Number of constituent: 223 : ! . . ! . . . . . . . . . . . . ! . . ! . . . . . ! . . . . . . . . . . . ! . . ! . . . . ! . . ! . . ! . . ! . . . . . . . . ! . . . . ! . . ! . . . ! . . . . . ! . . . . . . . . ! . . . . . . ! . . ! . . . . . . . . . ! . . . . . . . . . . . . . ! . . ! . . ! . . ! . . ! . . . ! . . . . . . . ! . . ! . . . . . ! . . . . . . . . ! . . ! . . . . . . . . . . . ! . . ! . . . . . . . . . . . . . . . . . . . . . ! . . . ! . . . . . . . . . . . .\n"
     ]
    }
   ],
   "source": [
    "constituency_list = []\n",
    "\n",
    "for year, url in base_urls.iteritems():\n",
    "    constituency_list.append(get_constituents(year, url))\n",
    "\n",
    "constituency_df = pd.concat(constituency_list)"
   ]
  },
  {
   "cell_type": "code",
   "execution_count": 9,
   "metadata": {
    "collapsed": false
   },
   "outputs": [
    {
     "data": {
      "text/html": [
       "<div>\n",
       "<table border=\"1\" class=\"dataframe\">\n",
       "  <thead>\n",
       "    <tr style=\"text-align: right;\">\n",
       "      <th></th>\n",
       "      <th>district</th>\n",
       "      <th>state</th>\n",
       "      <th>thelink</th>\n",
       "      <th>year</th>\n",
       "    </tr>\n",
       "  </thead>\n",
       "  <tbody>\n",
       "    <tr>\n",
       "      <th>0</th>\n",
       "      <td>ANDAMAN &amp; NICOBAR ISLANDS</td>\n",
       "      <td>ANDAMAN &amp; NICOBAR ISLANDS</td>\n",
       "      <td>index.php?action=show_candidates&amp;constituency_...</td>\n",
       "      <td>2014</td>\n",
       "    </tr>\n",
       "    <tr>\n",
       "      <th>1</th>\n",
       "      <td>AMALAPURAM</td>\n",
       "      <td>ANDHRA PRADESH</td>\n",
       "      <td>index.php?action=show_candidates&amp;constituency_...</td>\n",
       "      <td>2014</td>\n",
       "    </tr>\n",
       "    <tr>\n",
       "      <th>2</th>\n",
       "      <td>ANAKAPALLE</td>\n",
       "      <td>ANDHRA PRADESH</td>\n",
       "      <td>index.php?action=show_candidates&amp;constituency_...</td>\n",
       "      <td>2014</td>\n",
       "    </tr>\n",
       "  </tbody>\n",
       "</table>\n",
       "</div>"
      ],
      "text/plain": [
       "                    district                      state  \\\n",
       "0  ANDAMAN & NICOBAR ISLANDS  ANDAMAN & NICOBAR ISLANDS   \n",
       "1                 AMALAPURAM             ANDHRA PRADESH   \n",
       "2                 ANAKAPALLE             ANDHRA PRADESH   \n",
       "\n",
       "                                             thelink  year  \n",
       "0  index.php?action=show_candidates&constituency_...  2014  \n",
       "1  index.php?action=show_candidates&constituency_...  2014  \n",
       "2  index.php?action=show_candidates&constituency_...  2014  "
      ]
     },
     "execution_count": 9,
     "metadata": {},
     "output_type": "execute_result"
    }
   ],
   "source": [
    "print constituency_df.count()\n",
    "constituency_df.head(3)"
   ]
  },
  {
   "cell_type": "markdown",
   "metadata": {},
   "source": [
    "Get the constituents for each constituency"
   ]
  },
  {
   "cell_type": "code",
   "execution_count": 19,
   "metadata": {
    "collapsed": false
   },
   "outputs": [
    {
     "name": "stdout",
     "output_type": "stream",
     "text": [
      ". . . . . . . . . . . . . . . . . . . . . . . . . . . . . . . . . . . . . . . . . . . . . . . . . . . . . . . . . . . . . . . . . . . . . . . . . . . . . . . . . . . . . . . . . . . . . . . . . . . . . . . . . . . . . . . . . . . . . . . . . . . . . . . . . . . . . . . . . . . . . . . . . . . . . . . . . . . . . . . . . . . . .\n"
     ]
    }
   ],
   "source": [
    "candidates_list = []\n",
    "\n",
    "for index, row in constituency_df.iterrows() :\n",
    "#    print \"%s, %s, %s, %s\" % (row['district'], row['state'], base_urls[row['year']]+row['thelink'], row['year'])\n",
    "    temp_df = get_candidates(row['district'], row['state'], base_urls[row['year']]+row['thelink'], row['year'])\n",
    "    candidates_list.append(temp_df)\n",
    "    if index % 10 == 0:\n",
    "        print \".\",\n",
    "    #sleep(1)\n",
    "candidates_df = pd.concat(candidates_list)"
   ]
  },
  {
   "cell_type": "code",
   "execution_count": 37,
   "metadata": {
    "collapsed": false
   },
   "outputs": [
    {
     "name": "stdout",
     "output_type": "stream",
     "text": [
      "Age               19134\n",
      "Assets_Rs         19134\n",
      "Constituency      19134\n",
      "Criminal_Cases    19134\n",
      "Education         19134\n",
      "Liabilities_Rs    19134\n",
      "Link              19134\n",
      "Name              19134\n",
      "Party             19134\n",
      "State             19134\n",
      "Winner            19134\n",
      "Year              19134\n",
      "dtype: int64\n"
     ]
    },
    {
     "data": {
      "text/html": [
       "<div>\n",
       "<table border=\"1\" class=\"dataframe\">\n",
       "  <thead>\n",
       "    <tr style=\"text-align: right;\">\n",
       "      <th></th>\n",
       "      <th>Age</th>\n",
       "      <th>Assets_Rs</th>\n",
       "      <th>Constituency</th>\n",
       "      <th>Criminal_Cases</th>\n",
       "      <th>Education</th>\n",
       "      <th>Liabilities_Rs</th>\n",
       "      <th>Link</th>\n",
       "      <th>Name</th>\n",
       "      <th>Party</th>\n",
       "      <th>State</th>\n",
       "      <th>Winner</th>\n",
       "      <th>Year</th>\n",
       "    </tr>\n",
       "  </thead>\n",
       "  <tbody>\n",
       "    <tr>\n",
       "      <th>7</th>\n",
       "      <td>52</td>\n",
       "      <td>1252940</td>\n",
       "      <td>Katwa</td>\n",
       "      <td>0</td>\n",
       "      <td>Graduate</td>\n",
       "      <td>1850000</td>\n",
       "      <td>candidate.php?candidate_id=5320</td>\n",
       "      <td>Saifuddin Choudhury</td>\n",
       "      <td>PDS</td>\n",
       "      <td>WEST BENGAL</td>\n",
       "      <td>0</td>\n",
       "      <td>2004</td>\n",
       "    </tr>\n",
       "    <tr>\n",
       "      <th>8</th>\n",
       "      <td>44</td>\n",
       "      <td>Nil</td>\n",
       "      <td>Katwa</td>\n",
       "      <td>0</td>\n",
       "      <td>Not Given</td>\n",
       "      <td>0</td>\n",
       "      <td>candidate.php?candidate_id=5324</td>\n",
       "      <td>Salil Dutta</td>\n",
       "      <td>CPI(ML)(L)</td>\n",
       "      <td>WEST BENGAL</td>\n",
       "      <td>0</td>\n",
       "      <td>2004</td>\n",
       "    </tr>\n",
       "    <tr>\n",
       "      <th>9</th>\n",
       "      <td>46</td>\n",
       "      <td>12000</td>\n",
       "      <td>Katwa</td>\n",
       "      <td>0</td>\n",
       "      <td>12th Pass</td>\n",
       "      <td>0</td>\n",
       "      <td>candidate.php?candidate_id=5323</td>\n",
       "      <td>Shyamsundar Das</td>\n",
       "      <td>IND</td>\n",
       "      <td>WEST BENGAL</td>\n",
       "      <td>0</td>\n",
       "      <td>2004</td>\n",
       "    </tr>\n",
       "  </tbody>\n",
       "</table>\n",
       "</div>"
      ],
      "text/plain": [
       "  Age Assets_Rs Constituency Criminal_Cases  Education Liabilities_Rs  \\\n",
       "7  52   1252940        Katwa              0   Graduate        1850000   \n",
       "8  44       Nil        Katwa              0  Not Given              0   \n",
       "9  46     12000        Katwa              0  12th Pass              0   \n",
       "\n",
       "                              Link                 Name       Party  \\\n",
       "7  candidate.php?candidate_id=5320  Saifuddin Choudhury         PDS   \n",
       "8  candidate.php?candidate_id=5324          Salil Dutta  CPI(ML)(L)   \n",
       "9  candidate.php?candidate_id=5323      Shyamsundar Das         IND   \n",
       "\n",
       "         State  Winner  Year  \n",
       "7  WEST BENGAL       0  2004  \n",
       "8  WEST BENGAL       0  2004  \n",
       "9  WEST BENGAL       0  2004  "
      ]
     },
     "execution_count": 37,
     "metadata": {},
     "output_type": "execute_result"
    }
   ],
   "source": [
    "print candidates_df.count()\n",
    "candidates_df[len(candidates_df)-100:len(candidates_df)].head(3)"
   ]
  },
  {
   "cell_type": "markdown",
   "metadata": {},
   "source": [
    "###4. Download page of candidates and save as json###"
   ]
  },
  {
   "cell_type": "code",
   "execution_count": 27,
   "metadata": {
    "collapsed": false
   },
   "outputs": [
    {
     "name": "stdout",
     "output_type": "stream",
     "text": [
      "# . # . # # . # . # . # # . # . # . # . # . . # . # . # . # . # . # . # . # . # # # . # . # . . # # # # # . # . # # . # # . # . # # . # . # # . # # . # . # . # . # . # . # . # . # . # . # . # . # . # . # . # . . # . # # . # . # # . # . . # . . # . # . # . # . # . # . # . # . # . # . # . # . # . # . # . . # . # . # # . . # . . # . # # . . # . . # . # . . . # . # . # . # # # . # . # # . # . # . # # . # . # # # . # . . # # # . # . # . # . # . # . # . # # # . # # # . # . . # . . # . . # . . . . # . . # . . # . # . # . . # # . # # # . # . # . # # . # . # . # . . . # . # . # . # . # . # . # . # # . # . # . . # . # . # . . # . # . # . . # . # . # . . # . # . # . # . # . # . # . # . # # . # . # . . # . # . # . # . # . # . # . # # . # . # . # . # . # . # . # . # # . # . # # # . # . # # . # . # . # . # # . # # # . . # . # # . # # . # . . # # . . # . # . # . # # # . # . # # # . # # . # . # . # . # . # . # . # # . # . . # # . . . # . . # . # . # . # . # # . # . # . . # . # . . # . # . # . # . . # . # . . # . . # . # . # . # . . # . . . # . . # # . # . . # # . # . . # # . . # # . . # . # . # . # . # . # . . # . . # . . # # # # # # # . . # . . # . . # . . # . # . # . # # # # . # # . # # # . # # # . # # # # # # # # . # . # . . # . . # . # . . # . # . # . # . # . # . . # . # . . # . # . . # . # . # # . # . # # # . # . # . # . # . # . # . # # . # . # . # . # . # . # . # . # . . # # # . . # . # . # . . . # . . . . # . # . . # . # . # . # . # . . # . # . . # . . # . # . . . # . # # . . # # . . # . # . . . # . . # . . # . . # . # . # . . # . # . . # . . # . . # . # . . # . . # . # . . # # . # . # . # . # . . # . # # . . # . # # # . # . # . . # . # # . # . # . # . # . # . . # . # . . . # . # . # . # . # . # # . # . # . # . # . # . # . # . # # . . # . # . # . # . # # . # . . # . # . . # . # . . # . # . # . # . # . # . # . # # . # . . # . # . # . # . # . . # . # . # . # . # . . # . # . . # . # . # . # . . # . # . # . # . # . # . # . # . # . # . # . # . # . # . # . . # . # . # . # . # . . # . . . . # # # . . # . # . # # # . # # . # . # . # . # # # . # # . # # # . # . # . # # # # . # . # . # . # # . # # . # . # # . # . # # # . # . # . # # # # . # # # . # # . # . # # . # . # # . # # # . . # . # . # . # . # # # . # . . . # . # # . # . # . # . # # . # . # # . # . # . # . . # # # # . # # . # # # # # . # # # . # # # . # # . # . # . # . # . # . . # . # . # . # . # . . # . . # . # . # . # . # . . # . # . # . # . # . # . # . # . # . # . # . . # . . # . # # . # . # . # . # . # # # . # # . # . # . . # . # . # . # # . . # . # . # . # . # . # # . . # . # . # # # # . # . # . # . # . # . # . # . # . # # # . # . . # . # . # # . # . # # . # # . . # . # . # . # # # # . . # . . # . . # . . . # . . # . # . # . # . # # # # # . # . # . . # # . # . # # . # # # . # . # # # . # . # . # . # . # # . # . . . # . . # . # . # # # . . # # . # . # # . # . # . . # . # # . # . # . . # . # . # . # # . # # # . # # # . # . # # # # # . # . # . # # # # . # . # . # # # . # # . # . # . # . . # . . # . # # . # . # . . # # . # . # . # . # . # . # . # . . # # # . # . # . . # # . # . # # # . # # . . # . # . # . # . # . # . # . . # . # # . # # . # . # . # . # # . # . # . # . . # . # . # . . # . # . . # . . # . . # # . # . . # # . # . . . # # . # # . # . # # . # # . # . . # . # . . # # # # # # # . . . # . # . . . # . # . # . # . # # # # # # . # # # # # # # # # # # # # # # # # . # . # . . # . # . # . . # . # . # . # . # . . # . # . # # . # # # . # # # . # . # . # . # . . # . . # . . # . # . # . # . # . # # . # . # . # . # # # . # . # . . . # . . # . . . . # . # . . # # . # . # . . # . . # . # . . # . . # # . # . . # # . . # . # . . # . # . # . . # . # . . . # # . # . . # # . . # . . # # . # . . # . . # . # . # # # . # . # . . # . . . # . . # . # . # . # . # # . # . # . # . # . # . # # . # . # . . # . # . # . # . # . # . # . # . # . # . # . # . # . . # . # . # . # . . # . . # . # . # # . # . # . # . # . . # . # . # # . # . # . # . . . . # . # . # . # . # . . # . . # . # # . # . . # . # . . # . # . # . # . # # . # . . # . # . . # . # . # . # . # . . # . # # . # . . # . # . # # # # # # # . # # # # # # # # # # # # # # # . # # # # # # # . # . # # # # # # . # . # . # # # # # . # # # # # # # # # . # # # # # # # # # # # # # # # # # # # # # # # # # # . # # # # # # # # # # # # . # # . # # . # # # . # # # . # # . # . # . # . # . # # # # . # # . # . # # # . # # # . # # . # # # . # # . # # . # . # . # . # . . # . # # # . # . # # . # # . # . # # # . # . # # # # . # # # # # # # # # # # # # # # # # # # # # # # # # # # # # # # # . # . # . # . # . # . # . # . . # # . # # # # # . # # . . # # . # # # # # # # # # # # # # # # # # # # # # # # # # # # # # # # . # # # # # # # # # # # # # # # # . # # . # # # # # # # # # # # # # # # # # # . # # # # # # # # # # # # # # # # # # # # # # # # # # # # # # . # # # # # . # . # # # # # # # . # # # # # # . # # . # # . # . # # # . # . # # # # # # . . # # # # # # # # # . # # # # # # # # . # # . . # # # # # # # # # # # # # # # # # # # # # # # # # # # . # # # # # # # # # # # # # # # # # # # # # # # # # # # # # # # # # # # # # # # # # # # # # # # # # # # # # # # # # # # # # # # # # # # # # # # # # # # # # # # # # # # # # # # # # # # # # # # # # # # # # # # # # # # # # # # # # # # # # # # # # # # # # # # # # # # # # # # # # # # # # # # # # # # # # # # # # # # # # # # # # # # # # # # # . # # # # # # # . # . # # # # . # # # # . # . # # # # # . # # # # # # # . # # # # #\n"
     ]
    }
   ],
   "source": [
    "pages_dict = {}\n",
    "\n",
    "for index, row in candidates_df[['Link','Year']].iterrows() :\n",
    "    html = requests.get(base_urls[row['Year']]+row['Link'])\n",
    "    pages_dict[base_urls[row['Year']]+row['Link']] = html.content\n",
    "    if index % 10 == 0.0:\n",
    "        if index % 100 == 0.0:\n",
    "            print \"#\",\n",
    "        else:\n",
    "            print \".\",\n",
    "\n",
    "    #sleep(1)\n",
    "    "
   ]
  },
  {
   "cell_type": "code",
   "execution_count": 29,
   "metadata": {
    "collapsed": false
   },
   "outputs": [],
   "source": [
    "with open('candidate_pages.json', 'w') as fp:\n",
    "    json.dump(pages_dict, fp, encoding='latin1')"
   ]
  },
  {
   "cell_type": "code",
   "execution_count": 36,
   "metadata": {
    "collapsed": false
   },
   "outputs": [],
   "source": [
    "for key, value in pages_dict.iteritems():\n",
    "    if len(value) < 5000:\n",
    "        print key"
   ]
  },
  {
   "cell_type": "code",
   "execution_count": null,
   "metadata": {
    "collapsed": true
   },
   "outputs": [],
   "source": []
  }
 ],
 "metadata": {
  "kernelspec": {
   "display_name": "Python 2",
   "language": "python",
   "name": "python2"
  },
  "language_info": {
   "codemirror_mode": {
    "name": "ipython",
    "version": 2
   },
   "file_extension": ".py",
   "mimetype": "text/x-python",
   "name": "python",
   "nbconvert_exporter": "python",
   "pygments_lexer": "ipython2",
   "version": "2.7.10"
  }
 },
 "nbformat": 4,
 "nbformat_minor": 0
}

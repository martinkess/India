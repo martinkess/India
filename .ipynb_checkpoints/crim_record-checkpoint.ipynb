{
 "cells": [
  {
   "cell_type": "code",
   "execution_count": 1,
   "metadata": {
    "collapsed": true
   },
   "outputs": [],
   "source": [
    "from pyquery import PyQuery as pq\n",
    "import urllib2\n",
    "import requests\n",
    "import pandas as pd\n",
    "import re\n",
    "import time\n",
    "import numpy as np\n",
    "import json"
   ]
  },
  {
   "cell_type": "code",
   "execution_count": 12,
   "metadata": {
    "collapsed": false
   },
   "outputs": [],
   "source": [
    "with open('./polinfo.json') as data_file:    \n",
    "    candidate_json = json.load(data_file)"
   ]
  },
  {
   "cell_type": "code",
   "execution_count": 28,
   "metadata": {
    "collapsed": false
   },
   "outputs": [],
   "source": [
    "for urls in candidate_json.keys():\n",
    "    page_date = candidate_json[urls]"
   ]
  },
  {
   "cell_type": "code",
   "execution_count": 63,
   "metadata": {
    "collapsed": false
   },
   "outputs": [],
   "source": [
    "test_index = \"candidate.php?candidate_id=953\"\n",
    "page_data = candidate_json[test_index]"
   ]
  },
  {
   "cell_type": "code",
   "execution_count": 114,
   "metadata": {
    "collapsed": false
   },
   "outputs": [
    {
     "name": "stdout",
     "output_type": "stream",
     "text": [
      "<table width=\"80%\" cellpadding=\"1\" border=\"1\">\n",
      "\t<tr style=\"font-weight:bold\"><td>Serial No.</td><td>IPC Sections Applicable</td><td>Other Details / Other Acts / Sections Applicable</td></tr>\n",
      "\t<tr><td> 1</td><td>427 </td><td> 110/207 P.S Ziro, Lower Subansiri Arunachal Pradesh, 3PDPP Act Court JMFC Ziro Dt 27.11.2007 </td></tr>\n",
      "\t\n",
      "\t</table>\n",
      "\n",
      "\t\n",
      "\n",
      "\t\n"
     ]
    }
   ],
   "source": [
    "for h3 in pq(page_data)(\"h3\"):\n",
    "    if h3.text == \"Details of Criminal Cases\":\n",
    "        tablecrims = pq(h3).next('table')\n",
    "        for h3_2 in pq(tablecrims)(\"h3\"):\n",
    "            if h3_2.text == \"Cases where charges framed\":\n",
    "                framed = pq(h3_2).next('table')\n",
    "                for trs in pq(framed)('table'):\n",
    "                    print trs.text\n",
    "        \n",
    "\n",
    "# crim_html = pq(h3)\n",
    "# crim_html.find\n",
    "# table = crim_html.next('table')\n",
    "# print pq(table)\n"
   ]
  },
  {
   "cell_type": "code",
   "execution_count": null,
   "metadata": {
    "collapsed": true
   },
   "outputs": [],
   "source": []
  }
 ],
 "metadata": {
  "kernelspec": {
   "display_name": "Python 2",
   "language": "python",
   "name": "python2"
  },
  "language_info": {
   "codemirror_mode": {
    "name": "ipython",
    "version": 2
   },
   "file_extension": ".py",
   "mimetype": "text/x-python",
   "name": "python",
   "nbconvert_exporter": "python",
   "pygments_lexer": "ipython2",
   "version": "2.7.10"
  }
 },
 "nbformat": 4,
 "nbformat_minor": 0
}

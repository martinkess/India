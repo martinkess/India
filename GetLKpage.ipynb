{
 "cells": [
  {
   "cell_type": "code",
   "execution_count": 3,
   "metadata": {
    "collapsed": true
   },
   "outputs": [],
   "source": [
    "from pyquery import PyQuery as pq\n",
    "import urllib2\n",
    "import requests\n",
    "import pandas as pd\n",
    "import re\n",
    "import time\n",
    "import numpy as np\n",
    "import json\n"
   ]
  },
  {
   "cell_type": "markdown",
   "metadata": {},
   "source": [
    "Define URLs:"
   ]
  },
  {
   "cell_type": "code",
   "execution_count": 4,
   "metadata": {
    "collapsed": true
   },
   "outputs": [],
   "source": [
    "ls_2014 = \"http://myneta.info/ls2014/index.php?action=show_winners&sort=default\"\n",
    "ls_2009 = \"http://myneta.info/ls2009/index.php?action=show_winners&sort=default\"\n",
    "ls_2004 = \"http://myneta.info/loksabha2004/index.php?action=show_winners&sort=default\""
   ]
  },
  {
   "cell_type": "markdown",
   "metadata": {},
   "source": [
    "Define function to download and create dataframe"
   ]
  },
  {
   "cell_type": "code",
   "execution_count": 5,
   "metadata": {
    "collapsed": false
   },
   "outputs": [],
   "source": [
    "def process_winner_link(link, year):\n",
    "    \n",
    "    html = requests.get(link)\n",
    "    doc = pq(html.content)\n",
    "    trs = doc('table').eq(2).children('tr')\n",
    "\n",
    "    datalist=[]\n",
    "\n",
    "    for tr in trs:\n",
    "        winner_dict = {'year':year}\n",
    "        for i,td in enumerate(tr.findall('td')):\n",
    "            if i == 0:\n",
    "                winner_dict['idnum'] = td.text\n",
    "            if i == 1:\n",
    "                winner_dict['name'] = td.findall('a')[1].text\n",
    "            if i == 2:\n",
    "                winner_dict['constituency'] = td.text\n",
    "            if i == 3:\n",
    "                winner_dict['party'] = td.text\n",
    "            if i == 4:\n",
    "                winner_dict['crim_cases'] = td.text\n",
    "                if td.text == None:\n",
    "                    winner_dict['crim_cases'] = td.find('span').text\n",
    "            if i == 5:\n",
    "                winner_dict['education'] = td.text\n",
    "            if i == 6:\n",
    "                winner_dict['assets'] =  td.text.replace(',','').replace('Rs','').lstrip()\n",
    "            if i == 7:\n",
    "                winner_dict['liabilities'] =  td.text.replace(',','').replace('Rs','').lstrip()\n",
    "\n",
    "        datalist.append(winner_dict)\n",
    "\n",
    "    return pd.DataFrame(datalist)\n",
    "    "
   ]
  },
  {
   "cell_type": "code",
   "execution_count": 143,
   "metadata": {
    "collapsed": false
   },
   "outputs": [],
   "source": [
    "df_winner_14 = process_winner_link(ls_2014, 2014)\n",
    "df_winner_09 = process_winner_link(ls_2009, 2009)\n",
    "df_winner_04 = process_winner_link(ls_2004, 2004)\n",
    "df_winner_master = pd.concat([df_14,df_09,df_04])\n",
    "df_winner_master.to_csv('loksabha_win.csv')"
   ]
  },
  {
   "cell_type": "code",
   "execution_count": 7,
   "metadata": {
    "collapsed": true
   },
   "outputs": [],
   "source": [
    "base_candidate = \"http://myneta.info/ls\"\n",
    "suffix_candidate = \"/index.php?action=show_candidates&constituency_id=\""
   ]
  },
  {
   "cell_type": "code",
   "execution_count": 116,
   "metadata": {
    "collapsed": false
   },
   "outputs": [],
   "source": [
    "def get_constituents(year, thelink):\n",
    "    html = requests.get(thelink)\n",
    "    doc = pq(html.content)\n",
    "    trs = doc('table').eq(2).find('tr')\n",
    "    datalist=[]\n",
    "    print len(trs)\n",
    "    for tr in trs:\n",
    "        new_state = pq(tr)('th').text()\n",
    "        if new_state != \"\":\n",
    "            curr_state = new_state \n",
    "            #print \"state: %s\" % curr_state\n",
    "        else:\n",
    "            districts = pq(tr)('td')\n",
    "            if districts != \"\":\n",
    "                for x in districts:\n",
    "                    dist_name = pq(x)('a').text()\n",
    "                    if dist_name != \"\":\n",
    "                        district_dict = {'year':year, 'state':curr_state}\n",
    "                        district_dict['district'] = dist_name\n",
    "                        district_dict['thelink'] = pq(x)('a').attr.href\n",
    "                        datalist.append(district_dict)\n",
    "\n",
    "    return pd.DataFrame(datalist)\n"
   ]
  },
  {
   "cell_type": "code",
   "execution_count": 121,
   "metadata": {
    "collapsed": false
   },
   "outputs": [
    {
     "name": "stdout",
     "output_type": "stream",
     "text": [
      "226\n"
     ]
    }
   ],
   "source": [
    "thelink = 'http://myneta.info/ls2014/'\n",
    "mynetasite = 'http://myneta.info/'\n",
    "districts = get_constituents(2014, thelink)"
   ]
  },
  {
   "cell_type": "code",
   "execution_count": 138,
   "metadata": {
    "collapsed": false
   },
   "outputs": [
    {
     "ename": "IndexError",
     "evalue": "list index out of range",
     "output_type": "error",
     "traceback": [
      "\u001b[0;31m---------------------------------------------------------------------------\u001b[0m",
      "\u001b[0;31mIndexError\u001b[0m                                Traceback (most recent call last)",
      "\u001b[0;32m<ipython-input-138-21a88e8ef302>\u001b[0m in \u001b[0;36m<module>\u001b[0;34m()\u001b[0m\n\u001b[1;32m     14\u001b[0m             \u001b[0mwinner_dict\u001b[0m\u001b[0;34m[\u001b[0m\u001b[0;34m'idnum'\u001b[0m\u001b[0;34m]\u001b[0m \u001b[0;34m=\u001b[0m \u001b[0mtd\u001b[0m\u001b[0;34m.\u001b[0m\u001b[0mtext\u001b[0m\u001b[0;34m\u001b[0m\u001b[0m\n\u001b[1;32m     15\u001b[0m         \u001b[0;32mif\u001b[0m \u001b[0mi\u001b[0m \u001b[0;34m==\u001b[0m \u001b[0;36m1\u001b[0m\u001b[0;34m:\u001b[0m\u001b[0;34m\u001b[0m\u001b[0m\n\u001b[0;32m---> 16\u001b[0;31m             \u001b[0mwinner_dict\u001b[0m\u001b[0;34m[\u001b[0m\u001b[0;34m'name'\u001b[0m\u001b[0;34m]\u001b[0m \u001b[0;34m=\u001b[0m \u001b[0mtd\u001b[0m\u001b[0;34m.\u001b[0m\u001b[0mfindall\u001b[0m\u001b[0;34m(\u001b[0m\u001b[0;34m'a'\u001b[0m\u001b[0;34m)\u001b[0m\u001b[0;34m[\u001b[0m\u001b[0;36m1\u001b[0m\u001b[0;34m]\u001b[0m\u001b[0;34m.\u001b[0m\u001b[0mtext\u001b[0m\u001b[0;34m\u001b[0m\u001b[0m\n\u001b[0m\u001b[1;32m     17\u001b[0m         \u001b[0;32mif\u001b[0m \u001b[0mi\u001b[0m \u001b[0;34m==\u001b[0m \u001b[0;36m2\u001b[0m\u001b[0;34m:\u001b[0m\u001b[0;34m\u001b[0m\u001b[0m\n\u001b[1;32m     18\u001b[0m             \u001b[0mwinner_dict\u001b[0m\u001b[0;34m[\u001b[0m\u001b[0;34m'constituency'\u001b[0m\u001b[0;34m]\u001b[0m \u001b[0;34m=\u001b[0m \u001b[0mtd\u001b[0m\u001b[0;34m.\u001b[0m\u001b[0mtext\u001b[0m\u001b[0;34m\u001b[0m\u001b[0m\n",
      "\u001b[0;31mIndexError\u001b[0m: list index out of range"
     ]
    }
   ],
   "source": [
    "#for link in districts.thelink :\n",
    "    \n",
    "masterlink = 'http://myneta.info/ls2014/index.php?action=show_candidates&constituency_id=23'\n",
    "thepage = requests.get(masterlink)\n",
    "doc = pq(thepage.content)\n",
    "\n",
    "trs = doc('table').eq(2).children('tr')\n",
    "\n",
    "datalist = []\n",
    "for tr in trs:\n",
    "    winner_dict = {'year':year}\n",
    "    for i,td in enumerate(tr.findall('td')):\n",
    "        if i == 0:\n",
    "            winner_dict['idnum'] = td.text\n",
    "        if i == 1:\n",
    "            winner_dict['name'] = td.findall('a')[1].text\n",
    "        if i == 2:\n",
    "            winner_dict['constituency'] = td.text\n",
    "        if i == 3:\n",
    "            winner_dict['party'] = td.text\n",
    "        if i == 4:\n",
    "            winner_dict['crim_cases'] = td.text\n",
    "            if td.text == None:\n",
    "                winner_dict['crim_cases'] = td.find('span').text\n",
    "        if i == 5:\n",
    "            winner_dict['education'] = td.text\n",
    "        if i == 6:\n",
    "            winner_dict['assets'] =  td.text.replace(',','').replace('Rs','').lstrip()\n",
    "        if i == 7:\n",
    "            winner_dict['liabilities'] =  td.text.replace(',','').replace('Rs','').lstrip()\n",
    "\n",
    "    datalist.append(winner_dict)\n",
    "        \n",
    "#print trs\n",
    "#print len(doc('.divTableWithFloatingHeader'))"
   ]
  },
  {
   "cell_type": "code",
   "execution_count": null,
   "metadata": {
    "collapsed": true
   },
   "outputs": [],
   "source": []
  }
 ],
 "metadata": {
  "kernelspec": {
   "display_name": "Python 2",
   "language": "python",
   "name": "python2"
  },
  "language_info": {
   "codemirror_mode": {
    "name": "ipython",
    "version": 2
   },
   "file_extension": ".py",
   "mimetype": "text/x-python",
   "name": "python",
   "nbconvert_exporter": "python",
   "pygments_lexer": "ipython2",
   "version": "2.7.10"
  }
 },
 "nbformat": 4,
 "nbformat_minor": 0
}

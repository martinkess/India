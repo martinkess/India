{
 "cells": [
  {
   "cell_type": "markdown",
   "metadata": {},
   "source": [
    "# Scraping the Liabilities"
   ]
  },
  {
   "cell_type": "markdown",
   "metadata": {},
   "source": [
    "Loading libraries and the big json file"
   ]
  },
  {
   "cell_type": "code",
   "execution_count": 2,
   "metadata": {
    "collapsed": false
   },
   "outputs": [],
   "source": [
    "%matplotlib inline\n",
    "import numpy as np\n",
    "import scipy as sp\n",
    "import matplotlib as mpl\n",
    "import matplotlib.cm as cm\n",
    "import matplotlib.pyplot as plt\n",
    "import pandas as pd\n",
    "pd.set_option('display.width', 500)\n",
    "pd.set_option('display.max_columns', 100)\n",
    "pd.set_option('display.notebook_repr_html', True)\n",
    "import seaborn as sns\n",
    "sns.set_style(\"whitegrid\")\n",
    "sns.set_context(\"poster\")\n",
    "from bs4 import BeautifulSoup\n",
    "import unicodedata\n",
    "import locale\n",
    "locale.setlocale( locale.LC_ALL, 'en_US.UTF-8' )\n",
    "import requests"
   ]
  },
  {
   "cell_type": "code",
   "execution_count": 3,
   "metadata": {
    "collapsed": true
   },
   "outputs": [],
   "source": [
    "import json\n",
    "with open('polinfo.json') as data_file:    \n",
    "    data = json.load(data_file)"
   ]
  },
  {
   "cell_type": "markdown",
   "metadata": {},
   "source": [
    "Fixing keys that do not work"
   ]
  },
  {
   "cell_type": "code",
   "execution_count": 51,
   "metadata": {
    "collapsed": true
   },
   "outputs": [],
   "source": [
    "data['candidate.php?candidate_id=6112'] = requests.get('http://myneta.info/ls2014/candidate.php?candidate_id=6112').text\n",
    "data['candidate.php?candidate_id=2923'] = requests.get('http://myneta.info/ls2014/candidate.php?candidate_id=2923').text\n",
    "data['candidate.php?candidate_id=8068'] = requests.get('http://myneta.info/ls2014/candidate.php?candidate_id=8068').text\n",
    "data['candidate.php?candidate_id=1469'] = requests.get('http://myneta.info/ls2014/candidate.php?candidate_id=1469').text\n",
    "data['candidate.php?candidate_id=5058'] = requests.get('http://myneta.info/ls2014/candidate.php?candidate_id=5058').text\n",
    "data['candidate.php?candidate_id=5390'] = requests.get('http://myneta.info/ls2014/candidate.php?candidate_id=5390').text\n",
    "data['candidate.php?candidate_id=4001'] = requests.get('http://myneta.info/ls2014/candidate.php?candidate_id=4001').text"
   ]
  },
  {
   "cell_type": "markdown",
   "metadata": {},
   "source": [
    "Creating a toy example"
   ]
  },
  {
   "cell_type": "code",
   "execution_count": 52,
   "metadata": {
    "collapsed": false
   },
   "outputs": [
    {
     "data": {
      "text/plain": [
       "u'\\t\\t\\t<html>\\n\\t\\t\\t\\t<head>\\n\\t\\t\\t\\t   <title>Baldeo Ganjhu(Independent(IND)):Constituency- HAZARIBAGH(JHARKHAND) - Affidavit Information of Candidate:</title>\\n\\t\\t\\t\\t   <meta name=\"description\" content=\"It provides criminal and financial background information on candidates, MPs and MLAs contesting in elections.It also has information on income and expenditure of political parties.\">\\n    \\t\\t\\t\\t<meta charset=\"utf-8\"/>\\n    \\t\\t\\t\\t<meta http-equiv=\"x-ua-compatible\" content=\"ie=edge\"/>\\n    \\t\\t\\t\\t<meta name=\"viewport\" content=\"width=device-width, initial-scale=1, minimum-scale=1, maximum-scale=1\"/>\\n    \\t\\t\\t\\t<meta name=\"author\" content=\"ADR\"/>\\n    \\t\\t\\t\\t<link rel=\"stylesheet\" href=\"/lib/css/text.css\"/>\\n    \\t\\t\\t\\t<link rel=\"stylesheet\" href=\"/lib/css/main.css\"/>\\n    \\t\\t\\t\\t<link href=\\'http://fonts.googleapis.com/css?family=Rokkitt:400,700\\' rel=\\'stylesheet\\' type=\\'text/css\\'>\\n    \\t\\t\\t\\t<link href=\\'http://fonts.googleapis.com/css?family=Droid+Sans:400,700\\' rel=\\'stylesheet\\' type=\\'text/css\\'>\\n\\t\\t\\t\\t\\t<script type=\"text/javascript\">\\n\\t\\t\\t\\t\\t\\tfunction confirmation()\\n\\t\\t\\t\\t\\t\\t{\\n\\t\\t\\t\\t\\t\\t\\tif (document.form1.discrepancy.value.length<= 49)\\n\\t\\t\\t\\t\\t\\t\\t{\\n\\t\\t\\t\\t\\t\\t\\t\\talert(\\'Please enter at least 50 characters in discrepancy!\\');\\n\\t\\t\\t\\t\\t\\t\\t\\treturn false;\\n\\t\\t\\t\\t\\t\\t\\t}\\n\\t\\t\\t\\t\\t\\t\\treturn true;\\n\\t\\t\\t\\t\\t\\t}\\n\\t\\t\\t\\t\\t</script>\\n    \\t\\t\\t\\t<script src=\"https://ajax.googleapis.com/ajax/libs/jquery/1.7.2/jquery.min.js\"></script>\\n    \\t\\t\\t\\t<script src=\"/lib/js/adapt-config.js\"></script>\\n    \\t\\t\\t\\t<script src=\"/lib/js/adapt.min.js\"></script>\\n\\t\\t\\t\\t\\t<script src=\"/lib/js/fix-table-header.js\"></script>\\n    \\t\\t\\t\\t<script src=\"/lib/js/app.js\"></script>\\n\\t\\t\\t\\t\\t<!-- Put the following javascript before the closing </head> tag. -->\\n\\t\\t\\t\\t\\t<script>\\n  \\t\\t\\t\\t\\t(function() {\\n   \\t\\t\\t\\t\\t\\tvar cx = \\'014214505007285591097:vf77t8iuwrc\\';\\n    \\t\\t\\t\\t\\tvar gcse = document.createElement(\\'script\\'); gcse.type = \\'text/javascript\\'; gcse.async = true;\\n    \\t\\t\\t\\t\\tgcse.src = (document.location.protocol == \\'https:\\' ? \\'https:\\' : \\'http:\\') +\\'//www.google.com/cse/cse.js?cx=\\' + cx;\\n    \\t\\t\\t\\t\\tvar s = document.getElementsByTagName(\\'script\\')[0]; s.parentNode.insertBefore(gcse, s);\\n  \\t\\t\\t\\t\\t})();\\n\\t\\t\\t\\t\\t</script>\\n\\n\\t\\t\\t\\t<script type=\"text/javascript\">\\n  \\t\\t\\t\\tvar _gaq = _gaq || [];\\n  \\t\\t\\t\\t_gaq.push([\\'_setAccount\\', \\'UA-26901527-2\\']);\\n  \\t\\t\\t\\t_gaq.push([\\'_setDomainName\\', \\'myneta.info\\']);\\n  \\t\\t\\t\\t_gaq.push([\\'_trackPageview\\']);\\n\\n  \\t\\t\\t\\t(function() {\\n   \\t\\t\\t\\t var ga = document.createElement(\\'script\\'); ga.type = \\'text/javascript\\'; ga.async = true;\\n    \\t\\t\\t\\tga.src = (\\'https:\\' == document.location.protocol ? \\'https://ssl\\' : \\'http://www\\') + \\'.google-analytics.com/ga.js\\';\\n    \\t\\t\\t\\tvar s = document.getElementsByTagName(\\'script\\')[0]; s.parentNode.insertBefore(ga, s);\\n  \\t\\t\\t\\t})();\\n\\t\\t\\t\\t</script>\\n\\n\\t\\t\\t\\t</head>\\n\\t\\t\\t\\t<body>\\n\\t\\t\\t\\t\\t<!--<div align=right><a href=\"https://play.google.com/store/apps/details?id=com.webrosoft.myneta1\"><img src=\"/lib/img/android-logo-small.png\" />Myneta Android App </a>\\t</div>-->\\n\\t\\t\\t\\t\\t<!--Logos-->\\n\\t\\t\\t\\t\\t<div class=\"container_12\">\\n\\t\\t\\t\\t\\t\\t<div class=\"grid_3 logo\">\\n\\t\\t\\t\\t\\t        <a href=\"/\"><img src=\"/lib/img/myneta-logo.jpg\" title=\"MyNeta Logo\" alt=\"Myneta Logo\"></a>\\n\\t\\t\\t\\t\\t    </div>\\n\\t\\t\\t\\t\\t\\t<div class=\"grid_6\" style=\"text-align:center;vertical-align: bottom;\">\\n\\t\\t\\t\\t\\t\\t\\t<br><br>\\n\\t    \\t\\t\\t\\t\\t<form action=\"/search_myneta.php\" method=\"get\" align=center valgin=bottom>\\n       \\t\\t\\t\\t\\t\\t\\t<input type=\"text\" name=\"q\" placeholder=\"Neta/Constituency Name\" size=20>\\n        \\t\\t\\t\\t\\t\\t&ensp;<input type=\"submit\" value=\"Search\">\\n        \\t\\t\\t\\t\\t\\t&ensp;<a href=\\'http://myneta.info/advance_search.php\\' style=\\'text-decoration:none;\\'>Advance search</a>\\n    \\t\\t\\t\\t\\t\\t</form>\\n\\t\\t\\t\\t\\t\\t</div>\\n   \\t\\t\\t\\t\\t\\t<div class=\"grid_3 logo\">\\n\\t\\t\\t\\t        \\t<a href=\"http://adrindia.org\" target=\"_blank\"><img src=\"/lib/img/logo-adr.png\" title=\"ADR Logo\" id=\"adr-logo\"></a>\\n\\t\\t\\t\\t    \\t</div>\\n\\t\\t\\t\\t\\t</div>\\n\\n\\t\\t\\t\\t\\t<!--Menus -->\\n\\t\\t\\t\\t\\t<div class=\"menu-bg\">\\n\\t\\t\\t\\t\\t    <div class=\"container_12\">\\n\\t\\t\\t\\t\\t        <div class=\"grid_12\">\\n\\t\\t\\t\\t\\t            <ul class=\"main-menu\">\\n\\t\\t\\t\\t\\t                <li><a href=\"/\">Home</a></li>\\n\\t\\t\\t\\t\\t                <li><a href=\"http://adrindia.org/about-adr/who-we-are\" target=\"_blank\" title=\"About ADR\">About ADR</a>  </li>\\n\\t\\t\\t\\t\\t\\t\\t<li><a href=\"http://myneta.info/#ls\" title=\"Election Watch\">Lok Sabha</a></li>\\n\\t\\t\\t\\t\\t               \\t<li><a href=\"http://myneta.info/#rs\"  title=\"Research & Reports\" >Rajya Sabha</a></li>\\n\\t\\t\\t\\t\\t\\t\\t<li><a href=\"http://myneta.info/party\"  title=\"Political Parties\" >Political Parties <img width=\"30\" height=\"20\" border=\"0\" src=\"http://myneta.info/new.gif\"></a></li>\\n\\t\\t\\t\\t\\t\\t        <li><a href=\"http://adrindia.org/about-adr/state-coordinators\" target=\"_blank\"  title=\"Partners\">Partners</a></li>\\n\\t\\t\\t\\t\\t                <li><a href=\"http://adrindia.org/contact-us\" target=\"_blank\" title=\"Contact Us\">Contact Us</a></li>\\n\\t\\t\\t\\t\\t\\t\\t<li><a href=\"http://adrindia.org/donate\" target=\"_blank\" title=\"Donate\">Donate</a></li>\\t\\t\\n\\t\\t\\t\\t\\t\\t\\t<li><a href=http://translate.google.co.in/translate?prev=hp&hl=en&js=y&u=myneta.info&sl=en&tl=hi&history_state0= style=\"text-decoration: none\">&#2405;&#2350;&#2366;&#2351;&#0032;&#2344;&#2375;&#2340;&#2366;&#0032;&#2361;&#2367;&#2306;&#2342;&#2368;&#0032;&#2350;&#2375;&#2405;</a></li>\\n\\t\\t\\t\\t\\t\\t          </ul>\\n\\t\\t\\t\\t\\t        </div>\\n\\t\\t\\t\\t\\t    </div>\\n\\t\\t\\t\\t\\t</div>\\n\\t\\t\\t\\t\\t<div class=\"banner-bg\">\\n\\t\\t\\t\\t\\t\\t<div class=\"container_12\">\\n\\t\\t\\t\\t\\t\\t\\t<div class=\"grid_12\">\\n\\n\\t\\t\\t\\t\\t\\t\\t\\t<li><img src=\"/lib/img/banner/banner-3.png\"></li>\\n\\t\\t\\t\\t\\t\\t\\t</div>\\n\\t\\t\\t\\t\\t\\t</div>\\n\\t\\t\\t\\t\\t</div>\\n\\n\\t\\t\\t\\t\\t<!--Main Content-->\\n\\t\\t\\t\\t\\t<div id=\"main\">\\n\\t\\t\\t\\t\\t\\t<div class=\"container_12\">\\n\\t\\t\\t\\t\\t\\t\\t<div class=\"items\"><a href=http://myneta.info/>Home</a>&rarr;<a href=http://myneta.info/ls2014/>Loksabha 2014</a>&rarr;<a href=http://myneta.info/ls2014/index.php?action=show_constituencies&state_id=27>JHARKHAND</a>&rarr;<a href=http://myneta.info/ls2014/index.php?action=show_candidates&constituency_id=122>HAZARIBAGH</a>&rarr;<b>BALDEO GANJHU</b>(Criminal & Asset Declaration)<hr></div>\\n\\t\\t\\t\\t\\t\\t\\t<div class=\"grid_9\">\\n\\t\\t\\t\\t\\t\\t\\t\\t<h2 class=\\'title first\\'>Loksabha 2014</h1>\\n\\t\\t\\t\\t\\t\\t\\t\\t\\t\\n\\t\\n\\n\\t\\t\\t\\t\\t\\t<div class=\"grid_9\">\\n\\t\\t\\t\\t<div class=\"grid_9 alpha omega\" >\\n\\t\\t\\t\\t    <div class=\"grid_3 alpha\" style=\\'background:khaki;\\'>\\n        <h2 class=\"main-title\">BALDEO GANJHU </h2>\\n\\n        <h5>\\n        HAZARIBAGH  (JHARKHAND)\\n        </h5>\\n <div class=\"grid_2 alpha\">\\n        <b>Party:</b>IND\\n </div>\\n\\n        <div class=\"grid_2 alpha\">\\n            <b>S/o|D/o|W/o:</b>\\n            Late Jethu Ganjhu\\n        </div>\\n\\n        <div class=\"grid_2 alpha\">\\n            <b>Age:</b> 37\\n        </div>\\n\\n\\n\\n        <div class=\"grid_2 alpha\">\\n            <b>Address:</b>\\n            R/O Vill Gali.,Po Badam,Thana Badkagaon,Distt Hazaribagh,Jharkhand 825311\\n        </div>\\n\\t\\t\\t<div class=\"grid_3 alpha\"><b>Name Enrolled as Voter in: </b>Hazaribagh 24 (Jharkhand) constituency\\t\\t\\t, at Serial no 66  in Part no   153 </div>\\n\\t\\t\\t<div class=\"grid_2 alpha\"><b>Email:</b></div>\\n\\t\\t\\t<div class=\"grid_2 alpha\"><b>Contact Number:</b> 8009922525</div>\\n<div class=\"clearfix\"></div>\\n  <p>\\t<b>Self Profession:</b>Social Worker<br>\\n\\t<b>Spouse Profession:</b>Anganwadi Worker\\n</p>\\n    </div>\\n\\n\\t\\t\\t\\t\\t\\t\\t\\t\\t\\t<div class=\"grid_3 omega\" >\\r\\n\\t\\t\\r\\n\\t\\t<div class=\"addthis_toolbox addthis_default_style \" addthis:url=\"\">\\r\\n\\t\\t<a class=\"addthis_toolbox_item addthis_button_facebook at300b\" title=\"Facebook\" href=\"#\"><span class=\"at16nc at300bs at15nc at15t_facebook at16t_facebook\"><span class=\"at_a11y\">facebook</span></span></a>\\r\\n\\t\\t<a class=\"addthis_toolbox_item addthis_button_twitter at300b\" title=\"Tweet\" href=\"#\"><span class=\"at16nc at300bs at15nc at15t_twitter at16t_twitter\"><span class=\"at_a11y\">twitter</span></span></a>\\r\\n\\t\\t<a class=\"addthis_toolbox_item addthis_button_blogger at300b\" href=\"http://www.addthis.com/bookmark.php?v=250&amp;winname=addthis&amp;pub=ra-4ef96a35565be6b9&amp;source=tbx-250&amp;lng=en&amp;s=blogger&amp;url=;ate=AT-ra-4ef96a35565be6b9/-/-/5125bdcfea2ad8b0/2&amp;frommenu=1&amp;uid=5125bdcfc5cbb5fa&amp;ct=1&amp;ui_header_color=%23000000&amp;ui_header_background=%23FFFFFF&amp;tt=0&amp;captcha_provider=nucaptcha\" target=\"_blank\" title=\"Blogger\"><span class=\"at16nc at300bs at15nc at15t_blogger at16t_blogger\"><span class=\"at_a11y\">blogger</span></span></a>\\r\\n\\t\\t<a class=\"addthis_toolbox_item addthis_button_gmail at300b\" href=\"http://www.addthis.com/bookmark.php?v=250&amp;winname=addthis&amp;pub=ra-4ef96a35565be6b9&amp;source=tbx-250&amp;lng=en&amp;s=gmail&amp;url=;ui_header_color=%23000000&amp;ui_header_background=%23FFFFFF&amp;tt=0&amp;captcha_provider=nucaptcha\" target=\"_blank\" title=\"Gmail\"><span class=\"at16nc at300bs at15nc at15t_gmail at16t_gmail\"><span class=\"at_a11y\">gmail</span></span></a>\\r\\n\\t\\t<a class=\"addthis_toolbox_item addthis_button_linkedin at300b\" href=\"http://www.addthis.com/bookmark.php?v=250&amp;winname=addthis&amp;pub=ra-4ef96a35565be6b9&amp;source=tbx-250&amp;lng=en&amp;s=linkedin&amp;url=;ate=AT-ra-4ef96a35565be6b9/-/-/5125bdcfea2ad8b0/4&amp;frommenu=1&amp;uid=5125bdcf6ed8dc2a&amp;ct=1&amp;ui_header_color=%23000000&amp;ui_header_background=%23FFFFFF&amp;tt=0&amp;captcha_provider=nucaptcha\" target=\"_blank\" title=\"Linkedin\"><span class=\"at16nc at300bs at15nc at15t_linkedin at16t_linkedin\"><span class=\"at_a11y\">linkedin</span></span></a>\\r\\n\\t\\t<a class=\"addthis_toolbox_item addthis_button_yahoomail at300b\" href=\"http://www.addthis.com/bookmark.php?v=250&amp;winname=addthis&amp;pub=ra-4ef96a35565be6b9&amp;source=tbx-250&amp;lng=en&amp;s=yahoomail&amp;url=;ate=AT-ra-4ef96a35565be6b9/-/-/5125bdcfea2ad8b0/5&amp;frommenu=1&amp;uid=5125bdcfda3a8389&amp;ct=1&amp;ui_header_color=%23000000&amp;ui_header_background=%23FFFFFF&amp;tt=0&amp;captcha_provider=nucaptcha\" target=\"_blank\" title=\"Y! Mail\"><span class=\"at16nc at300bs at15nc at15t_yahoomail at16t_yahoomail\"><span class=\"at_a11y\">yahoomail</span></span></a>\\r\\n\\t\\t<a class=\"addthis_toolbox_item addthis_button_email at300b\" title=\"Email\" href=\"#\"><span class=\"at16nc at300bs at15nc at15t_email at16t_email\"><span class=\"at_a11y\">email</span></span></a>\\r\\n\\t\\t<a class=\"addthis_toolbox_item addthis_button_favorites at300b\" title=\"Favorites\" href=\"#\"><span class=\"at16nc at300bs at15nc at15t_favorites at16t_favorites\"><span class=\"at_a11y\">favorites</span></span></a>\\r\\n\\t\\t<div class=\"addthis_toolbox addthis_default_style \">\\r\\n\\t\\t<a class=\"addthis_button_facebook_like\" fb:like:layout=\"button_count\"></a>\\r\\n\\t\\t</div>\\r\\n\\t\\t<!-- <a class=\"addthis_counter addthis_pill_style\"></a>-->\\r\\n\\t\\t</div>\\r\\n\\t\\t<script type=\"text/javascript\"      src=\"http://s7.addthis.com/js/250/addthis_widget.js#pubid=ra-4ef96a35565be6b9\"></script>\\r\\n    \\t<br><br>\\n        \\t\\t<ul class=\"profile-download-links\">\\n      \\t\\t\\t<li><img src=\"http://myneta.info/lib/img/printer.png\")\" alt=\"Print Profile\"> <a href=\"candidate.php?candidate_id=4001&print=true\" target=_blank ><b>Print Profile</b></a> </li>\\n\\t\\t\\t\\t<li></li>\\n\\t\\t\\t\\t<li><img src=\\'http://myneta.info/lib/img/documents.png\\' alt=\\'Get Scanned Copies of Affidavits\\'><b ><a href=candidate.php?candidate_id=4001&scan=original>Scanned Copy of Affidavit</a></b></li>\\n\\t\\t\\t\\t<li></li>\\n       \\t\\t\\t</ul>\\n\\t\\t\\t\\t<br>\\n\\t\\t\\t\\t\\t</div>\\n\\t\\t\\t\\t\\t<div class=\"grid_3 alpha\">\\n\\t\\t\\t\\t\\t\\n\\t\\t\\t\\t\\t</div>\\n\\n    \\t\\t\\t\\t\\t<div class=\"clearfix\"></div>\\n    \\t\\t\\t\\t\\t<div style=\\'width:100%;text-align:left;border:1px solid gray;background:red;color:white;\\'>\\n\\n\\t\\t<div class=\"grid_3 alpha left-border-div left-green-border\" style=\\'background-color:red;\\'  ><h3>Crime-O-Meter</h3><hr><div align=center>\\t\\t\\n\\t<img align=center src=http://chart.apis.google.com/chart?cht=gom&chd=t:68&chs=200x70&chco=00ff00,ffff00,ff6600,ff0000&chl=><br> Number of Criminal Cases: <span style=\\'font-weight:bold\\'>2</span></div></div >\\n</div>\\n    \\t\\t\\t\\t\\t\\n\\n\\n    <div class=\"grid_3 alpha left-border-div left-green-border\" >\\n        <a href=\\'#movable_assets\\'><h3>Assets & Liabilities </h3></a>\\n        <hr>\\n       <div class=\"bottom-border-div red fullWidth\"> Assets:<b>Rs&nbsp;4,50,746</b><span style=\\'color:black;text-decoration:none;white-space:nowrap\\'> ~4&nbsp;Lacs+</span></div>\\n\\t<div class=\"bottom-border-div blue fullWidth\"> Liabilities:<b>Nil</b></div>\\n\\n    </div>\\n    \\t\\t\\t\\t\\t<div style=\\'width:100%;text-align:left;border:1px solid black;background:MediumSpringGreen;\\'>\\t<div class=\"grid_3 alpha omega left-border-div left-blue-border\">\\n        <h3>Educational Details</h3>\\n        <hr>\\n        <div class=\"left-margin\">10th Pass</div>\\n        <div class=\"left-margin\"> Secondary Pass From Bihar School Board Assembly,Patna Hazaribagh In 1993</div>\\n    </div>\\n\\n</div>\\n \\t\\t\\t\\t\\t</div>\\n\\t\\t\\t\\t</div>\\n \\t\\t\\t<div class=\"clearfix\"></div>\\n\\t\\t\\t<br><hr>\\n\\n\\t\\t<h3 class=\\'title blue\\'>Details of PAN and status of Income Tax return</h3><table><tr><td>Not Given</td></tr></table>\\t<b>Data Readability Report of PAN and Income Tax :</b>No Problems in Reading Affidavit Information\\n\\t\\t<h3 class=\\'title blue\\'>Details of Criminal Cases</h3><table class=table1 width=100%><tr valign=top><td>\\n\\n\\t<h3 class=\\'title blue\\'>Cases where charges framed</h3>\\n\\n\\t<table width = 80% cellpadding=1 border=1>\\n\\t<tr style=\\'font-weight:bold\\'><td>Serial No.</td><td>IPC Sections Applicable</td><td>Other Details / Other Acts / Sections Applicable</td></tr>\\n\\t<tr><td> 1</td><td>147,  148,  149,  323,  342,  387 </td><td> Badka Gaon Thana,Case No-63/11,Court SK Singh Hazaribagh,Cogizance Date 28/11/11,Chief Judicial Magistrate First Class,17 CLA Act </td></tr><tr><td> 2</td><td>147,  148,  149,  307,  353,  381 </td><td> Case No-64/11 Chief Judicial Magistrate First Class, Badkagaon Thana,Cogizance Date 28/11/11,17 CLA Act </td></tr>\\n\\t\\n\\t</table>\\n\\n\\t<h3 class=\\'title blue\\'>Cases where Cognizance taken</h3>\\n\\n\\t<table width = 80% cellpadding=1 border=1>\\n\\t<tr style=\\'font-weight:bold\\'><td>Serial No.</td><td>IPC Sections Applicable</td><td>Other Details / Other Acts / Sections Applicable</td></tr>\\n\\t<tr><td colspan=4 align=center>---------<b>No Cases</b>--------</td></tr>\\n\\t\\n\\t</table>\\n\\n\\t<h3 class=\\'title blue\\'>Cases where convicted</h3>\\n\\n\\t<table width = 80% cellpadding=1 border=1>\\n\\t<tr style=\\'font-weight:bold\\'><td>Serial No.</td><td>IPC Sections Applicable</td><td>Other Details / Other Acts / Sections Applicable</td></tr>\\n\\t<tr><td colspan=4 align=center>---------<b>No Cases</b>--------</td></tr>\\n\\t\\n\\t</table></td><td><h3 class=\\'title blue\\' >Brief Details of IPCs</h3> <b>1 charges related to Putting person in fear of death or of grievous hurt, in order to commit extortion (IPC Section-387)</b><hr><b>1 charges related to Attempt to murder (IPC Section-307)</b><hr><b>1 charges related to Theft by clerk or servant of property in possession of master (IPC Section-381)</b><hr>2 charges related to  rioting (IPC Section-147)<hr>2 charges related to Rioting, armed with deadly weapon (IPC Section-148)<hr>2 charges related to Every member of unlawful assembly guilty of offence committed in prosecution of common object (IPC Section-149)<hr>1 charges related to  voluntarily causing hurt (IPC Section-323)<hr>1 charges related to  wrongful Confinement (IPC Section-342)<hr>1 charges related to Assault or criminal force to deter public servant from discharge of his duty (IPC Section-353)<hr>  </td></tr></table><p><small style=\\'color:#FF0000\\'>Disclaimer: This information is an archive of the candidate\\'s self-declared affidavit that was filed during the elections. The current status of this information may be different. For the latest available information, please refer to the affidavit filed by the candidate to the Election Commission in the most recent election.</small></p>\\t<b>Data Readability Report of Criminal Cases :</b>No Problems in Reading Affidavit Information\\n\\t\\t\\t<a name=movable_assets>\\r\\n\\t<h3 class=\\'title blue\\'>Details of Movable Assets</h3>\\r\\n\\t<table width = 95% cellpadding=1 border=1 class=table1>\\r\\n\\t<tr><td>Sr No</td><td>Description</td><td align=right>self</td><td align=right>spouse</td><td align=right>dependent1</td><td align=right>dependent2</td><td align=right>dependent3</td></tr>\\r\\n\\t<tr valign=top><td>i</td><td>Cash</td><td  align=right>  10,000&nbsp;<span style=\\'color:brown;font-size:70%;text-decoration:none;white-space:nowrap\\'>&nbsp;10&nbsp;Thou+</span> <br><br></td><td  align=right>  700&nbsp;<span style=\\'color:brown;font-size:70%;text-decoration:none;white-space:nowrap\\'>&nbsp;7&nbsp;Hund+</span> <br><br></td><td  align=right>Nil</td><td  align=right>Nil</td><td  align=right>Nil</td><td align=right><span style=\\'color:black\\'><b> Rs&nbsp;10,700 </b></span><span style=\\'color:brown;font-size:70%;text-decoration:none;white-space:nowrap\\'><br>10&nbsp;Thou+</span></td></tr>\\r\\n\\t<tr valign=top><td>ii</td><td>Deposits in Banks, Financial Institutions and Non-Banking Financial Companies</td><td  align=right>  2,31,500&nbsp;<span style=\\'color:brown;font-size:70%;text-decoration:none;white-space:nowrap\\'>&nbsp;2&nbsp;Lacs+</span> <br><br></td><td  align=right>  5,546&nbsp;<span style=\\'color:brown;font-size:70%;text-decoration:none;white-space:nowrap\\'>&nbsp;5&nbsp;Thou+</span> <br><br></td><td  align=right>Nil</td><td  align=right>Nil</td><td  align=right>Nil</td><td align=right><span style=\\'color:black\\'><b> Rs&nbsp;2,37,046 </b></span><span style=\\'color:brown;font-size:70%;text-decoration:none;white-space:nowrap\\'><br>2&nbsp;Lacs+</span></td></tr>\\r\\n\\t<tr valign=top><td>iii</td><td>Bonds, Debentures and Shares in companies</td><td  align=right>Nil</td><td  align=right>Nil</td><td  align=right>Nil</td><td  align=right>Nil</td><td  align=right>Nil</td><td align=right><span style=\\'color:black\\'><b> Nil </b></span><span style=\\'color:brown;font-size:70%;text-decoration:none;white-space:nowrap\\'><br></span></td></tr>\\r\\n\\t<tr valign=top><td rowspan=2>iv</td><td><b>(a)</b><br> NSS, Postal Savings etc</td><td  align=right>  27,000&nbsp;<span style=\\'color:brown;font-size:70%;text-decoration:none;white-space:nowrap\\'>&nbsp;27&nbsp;Thou+</span> <br><br></td><td  align=right>  20,000&nbsp;<span style=\\'color:brown;font-size:70%;text-decoration:none;white-space:nowrap\\'>&nbsp;20&nbsp;Thou+</span> <br><br></td><td  align=right>Nil</td><td  align=right>Nil</td><td  align=right>Nil</td><td align=right><span style=\\'color:black\\'><b> Rs&nbsp;47,000 </b></span><span style=\\'color:brown;font-size:70%;text-decoration:none;white-space:nowrap\\'><br>47&nbsp;Thou+</span></td></tr>\\r\\n\\t<tr valign=top><td><b>(b)</b><br>LIC or other insurance Policies <!--<br><span style=\\'font-size:80%;color:yellow;background-color:red\\'>**Not counted in total assets</span> --></td><td  align=right>Nil</td><td  align=right>Nil</td><td  align=right>Nil</td><td  align=right>Nil</td><td  align=right>Nil</td><td align=right><span style=\\'color:black\\'><b> Nil </b></span><span style=\\'color:brown;font-size:70%;text-decoration:none;white-space:nowrap\\'><br></span></td></tr>\\r\\n\\t<tr valign=top><td>v</td><td>Personal loans/advance given </td><td  align=right>Nil</td><td  align=right>Nil</td><td  align=right>Nil</td><td  align=right>Nil</td><td  align=right>Nil</td><td align=right><span style=\\'color:black\\'><b> Nil </b></span><span style=\\'color:brown;font-size:70%;text-decoration:none;white-space:nowrap\\'><br></span></td></tr>\\r\\n\\t<tr valign=top><td>vi</td><td>Motor Vehicles (details of make, etc.)</td><td  align=right><span class=desc>M/C,No-JH2N1048</span><br>  0*(Value Not Given)&nbsp;<span style=\\'color:brown;font-size:70%;text-decoration:none;white-space:nowrap\\'>&nbsp;</span> <br><br></td><td  align=right>Nil</td><td  align=right>Nil</td><td  align=right>Nil</td><td  align=right>Nil</td><td align=right><span style=\\'color:black\\'><b> Rs&nbsp;0 </b></span><span style=\\'color:brown;font-size:70%;text-decoration:none;white-space:nowrap\\'><br></span></td></tr>\\r\\n\\t<tr valign=top><td>vii</td><td>Jewellery (give details weight value)</td><td  align=right>Nil</td><td  align=right><span class=desc>100 Gm Silver</span><br>  6,000&nbsp;<span style=\\'color:brown;font-size:70%;text-decoration:none;white-space:nowrap\\'>&nbsp;6&nbsp;Thou+</span> <br><br></td><td  align=right>Nil</td><td  align=right>Nil</td><td  align=right>Nil</td><td align=right><span style=\\'color:black\\'><b> Rs&nbsp;6,000 </b></span><span style=\\'color:brown;font-size:70%;text-decoration:none;white-space:nowrap\\'><br>6&nbsp;Thou+</span></td></tr>\\r\\n\\t<tr valign=top><td>viii</td><td>Other assets, such as values of claims / interests</td><td  align=right>Nil</td><td  align=right>Nil</td><td  align=right>Nil</td><td  align=right>Nil</td><td  align=right>Nil</td><td align=right><span style=\\'color:black\\'><b> Nil </b></span><span style=\\'color:brown;font-size:70%;text-decoration:none;white-space:nowrap\\'><br></span></td></tr>\\r\\n\\t<tr valign=top><td colspan=2>Gross Total Value (as per Affidavit)</td> <td  align=right><a name=movabletotal></a> 2,68,500&nbsp;<span style=\\'color:brown;font-size:70%;text-decoration:none;white-space:nowrap\\'>&nbsp;2&nbsp;Lacs+</span></td><td  align=right><a name=movabletotal></a> 32,246&nbsp;<span style=\\'color:brown;font-size:70%;text-decoration:none;white-space:nowrap\\'>&nbsp;32&nbsp;Thou+</span></td><td  align=right><a name=movabletotal></a> Nil</td><td  align=right><a name=movabletotal></a> Nil</td><td  align=right><a name=movabletotal></a> Nil</td><td align=right><span style=\\'color:green\\'><b> Rs&nbsp;3,00,746 </b></span><span style=\\'color:brown;font-size:70%;text-decoration:none;white-space:nowrap\\'><br>3&nbsp;Lacs+</span></td> </tr>\\r\\n\\t<tr valign=top><td colspan=2>Totals (Calculated as Sum of Values)</td> <td align=right><span style=\\'color:blue\\'><b> Rs&nbsp;2,68,500 </b></span><span style=\\'color:brown;font-size:70%;text-decoration:none;white-space:nowrap\\'><br>2&nbsp;Lacs+</span></td><td align=right><span style=\\'color:blue\\'><b> Rs&nbsp;32,246 </b></span><span style=\\'color:brown;font-size:70%;text-decoration:none;white-space:nowrap\\'><br>32&nbsp;Thou+</span></td><td align=right><span style=\\'color:blue\\'><b> Nil </b></span><span style=\\'color:brown;font-size:70%;text-decoration:none;white-space:nowrap\\'><br></span></td><td align=right><span style=\\'color:blue\\'><b> Nil </b></span><span style=\\'color:brown;font-size:70%;text-decoration:none;white-space:nowrap\\'><br></span></td><td align=right><span style=\\'color:blue\\'><b> Nil </b></span><span style=\\'color:brown;font-size:70%;text-decoration:none;white-space:nowrap\\'><br></span></td> <td align=right><span style=\\'color:purple\\'><b> Rs&nbsp;3,00,746 </b></span><span style=\\'color:brown;font-size:70%;text-decoration:none;white-space:nowrap\\'><br>3&nbsp;Lacs+</span></td></tr>\\r\\n\\t</table><p><small style=\\'color:#FF0000\\'>Disclaimer: This information is an archive of the candidate\\'s self-declared affidavit that was filed during the elections. The current status of this information may be different. For the latest available information, please refer to the affidavit filed by the candidate to the Election Commission in the most recent election.</small></p>\\t<b>Data Readability Report of Movable Assets :</b>No Problems in Reading Affidavit Information\\t<a name=immovable_assets>\\r\\n\\t<h3 class=\\'title blue\\'>Details of Immovable Assets</h2>\\r\\n\\t<table width = 95% cellpadding=1 class=table1 border=1>\\r\\n\\t<tr><td>Sr No</td><td>Description</td><td align=right>self</td><td align=right>spouse</td><td align=right>dependent1</td><td align=right>dependent2</td><td align=right>dependent3</td></tr>\\r\\n\\t<tr valign=top><td>i</td><td>Agricultural Land</td><td  align=right> \\r\\n\\t\\t\\t\\t\\t<span class=desc>Total Area</span> <span class=immov>54 Dec.</span> <br>\\r\\n\\t\\t\\t\\t\\t\\r\\n\\t\\t\\t\\t\\t<span class=desc>Whether Inherited </span><span class=immov>Y</span> <br>\\r\\n\\t\\t\\t\\t\\t<span class=desc>Purchase Date </span><span class=immov>0000-00-00</span> <br>\\r\\n\\t\\t\\t\\t\\t<span class=desc>Purchase Cost </span><span class=immov>0.00</span> <br>\\r\\n\\t\\t\\t\\t\\t<span class=desc>Development Cost</span> <span class=immov>0.00</span><br> 1,10,000&nbsp;<span style=\\'color:brown;font-size:70%;text-decoration:none;white-space:nowrap\\'>&nbsp;1&nbsp;Lacs+</span> <br><br></td><td  align=right>Nil</td><td  align=right>Nil</td><td  align=right>Nil</td><td  align=right>Nil</td><td align=right><span style=\\'color:black\\'><b> Rs&nbsp;1,10,000 </b></span><span style=\\'color:brown;font-size:70%;text-decoration:none;white-space:nowrap\\'><br>1&nbsp;Lacs+</span></td></tr>\\r\\n\\t<tr valign=top><td>ii</td><td>Non Agricultural Land</td><td  align=right>Nil</td><td  align=right>Nil</td><td  align=right>Nil</td><td  align=right>Nil</td><td  align=right>Nil</td><td align=right><span style=\\'color:black\\'><b> Nil </b></span><span style=\\'color:brown;font-size:70%;text-decoration:none;white-space:nowrap\\'><br></span></td></tr>\\r\\n\\t<tr valign=top><td>iii</td><td>Commercial Buildings</td><td  align=right>Nil</td><td  align=right>Nil</td><td  align=right>Nil</td><td  align=right>Nil</td><td  align=right>Nil</td><td align=right><span style=\\'color:black\\'><b> Nil </b></span><span style=\\'color:brown;font-size:70%;text-decoration:none;white-space:nowrap\\'><br></span></td></tr>\\r\\n\\t<tr valign=top><td>iv</td><td>Residential Buildings</td><td  align=right><span class=desc>Kh No-17</span><br> \\r\\n\\t\\t\\t\\t\\t<span class=desc>Total Area</span> <span class=immov>2 Dec.</span> <br>\\r\\n\\t\\t\\t\\t\\t<span class=desc>Built Up Area </span><span class=immov>2 Dec.</span> <br>\\r\\n\\t\\t\\t\\t\\t<span class=desc>Whether Inherited </span><span class=immov>N</span> <br>\\r\\n\\t\\t\\t\\t\\t<span class=desc>Purchase Date </span><span class=immov>0000-00-00</span> <br>\\r\\n\\t\\t\\t\\t\\t<span class=desc>Purchase Cost </span><span class=immov>0.00</span> <br>\\r\\n\\t\\t\\t\\t\\t<span class=desc>Development Cost</span> <span class=immov>0.00</span><br> 0*(Value Not Given)&nbsp;<span style=\\'color:brown;font-size:70%;text-decoration:none;white-space:nowrap\\'>&nbsp;</span> <br><br></td><td  align=right>Nil</td><td  align=right>Nil</td><td  align=right>Nil</td><td  align=right>Nil</td><td align=right><span style=\\'color:black\\'><b> Rs&nbsp;0 </b></span><span style=\\'color:brown;font-size:70%;text-decoration:none;white-space:nowrap\\'><br></span></td></tr>\\r\\n\\t<tr valign=top><td>v</td><td>Others</td><td  align=right>Nil</td><td  align=right>Nil</td><td  align=right>Nil</td><td  align=right>Nil</td><td  align=right>Nil</td><td align=right><span style=\\'color:black\\'><b> Nil </b></span><span style=\\'color:brown;font-size:70%;text-decoration:none;white-space:nowrap\\'><br></span></td></tr>\\r\\n\\t<tr valign=top><td colspan=2>Total Current Market Value of (i) to (v) (as per Affidavit)</td> <td  align=right><a name=immovabletotal></a> 1,50,000&nbsp;<span style=\\'color:brown;font-size:70%;text-decoration:none;white-space:nowrap\\'>&nbsp;1&nbsp;Lacs+</span></td><td  align=right><a name=immovabletotal></a> Nil</td><td  align=right><a name=immovabletotal></a> Nil</td><td  align=right><a name=immovabletotal></a> Nil</td><td  align=right><a name=immovabletotal></a> Nil</td><td align=right><span style=\\'color:green\\'><b> Rs&nbsp;1,50,000 </b></span><span style=\\'color:brown;font-size:70%;text-decoration:none;white-space:nowrap\\'><br>1&nbsp;Lacs+</span></td> </tr>\\r\\n\\t<tr valign=top><td colspan=2>Totals Calculated</td> <td align=right><span style=\\'color:blue\\'><b> Rs&nbsp;1,10,000 </b></span><span style=\\'color:brown;font-size:70%;text-decoration:none;white-space:nowrap\\'><br>1&nbsp;Lacs+</span></td><td align=right><span style=\\'color:blue\\'><b> Nil </b></span><span style=\\'color:brown;font-size:70%;text-decoration:none;white-space:nowrap\\'><br></span></td><td align=right><span style=\\'color:blue\\'><b> Nil </b></span><span style=\\'color:brown;font-size:70%;text-decoration:none;white-space:nowrap\\'><br></span></td><td align=right><span style=\\'color:blue\\'><b> Nil </b></span><span style=\\'color:brown;font-size:70%;text-decoration:none;white-space:nowrap\\'><br></span></td><td align=right><span style=\\'color:blue\\'><b> Nil </b></span><span style=\\'color:brown;font-size:70%;text-decoration:none;white-space:nowrap\\'><br></span></td> <td align=right><span style=\\'color:purple\\'><b> Rs&nbsp;1,10,000 </b></span><span style=\\'color:brown;font-size:70%;text-decoration:none;white-space:nowrap\\'><br>1&nbsp;Lacs+</span></td></tr>\\r\\n\\t\\r\\n\\t</table><p><small style=\\'color:#FF0000\\'>Disclaimer: This information is an archive of the candidate\\'s self-declared affidavit that was filed during the elections. The current status of this information may be different. For the latest available information, please refer to the affidavit filed by the candidate to the Election Commission in the most recent election.</small></p>\\t<b>Data Readability Report of Immovable Assets :</b>No Problems in Reading Affidavit Information\\t<a name=liabilities>\\r\\n\\t<h3 class=\\'title blue\\'>Details of Liabilities</h3>\\r\\n\\t<table width = 95% cellpadding=1 border=1 class=table1>\\r\\n\\t<tr><td>Sr No</td><td>Description</td><td align=right>self</td><td align=right>spouse</td><td align=right>dependent1</td><td align=right>dependent2</td><td align=right>dependent3</td></tr>\\r\\n\\t<tr valign=top><td rowspan=4>i</td><td>Loans from Banks / FIs</td><td  align=right>Nil</td><td  align=right>Nil</td><td  align=right>Nil</td><td  align=right>Nil</td><td  align=right>Nil</td><td align=right><span style=\\'color:black\\'><b> Nil </b></span><span style=\\'color:brown;font-size:70%;text-decoration:none;white-space:nowrap\\'><br></span></td></tr>\\r\\n\\t<tr valign=top><td>Loans due to Individual / Entity</td><td  align=right>Nil</td><td  align=right>Nil</td><td  align=right>Nil</td><td  align=right>Nil</td><td  align=right>Nil</td><td align=right><span style=\\'color:black\\'><b> Nil </b></span><span style=\\'color:brown;font-size:70%;text-decoration:none;white-space:nowrap\\'><br></span></td></tr>\\r\\n\\t<tr valign=top><td>Any other Liability</td><td  align=right>Nil</td><td  align=right>Nil</td><td  align=right>Nil</td><td  align=right>Nil</td><td  align=right>Nil</td><td align=right><span style=\\'color:black\\'><b> Nil </b></span><span style=\\'color:brown;font-size:70%;text-decoration:none;white-space:nowrap\\'><br></span></td></tr>\\r\\n\\t<tr valign=top><td>Grand Total of Liabilities (as per affidavit)</td><td  align=right><a name=liabilitiestotal></a> Nil</td><td  align=right><a name=liabilitiestotal></a> Nil</td><td  align=right><a name=liabilitiestotal></a> Nil</td><td  align=right><a name=liabilitiestotal></a> Nil</td><td  align=right><a name=liabilitiestotal></a> Nil</td><td align=right><span style=\\'color:green\\'><b> Nil </b></span><span style=\\'color:brown;font-size:70%;text-decoration:none;white-space:nowrap\\'><br></span></td></tr>\\r\\n\\t\\r\\n\\t\\r\\n\\t\\r\\n\\t<tr valign=top><td rowspan=11>ii</td><td>Dues to departments dealing with government accommodation</td><td  align=right>Nil</td><td  align=right>Nil</td><td  align=right>Nil</td><td  align=right>Nil</td><td  align=right>Nil</td><td align=right><span style=\\'color:black\\'><b> Nil </b></span><span style=\\'color:brown;font-size:70%;text-decoration:none;white-space:nowrap\\'><br></span></td></tr>\\r\\n\\t<tr valign=top><td>Dues to departments dealing with supply of water</td><td  align=right>Nil</td><td  align=right>Nil</td><td  align=right>Nil</td><td  align=right>Nil</td><td  align=right>Nil</td><td align=right><span style=\\'color:black\\'><b> Nil </b></span><span style=\\'color:brown;font-size:70%;text-decoration:none;white-space:nowrap\\'><br></span></td></tr>\\r\\n\\t<tr valign=top><td>Dues to departments dealing with supply of electricity</td><td  align=right>Nil</td><td  align=right>Nil</td><td  align=right>Nil</td><td  align=right>Nil</td><td  align=right>Nil</td><td align=right><span style=\\'color:black\\'><b> Nil </b></span><span style=\\'color:brown;font-size:70%;text-decoration:none;white-space:nowrap\\'><br></span></td></tr>\\r\\n\\t<tr valign=top><td>Dues to departments dealing with telephones</td><td  align=right>Nil</td><td  align=right>Nil</td><td  align=right>Nil</td><td  align=right>Nil</td><td  align=right>Nil</td><td align=right><span style=\\'color:black\\'><b> Nil </b></span><span style=\\'color:brown;font-size:70%;text-decoration:none;white-space:nowrap\\'><br></span></td></tr>\\r\\n\\t<tr valign=top><td>Dues to departments dealing with supply of transport</td><td  align=right>Nil</td><td  align=right>Nil</td><td  align=right>Nil</td><td  align=right>Nil</td><td  align=right>Nil</td><td align=right><span style=\\'color:black\\'><b> Nil </b></span><span style=\\'color:brown;font-size:70%;text-decoration:none;white-space:nowrap\\'><br></span></td></tr>\\r\\n\\t<tr valign=top><td>Income Tax Dues</td><td  align=right>Nil</td><td  align=right>Nil</td><td  align=right>Nil</td><td  align=right>Nil</td><td  align=right>Nil</td><td align=right><span style=\\'color:black\\'><b> Nil </b></span><span style=\\'color:brown;font-size:70%;text-decoration:none;white-space:nowrap\\'><br></span></td></tr>\\r\\n\\t<tr valign=top><td>Wealth Tax Dues</td><td  align=right>Nil</td><td  align=right>Nil</td><td  align=right>Nil</td><td  align=right>Nil</td><td  align=right>Nil</td><td align=right><span style=\\'color:black\\'><b> Nil </b></span><span style=\\'color:brown;font-size:70%;text-decoration:none;white-space:nowrap\\'><br></span></td></tr>\\r\\n\\t<tr valign=top><td>Service Tax Dues</td><td  align=right>Nil</td><td  align=right>Nil</td><td  align=right>Nil</td><td  align=right>Nil</td><td  align=right>Nil</td><td align=right><span style=\\'color:black\\'><b> Nil </b></span><span style=\\'color:brown;font-size:70%;text-decoration:none;white-space:nowrap\\'><br></span></td></tr>\\r\\n\\t<tr valign=top><td>Property Tax Dues</td><td  align=right>Nil</td><td  align=right>Nil</td><td  align=right>Nil</td><td  align=right>Nil</td><td  align=right>Nil</td><td align=right><span style=\\'color:black\\'><b> Nil </b></span><span style=\\'color:brown;font-size:70%;text-decoration:none;white-space:nowrap\\'><br></span></td></tr>\\r\\n\\t<tr valign=top><td>Sales Tax Dues</td><td  align=right>Nil</td><td  align=right>Nil</td><td  align=right>Nil</td><td  align=right>Nil</td><td  align=right>Nil</td><td align=right><span style=\\'color:black\\'><b> Nil </b></span><span style=\\'color:brown;font-size:70%;text-decoration:none;white-space:nowrap\\'><br></span></td></tr>\\r\\n\\t<tr valign=top><td>Any Other Dues</td><td  align=right>Nil</td><td  align=right>Nil</td><td  align=right>Nil</td><td  align=right>Nil</td><td  align=right>Nil</td><td align=right><span style=\\'color:black\\'><b> Nil </b></span><span style=\\'color:brown;font-size:70%;text-decoration:none;white-space:nowrap\\'><br></span></td></tr>\\r\\n\\t<tr valign=top><td >iii</td><td>Grand Total of all Govt Dues (as per affidavit)</td><td  align=right><a name=duestotal></a> Nil</td><td  align=right><a name=duestotal></a> Nil</td><td  align=right><a name=duestotal></a> Nil</td><td  align=right><a name=duestotal></a> Nil</td><td  align=right><a name=duestotal></a> Nil</td><td align=right><span style=\\'color:green\\'><b> Nil </b></span><span style=\\'color:brown;font-size:70%;text-decoration:none;white-space:nowrap\\'><br></span></td></tr>\\r\\n\\t<tr valign=top><td rowspan=2>iv</td><td>Whether any other liabilities are in dispute, if so, mention the amount involved and the authority before which it is pending</td><td  align=right>Nil</td><td  align=right>Nil</td><td  align=right>Nil</td><td  align=right>Nil</td><td  align=right>Nil</td><td align=right><span style=\\'color:black\\'><b> Nil </b></span><span style=\\'color:brown;font-size:70%;text-decoration:none;white-space:nowrap\\'><br></span></td></tr>\\r\\n\\t<tr valign=top><td>Totals (Calculated as Sum of Values)</td> <td align=right><span style=\\'color:blue\\'><b> Nil </b></span><span style=\\'color:brown;font-size:70%;text-decoration:none;white-space:nowrap\\'><br></span></td><td align=right><span style=\\'color:blue\\'><b> Nil </b></span><span style=\\'color:brown;font-size:70%;text-decoration:none;white-space:nowrap\\'><br></span></td><td align=right><span style=\\'color:blue\\'><b> Nil </b></span><span style=\\'color:brown;font-size:70%;text-decoration:none;white-space:nowrap\\'><br></span></td><td align=right><span style=\\'color:blue\\'><b> Nil </b></span><span style=\\'color:brown;font-size:70%;text-decoration:none;white-space:nowrap\\'><br></span></td><td align=right><span style=\\'color:blue\\'><b> Nil </b></span><span style=\\'color:brown;font-size:70%;text-decoration:none;white-space:nowrap\\'><br></span></td> <td align=right><span style=\\'color:purple\\'><b> Nil </b></span><span style=\\'color:brown;font-size:70%;text-decoration:none;white-space:nowrap\\'><br></span></td></tr>\\r\\n\\t</table>\\r\\n<p><small style=\\'color:#FF0000\\'>Disclaimer: This information is an archive of the candidate\\'s self-declared affidavit that was filed during the elections. The current status of this information may be different. For the latest available information, please refer to the affidavit filed by the candidate to the Election Commission in the most recent election.</small></p>\\t<b>Data Readability Report of Liabilities :</b>No Problems in Reading Affidavit Information\\n\\t\\t\\n\\t\\t<div style=\"width:100%;border:1px solid #E0E0E0;background:#F1F1F1;\">\\n\\t<h3>If you notice any discrepancy between affidavits and our data, you can use the message box below to send a message to us.</h3>\\n\\t<p><b>( &#2351;&#2342;&#2367; &#2310;&#2346; &#2361;&#2354;&#2347;&#2344;&#2366;&#2350;&#2379;&#2306; &#2324;&#2352; &#2311;&#2360; &#2346;&#2375;&#2332; &#2346;&#2352; &#2342;&#2368; &#2327;&#2351;&#2368; &#2332;&#2366;&#2344;&#2325;&#2366;&#2352;&#2368; &#2325;&#2375; &#2348;&#2368;&#2330; &#2325;&#2379;&#2312; &#2357;&#2367;&#2360;&#2306;&#2327;&#2340;&#2367;/&#2349;&#2367;&#2344;&#2381;&#2344;&#2340;&#2366; &#2346;&#2366;&#2340;&#2375; &#2361;&#2376; &#2340;&#2379; &#2310;&#2346; &#2344;&#2368;&#2330;&#2375; &#2325;&#2375; &#2360;&#2306;&#2342;&#2375;&#2358; &#2348;&#2377;&#2325;&#2381;&#2360; &#2325;&#2375; &#2313;&#2346;&#2351;&#2379;&#2327; &#2360;&#2375; &#2361;&#2350;&#2375;&#2306; &#2360;&#2306;&#2342;&#2375;&#2358; &#2349;&#2375;&#2332; &#2360;&#2325;&#2340;&#2375; &#2361;&#2376;&#2306;)</b></p>\\n\\t<form  name=form1 action=#discrepancyResult method=post >\\n\\t<input type=hidden name=action value=notify_discrepancy>\\n\\t<input type=hidden name=candidate_id value = 4001>\\n        <input type=hidden name=candidate_name value = \\'Baldeo Ganjhu\\'>\\n        <input type=hidden name=cons_id value = \\'HAZARIBAGH\\'>\\n        <a name=\"discrepancyResult\"> </a>\\n\\t<div class=\\'grid_3\\' >\\n        <b>Name&nbsp;&nbsp;&nbsp;&nbsp;&nbsp;&nbsp;&nbsp;       :</b><br><input type=text name=dname value = \\'\\'><br>\\n\\n        <b>Email&nbsp;&nbsp;&nbsp;&nbsp;&nbsp;&nbsp;&nbsp;      :</b><br><input type=text name=demail value = \\'\\'><br>\\n\\n        <b>Phone No   :</b><br><input type=text name=dpno value = \\'\\'><br></div><div class=\\'grid_5\\'>\\n      <b>Enter your discrepancy&nbsp;&nbsp;&nbsp;&nbsp;&nbsp;&nbsp;&nbsp;: </b><br>\\n\\t<textarea name=discrepancy cols=60 rows=7 ></textarea><br></div><div class=\"clearfix\"></div>\\n\\t<div>\\n     \\t <p>Please enter the code shown below and click Submit.  <br>\\n       <p><img src=\"http://myneta.info/imagebuilder.php\" border=\"1\"> <br>\\n      <input name=\"userstring\" type=\"text\" value=\"\"><input type=submit onclick=\"return confirmation();\" value = submit class=\\'btn primary\\'></p>\\n\\n\\t</form>\\n\\t</div>\\n\\t</div>\\n\\t\\t\\t\\t\\t\\t\\t</div>\\n\\t\\t\\t\\t\\t\\t\\t<div class=\"grid_3\" xmlns=\"http://www.w3.org/1999/html\">\\n\\t\\t\\t\\t\\t\\t\\t <!--\\t<h3 class=\"title blue first\">ADR-Facebook Initiative</h3>\\n\\t\\t\\t\\t\\t\\t\\t\\t<a href=\\'http://adrindia.org/content/adr-and-facebook-join-hands-provide-information-%E2%80%98know-your-neta%E2%80%99-mobiles-free-dial-32535\\' target=_blank><img src=\"/lib/img/campaign.png\"></a><hr> -->\\n    \\t\\t\\t\\t\\t\\t    <h3 class=\"title\">Find us on facebook</h3>\\n\\t\\t\\t\\t\\t\\t\\t\\t<div class=\"fb-plugin-container\">\\n        \\t\\t\\t\\t\\t\\t\\t<div class=\"fb-like-box\" data-href=\"http://www.facebook.com/myneta.info\" data-border-color=\"#ffffff\" data-width=\"250\" data-show-faces=\"true\" data-stream=\"false\" data-header=\"false\" show-border=\"false\"></div>\\n    \\t\\t\\t\\t\\t\\t\\t</div>\\n\\t\\t\\t\\t\\t\\t\\t\\t<h3 class=\"title\">Myneta Android App</h3>\\n\\t\\t\\t\\t\\t\\t\\t\\t<a href=\"https://play.google.com/store/apps/details?id=com.webrosoft.myneta1\" target=_blank><img src=\"/lib/img/Myneta.app.png\"></a>\\n \\t\\t\\t\\t\\t\\t\\t    <h3 class=\"title\">HelpLine &amp; SMS</h3>\\n\\t\\t\\t\\t\\t\\t\\t    <p>You can get complete details of your Neta by calling us at 1800-110-440 or sending SMS at 9246556070. For more details <a href=\"http://adrindia.org/media/helpline-sms\" target=_blank>click here</a>.</p>\\n\\t\\t\\t\\t\\t\\t\\t\\t<h3 class=\"title purple\">Connect with us</h3>\\n\\t\\t\\t\\t\\t\\t\\t\\t<div id=\"fb-root\"></div>\\n   \\t \\t\\t\\t\\t\\t\\t\\t<script>(function (d, s, id) {\\n        \\t\\t\\t\\t\\t\\t\\tvar js, fjs = d.getElementsByTagName(s)[0];\\n        \\t\\t\\t\\t\\t\\t\\tif (d.getElementById(id)) return;\\n        \\t\\t\\t\\t\\t\\t\\tjs = d.createElement(s);\\n        \\t\\t\\t\\t\\t\\t\\tjs.id = id;\\n        \\t\\t\\t\\t\\t\\t\\tjs.src = \"//connect.facebook.net/en_GB/all.js#xfbml=1\";\\n        \\t\\t\\t\\t\\t\\t\\tfjs.parentNode.insertBefore(js, fjs);\\n    \\t\\t\\t\\t\\t\\t\\t\\t}(document, \\'script\\', \\'facebook-jssdk\\'));</script>\\n\\t\\t\\t\\t\\t\\t\\t    <div class=\"social-icon\">\\n        \\t\\t\\t\\t\\t\\t\\t<a target=\"_blank\" title=\"Connect with us on Facebook\" href=\"http://facebook.com/myneta.info\"><img src=\"/lib/img/facebook.png\" alt=\"Facebook Page\"> </a>\\n        \\t\\t\\t\\t\\t\\t\\t<a target=\"_blank\" title=\"Connect with us on Twitter\" href=\"http://twitter.com/adrspeaks\"><img src=\"/lib/img/twitter.png\" alt=\"Twitter\"></a>\\n        \\t\\t\\t\\t\\t\\t\\t<a target=\"_blank\" title=\"Be a part of our Google Group\" href=\"https://groups.google.com/group/national-election-watch?hl=en&pli=1\"><img src=\"/lib/img/google.png\" alt=\"Google newsletter\"></a>\\n\\t\\t\\t\\t\\t\\t\\t        <div class=\"fb-like\" data-href=\"http://facebook.com/myneta.info\" data-send=\"false\" data-layout=\"button_count\"  data-show-faces=\"false\"></div>\\n\\t\\t\\t\\t\\t\\t\\t    </div>\\n\\t\\t\\t\\t\\t\\t\\t    <div class=\"newsletter-form\">For news alert,enter your email id\\n        \\t\\t\\t\\t\\t\\t\\t<form action=\"http://groups.google.com/group/national-election-watch/boxsubscribe\" target=\"_blank\">\\n            \\t\\t\\t\\t\\t\\t\\t<input type=\"text\" id=\"tb-email-gg\" name=\"email\" value=\"\" placeholder=\"email-id to subscribe\">\\n            \\t\\t\\t\\t\\t\\t\\t<input type=\"submit\" value=\"Join\">\\n        \\t\\t\\t\\t\\t\\t\\t</form>\\n   \\t\\t\\t\\t\\t\\t\\t\\t</div>\\n\\t\\t\\t\\t\\t\\t\\t</div>\\n\\t\\t\\t\\t\\t    </div>\\n\\t\\t\\t\\t\\t</div>\\n\\t\\t\\t\\n\\t\\t\\t\\t\\t<!--Footer Area-->\\n\\t\\t\\t\\t\\t<div class=\"footer\">\\n\\t\\t\\t\\t\\t\\t<div class=\"container_12\">\\n\\t\\t\\t\\t\\t    \\t<div class=\"grid_12\">\\n\\t\\t\\t\\t\\t            <p> <b>Disclaimer: </b> The primary source for the data used for these reports is the sworn affidavits provided by the candidates themselves. Sheer volume of data that has to be read from the affidavits that are often poorly scanned and the lightening speed at which these reports have to be brought out makes it quite difficult to ensure accuracy of every bit of data. In case of any discrepancy in our reports vis a vis the original affidavit of any candidate, the original affidavit should be considered accurate. If you notice any discrepancies between affidavit and our report kindly let us know and we will fix them on our end as soon as possible.\\n\\t\\t\\t\\t\\t           </p>\\n\\t\\t\\t\\t\\t        </div>\\n\\t\\t\\t\\t\\t\\t</div>\\n\\t\\t\\t\\t\\t</div>\\n\\t\\t\\t\\t\\t<p align=\"center\">Technology Powered by <a href=\"http://www.webrosoft.com/\" target=\"_blank\">Webrosoft</a></p>\\n\\t\\t\\t\\t</body>\\n\\t\\t\\t</html>'"
      ]
     },
     "execution_count": 52,
     "metadata": {},
     "output_type": "execute_result"
    }
   ],
   "source": [
    "ex = data[\"candidate.php?candidate_id=4001\"]\n",
    "ex"
   ]
  },
  {
   "cell_type": "markdown",
   "metadata": {},
   "source": [
    "The following function gets the information from the text. Returns de information in each text as a dictionary"
   ]
  },
  {
   "cell_type": "code",
   "execution_count": 53,
   "metadata": {
    "collapsed": false
   },
   "outputs": [],
   "source": [
    "def get_info(text):\n",
    "    dic = {}\n",
    "    soup = BeautifulSoup(text, \"html.parser\")\n",
    "    for  r in soup.findAll(\"a\"):\n",
    "        try:\n",
    "            if r['name'] == \"liabilities\":\n",
    "                table = r\n",
    "                for r in table.findAll('td'):\n",
    "                    try:\n",
    "\n",
    "                        if r.get_text()==\"Loans from Banks / FIs\":\n",
    "                            dic[\"Loans from Banks / FIs\"] = r.findNext('b').get_text()\n",
    "\n",
    "                        if r.get_text()==\"Loans due to Individual / Entity\":\n",
    "                            dic[\"Loans due to Individual / Entity\"] = r.findNext('b').get_text()\n",
    "\n",
    "                        if r.get_text()==\"Any other Liability\":\n",
    "                            dic[\"Any other Liability\"] = r.findNext('b').get_text()\n",
    "\n",
    "                        if r.get_text()==\"Grand Total of Liabilities (as per affidavit)\":\n",
    "                            dic[\"Grand Total of Liabilities (as per affidavit)\"] = r.findNext('b').get_text()\n",
    "\n",
    "                        if r.get_text()==\"Dues to departments dealing with government accommodation\":\n",
    "                            dic[\"Dues to departments dealing with government accommodation\"] = r.findNext('b').get_text()\n",
    "\n",
    "                        if r.get_text()==\"Dues to departments dealing with supply of water\":\n",
    "                            dic[\"Dues to departments dealing with supply of water\"] = r.findNext('b').get_text()\n",
    "\n",
    "                        if r.get_text()==\"Dues to departments dealing with supply of electricity\":\n",
    "                            dic[\"Dues to departments dealing with supply of electricity\"] = r.findNext('b').get_text()\n",
    "\n",
    "                        if r.get_text()==\"Dues to departments dealing with telephones\":\n",
    "                            dic[\"Dues to departments dealing with telephones\"] = r.findNext('b').get_text()\n",
    "\n",
    "                        if r.get_text()==\"Dues to departments dealing with supply of transport\":\n",
    "                            dic[\"Dues to departments dealing with supply of transport\"] = r.findNext('b').get_text()\n",
    "\n",
    "                        if r.get_text()==\"Income Tax Dues\":\n",
    "                            dic[\"Income Tax Dues\"] = r.findNext('b').get_text()\n",
    "\n",
    "                        if r.get_text()==\"Wealth Tax Dues\":\n",
    "                            dic[\"Wealth Tax Dues\"] = r.findNext('b').get_text()\n",
    "\n",
    "                        if r.get_text()==\"Service Tax Dues\":\n",
    "                            dic[\"Service Tax Dues\"] = r.findNext('b').get_text()\n",
    "\n",
    "                        if r.get_text()==\"Property Tax Dues\":\n",
    "                            dic[\"Property Tax Dues\"] = r.findNext('b').get_text()\n",
    "\n",
    "                        if r.get_text()==\"Sales Tax Dues\":\n",
    "                            dic[\"Sales Tax Dues\"] = r.findNext('b').get_text()\n",
    "\n",
    "                        if r.get_text()==\"Any Other Dues\":\n",
    "                            dic[\"Any Other Dues\"] = r.findNext('b').get_text()\n",
    "\n",
    "                        if r.get_text()==\"Grand Total of all Govt Dues (as per affidavit)\":\n",
    "                            dic[\"Grand Total of all Govt Dues (as per affidavit)\"] = r.findNext('b').get_text()\n",
    "\n",
    "                        if r.get_text()==\"Whether any other liabilities are in dispute, if so, mention the amount involved and the authority before which it is pending\":\n",
    "                            dic[\"Whether any other liabilities are in dispute, if so, mention the amount involved and the authority before which it is pending\"] = r.findNext('b').get_text()\n",
    "\n",
    "                        if r.get_text()==\"Totals (Calculated as Sum of Values)\":\n",
    "                            dic[\"Totals (Calculated as Sum of Values)\"] = r.findNext('b').get_text()\n",
    "                    except:\n",
    "                        pass\n",
    "        except:\n",
    "            pass\n",
    "    return dic"
   ]
  },
  {
   "cell_type": "markdown",
   "metadata": {},
   "source": [
    "Testing the example"
   ]
  },
  {
   "cell_type": "code",
   "execution_count": 54,
   "metadata": {
    "collapsed": false
   },
   "outputs": [
    {
     "data": {
      "text/plain": [
       "{'Any Other Dues': u' Nil ',\n",
       " 'Any other Liability': u' Nil ',\n",
       " 'Dues to departments dealing with government accommodation': u' Nil ',\n",
       " 'Dues to departments dealing with supply of electricity': u' Nil ',\n",
       " 'Dues to departments dealing with supply of transport': u' Nil ',\n",
       " 'Dues to departments dealing with supply of water': u' Nil ',\n",
       " 'Dues to departments dealing with telephones': u' Nil ',\n",
       " 'Grand Total of Liabilities (as per affidavit)': u' Nil ',\n",
       " 'Grand Total of all Govt Dues (as per affidavit)': u' Nil ',\n",
       " 'Income Tax Dues': u' Nil ',\n",
       " 'Loans due to Individual / Entity': u' Nil ',\n",
       " 'Loans from Banks / FIs': u' Nil ',\n",
       " 'Property Tax Dues': u' Nil ',\n",
       " 'Sales Tax Dues': u' Nil ',\n",
       " 'Service Tax Dues': u' Nil ',\n",
       " 'Totals (Calculated as Sum of Values)': u' Nil ',\n",
       " 'Wealth Tax Dues': u' Nil ',\n",
       " 'Whether any other liabilities are in dispute, if so, mention the amount involved and the authority before which it is pending': u' Nil '}"
      ]
     },
     "execution_count": 54,
     "metadata": {},
     "output_type": "execute_result"
    }
   ],
   "source": [
    "get_info(ex)"
   ]
  },
  {
   "cell_type": "markdown",
   "metadata": {},
   "source": [
    "The following function cleans the dictionary. Numbers are in weird format, this function converts them from string into numbers"
   ]
  },
  {
   "cell_type": "code",
   "execution_count": 55,
   "metadata": {
    "collapsed": false
   },
   "outputs": [],
   "source": [
    "def clean_dic(dic):\n",
    "    for k in dic.keys():\n",
    "        if dic[k]==' Nil ':\n",
    "            dic[k]= np.nan\n",
    "        else:\n",
    "            try:\n",
    "                tmp = unicodedata.normalize('NFKD',dic[k]).encode('ascii','ignore').split('Rs')[1].strip()\n",
    "                dic[k] = locale.atof(tmp)\n",
    "            except:\n",
    "                pass\n",
    "    return dic"
   ]
  },
  {
   "cell_type": "markdown",
   "metadata": {},
   "source": [
    "This is an example on dictionary cleaning"
   ]
  },
  {
   "cell_type": "code",
   "execution_count": 56,
   "metadata": {
    "collapsed": false
   },
   "outputs": [
    {
     "data": {
      "text/plain": [
       "{'Any Other Dues': nan,\n",
       " 'Any other Liability': nan,\n",
       " 'Dues to departments dealing with government accommodation': nan,\n",
       " 'Dues to departments dealing with supply of electricity': nan,\n",
       " 'Dues to departments dealing with supply of transport': nan,\n",
       " 'Dues to departments dealing with supply of water': nan,\n",
       " 'Dues to departments dealing with telephones': nan,\n",
       " 'Grand Total of Liabilities (as per affidavit)': nan,\n",
       " 'Grand Total of all Govt Dues (as per affidavit)': nan,\n",
       " 'Income Tax Dues': nan,\n",
       " 'Loans due to Individual / Entity': nan,\n",
       " 'Loans from Banks / FIs': nan,\n",
       " 'Property Tax Dues': nan,\n",
       " 'Sales Tax Dues': nan,\n",
       " 'Service Tax Dues': nan,\n",
       " 'Totals (Calculated as Sum of Values)': nan,\n",
       " 'Wealth Tax Dues': nan,\n",
       " 'Whether any other liabilities are in dispute, if so, mention the amount involved and the authority before which it is pending': nan}"
      ]
     },
     "execution_count": 56,
     "metadata": {},
     "output_type": "execute_result"
    }
   ],
   "source": [
    "clean_dic(get_info(ex))"
   ]
  },
  {
   "cell_type": "markdown",
   "metadata": {},
   "source": [
    "This overall loop runs through the whole text for each of the candidates. The loops takes approximately 7 minutes to run in my computer"
   ]
  },
  {
   "cell_type": "code",
   "execution_count": 59,
   "metadata": {
    "collapsed": false
   },
   "outputs": [
    {
     "name": "stdout",
     "output_type": "stream",
     "text": [
      "CPU times: user 7min 4s, sys: 4.83 s, total: 7min 9s\n",
      "Wall time: 7min 12s\n"
     ]
    }
   ],
   "source": [
    "%%time\n",
    "tmplist = []\n",
    "for k in data.keys():\n",
    "    dic = get_info(data[k])\n",
    "    dic['url'] = k\n",
    "    tmplist.append(clean_dic(dic))"
   ]
  },
  {
   "cell_type": "markdown",
   "metadata": {},
   "source": [
    "Now we create the Liabilities pandas data frame and export it to a csv file"
   ]
  },
  {
   "cell_type": "code",
   "execution_count": 60,
   "metadata": {
    "collapsed": true
   },
   "outputs": [],
   "source": [
    "liabilities = pd.DataFrame(tmplist)"
   ]
  },
  {
   "cell_type": "code",
   "execution_count": 61,
   "metadata": {
    "collapsed": false
   },
   "outputs": [
    {
     "data": {
      "text/html": [
       "<div>\n",
       "<table border=\"1\" class=\"dataframe\">\n",
       "  <thead>\n",
       "    <tr style=\"text-align: right;\">\n",
       "      <th></th>\n",
       "      <th>Any Other Dues</th>\n",
       "      <th>Any other Liability</th>\n",
       "      <th>Dues to departments dealing with government accommodation</th>\n",
       "      <th>Dues to departments dealing with supply of electricity</th>\n",
       "      <th>Dues to departments dealing with supply of transport</th>\n",
       "      <th>Dues to departments dealing with supply of water</th>\n",
       "      <th>Dues to departments dealing with telephones</th>\n",
       "      <th>Grand Total of Liabilities (as per affidavit)</th>\n",
       "      <th>Grand Total of all Govt Dues (as per affidavit)</th>\n",
       "      <th>Income Tax Dues</th>\n",
       "      <th>Loans due to Individual / Entity</th>\n",
       "      <th>Loans from Banks / FIs</th>\n",
       "      <th>Property Tax Dues</th>\n",
       "      <th>Sales Tax Dues</th>\n",
       "      <th>Service Tax Dues</th>\n",
       "      <th>Totals (Calculated as Sum of Values)</th>\n",
       "      <th>Wealth Tax Dues</th>\n",
       "      <th>Whether any other liabilities are in dispute, if so, mention the amount involved and the authority before which it is pending</th>\n",
       "      <th>url</th>\n",
       "    </tr>\n",
       "  </thead>\n",
       "  <tbody>\n",
       "    <tr>\n",
       "      <th>0</th>\n",
       "      <td>NaN</td>\n",
       "      <td>NaN</td>\n",
       "      <td>NaN</td>\n",
       "      <td>NaN</td>\n",
       "      <td>NaN</td>\n",
       "      <td>NaN</td>\n",
       "      <td>NaN</td>\n",
       "      <td>604861</td>\n",
       "      <td>NaN</td>\n",
       "      <td>NaN</td>\n",
       "      <td>NaN</td>\n",
       "      <td>604861</td>\n",
       "      <td>NaN</td>\n",
       "      <td>NaN</td>\n",
       "      <td>NaN</td>\n",
       "      <td>604861</td>\n",
       "      <td>NaN</td>\n",
       "      <td>NaN</td>\n",
       "      <td>candidate.php?candidate_id=4063</td>\n",
       "    </tr>\n",
       "    <tr>\n",
       "      <th>1</th>\n",
       "      <td>NaN</td>\n",
       "      <td>NaN</td>\n",
       "      <td>NaN</td>\n",
       "      <td>NaN</td>\n",
       "      <td>NaN</td>\n",
       "      <td>NaN</td>\n",
       "      <td>NaN</td>\n",
       "      <td>3400000</td>\n",
       "      <td>NaN</td>\n",
       "      <td>NaN</td>\n",
       "      <td>NaN</td>\n",
       "      <td>3400000</td>\n",
       "      <td>NaN</td>\n",
       "      <td>NaN</td>\n",
       "      <td>NaN</td>\n",
       "      <td>900000</td>\n",
       "      <td>NaN</td>\n",
       "      <td>NaN</td>\n",
       "      <td>candidate.php?candidate_id=4062</td>\n",
       "    </tr>\n",
       "    <tr>\n",
       "      <th>2</th>\n",
       "      <td>NaN</td>\n",
       "      <td>NaN</td>\n",
       "      <td>NaN</td>\n",
       "      <td>NaN</td>\n",
       "      <td>NaN</td>\n",
       "      <td>NaN</td>\n",
       "      <td>NaN</td>\n",
       "      <td>NaN</td>\n",
       "      <td>NaN</td>\n",
       "      <td>NaN</td>\n",
       "      <td>NaN</td>\n",
       "      <td>NaN</td>\n",
       "      <td>NaN</td>\n",
       "      <td>NaN</td>\n",
       "      <td>NaN</td>\n",
       "      <td>NaN</td>\n",
       "      <td>NaN</td>\n",
       "      <td>NaN</td>\n",
       "      <td>candidate.php?candidate_id=4061</td>\n",
       "    </tr>\n",
       "    <tr>\n",
       "      <th>3</th>\n",
       "      <td>NaN</td>\n",
       "      <td>NaN</td>\n",
       "      <td>NaN</td>\n",
       "      <td>NaN</td>\n",
       "      <td>NaN</td>\n",
       "      <td>NaN</td>\n",
       "      <td>NaN</td>\n",
       "      <td>NaN</td>\n",
       "      <td>NaN</td>\n",
       "      <td>NaN</td>\n",
       "      <td>NaN</td>\n",
       "      <td>NaN</td>\n",
       "      <td>NaN</td>\n",
       "      <td>NaN</td>\n",
       "      <td>NaN</td>\n",
       "      <td>NaN</td>\n",
       "      <td>NaN</td>\n",
       "      <td>NaN</td>\n",
       "      <td>candidate.php?candidate_id=4792</td>\n",
       "    </tr>\n",
       "    <tr>\n",
       "      <th>4</th>\n",
       "      <td>NaN</td>\n",
       "      <td>NaN</td>\n",
       "      <td>NaN</td>\n",
       "      <td>0</td>\n",
       "      <td>NaN</td>\n",
       "      <td>NaN</td>\n",
       "      <td>0</td>\n",
       "      <td>3500000</td>\n",
       "      <td>NaN</td>\n",
       "      <td>0</td>\n",
       "      <td>NaN</td>\n",
       "      <td>3500000</td>\n",
       "      <td>NaN</td>\n",
       "      <td>NaN</td>\n",
       "      <td>NaN</td>\n",
       "      <td>2500000</td>\n",
       "      <td>NaN</td>\n",
       "      <td>NaN</td>\n",
       "      <td>candidate.php?candidate_id=4795</td>\n",
       "    </tr>\n",
       "  </tbody>\n",
       "</table>\n",
       "</div>"
      ],
      "text/plain": [
       "   Any Other Dues  Any other Liability  Dues to departments dealing with government accommodation  Dues to departments dealing with supply of electricity  Dues to departments dealing with supply of transport  Dues to departments dealing with supply of water  Dues to departments dealing with telephones  Grand Total of Liabilities (as per affidavit)  Grand Total of all Govt Dues (as per affidavit)  Income Tax Dues  Loans due to Individual / Entity  Loans from Banks / FIs  Property Tax Dues  \\\n",
       "0             NaN                  NaN                                                NaN                                                        NaN                                                     NaN                                                  NaN                                          NaN                                         604861                                              NaN              NaN                               NaN                  604861                NaN   \n",
       "1             NaN                  NaN                                                NaN                                                        NaN                                                     NaN                                                  NaN                                          NaN                                        3400000                                              NaN              NaN                               NaN                 3400000                NaN   \n",
       "2             NaN                  NaN                                                NaN                                                        NaN                                                     NaN                                                  NaN                                          NaN                                            NaN                                              NaN              NaN                               NaN                     NaN                NaN   \n",
       "3             NaN                  NaN                                                NaN                                                        NaN                                                     NaN                                                  NaN                                          NaN                                            NaN                                              NaN              NaN                               NaN                     NaN                NaN   \n",
       "4             NaN                  NaN                                                NaN                                                          0                                                     NaN                                                  NaN                                            0                                        3500000                                              NaN                0                               NaN                 3500000                NaN   \n",
       "\n",
       "   Sales Tax Dues  Service Tax Dues  Totals (Calculated as Sum of Values)  Wealth Tax Dues  Whether any other liabilities are in dispute, if so, mention the amount involved and the authority before which it is pending                              url  \n",
       "0             NaN               NaN                                604861              NaN                                                NaN                                                                              candidate.php?candidate_id=4063  \n",
       "1             NaN               NaN                                900000              NaN                                                NaN                                                                              candidate.php?candidate_id=4062  \n",
       "2             NaN               NaN                                   NaN              NaN                                                NaN                                                                              candidate.php?candidate_id=4061  \n",
       "3             NaN               NaN                                   NaN              NaN                                                NaN                                                                              candidate.php?candidate_id=4792  \n",
       "4             NaN               NaN                               2500000              NaN                                                NaN                                                                              candidate.php?candidate_id=4795  "
      ]
     },
     "execution_count": 61,
     "metadata": {},
     "output_type": "execute_result"
    }
   ],
   "source": [
    "liabilities.head()"
   ]
  },
  {
   "cell_type": "code",
   "execution_count": 64,
   "metadata": {
    "collapsed": false
   },
   "outputs": [],
   "source": [
    "liabilities.to_csv(\"liabilities.csv\", header=True, index=False, encoding='utf-8')"
   ]
  }
 ],
 "metadata": {
  "kernelspec": {
   "display_name": "Python 2",
   "language": "python",
   "name": "python2"
  },
  "language_info": {
   "codemirror_mode": {
    "name": "ipython",
    "version": 2
   },
   "file_extension": ".py",
   "mimetype": "text/x-python",
   "name": "python",
   "nbconvert_exporter": "python",
   "pygments_lexer": "ipython2",
   "version": "2.7.10"
  }
 },
 "nbformat": 4,
 "nbformat_minor": 0
}

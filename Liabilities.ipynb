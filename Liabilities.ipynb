{
 "cells": [
  {
   "cell_type": "markdown",
   "metadata": {},
   "source": [
    "# Scraping the Liabilities"
   ]
  },
  {
   "cell_type": "markdown",
   "metadata": {},
   "source": [
    "Loading libraries and the big json file"
   ]
  },
  {
   "cell_type": "code",
   "execution_count": 1,
   "metadata": {
    "collapsed": false
   },
   "outputs": [],
   "source": [
    "%matplotlib inline\n",
    "import numpy as np\n",
    "import scipy as sp\n",
    "import matplotlib as mpl\n",
    "import matplotlib.cm as cm\n",
    "import matplotlib.pyplot as plt\n",
    "import pandas as pd\n",
    "pd.set_option('display.width', 500)\n",
    "pd.set_option('display.max_columns', 100)\n",
    "pd.set_option('display.notebook_repr_html', True)\n",
    "import seaborn as sns\n",
    "sns.set_style(\"whitegrid\")\n",
    "sns.set_context(\"poster\")\n",
    "from bs4 import BeautifulSoup\n",
    "import unicodedata\n",
    "import locale\n",
    "locale.setlocale( locale.LC_ALL, 'en_US.UTF-8' )\n",
    "import requests"
   ]
  },
  {
   "cell_type": "code",
   "execution_count": 4,
   "metadata": {
    "collapsed": false
   },
   "outputs": [],
   "source": [
    "import json\n",
    "with open('candidate_pages.json') as data_file:    \n",
    "    data = json.load(data_file)"
   ]
  },
  {
   "cell_type": "code",
   "execution_count": 19,
   "metadata": {
    "collapsed": false
   },
   "outputs": [],
   "source": [
    "dic2014 = {}\n",
    "for k in data.keys():\n",
    "    if 'http://myneta.info/ls2014/' in k:\n",
    "        dic2014[k] = data[k]"
   ]
  },
  {
   "cell_type": "code",
   "execution_count": 27,
   "metadata": {
    "collapsed": true
   },
   "outputs": [],
   "source": [
    "dic2009 = {}\n",
    "for k in data.keys():\n",
    "    if 'http://myneta.info/ls2009/' in k:\n",
    "        dic2009[k] = data[k]"
   ]
  },
  {
   "cell_type": "code",
   "execution_count": 29,
   "metadata": {
    "collapsed": false
   },
   "outputs": [],
   "source": [
    "dic2004 = {}\n",
    "for k in data.keys():\n",
    "    if 'http://myneta.info/loksabha2004/' in k:\n",
    "        dic2004[k] = data[k]"
   ]
  },
  {
   "cell_type": "markdown",
   "metadata": {},
   "source": [
    "Creating a toy example"
   ]
  },
  {
   "cell_type": "code",
   "execution_count": 13,
   "metadata": {
    "collapsed": true
   },
   "outputs": [
    {
     "data": {
      "text/plain": [
       "u'\\t\\t\\t<html>\\n\\t\\t\\t\\t<head>\\n\\t\\t\\t\\t   <title>Abdul Rahman, R.(Independent(IND)):Constituency- PERAMBALUR(TAMIL NADU) - Affidavit Information of Candidate:</title>\\n\\t\\t\\t\\t   <meta name=\"description\" content=\"It provides criminal and financial background information on candidates, MPs and MLAs contesting in elections.It also has information on income and expenditure of political parties.\">\\n    \\t\\t\\t\\t<meta charset=\"utf-8\"/>\\n    \\t\\t\\t\\t<meta http-equiv=\"x-ua-compatible\" content=\"ie=edge\"/>\\n    \\t\\t\\t\\t<meta name=\"viewport\" content=\"width=device-width, initial-scale=1, minimum-scale=1, maximum-scale=1\"/>\\n    \\t\\t\\t\\t<meta name=\"author\" content=\"ADR\"/>\\n    \\t\\t\\t\\t<link rel=\"stylesheet\" href=\"/lib/css/text.css\"/>\\n    \\t\\t\\t\\t<link rel=\"stylesheet\" href=\"/lib/css/main.css\"/>\\n    \\t\\t\\t\\t<link href=\\'http://fonts.googleapis.com/css?family=Rokkitt:400,700\\' rel=\\'stylesheet\\' type=\\'text/css\\'>\\n    \\t\\t\\t\\t<link href=\\'http://fonts.googleapis.com/css?family=Droid+Sans:400,700\\' rel=\\'stylesheet\\' type=\\'text/css\\'>\\n\\t\\t\\t\\t\\t<script type=\"text/javascript\">\\n\\t\\t\\t\\t\\t\\tfunction confirmation()\\n\\t\\t\\t\\t\\t\\t{\\n\\t\\t\\t\\t\\t\\t\\tif (document.form1.discrepancy.value.length<= 49)\\n\\t\\t\\t\\t\\t\\t\\t{\\n\\t\\t\\t\\t\\t\\t\\t\\talert(\\'Please enter at least 50 characters in discrepancy!\\');\\n\\t\\t\\t\\t\\t\\t\\t\\treturn false;\\n\\t\\t\\t\\t\\t\\t\\t}\\n\\t\\t\\t\\t\\t\\t\\treturn true;\\n\\t\\t\\t\\t\\t\\t}\\n\\t\\t\\t\\t\\t</script>\\n    \\t\\t\\t\\t<script src=\"https://ajax.googleapis.com/ajax/libs/jquery/1.7.2/jquery.min.js\"></script>\\n    \\t\\t\\t\\t<script src=\"/lib/js/adapt-config.js\"></script>\\n    \\t\\t\\t\\t<script src=\"/lib/js/adapt.min.js\"></script>\\n\\t\\t\\t\\t\\t<script src=\"/lib/js/fix-table-header.js\"></script>\\n    \\t\\t\\t\\t<script src=\"/lib/js/app.js\"></script>\\n\\t\\t\\t\\t\\t<!-- Put the following javascript before the closing </head> tag. -->\\n\\t\\t\\t\\t\\t<script>\\n  \\t\\t\\t\\t\\t(function() {\\n   \\t\\t\\t\\t\\t\\tvar cx = \\'014214505007285591097:vf77t8iuwrc\\';\\n    \\t\\t\\t\\t\\tvar gcse = document.createElement(\\'script\\'); gcse.type = \\'text/javascript\\'; gcse.async = true;\\n    \\t\\t\\t\\t\\tgcse.src = (document.location.protocol == \\'https:\\' ? \\'https:\\' : \\'http:\\') +\\'//www.google.com/cse/cse.js?cx=\\' + cx;\\n    \\t\\t\\t\\t\\tvar s = document.getElementsByTagName(\\'script\\')[0]; s.parentNode.insertBefore(gcse, s);\\n  \\t\\t\\t\\t\\t})();\\n\\t\\t\\t\\t\\t</script>\\n\\n\\t\\t\\t\\t<script type=\"text/javascript\">\\n  \\t\\t\\t\\tvar _gaq = _gaq || [];\\n  \\t\\t\\t\\t_gaq.push([\\'_setAccount\\', \\'UA-26901527-2\\']);\\n  \\t\\t\\t\\t_gaq.push([\\'_setDomainName\\', \\'myneta.info\\']);\\n  \\t\\t\\t\\t_gaq.push([\\'_trackPageview\\']);\\n\\n  \\t\\t\\t\\t(function() {\\n   \\t\\t\\t\\t var ga = document.createElement(\\'script\\'); ga.type = \\'text/javascript\\'; ga.async = true;\\n    \\t\\t\\t\\tga.src = (\\'https:\\' == document.location.protocol ? \\'https://ssl\\' : \\'http://www\\') + \\'.google-analytics.com/ga.js\\';\\n    \\t\\t\\t\\tvar s = document.getElementsByTagName(\\'script\\')[0]; s.parentNode.insertBefore(ga, s);\\n  \\t\\t\\t\\t})();\\n\\t\\t\\t\\t</script>\\n\\n\\t\\t\\t\\t</head>\\n\\t\\t\\t\\t<body>\\n\\t\\t\\t\\t\\t<!--<div align=right><a href=\"https://play.google.com/store/apps/details?id=com.webrosoft.myneta1\"><img src=\"/lib/img/android-logo-small.png\" />Myneta Android App </a>\\t</div>-->\\n\\t\\t\\t\\t\\t<!--Logos-->\\n\\t\\t\\t\\t\\t<div class=\"container_12\">\\n\\t\\t\\t\\t\\t\\t<div class=\"grid_3 logo\">\\n\\t\\t\\t\\t\\t        <a href=\"/\"><img src=\"/lib/img/myneta-logo.jpg\" title=\"MyNeta Logo\" alt=\"Myneta Logo\"></a>\\n\\t\\t\\t\\t\\t    </div>\\n\\t\\t\\t\\t\\t\\t<div class=\"grid_6\" style=\"text-align:center;vertical-align: bottom;\">\\n\\t\\t\\t\\t\\t\\t\\t<br><br>\\n\\t    \\t\\t\\t\\t\\t<form action=\"/search_myneta.php\" method=\"get\" align=center valgin=bottom>\\n       \\t\\t\\t\\t\\t\\t\\t<input type=\"text\" name=\"q\" placeholder=\"Neta/Constituency Name\" size=20>\\n        \\t\\t\\t\\t\\t\\t&ensp;<input type=\"submit\" value=\"Search\">\\n        \\t\\t\\t\\t\\t\\t&ensp;<a href=\\'http://myneta.info/advance_search.php\\' style=\\'text-decoration:none;\\'>Advance search</a>\\n    \\t\\t\\t\\t\\t\\t</form>\\n\\t\\t\\t\\t\\t\\t</div>\\n   \\t\\t\\t\\t\\t\\t<div class=\"grid_3 logo\">\\n\\t\\t\\t\\t        \\t<a href=\"http://adrindia.org\" target=\"_blank\"><img src=\"/lib/img/logo-adr.png\" title=\"ADR Logo\" id=\"adr-logo\"></a>\\n\\t\\t\\t\\t    \\t</div>\\n\\t\\t\\t\\t\\t</div>\\n\\n\\t\\t\\t\\t\\t<!--Menus -->\\n\\t\\t\\t\\t\\t<div class=\"menu-bg\">\\n\\t\\t\\t\\t\\t    <div class=\"container_12\">\\n\\t\\t\\t\\t\\t        <div class=\"grid_12\">\\n\\t\\t\\t\\t\\t            <ul class=\"main-menu\">\\n\\t\\t\\t\\t\\t                <li><a href=\"/\">Home</a></li>\\n\\t\\t\\t\\t\\t                <li><a href=\"http://adrindia.org/about-adr/who-we-are\" target=\"_blank\" title=\"About ADR\">About ADR</a>  </li>\\n\\t\\t\\t\\t\\t\\t\\t<li><a href=\"http://myneta.info/#ls\" title=\"Election Watch\">Lok Sabha</a></li>\\n\\t\\t\\t\\t\\t               \\t<li><a href=\"http://myneta.info/#rs\"  title=\"Research & Reports\" >Rajya Sabha</a></li>\\n\\t\\t\\t\\t\\t\\t\\t<li><a href=\"http://myneta.info/party\"  title=\"Political Parties\" >Political Parties <img width=\"30\" height=\"20\" border=\"0\" src=\"http://myneta.info/new.gif\"></a></li>\\n\\t\\t\\t\\t\\t\\t        <li><a href=\"http://adrindia.org/about-adr/state-coordinators\" target=\"_blank\"  title=\"Partners\">Partners</a></li>\\n\\t\\t\\t\\t\\t                <li><a href=\"http://adrindia.org/contact-us\" target=\"_blank\" title=\"Contact Us\">Contact Us</a></li>\\n\\t\\t\\t\\t\\t\\t\\t<li><a href=\"http://adrindia.org/donate\" target=\"_blank\" title=\"Donate\">Donate</a></li>\\t\\t\\n\\t\\t\\t\\t\\t\\t\\t<li><a href=http://translate.google.co.in/translate?prev=hp&hl=en&js=y&u=myneta.info&sl=en&tl=hi&history_state0= style=\"text-decoration: none\">&#2405;&#2350;&#2366;&#2351;&#0032;&#2344;&#2375;&#2340;&#2366;&#0032;&#2361;&#2367;&#2306;&#2342;&#2368;&#0032;&#2350;&#2375;&#2405;</a></li>\\n\\t\\t\\t\\t\\t\\t          </ul>\\n\\t\\t\\t\\t\\t        </div>\\n\\t\\t\\t\\t\\t    </div>\\n\\t\\t\\t\\t\\t</div>\\n\\t\\t\\t\\t\\t<div class=\"banner-bg\">\\n\\t\\t\\t\\t\\t\\t<div class=\"container_12\">\\n\\t\\t\\t\\t\\t\\t\\t<div class=\"grid_12\">\\n\\n\\t\\t\\t\\t\\t\\t\\t\\t<li><img src=\"/lib/img/banner/banner-1.png\"></li>\\n\\t\\t\\t\\t\\t\\t\\t</div>\\n\\t\\t\\t\\t\\t\\t</div>\\n\\t\\t\\t\\t\\t</div>\\n\\n\\t\\t\\t\\t\\t<!--Main Content-->\\n\\t\\t\\t\\t\\t<div id=\"main\">\\n\\t\\t\\t\\t\\t\\t<div class=\"container_12\">\\n\\t\\t\\t\\t\\t\\t\\t<div class=\"items\"><a href=http://myneta.info/>Home</a>&rarr;<a href=http://myneta.info/ls2014/>Loksabha 2014</a>&rarr;<a href=http://myneta.info/ls2014/index.php?action=show_constituencies&state_id=22>TAMIL NADU</a>&rarr;<a href=http://myneta.info/ls2014/index.php?action=show_candidates&constituency_id=497>PERAMBALUR</a>&rarr;<b>ABDUL RAHMAN, R.</b>(Criminal & Asset Declaration)<hr></div>\\n\\t\\t\\t\\t\\t\\t\\t<div class=\"grid_9\">\\n\\t\\t\\t\\t\\t\\t\\t\\t<h2 class=\\'title first\\'>Loksabha 2014</h1>\\n\\t\\t\\t\\t\\t\\t\\t\\t\\t\\n\\t\\n\\n\\t\\t\\t\\t\\t\\t<div class=\"grid_9\">\\n\\t\\t\\t\\t<div class=\"grid_9 alpha omega\" >\\n\\t\\t\\t\\t    <div class=\"grid_3 alpha\" style=\\'background:khaki;\\'>\\n        <h2 class=\"main-title\">ABDUL RAHMAN, R. </h2>\\n\\n        <h5>\\n        PERAMBALUR  (TAMIL NADU)\\n        </h5>\\n <div class=\"grid_2 alpha\">\\n        <b>Party:</b>IND\\n </div>\\n\\n        <div class=\"grid_2 alpha\">\\n            <b>S/o|D/o|W/o:</b>\\n            Raja Mohamed\\n        </div>\\n\\n        <div class=\"grid_2 alpha\">\\n            <b>Age:</b> 41\\n        </div>\\n\\n\\n\\n        <div class=\"grid_2 alpha\">\\n            <b>Address:</b>\\n            47E venkatesapuram Perambalur\\n        </div>\\n\\t\\t\\t<div class=\"grid_3 alpha\"><b>Name Enrolled as Voter in: </b>Perambalur (Tamil Nadu) constituency\\t\\t\\t, at Serial no 596  in Part no   147 </div>\\n\\t\\t\\t<div class=\"grid_2 alpha\"><b>Email:</b></div>\\n\\t\\t\\t<div class=\"grid_2 alpha\"><b>Contact Number:</b> 9842424185</div>\\n<div class=\"clearfix\"></div>\\n  <p>\\t<b>Self Profession:</b>Cable TV Operator<br>\\n\\t<b>Spouse Profession:</b>House Wife\\n</p>\\n    </div>\\n\\n\\t\\t\\t\\t\\t\\t\\t\\t\\t\\t<div class=\"grid_3 omega\" >\\r\\n\\t\\t\\r\\n\\t\\t<div class=\"addthis_toolbox addthis_default_style \" addthis:url=\"\">\\r\\n\\t\\t<a class=\"addthis_toolbox_item addthis_button_facebook at300b\" title=\"Facebook\" href=\"#\"><span class=\"at16nc at300bs at15nc at15t_facebook at16t_facebook\"><span class=\"at_a11y\">facebook</span></span></a>\\r\\n\\t\\t<a class=\"addthis_toolbox_item addthis_button_twitter at300b\" title=\"Tweet\" href=\"#\"><span class=\"at16nc at300bs at15nc at15t_twitter at16t_twitter\"><span class=\"at_a11y\">twitter</span></span></a>\\r\\n\\t\\t<a class=\"addthis_toolbox_item addthis_button_blogger at300b\" href=\"http://www.addthis.com/bookmark.php?v=250&amp;winname=addthis&amp;pub=ra-4ef96a35565be6b9&amp;source=tbx-250&amp;lng=en&amp;s=blogger&amp;url=;ate=AT-ra-4ef96a35565be6b9/-/-/5125bdcfea2ad8b0/2&amp;frommenu=1&amp;uid=5125bdcfc5cbb5fa&amp;ct=1&amp;ui_header_color=%23000000&amp;ui_header_background=%23FFFFFF&amp;tt=0&amp;captcha_provider=nucaptcha\" target=\"_blank\" title=\"Blogger\"><span class=\"at16nc at300bs at15nc at15t_blogger at16t_blogger\"><span class=\"at_a11y\">blogger</span></span></a>\\r\\n\\t\\t<a class=\"addthis_toolbox_item addthis_button_gmail at300b\" href=\"http://www.addthis.com/bookmark.php?v=250&amp;winname=addthis&amp;pub=ra-4ef96a35565be6b9&amp;source=tbx-250&amp;lng=en&amp;s=gmail&amp;url=;ui_header_color=%23000000&amp;ui_header_background=%23FFFFFF&amp;tt=0&amp;captcha_provider=nucaptcha\" target=\"_blank\" title=\"Gmail\"><span class=\"at16nc at300bs at15nc at15t_gmail at16t_gmail\"><span class=\"at_a11y\">gmail</span></span></a>\\r\\n\\t\\t<a class=\"addthis_toolbox_item addthis_button_linkedin at300b\" href=\"http://www.addthis.com/bookmark.php?v=250&amp;winname=addthis&amp;pub=ra-4ef96a35565be6b9&amp;source=tbx-250&amp;lng=en&amp;s=linkedin&amp;url=;ate=AT-ra-4ef96a35565be6b9/-/-/5125bdcfea2ad8b0/4&amp;frommenu=1&amp;uid=5125bdcf6ed8dc2a&amp;ct=1&amp;ui_header_color=%23000000&amp;ui_header_background=%23FFFFFF&amp;tt=0&amp;captcha_provider=nucaptcha\" target=\"_blank\" title=\"Linkedin\"><span class=\"at16nc at300bs at15nc at15t_linkedin at16t_linkedin\"><span class=\"at_a11y\">linkedin</span></span></a>\\r\\n\\t\\t<a class=\"addthis_toolbox_item addthis_button_yahoomail at300b\" href=\"http://www.addthis.com/bookmark.php?v=250&amp;winname=addthis&amp;pub=ra-4ef96a35565be6b9&amp;source=tbx-250&amp;lng=en&amp;s=yahoomail&amp;url=;ate=AT-ra-4ef96a35565be6b9/-/-/5125bdcfea2ad8b0/5&amp;frommenu=1&amp;uid=5125bdcfda3a8389&amp;ct=1&amp;ui_header_color=%23000000&amp;ui_header_background=%23FFFFFF&amp;tt=0&amp;captcha_provider=nucaptcha\" target=\"_blank\" title=\"Y! Mail\"><span class=\"at16nc at300bs at15nc at15t_yahoomail at16t_yahoomail\"><span class=\"at_a11y\">yahoomail</span></span></a>\\r\\n\\t\\t<a class=\"addthis_toolbox_item addthis_button_email at300b\" title=\"Email\" href=\"#\"><span class=\"at16nc at300bs at15nc at15t_email at16t_email\"><span class=\"at_a11y\">email</span></span></a>\\r\\n\\t\\t<a class=\"addthis_toolbox_item addthis_button_favorites at300b\" title=\"Favorites\" href=\"#\"><span class=\"at16nc at300bs at15nc at15t_favorites at16t_favorites\"><span class=\"at_a11y\">favorites</span></span></a>\\r\\n\\t\\t<div class=\"addthis_toolbox addthis_default_style \">\\r\\n\\t\\t<a class=\"addthis_button_facebook_like\" fb:like:layout=\"button_count\"></a>\\r\\n\\t\\t</div>\\r\\n\\t\\t<!-- <a class=\"addthis_counter addthis_pill_style\"></a>-->\\r\\n\\t\\t</div>\\r\\n\\t\\t<script type=\"text/javascript\"      src=\"http://s7.addthis.com/js/250/addthis_widget.js#pubid=ra-4ef96a35565be6b9\"></script>\\r\\n    \\t<br><br>\\n        \\t\\t<ul class=\"profile-download-links\">\\n      \\t\\t\\t<li><img src=\"http://myneta.info/lib/img/printer.png\")\" alt=\"Print Profile\"> <a href=\"candidate.php?candidate_id=7120&print=true\" target=_blank ><b>Print Profile</b></a> </li>\\n\\t\\t\\t\\t<li></li>\\n\\t\\t\\t\\t<li><img src=\\'http://myneta.info/lib/img/documents.png\\' alt=\\'Get Scanned Copies of Affidavits\\'><b ><a href=candidate.php?candidate_id=7120&scan=original>Scanned Copy of Affidavit</a></b></li>\\n\\t\\t\\t\\t<li></li>\\n       \\t\\t\\t</ul>\\n\\t\\t\\t\\t<br>\\n\\t\\t\\t\\t\\t</div>\\n\\t\\t\\t\\t\\t<div class=\"grid_3 alpha\">\\n\\t\\t\\t\\t\\t\\n\\t\\t\\t\\t\\t</div>\\n\\n    \\t\\t\\t\\t\\t<div class=\"clearfix\"></div>\\n    \\t\\t\\t\\t\\t<div style=\\'width:100%;text-align:left;border:1px solid gray;background:red;color:white;\\'>\\t\\t<div class=\"grid_3 alpha left-border-div left-green-border\" style=\\'background-color:red;\\'  ><h3>Crime-O-Meter</h3><hr>\\n\\t\\t<div align=center>No criminal cases \\t\\t\\n\\t<img align=center src=http://chart.apis.google.com/chart?cht=gom&chd=t:&chs=200x70&chco=00ff00,ffff00,ff6600,ff0000&chl=></div></div></div>\\n    \\t\\t\\t\\t\\t\\n\\n\\n    <div class=\"grid_3 alpha left-border-div left-green-border\" >\\n        <a href=\\'#movable_assets\\'><h3>Assets & Liabilities </h3></a>\\n        <hr>\\n       <div class=\"bottom-border-div red fullWidth\"> Assets:<b>Rs&nbsp;81,65,500</b><span style=\\'color:black;text-decoration:none;white-space:nowrap\\'> ~81&nbsp;Lacs+</span></div>\\n\\t<div class=\"bottom-border-div blue fullWidth\"> Liabilities:<b>Rs&nbsp;3,40,000</b><span style=\\'color:black;text-decoration:none;white-space:nowrap\\'> ~3&nbsp;Lacs+</span></div>\\n\\n    </div>\\n    \\t\\t\\t\\t\\t<div style=\\'width:100%;text-align:left;border:1px solid black;background:MediumSpringGreen;\\'>\\t<div class=\"grid_3 alpha omega left-border-div left-blue-border\">\\n        <h3>Educational Details</h3>\\n        <hr>\\n        <div class=\"left-margin\">10th Pass</div>\\n        <div class=\"left-margin\"> SSLC</div>\\n    </div>\\n\\n</div>\\n \\t\\t\\t\\t\\t</div>\\n\\t\\t\\t\\t</div>\\n \\t\\t\\t<div class=\"clearfix\"></div>\\n\\t\\t\\t<br><hr>\\n\\n\\t\\t\\t\\t<a name=income_tax>\\r\\n\\t\\t<h3 class=\\'title blue\\'> Details of PAN and status of Income Tax return </h3>\\r\\n\\t\\t<table border=1 width=100%>\\r\\n\\t\\t<tr><th>Relation Type</th><th>PAN Given</th><th>Financial Year</th><th>Total Income Shown in ITR</th></tr>\\r\\n\\t\\t<tr><td>self</td><td>Y</td><td>2011 - 2012</td><td><b>Rs&nbsp;3,12,940</b><span style=\\'color:black;font-size:60%;text-decoration:none;white-space:nowrap\\'> ~ 3&nbsp;Lacs+</span></td></tr><tr><td>spouse</td><td>N</td><td>None</td><td><b>Rs&nbsp;0</b><span style=\\'color:black;font-size:60%;text-decoration:none;white-space:nowrap\\'> ~ </span></td></tr><tr><td>dependent1</td><td>N</td><td>None</td><td><b>Rs&nbsp;0</b><span style=\\'color:black;font-size:60%;text-decoration:none;white-space:nowrap\\'> ~ </span></td></tr><tr><td>dependent2</td><td>N</td><td>None</td><td><b>Rs&nbsp;0</b><span style=\\'color:black;font-size:60%;text-decoration:none;white-space:nowrap\\'> ~ </span></td></tr><tr><td>dependent3</td><td>N</td><td>None</td><td><b>Rs&nbsp;0</b><span style=\\'color:black;font-size:60%;text-decoration:none;white-space:nowrap\\'> ~ </span></td></tr>\\r\\n\\t\\t</table>\\t<b>Data Readability Report of PAN and Income Tax :</b>No Problems in Reading Affidavit Information\\n\\t\\t<h3 class=\\'title blue\\'>Details of Criminal Cases</h3><table class=table1 width=100%><tr valign=top><td>No criminal cases</td><td>   </td></tr></table><p><small style=\\'color:#FF0000\\'>Disclaimer: This information is an archive of the candidate\\'s self-declared affidavit that was filed during the elections. The current status of this information may be different. For the latest available information, please refer to the affidavit filed by the candidate to the Election Commission in the most recent election.</small></p>\\t<b>Data Readability Report of Criminal Cases :</b>No Problems in Reading Affidavit Information\\n\\t\\t\\t<a name=movable_assets>\\r\\n\\t<h3 class=\\'title blue\\'>Details of Movable Assets</h3>\\r\\n\\t<table width = 95% cellpadding=1 border=1 class=table1>\\r\\n\\t<tr><td>Sr No</td><td>Description</td><td align=right>self</td><td align=right>spouse</td><td align=right>dependent1</td><td align=right>dependent2</td><td align=right>dependent3</td></tr>\\r\\n\\t<tr valign=top><td>i</td><td>Cash</td><td  align=right>  10,000&nbsp;<span style=\\'color:brown;font-size:70%;text-decoration:none;white-space:nowrap\\'>&nbsp;10&nbsp;Thou+</span> <br><br></td><td  align=right>  500&nbsp;<span style=\\'color:brown;font-size:70%;text-decoration:none;white-space:nowrap\\'>&nbsp;5&nbsp;Hund+</span> <br><br></td><td  align=right>Nil</td><td  align=right>Nil</td><td  align=right>Nil</td><td align=right><span style=\\'color:black\\'><b> Rs&nbsp;10,500 </b></span><span style=\\'color:brown;font-size:70%;text-decoration:none;white-space:nowrap\\'><br>10&nbsp;Thou+</span></td></tr>\\r\\n\\t<tr valign=top><td>ii</td><td>Deposits in Banks, Financial Institutions and Non-Banking Financial Companies</td><td  align=right>Nil</td><td  align=right>Nil</td><td  align=right>Nil</td><td  align=right>Nil</td><td  align=right>Nil</td><td align=right><span style=\\'color:black\\'><b> Nil </b></span><span style=\\'color:brown;font-size:70%;text-decoration:none;white-space:nowrap\\'><br></span></td></tr>\\r\\n\\t<tr valign=top><td>iii</td><td>Bonds, Debentures and Shares in companies</td><td  align=right>Nil</td><td  align=right>Nil</td><td  align=right>Nil</td><td  align=right>Nil</td><td  align=right>Nil</td><td align=right><span style=\\'color:black\\'><b> Nil </b></span><span style=\\'color:brown;font-size:70%;text-decoration:none;white-space:nowrap\\'><br></span></td></tr>\\r\\n\\t<tr valign=top><td rowspan=2>iv</td><td><b>(a)</b><br> NSS, Postal Savings etc</td><td  align=right>Nil</td><td  align=right>Nil</td><td  align=right>Nil</td><td  align=right>Nil</td><td  align=right>Nil</td><td align=right><span style=\\'color:black\\'><b> Nil </b></span><span style=\\'color:brown;font-size:70%;text-decoration:none;white-space:nowrap\\'><br></span></td></tr>\\r\\n\\t<tr valign=top><td><b>(b)</b><br>LIC or other insurance Policies <!--<br><span style=\\'font-size:80%;color:yellow;background-color:red\\'>**Not counted in total assets</span> --></td><td  align=right><span class=desc>Metlife </span><br>  1,35,000&nbsp;<span style=\\'color:brown;font-size:70%;text-decoration:none;white-space:nowrap\\'>&nbsp;1&nbsp;Lacs+</span> <br><br><span class=desc>MetLife</span><br>  1,00,000&nbsp;<span style=\\'color:brown;font-size:70%;text-decoration:none;white-space:nowrap\\'>&nbsp;1&nbsp;Lacs+</span> <br><br></td><td  align=right>Nil</td><td  align=right>Nil</td><td  align=right>Nil</td><td  align=right>Nil</td><td align=right><span style=\\'color:black\\'><b> Rs&nbsp;2,35,000 </b></span><span style=\\'color:brown;font-size:70%;text-decoration:none;white-space:nowrap\\'><br>2&nbsp;Lacs+</span></td></tr>\\r\\n\\t<tr valign=top><td>v</td><td>Personal loans/advance given </td><td  align=right>Nil</td><td  align=right>Nil</td><td  align=right>Nil</td><td  align=right>Nil</td><td  align=right>Nil</td><td align=right><span style=\\'color:black\\'><b> Nil </b></span><span style=\\'color:brown;font-size:70%;text-decoration:none;white-space:nowrap\\'><br></span></td></tr>\\r\\n\\t<tr valign=top><td>vi</td><td>Motor Vehicles (details of make, etc.)</td><td  align=right><span class=desc>Hyndai Verna TN46 M 0786 2012</span><br>  9,70,000&nbsp;<span style=\\'color:brown;font-size:70%;text-decoration:none;white-space:nowrap\\'>&nbsp;9&nbsp;Lacs+</span> <br><br></td><td  align=right>Nil</td><td  align=right>Nil</td><td  align=right>Nil</td><td  align=right>Nil</td><td align=right><span style=\\'color:black\\'><b> Rs&nbsp;9,70,000 </b></span><span style=\\'color:brown;font-size:70%;text-decoration:none;white-space:nowrap\\'><br>9&nbsp;Lacs+</span></td></tr>\\r\\n\\t<tr valign=top><td>vii</td><td>Jewellery (give details weight value)</td><td  align=right>Nil</td><td  align=right><span class=desc>320grms</span><br>  9,60,000&nbsp;<span style=\\'color:brown;font-size:70%;text-decoration:none;white-space:nowrap\\'>&nbsp;9&nbsp;Lacs+</span> <br><br></td><td  align=right>Nil</td><td  align=right>Nil</td><td  align=right>Nil</td><td align=right><span style=\\'color:black\\'><b> Rs&nbsp;9,60,000 </b></span><span style=\\'color:brown;font-size:70%;text-decoration:none;white-space:nowrap\\'><br>9&nbsp;Lacs+</span></td></tr>\\r\\n\\t<tr valign=top><td>viii</td><td>Other assets, such as values of claims / interests</td><td  align=right>Nil</td><td  align=right>Nil</td><td  align=right>Nil</td><td  align=right>Nil</td><td  align=right>Nil</td><td align=right><span style=\\'color:black\\'><b> Nil </b></span><span style=\\'color:brown;font-size:70%;text-decoration:none;white-space:nowrap\\'><br></span></td></tr>\\r\\n\\t<tr valign=top><td colspan=2>Gross Total Value (as per Affidavit)</td> <td  align=right><a name=movabletotal></a> 12,05,000&nbsp;<span style=\\'color:brown;font-size:70%;text-decoration:none;white-space:nowrap\\'>&nbsp;12&nbsp;Lacs+</span></td><td  align=right><a name=movabletotal></a> 9,60,500&nbsp;<span style=\\'color:brown;font-size:70%;text-decoration:none;white-space:nowrap\\'>&nbsp;9&nbsp;Lacs+</span></td><td  align=right><a name=movabletotal></a> Nil</td><td  align=right><a name=movabletotal></a> Nil</td><td  align=right><a name=movabletotal></a> Nil</td><td align=right><span style=\\'color:green\\'><b> Rs&nbsp;21,65,500 </b></span><span style=\\'color:brown;font-size:70%;text-decoration:none;white-space:nowrap\\'><br>21&nbsp;Lacs+</span></td> </tr>\\r\\n\\t<tr valign=top><td colspan=2>Totals (Calculated as Sum of Values)</td> <td align=right><span style=\\'color:blue\\'><b> Rs&nbsp;12,15,000 </b></span><span style=\\'color:brown;font-size:70%;text-decoration:none;white-space:nowrap\\'><br>12&nbsp;Lacs+</span></td><td align=right><span style=\\'color:blue\\'><b> Rs&nbsp;9,60,500 </b></span><span style=\\'color:brown;font-size:70%;text-decoration:none;white-space:nowrap\\'><br>9&nbsp;Lacs+</span></td><td align=right><span style=\\'color:blue\\'><b> Nil </b></span><span style=\\'color:brown;font-size:70%;text-decoration:none;white-space:nowrap\\'><br></span></td><td align=right><span style=\\'color:blue\\'><b> Nil </b></span><span style=\\'color:brown;font-size:70%;text-decoration:none;white-space:nowrap\\'><br></span></td><td align=right><span style=\\'color:blue\\'><b> Nil </b></span><span style=\\'color:brown;font-size:70%;text-decoration:none;white-space:nowrap\\'><br></span></td> <td align=right><span style=\\'color:purple\\'><b> Rs&nbsp;21,75,500 </b></span><span style=\\'color:brown;font-size:70%;text-decoration:none;white-space:nowrap\\'><br>21&nbsp;Lacs+</span></td></tr>\\r\\n\\t</table><p><small style=\\'color:#FF0000\\'>Disclaimer: This information is an archive of the candidate\\'s self-declared affidavit that was filed during the elections. The current status of this information may be different. For the latest available information, please refer to the affidavit filed by the candidate to the Election Commission in the most recent election.</small></p>\\t<b>Data Readability Report of Movable Assets :</b>No Problems in Reading Affidavit Information\\t<a name=immovable_assets>\\r\\n\\t<h3 class=\\'title blue\\'>Details of Immovable Assets</h2>\\r\\n\\t<table width = 95% cellpadding=1 class=table1 border=1>\\r\\n\\t<tr><td>Sr No</td><td>Description</td><td align=right>self</td><td align=right>spouse</td><td align=right>dependent1</td><td align=right>dependent2</td><td align=right>dependent3</td></tr>\\r\\n\\t<tr valign=top><td>i</td><td>Agricultural Land</td><td  align=right>Nil</td><td  align=right>Nil</td><td  align=right>Nil</td><td  align=right>Nil</td><td  align=right>Nil</td><td align=right><span style=\\'color:black\\'><b> Nil </b></span><span style=\\'color:brown;font-size:70%;text-decoration:none;white-space:nowrap\\'><br></span></td></tr>\\r\\n\\t<tr valign=top><td>ii</td><td>Non Agricultural Land</td><td  align=right>Nil</td><td  align=right>Nil</td><td  align=right>Nil</td><td  align=right>Nil</td><td  align=right>Nil</td><td align=right><span style=\\'color:black\\'><b> Nil </b></span><span style=\\'color:brown;font-size:70%;text-decoration:none;white-space:nowrap\\'><br></span></td></tr>\\r\\n\\t<tr valign=top><td>iii</td><td>Commercial Buildings</td><td  align=right>Nil</td><td  align=right>Nil</td><td  align=right>Nil</td><td  align=right>Nil</td><td  align=right>Nil</td><td align=right><span style=\\'color:black\\'><b> Nil </b></span><span style=\\'color:brown;font-size:70%;text-decoration:none;white-space:nowrap\\'><br></span></td></tr>\\r\\n\\t<tr valign=top><td>iv</td><td>Residential Buildings</td><td  align=right><span class=desc>Venktesapuram451/6</span><br> \\r\\n\\t\\t\\t\\t\\t<span class=desc>Total Area</span> <span class=immov>2616sqft</span> <br>\\r\\n\\t\\t\\t\\t\\t<span class=desc>Built Up Area </span><span class=immov>3805sqft</span> <br>\\r\\n\\t\\t\\t\\t\\t<span class=desc>Whether Inherited </span><span class=immov>N</span> <br>\\r\\n\\t\\t\\t\\t\\t<span class=desc>Purchase Date </span><span class=immov>2010-11-01</span> <br>\\r\\n\\t\\t\\t\\t\\t<span class=desc>Purchase Cost </span><span class=immov>344800.00</span> <br>\\r\\n\\t\\t\\t\\t\\t<span class=desc>Development Cost</span> <span class=immov>4400000.00</span><br> 60,00,000&nbsp;<span style=\\'color:brown;font-size:70%;text-decoration:none;white-space:nowrap\\'>&nbsp;60&nbsp;Lacs+</span> <br><br></td><td  align=right>Nil</td><td  align=right>Nil</td><td  align=right>Nil</td><td  align=right>Nil</td><td align=right><span style=\\'color:black\\'><b> Rs&nbsp;60,00,000 </b></span><span style=\\'color:brown;font-size:70%;text-decoration:none;white-space:nowrap\\'><br>60&nbsp;Lacs+</span></td></tr>\\r\\n\\t<tr valign=top><td>v</td><td>Others</td><td  align=right>Nil</td><td  align=right>Nil</td><td  align=right>Nil</td><td  align=right>Nil</td><td  align=right>Nil</td><td align=right><span style=\\'color:black\\'><b> Nil </b></span><span style=\\'color:brown;font-size:70%;text-decoration:none;white-space:nowrap\\'><br></span></td></tr>\\r\\n\\t<tr valign=top><td colspan=2>Total Current Market Value of (i) to (v) (as per Affidavit)</td> <td  align=right><a name=immovabletotal></a> Nil</td><td  align=right><a name=immovabletotal></a> Nil</td><td  align=right><a name=immovabletotal></a> Nil</td><td  align=right><a name=immovabletotal></a> Nil</td><td  align=right><a name=immovabletotal></a> Nil</td><td align=right><span style=\\'color:green\\'><b> Nil </b></span><span style=\\'color:brown;font-size:70%;text-decoration:none;white-space:nowrap\\'><br></span></td> </tr>\\r\\n\\t<tr valign=top><td colspan=2>Totals Calculated</td> <td align=right><span style=\\'color:blue\\'><b> Rs&nbsp;60,00,000 </b></span><span style=\\'color:brown;font-size:70%;text-decoration:none;white-space:nowrap\\'><br>60&nbsp;Lacs+</span></td><td align=right><span style=\\'color:blue\\'><b> Nil </b></span><span style=\\'color:brown;font-size:70%;text-decoration:none;white-space:nowrap\\'><br></span></td><td align=right><span style=\\'color:blue\\'><b> Nil </b></span><span style=\\'color:brown;font-size:70%;text-decoration:none;white-space:nowrap\\'><br></span></td><td align=right><span style=\\'color:blue\\'><b> Nil </b></span><span style=\\'color:brown;font-size:70%;text-decoration:none;white-space:nowrap\\'><br></span></td><td align=right><span style=\\'color:blue\\'><b> Nil </b></span><span style=\\'color:brown;font-size:70%;text-decoration:none;white-space:nowrap\\'><br></span></td> <td align=right><span style=\\'color:purple\\'><b> Rs&nbsp;60,00,000 </b></span><span style=\\'color:brown;font-size:70%;text-decoration:none;white-space:nowrap\\'><br>60&nbsp;Lacs+</span></td></tr>\\r\\n\\t\\r\\n\\t</table><p><small style=\\'color:#FF0000\\'>Disclaimer: This information is an archive of the candidate\\'s self-declared affidavit that was filed during the elections. The current status of this information may be different. For the latest available information, please refer to the affidavit filed by the candidate to the Election Commission in the most recent election.</small></p>\\t<b>Data Readability Report of Immovable Assets :</b>No Problems in Reading Affidavit Information\\t<a name=liabilities>\\r\\n\\t<h3 class=\\'title blue\\'>Details of Liabilities</h3>\\r\\n\\t<table width = 95% cellpadding=1 border=1 class=table1>\\r\\n\\t<tr><td>Sr No</td><td>Description</td><td align=right>self</td><td align=right>spouse</td><td align=right>dependent1</td><td align=right>dependent2</td><td align=right>dependent3</td></tr>\\r\\n\\t<tr valign=top><td rowspan=4>i</td><td>Loans from Banks / FIs</td><td  align=right><span class=desc>Sundram Finance</span><br>  3,40,000&nbsp;<span style=\\'color:brown;font-size:70%;text-decoration:none;white-space:nowrap\\'>&nbsp;3&nbsp;Lacs+</span> <br><br></td><td  align=right>Nil</td><td  align=right>Nil</td><td  align=right>Nil</td><td  align=right>Nil</td><td align=right><span style=\\'color:black\\'><b> Rs&nbsp;3,40,000 </b></span><span style=\\'color:brown;font-size:70%;text-decoration:none;white-space:nowrap\\'><br>3&nbsp;Lacs+</span></td></tr>\\r\\n\\t<tr valign=top><td>Loans due to Individual / Entity</td><td  align=right>Nil</td><td  align=right>Nil</td><td  align=right>Nil</td><td  align=right>Nil</td><td  align=right>Nil</td><td align=right><span style=\\'color:black\\'><b> Nil </b></span><span style=\\'color:brown;font-size:70%;text-decoration:none;white-space:nowrap\\'><br></span></td></tr>\\r\\n\\t<tr valign=top><td>Any other Liability</td><td  align=right>Nil</td><td  align=right>Nil</td><td  align=right>Nil</td><td  align=right>Nil</td><td  align=right>Nil</td><td align=right><span style=\\'color:black\\'><b> Nil </b></span><span style=\\'color:brown;font-size:70%;text-decoration:none;white-space:nowrap\\'><br></span></td></tr>\\r\\n\\t<tr valign=top><td>Grand Total of Liabilities (as per affidavit)</td><td  align=right><a name=liabilitiestotal></a> 3,40,000&nbsp;<span style=\\'color:brown;font-size:70%;text-decoration:none;white-space:nowrap\\'>&nbsp;3&nbsp;Lacs+</span></td><td  align=right><a name=liabilitiestotal></a> Nil</td><td  align=right><a name=liabilitiestotal></a> Nil</td><td  align=right><a name=liabilitiestotal></a> Nil</td><td  align=right><a name=liabilitiestotal></a> Nil</td><td align=right><span style=\\'color:green\\'><b> Rs&nbsp;3,40,000 </b></span><span style=\\'color:brown;font-size:70%;text-decoration:none;white-space:nowrap\\'><br>3&nbsp;Lacs+</span></td></tr>\\r\\n\\t\\r\\n\\t\\r\\n\\t\\r\\n\\t<tr valign=top><td rowspan=11>ii</td><td>Dues to departments dealing with government accommodation</td><td  align=right>Nil</td><td  align=right>Nil</td><td  align=right>Nil</td><td  align=right>Nil</td><td  align=right>Nil</td><td align=right><span style=\\'color:black\\'><b> Nil </b></span><span style=\\'color:brown;font-size:70%;text-decoration:none;white-space:nowrap\\'><br></span></td></tr>\\r\\n\\t<tr valign=top><td>Dues to departments dealing with supply of water</td><td  align=right>Nil</td><td  align=right>Nil</td><td  align=right>Nil</td><td  align=right>Nil</td><td  align=right>Nil</td><td align=right><span style=\\'color:black\\'><b> Nil </b></span><span style=\\'color:brown;font-size:70%;text-decoration:none;white-space:nowrap\\'><br></span></td></tr>\\r\\n\\t<tr valign=top><td>Dues to departments dealing with supply of electricity</td><td  align=right>Nil</td><td  align=right>Nil</td><td  align=right>Nil</td><td  align=right>Nil</td><td  align=right>Nil</td><td align=right><span style=\\'color:black\\'><b> Nil </b></span><span style=\\'color:brown;font-size:70%;text-decoration:none;white-space:nowrap\\'><br></span></td></tr>\\r\\n\\t<tr valign=top><td>Dues to departments dealing with telephones</td><td  align=right>Nil</td><td  align=right>Nil</td><td  align=right>Nil</td><td  align=right>Nil</td><td  align=right>Nil</td><td align=right><span style=\\'color:black\\'><b> Nil </b></span><span style=\\'color:brown;font-size:70%;text-decoration:none;white-space:nowrap\\'><br></span></td></tr>\\r\\n\\t<tr valign=top><td>Dues to departments dealing with supply of transport</td><td  align=right>Nil</td><td  align=right>Nil</td><td  align=right>Nil</td><td  align=right>Nil</td><td  align=right>Nil</td><td align=right><span style=\\'color:black\\'><b> Nil </b></span><span style=\\'color:brown;font-size:70%;text-decoration:none;white-space:nowrap\\'><br></span></td></tr>\\r\\n\\t<tr valign=top><td>Income Tax Dues</td><td  align=right>Nil</td><td  align=right>Nil</td><td  align=right>Nil</td><td  align=right>Nil</td><td  align=right>Nil</td><td align=right><span style=\\'color:black\\'><b> Nil </b></span><span style=\\'color:brown;font-size:70%;text-decoration:none;white-space:nowrap\\'><br></span></td></tr>\\r\\n\\t<tr valign=top><td>Wealth Tax Dues</td><td  align=right>Nil</td><td  align=right>Nil</td><td  align=right>Nil</td><td  align=right>Nil</td><td  align=right>Nil</td><td align=right><span style=\\'color:black\\'><b> Nil </b></span><span style=\\'color:brown;font-size:70%;text-decoration:none;white-space:nowrap\\'><br></span></td></tr>\\r\\n\\t<tr valign=top><td>Service Tax Dues</td><td  align=right>Nil</td><td  align=right>Nil</td><td  align=right>Nil</td><td  align=right>Nil</td><td  align=right>Nil</td><td align=right><span style=\\'color:black\\'><b> Nil </b></span><span style=\\'color:brown;font-size:70%;text-decoration:none;white-space:nowrap\\'><br></span></td></tr>\\r\\n\\t<tr valign=top><td>Property Tax Dues</td><td  align=right>Nil</td><td  align=right>Nil</td><td  align=right>Nil</td><td  align=right>Nil</td><td  align=right>Nil</td><td align=right><span style=\\'color:black\\'><b> Nil </b></span><span style=\\'color:brown;font-size:70%;text-decoration:none;white-space:nowrap\\'><br></span></td></tr>\\r\\n\\t<tr valign=top><td>Sales Tax Dues</td><td  align=right>Nil</td><td  align=right>Nil</td><td  align=right>Nil</td><td  align=right>Nil</td><td  align=right>Nil</td><td align=right><span style=\\'color:black\\'><b> Nil </b></span><span style=\\'color:brown;font-size:70%;text-decoration:none;white-space:nowrap\\'><br></span></td></tr>\\r\\n\\t<tr valign=top><td>Any Other Dues</td><td  align=right>Nil</td><td  align=right>Nil</td><td  align=right>Nil</td><td  align=right>Nil</td><td  align=right>Nil</td><td align=right><span style=\\'color:black\\'><b> Nil </b></span><span style=\\'color:brown;font-size:70%;text-decoration:none;white-space:nowrap\\'><br></span></td></tr>\\r\\n\\t<tr valign=top><td >iii</td><td>Grand Total of all Govt Dues (as per affidavit)</td><td  align=right><a name=duestotal></a> Nil</td><td  align=right><a name=duestotal></a> Nil</td><td  align=right><a name=duestotal></a> Nil</td><td  align=right><a name=duestotal></a> Nil</td><td  align=right><a name=duestotal></a> Nil</td><td align=right><span style=\\'color:green\\'><b> Nil </b></span><span style=\\'color:brown;font-size:70%;text-decoration:none;white-space:nowrap\\'><br></span></td></tr>\\r\\n\\t<tr valign=top><td rowspan=2>iv</td><td>Whether any other liabilities are in dispute, if so, mention the amount involved and the authority before which it is pending</td><td  align=right>Nil</td><td  align=right>Nil</td><td  align=right>Nil</td><td  align=right>Nil</td><td  align=right>Nil</td><td align=right><span style=\\'color:black\\'><b> Nil </b></span><span style=\\'color:brown;font-size:70%;text-decoration:none;white-space:nowrap\\'><br></span></td></tr>\\r\\n\\t<tr valign=top><td>Totals (Calculated as Sum of Values)</td> <td align=right><span style=\\'color:blue\\'><b> Rs&nbsp;3,40,000 </b></span><span style=\\'color:brown;font-size:70%;text-decoration:none;white-space:nowrap\\'><br>3&nbsp;Lacs+</span></td><td align=right><span style=\\'color:blue\\'><b> Nil </b></span><span style=\\'color:brown;font-size:70%;text-decoration:none;white-space:nowrap\\'><br></span></td><td align=right><span style=\\'color:blue\\'><b> Nil </b></span><span style=\\'color:brown;font-size:70%;text-decoration:none;white-space:nowrap\\'><br></span></td><td align=right><span style=\\'color:blue\\'><b> Nil </b></span><span style=\\'color:brown;font-size:70%;text-decoration:none;white-space:nowrap\\'><br></span></td><td align=right><span style=\\'color:blue\\'><b> Nil </b></span><span style=\\'color:brown;font-size:70%;text-decoration:none;white-space:nowrap\\'><br></span></td> <td align=right><span style=\\'color:purple\\'><b> Rs&nbsp;3,40,000 </b></span><span style=\\'color:brown;font-size:70%;text-decoration:none;white-space:nowrap\\'><br>3&nbsp;Lacs+</span></td></tr>\\r\\n\\t</table>\\r\\n<p><small style=\\'color:#FF0000\\'>Disclaimer: This information is an archive of the candidate\\'s self-declared affidavit that was filed during the elections. The current status of this information may be different. For the latest available information, please refer to the affidavit filed by the candidate to the Election Commission in the most recent election.</small></p>\\t<b>Data Readability Report of Liabilities :</b>No Problems in Reading Affidavit Information\\n\\t\\t\\n\\t\\t<div style=\"width:100%;border:1px solid #E0E0E0;background:#F1F1F1;\">\\n\\t<h3>If you notice any discrepancy between affidavits and our data, you can use the message box below to send a message to us.</h3>\\n\\t<p><b>( &#2351;&#2342;&#2367; &#2310;&#2346; &#2361;&#2354;&#2347;&#2344;&#2366;&#2350;&#2379;&#2306; &#2324;&#2352; &#2311;&#2360; &#2346;&#2375;&#2332; &#2346;&#2352; &#2342;&#2368; &#2327;&#2351;&#2368; &#2332;&#2366;&#2344;&#2325;&#2366;&#2352;&#2368; &#2325;&#2375; &#2348;&#2368;&#2330; &#2325;&#2379;&#2312; &#2357;&#2367;&#2360;&#2306;&#2327;&#2340;&#2367;/&#2349;&#2367;&#2344;&#2381;&#2344;&#2340;&#2366; &#2346;&#2366;&#2340;&#2375; &#2361;&#2376; &#2340;&#2379; &#2310;&#2346; &#2344;&#2368;&#2330;&#2375; &#2325;&#2375; &#2360;&#2306;&#2342;&#2375;&#2358; &#2348;&#2377;&#2325;&#2381;&#2360; &#2325;&#2375; &#2313;&#2346;&#2351;&#2379;&#2327; &#2360;&#2375; &#2361;&#2350;&#2375;&#2306; &#2360;&#2306;&#2342;&#2375;&#2358; &#2349;&#2375;&#2332; &#2360;&#2325;&#2340;&#2375; &#2361;&#2376;&#2306;)</b></p>\\n\\t<form  name=form1 action=#discrepancyResult method=post >\\n\\t<input type=hidden name=action value=notify_discrepancy>\\n\\t<input type=hidden name=candidate_id value = 7120>\\n        <input type=hidden name=candidate_name value = \\'Abdul Rahman, R.\\'>\\n        <input type=hidden name=cons_id value = \\'PERAMBALUR\\'>\\n        <a name=\"discrepancyResult\"> </a>\\n\\t<div class=\\'grid_3\\' >\\n        <b>Name&nbsp;&nbsp;&nbsp;&nbsp;&nbsp;&nbsp;&nbsp;       :</b><br><input type=text name=dname value = \\'\\'><br>\\n\\n        <b>Email&nbsp;&nbsp;&nbsp;&nbsp;&nbsp;&nbsp;&nbsp;      :</b><br><input type=text name=demail value = \\'\\'><br>\\n\\n        <b>Phone No   :</b><br><input type=text name=dpno value = \\'\\'><br></div><div class=\\'grid_5\\'>\\n      <b>Enter your discrepancy&nbsp;&nbsp;&nbsp;&nbsp;&nbsp;&nbsp;&nbsp;: </b><br>\\n\\t<textarea name=discrepancy cols=60 rows=7 ></textarea><br></div><div class=\"clearfix\"></div>\\n\\t<div>\\n     \\t <p>Please enter the code shown below and click Submit.  <br>\\n       <p><img src=\"http://myneta.info/imagebuilder.php\" border=\"1\"> <br>\\n      <input name=\"userstring\" type=\"text\" value=\"\"><input type=submit onclick=\"return confirmation();\" value = submit class=\\'btn primary\\'></p>\\n\\n\\t</form>\\n\\t</div>\\n\\t</div>\\n\\t\\t\\t\\t\\t\\t\\t</div>\\n\\t\\t\\t\\t\\t\\t\\t<div class=\"grid_3\" xmlns=\"http://www.w3.org/1999/html\">\\n\\t\\t\\t\\t\\t\\t\\t <!--\\t<h3 class=\"title blue first\">ADR-Facebook Initiative</h3>\\n\\t\\t\\t\\t\\t\\t\\t\\t<a href=\\'http://adrindia.org/content/adr-and-facebook-join-hands-provide-information-%E2%80%98know-your-neta%E2%80%99-mobiles-free-dial-32535\\' target=_blank><img src=\"/lib/img/campaign.png\"></a><hr> -->\\n    \\t\\t\\t\\t\\t\\t    <h3 class=\"title\">Find us on facebook</h3>\\n\\t\\t\\t\\t\\t\\t\\t\\t<div class=\"fb-plugin-container\">\\n        \\t\\t\\t\\t\\t\\t\\t<div class=\"fb-like-box\" data-href=\"http://www.facebook.com/myneta.info\" data-border-color=\"#ffffff\" data-width=\"250\" data-show-faces=\"true\" data-stream=\"false\" data-header=\"false\" show-border=\"false\"></div>\\n    \\t\\t\\t\\t\\t\\t\\t</div>\\n\\t\\t\\t\\t\\t\\t\\t\\t<h3 class=\"title\">Myneta Android App</h3>\\n\\t\\t\\t\\t\\t\\t\\t\\t<a href=\"https://play.google.com/store/apps/details?id=com.webrosoft.myneta1\" target=_blank><img src=\"/lib/img/Myneta.app.png\"></a>\\n \\t\\t\\t\\t\\t\\t\\t    <h3 class=\"title\">HelpLine &amp; SMS</h3>\\n\\t\\t\\t\\t\\t\\t\\t    <p>You can get complete details of your Neta by calling us at 1800-110-440 or sending SMS at 9246556070. For more details <a href=\"http://adrindia.org/media/helpline-sms\" target=_blank>click here</a>.</p>\\n\\t\\t\\t\\t\\t\\t\\t\\t<h3 class=\"title purple\">Connect with us</h3>\\n\\t\\t\\t\\t\\t\\t\\t\\t<div id=\"fb-root\"></div>\\n   \\t \\t\\t\\t\\t\\t\\t\\t<script>(function (d, s, id) {\\n        \\t\\t\\t\\t\\t\\t\\tvar js, fjs = d.getElementsByTagName(s)[0];\\n        \\t\\t\\t\\t\\t\\t\\tif (d.getElementById(id)) return;\\n        \\t\\t\\t\\t\\t\\t\\tjs = d.createElement(s);\\n        \\t\\t\\t\\t\\t\\t\\tjs.id = id;\\n        \\t\\t\\t\\t\\t\\t\\tjs.src = \"//connect.facebook.net/en_GB/all.js#xfbml=1\";\\n        \\t\\t\\t\\t\\t\\t\\tfjs.parentNode.insertBefore(js, fjs);\\n    \\t\\t\\t\\t\\t\\t\\t\\t}(document, \\'script\\', \\'facebook-jssdk\\'));</script>\\n\\t\\t\\t\\t\\t\\t\\t    <div class=\"social-icon\">\\n        \\t\\t\\t\\t\\t\\t\\t<a target=\"_blank\" title=\"Connect with us on Facebook\" href=\"http://facebook.com/myneta.info\"><img src=\"/lib/img/facebook.png\" alt=\"Facebook Page\"> </a>\\n        \\t\\t\\t\\t\\t\\t\\t<a target=\"_blank\" title=\"Connect with us on Twitter\" href=\"http://twitter.com/adrspeaks\"><img src=\"/lib/img/twitter.png\" alt=\"Twitter\"></a>\\n        \\t\\t\\t\\t\\t\\t\\t<a target=\"_blank\" title=\"Be a part of our Google Group\" href=\"https://groups.google.com/group/national-election-watch?hl=en&pli=1\"><img src=\"/lib/img/google.png\" alt=\"Google newsletter\"></a>\\n\\t\\t\\t\\t\\t\\t\\t        <div class=\"fb-like\" data-href=\"http://facebook.com/myneta.info\" data-send=\"false\" data-layout=\"button_count\"  data-show-faces=\"false\"></div>\\n\\t\\t\\t\\t\\t\\t\\t    </div>\\n\\t\\t\\t\\t\\t\\t\\t    <div class=\"newsletter-form\">For news alert,enter your email id\\n        \\t\\t\\t\\t\\t\\t\\t<form action=\"http://groups.google.com/group/national-election-watch/boxsubscribe\" target=\"_blank\">\\n            \\t\\t\\t\\t\\t\\t\\t<input type=\"text\" id=\"tb-email-gg\" name=\"email\" value=\"\" placeholder=\"email-id to subscribe\">\\n            \\t\\t\\t\\t\\t\\t\\t<input type=\"submit\" value=\"Join\">\\n        \\t\\t\\t\\t\\t\\t\\t</form>\\n   \\t\\t\\t\\t\\t\\t\\t\\t</div>\\n\\t\\t\\t\\t\\t\\t\\t</div>\\n\\t\\t\\t\\t\\t    </div>\\n\\t\\t\\t\\t\\t</div>\\n\\t\\t\\t\\n\\t\\t\\t\\t\\t<!--Footer Area-->\\n\\t\\t\\t\\t\\t<div class=\"footer\">\\n\\t\\t\\t\\t\\t\\t<div class=\"container_12\">\\n\\t\\t\\t\\t\\t    \\t<div class=\"grid_12\">\\n\\t\\t\\t\\t\\t            <p> <b>Disclaimer: </b> The primary source for the data used for these reports is the sworn affidavits provided by the candidates themselves. Sheer volume of data that has to be read from the affidavits that are often poorly scanned and the lightening speed at which these reports have to be brought out makes it quite difficult to ensure accuracy of every bit of data. In case of any discrepancy in our reports vis a vis the original affidavit of any candidate, the original affidavit should be considered accurate. If you notice any discrepancies between affidavit and our report kindly let us know and we will fix them on our end as soon as possible.\\n\\t\\t\\t\\t\\t           </p>\\n\\t\\t\\t\\t\\t        </div>\\n\\t\\t\\t\\t\\t\\t</div>\\n\\t\\t\\t\\t\\t</div>\\n\\t\\t\\t\\t\\t<p align=\"center\">Technology Powered by <a href=\"http://www.webrosoft.com/\" target=\"_blank\">Webrosoft</a></p>\\n\\t\\t\\t\\t</body>\\n\\t\\t\\t</html>'"
      ]
     },
     "execution_count": 13,
     "metadata": {},
     "output_type": "execute_result"
    }
   ],
   "source": [
    "ex = data['http://myneta.info/ls2014/candidate.php?candidate_id=7120']"
   ]
  },
  {
   "cell_type": "markdown",
   "metadata": {},
   "source": [
    "The following function gets the information from the text. Returns de information in each text as a dictionary"
   ]
  },
  {
   "cell_type": "code",
   "execution_count": 21,
   "metadata": {
    "collapsed": false
   },
   "outputs": [],
   "source": [
    "def get_info_2014(text):\n",
    "    dic = {}\n",
    "    soup = BeautifulSoup(text, \"html.parser\")\n",
    "    for  r in soup.findAll(\"a\"):\n",
    "        try:\n",
    "            if r['name'] == \"liabilities\":\n",
    "                table = r\n",
    "                for r in table.findAll('td'):\n",
    "                    try:\n",
    "\n",
    "                        if r.get_text()==\"Loans from Banks / FIs\":\n",
    "                            dic[\"Loans from Banks / FIs\"] = r.findNext('b').get_text()\n",
    "\n",
    "                        if r.get_text()==\"Loans due to Individual / Entity\":\n",
    "                            dic[\"Loans due to Individual / Entity\"] = r.findNext('b').get_text()\n",
    "\n",
    "                        if r.get_text()==\"Any other Liability\":\n",
    "                            dic[\"Any other Liability\"] = r.findNext('b').get_text()\n",
    "\n",
    "                        if r.get_text()==\"Grand Total of Liabilities (as per affidavit)\":\n",
    "                            dic[\"Grand Total of Liabilities (as per affidavit)\"] = r.findNext('b').get_text()\n",
    "\n",
    "                        if r.get_text()==\"Dues to departments dealing with government accommodation\":\n",
    "                            dic[\"Dues to departments dealing with government accommodation\"] = r.findNext('b').get_text()\n",
    "\n",
    "                        if r.get_text()==\"Dues to departments dealing with supply of water\":\n",
    "                            dic[\"Dues to departments dealing with supply of water\"] = r.findNext('b').get_text()\n",
    "\n",
    "                        if r.get_text()==\"Dues to departments dealing with supply of electricity\":\n",
    "                            dic[\"Dues to departments dealing with supply of electricity\"] = r.findNext('b').get_text()\n",
    "\n",
    "                        if r.get_text()==\"Dues to departments dealing with telephones\":\n",
    "                            dic[\"Dues to departments dealing with telephones\"] = r.findNext('b').get_text()\n",
    "\n",
    "                        if r.get_text()==\"Dues to departments dealing with supply of transport\":\n",
    "                            dic[\"Dues to departments dealing with supply of transport\"] = r.findNext('b').get_text()\n",
    "\n",
    "                        if r.get_text()==\"Income Tax Dues\":\n",
    "                            dic[\"Income Tax Dues\"] = r.findNext('b').get_text()\n",
    "\n",
    "                        if r.get_text()==\"Wealth Tax Dues\":\n",
    "                            dic[\"Wealth Tax Dues\"] = r.findNext('b').get_text()\n",
    "\n",
    "                        if r.get_text()==\"Service Tax Dues\":\n",
    "                            dic[\"Service Tax Dues\"] = r.findNext('b').get_text()\n",
    "\n",
    "                        if r.get_text()==\"Property Tax Dues\":\n",
    "                            dic[\"Property Tax Dues\"] = r.findNext('b').get_text()\n",
    "\n",
    "                        if r.get_text()==\"Sales Tax Dues\":\n",
    "                            dic[\"Sales Tax Dues\"] = r.findNext('b').get_text()\n",
    "\n",
    "                        if r.get_text()==\"Any Other Dues\":\n",
    "                            dic[\"Any Other Dues\"] = r.findNext('b').get_text()\n",
    "\n",
    "                        if r.get_text()==\"Grand Total of all Govt Dues (as per affidavit)\":\n",
    "                            dic[\"Grand Total of all Govt Dues (as per affidavit)\"] = r.findNext('b').get_text()\n",
    "\n",
    "                        if r.get_text()==\"Whether any other liabilities are in dispute, if so, mention the amount involved and the authority before which it is pending\":\n",
    "                            dic[\"Whether any other liabilities are in dispute, if so, mention the amount involved and the authority before which it is pending\"] = r.findNext('b').get_text()\n",
    "\n",
    "                        if r.get_text()==\"Totals (Calculated as Sum of Values)\":\n",
    "                            dic[\"Totals (Calculated as Sum of Values)\"] = r.findNext('b').get_text()\n",
    "                    except:\n",
    "                        pass\n",
    "        except:\n",
    "            pass\n",
    "    return dic"
   ]
  },
  {
   "cell_type": "markdown",
   "metadata": {},
   "source": [
    "Testing the example"
   ]
  },
  {
   "cell_type": "code",
   "execution_count": 34,
   "metadata": {
    "collapsed": false
   },
   "outputs": [
    {
     "data": {
      "text/plain": [
       "{'Any Other Dues': u' Nil ',\n",
       " 'Any other Liability': u' Nil ',\n",
       " 'Dues to departments dealing with government accommodation': u' Nil ',\n",
       " 'Dues to departments dealing with supply of electricity': u' Nil ',\n",
       " 'Dues to departments dealing with supply of transport': u' Nil ',\n",
       " 'Dues to departments dealing with supply of water': u' Nil ',\n",
       " 'Dues to departments dealing with telephones': u' Nil ',\n",
       " 'Grand Total of Liabilities (as per affidavit)': u' Rs\\xa03,40,000 ',\n",
       " 'Grand Total of all Govt Dues (as per affidavit)': u' Nil ',\n",
       " 'Income Tax Dues': u' Nil ',\n",
       " 'Loans due to Individual / Entity': u' Nil ',\n",
       " 'Loans from Banks / FIs': u' Rs\\xa03,40,000 ',\n",
       " 'Property Tax Dues': u' Nil ',\n",
       " 'Sales Tax Dues': u' Nil ',\n",
       " 'Service Tax Dues': u' Nil ',\n",
       " 'Totals (Calculated as Sum of Values)': u' Rs\\xa03,40,000 ',\n",
       " 'Wealth Tax Dues': u' Nil ',\n",
       " 'Whether any other liabilities are in dispute, if so, mention the amount involved and the authority before which it is pending': u' Nil '}"
      ]
     },
     "execution_count": 34,
     "metadata": {},
     "output_type": "execute_result"
    }
   ],
   "source": [
    "get_info_2014(ex)"
   ]
  },
  {
   "cell_type": "markdown",
   "metadata": {},
   "source": [
    "The following function cleans the dictionary. Numbers are in weird format, this function converts them from string into numbers"
   ]
  },
  {
   "cell_type": "code",
   "execution_count": 213,
   "metadata": {
    "collapsed": false
   },
   "outputs": [],
   "source": [
    "def clean_dic_2014(dic):\n",
    "    for k in dic.keys():\n",
    "        if dic[k]==' Nil ':\n",
    "            dic[k]= np.nan\n",
    "        else:\n",
    "            try:\n",
    "                tmp = unicodedata.normalize('NFKD',dic[k]).encode('ascii','ignore').split('Rs')[1].strip()\n",
    "                dic[k] = locale.atof(tmp)\n",
    "            except:\n",
    "                pass\n",
    "    return dic"
   ]
  },
  {
   "cell_type": "markdown",
   "metadata": {},
   "source": [
    "This is an example on dictionary cleaning"
   ]
  },
  {
   "cell_type": "code",
   "execution_count": 36,
   "metadata": {
    "collapsed": false,
    "scrolled": true
   },
   "outputs": [
    {
     "data": {
      "text/plain": [
       "{'Any Other Dues': nan,\n",
       " 'Any other Liability': nan,\n",
       " 'Dues to departments dealing with government accommodation': nan,\n",
       " 'Dues to departments dealing with supply of electricity': nan,\n",
       " 'Dues to departments dealing with supply of transport': nan,\n",
       " 'Dues to departments dealing with supply of water': nan,\n",
       " 'Dues to departments dealing with telephones': nan,\n",
       " 'Grand Total of Liabilities (as per affidavit)': 340000.0,\n",
       " 'Grand Total of all Govt Dues (as per affidavit)': nan,\n",
       " 'Income Tax Dues': nan,\n",
       " 'Loans due to Individual / Entity': nan,\n",
       " 'Loans from Banks / FIs': 340000.0,\n",
       " 'Property Tax Dues': nan,\n",
       " 'Sales Tax Dues': nan,\n",
       " 'Service Tax Dues': nan,\n",
       " 'Totals (Calculated as Sum of Values)': 340000.0,\n",
       " 'Wealth Tax Dues': nan,\n",
       " 'Whether any other liabilities are in dispute, if so, mention the amount involved and the authority before which it is pending': nan}"
      ]
     },
     "execution_count": 36,
     "metadata": {},
     "output_type": "execute_result"
    }
   ],
   "source": [
    "clean_dic_2014(get_info(ex))"
   ]
  },
  {
   "cell_type": "markdown",
   "metadata": {},
   "source": [
    "This overall loop runs through the whole text for each of the candidates. The loops takes approximately 7 minutes to run in my computer"
   ]
  },
  {
   "cell_type": "code",
   "execution_count": 31,
   "metadata": {
    "collapsed": false
   },
   "outputs": [
    {
     "name": "stdout",
     "output_type": "stream",
     "text": [
      "CPU times: user 8min 22s, sys: 12.4 s, total: 8min 35s\n",
      "Wall time: 8min 45s\n"
     ]
    }
   ],
   "source": [
    "%%time\n",
    "tmplist = []\n",
    "for k in dic2014.keys():\n",
    "    dic = get_info_2014(data[k])\n",
    "    dic['url'] = k\n",
    "    tmplist.append(clean_dic_2014(dic))\n",
    "list2014 = tmplist"
   ]
  },
  {
   "cell_type": "markdown",
   "metadata": {},
   "source": [
    "Now we get info for year 2009"
   ]
  },
  {
   "cell_type": "code",
   "execution_count": 134,
   "metadata": {
    "collapsed": true
   },
   "outputs": [],
   "source": [
    "def get_info_2009(text):\n",
    "    dic = {}\n",
    "    soup = BeautifulSoup(text, \"html.parser\")\n",
    "    for  r in soup.findAll('td'):\n",
    "        if r.get_text()==\"Loans from Banks\":\n",
    "            dic[\"Loans from Banks\"] = r.findNext('b').get_text()\n",
    "                            \n",
    "        if r.get_text()==\"Loans from Financial Institutions\":\n",
    "            dic[\"Loans from Financial Institutions\"] = r.findNext('b').get_text()\n",
    "\n",
    "        if r.get_text()==\"(a) Dues to departments dealing with government accommodation\":\n",
    "            dic[\"(a) Dues to departments dealing with government accommodation\"] = r.findNext('b').get_text()\n",
    "\n",
    "        if r.get_text()==\"(b) Dues to departments dealing with supply of water\":\n",
    "            dic[\"(b) Dues to departments dealing with supply of water\"] = r.findNext('b').get_text()\n",
    "\n",
    "        if r.get_text()==\"(c) Dues to departments dealing with supply of electricity\":\n",
    "            dic[\"(c) Dues to departments dealing with supply of electricity\"] = r.findNext('b').get_text()\n",
    "\n",
    "        if r.get_text()==\"(d) Dues to departments dealing with telephones\":\n",
    "            dic[\"(d) Dues to departments dealing with telephones\"] = r.findNext('b').get_text()\n",
    "\n",
    "        if r.get_text()==\"(e) Dues to departments dealing with supply of transport\":\n",
    "            dic[\"(e) Dues to departments dealing with supply of transport\"] = r.findNext('b').get_text()\n",
    "\n",
    "        if r.get_text()==\"(f) Other Dues if any\":\n",
    "            dic[\"(f) Other Dues if any\"] = r.findNext('b').get_text()\n",
    "\n",
    "        if r.get_text()==\"(i) (a) Income Tax including surcharge [Also indicate the assessment year upto which Income Tax Return filed.]\":\n",
    "            dic[\"(i) (a) Income Tax including surcharge [Also indicate the assessment year upto which Income Tax Return filed.]\"] = r.findNext('b').get_text()\n",
    "\n",
    "        if '(ii) Wealth Tax [Also indicate the assessment year upto which Wealth Tax return filed.]' in r.get_text():\n",
    "            dic[\"(ii) Wealth Tax [Also indicate the assessment year upto which Wealth Tax return filed.]\"] = r.findNext('b').get_text()\n",
    "        \n",
    "        if r.get_text()==\"(iii) Sales Tax [Only in case proprietary business]\":\n",
    "            dic[\"(iii) Sales Tax [Only in case proprietary business]\"] = r.findNext('b').get_text()\n",
    "        \n",
    "        if r.get_text()==\"(iv) Property Tax\":\n",
    "            dic[\"(iv) Property Tax\"] = r.findNext('b').get_text()\n",
    "        \n",
    "        if r.get_text()==\"Totals\":\n",
    "            dic[\"Totals\"] = r.findNext('b').get_text()\n",
    "    return dic"
   ]
  },
  {
   "cell_type": "code",
   "execution_count": 214,
   "metadata": {
    "collapsed": true
   },
   "outputs": [],
   "source": [
    "def clean_dic_2009(dic):\n",
    "    for k in dic.keys():\n",
    "        if dic[k]=='Nil':\n",
    "            dic[k]= np.nan\n",
    "        else:\n",
    "            try:\n",
    "                tmp = unicodedata.normalize('NFKD',dic[k]).encode('ascii','ignore').split('Rs')[1].strip()\n",
    "                dic[k] = locale.atof(tmp)\n",
    "            except:\n",
    "                pass\n",
    "    return dic"
   ]
  },
  {
   "cell_type": "code",
   "execution_count": 215,
   "metadata": {
    "collapsed": false
   },
   "outputs": [
    {
     "data": {
      "text/plain": [
       "{'(a) Dues to departments dealing with government accommodation': nan,\n",
       " '(b) Dues to departments dealing with supply of water': nan,\n",
       " '(c) Dues to departments dealing with supply of electricity': nan,\n",
       " '(d) Dues to departments dealing with telephones': nan,\n",
       " '(e) Dues to departments dealing with supply of transport': nan,\n",
       " '(f) Other Dues if any': nan,\n",
       " '(i) (a) Income Tax including surcharge [Also indicate the assessment year upto which Income Tax Return filed.]': nan,\n",
       " '(ii) Wealth Tax [Also indicate the assessment year upto which Wealth Tax return filed.]': nan,\n",
       " '(iii) Sales Tax [Only in case proprietary business]': nan,\n",
       " '(iv) Property Tax': nan,\n",
       " 'Loans from Banks': 296000.0,\n",
       " 'Loans from Financial Institutions': nan,\n",
       " 'Totals': 296000.0}"
      ]
     },
     "execution_count": 215,
     "metadata": {},
     "output_type": "execute_result"
    }
   ],
   "source": [
    "ex = dic2009['http://myneta.info/ls2009/candidate.php?candidate_id=306']\n",
    "clean_dic_2009(get_info_2009(ex))"
   ]
  },
  {
   "cell_type": "code",
   "execution_count": 216,
   "metadata": {
    "collapsed": false
   },
   "outputs": [
    {
     "name": "stdout",
     "output_type": "stream",
     "text": [
      "CPU times: user 5min 54s, sys: 7.84 s, total: 6min 2s\n",
      "Wall time: 6min 24s\n"
     ]
    }
   ],
   "source": [
    "%%time\n",
    "tmplist = []\n",
    "for k in dic2009.keys():\n",
    "    dic = get_info_2009(data[k])\n",
    "    dic['url'] = k\n",
    "    tmplist.append(clean_dic_2009(dic))\n",
    "list2009 = tmplist"
   ]
  },
  {
   "cell_type": "markdown",
   "metadata": {},
   "source": [
    "Now we do the same for year 2004"
   ]
  },
  {
   "cell_type": "code",
   "execution_count": 218,
   "metadata": {
    "collapsed": false
   },
   "outputs": [],
   "source": [
    "def get_info_2004(text):\n",
    "    dic = {}\n",
    "    soup = BeautifulSoup(text, \"html.parser\")\n",
    "    for  r in soup.findAll('td'):\n",
    "        if r.get_text()==\"Loans from Banks\":\n",
    "            dic[\"Loans from Banks\"] = r.findNext('b').get_text()\n",
    "                            \n",
    "        if r.get_text()==\"Loans from Financial Institutions\":\n",
    "            dic[\"Loans from Financial Institutions\"] = r.findNext('b').get_text()\n",
    "\n",
    "        if r.get_text()==\"(a) Dues to departments dealing with government accommodation\":\n",
    "            dic[\"(a) Dues to departments dealing with government accommodation\"] = r.findNext('b').get_text()\n",
    "\n",
    "        if r.get_text()==\"(b) Dues to departments dealing with supply of water\":\n",
    "            dic[\"(b) Dues to departments dealing with supply of water\"] = r.findNext('b').get_text()\n",
    "\n",
    "        if r.get_text()==\"(c) Dues to departments dealing with supply of electricity\":\n",
    "            dic[\"(c) Dues to departments dealing with supply of electricity\"] = r.findNext('b').get_text()\n",
    "\n",
    "        if r.get_text()==\"(d) Dues to departments dealing with telephones\":\n",
    "            dic[\"(d) Dues to departments dealing with telephones\"] = r.findNext('b').get_text()\n",
    "\n",
    "        if r.get_text()==\"(e) Dues to departments dealing with supply of transport\":\n",
    "            dic[\"(e) Dues to departments dealing with supply of transport\"] = r.findNext('b').get_text()\n",
    "\n",
    "        if r.get_text()==\"(f) Other Dues if any\":\n",
    "            dic[\"(f) Other Dues if any\"] = r.findNext('b').get_text()\n",
    "\n",
    "        if r.get_text()==\"(i) (a) Income Tax including surcharge [Also indicate the assessment year upto which Income Tax Return filed.]\":\n",
    "            dic[\"(i) (a) Income Tax including surcharge [Also indicate the assessment year upto which Income Tax Return filed.]\"] = r.findNext('b').get_text()\n",
    "\n",
    "        if '(ii) Wealth Tax [Also indicate the assessment year upto which Wealth Tax return filed.]' in r.get_text():\n",
    "            dic[\"(ii) Wealth Tax [Also indicate the assessment year upto which Wealth Tax return filed.]\"] = r.findNext('b').get_text()\n",
    "        \n",
    "        if r.get_text()==\"(iii) Sales Tax [Only in case proprietary business]\":\n",
    "            dic[\"(iii) Sales Tax [Only in case proprietary business]\"] = r.findNext('b').get_text()\n",
    "        \n",
    "        if r.get_text()==\"(iv) Property Tax\":\n",
    "            dic[\"(iv) Property Tax\"] = r.findNext('b').get_text()\n",
    "        \n",
    "        if r.get_text()==\"Totals\":\n",
    "            dic[\"Totals\"] = r.findNext('b').get_text()\n",
    "    return dic"
   ]
  },
  {
   "cell_type": "code",
   "execution_count": 257,
   "metadata": {
    "collapsed": true
   },
   "outputs": [],
   "source": [
    "def clean_dic_2004(dic):\n",
    "    for k in dic.keys():\n",
    "        if dic[k]=='Nil':\n",
    "            dic[k]= np.nan\n",
    "        else:\n",
    "            try:\n",
    "                tmp = unicodedata.normalize('NFKD',dic[k]).encode('ascii','ignore').split('Rs')[1].strip()\n",
    "                dic[k] = locale.atof(tmp)\n",
    "            except:\n",
    "                pass\n",
    "    return dic"
   ]
  },
  {
   "cell_type": "code",
   "execution_count": 258,
   "metadata": {
    "collapsed": false
   },
   "outputs": [
    {
     "data": {
      "text/plain": [
       "{'(a) Dues to departments dealing with government accommodation': nan,\n",
       " '(b) Dues to departments dealing with supply of water': nan,\n",
       " '(c) Dues to departments dealing with supply of electricity': nan,\n",
       " '(d) Dues to departments dealing with telephones': nan,\n",
       " '(e) Dues to departments dealing with supply of transport': nan,\n",
       " '(f) Other Dues if any': 156695.84,\n",
       " '(i) (a) Income Tax including surcharge [Also indicate the assessment year upto which Income Tax Return filed.]': nan,\n",
       " '(ii) Wealth Tax [Also indicate the assessment year upto which Wealth Tax return filed.]': nan,\n",
       " '(iii) Sales Tax [Only in case proprietary business]': nan,\n",
       " '(iv) Property Tax': nan,\n",
       " 'Loans from Banks': nan,\n",
       " 'Loans from Financial Institutions': nan,\n",
       " 'Totals': 156695.84}"
      ]
     },
     "execution_count": 258,
     "metadata": {},
     "output_type": "execute_result"
    }
   ],
   "source": [
    "ex = dic2004['http://myneta.info/loksabha2004/candidate.php?candidate_id=3453']\n",
    "clean_dic_2004(get_info_2004(ex))"
   ]
  },
  {
   "cell_type": "code",
   "execution_count": 259,
   "metadata": {
    "collapsed": false
   },
   "outputs": [
    {
     "name": "stdout",
     "output_type": "stream",
     "text": [
      "CPU times: user 2min 30s, sys: 3.37 s, total: 2min 33s\n",
      "Wall time: 2min 38s\n"
     ]
    }
   ],
   "source": [
    "%%time\n",
    "tmplist = []\n",
    "for k in dic2004.keys():\n",
    "    dic = get_info_2004(data[k])\n",
    "    dic['url'] = k\n",
    "    tmplist.append(clean_dic_2004(dic))\n",
    "list2004 = tmplist"
   ]
  },
  {
   "cell_type": "code",
   "execution_count": 191,
   "metadata": {
    "collapsed": false
   },
   "outputs": [
    {
     "name": "stdout",
     "output_type": "stream",
     "text": [
      "19134\n",
      "19134\n"
     ]
    }
   ],
   "source": [
    "print len(data)\n",
    "print len(list2004) + len(list2009) + len(list2014)"
   ]
  },
  {
   "cell_type": "code",
   "execution_count": 305,
   "metadata": {
    "collapsed": true
   },
   "outputs": [],
   "source": [
    "def change_dic2014(orig):\n",
    "    dic = {}\n",
    "    dic['url'] = orig['url']\n",
    "    dic['liab_banks/fis'] = orig['Loans from Banks / FIs']\n",
    "    dic['liab_accom'] = orig['Dues to departments dealing with government accommodation']\n",
    "    dic['liab_water'] = orig['Dues to departments dealing with supply of water']\n",
    "    dic['liab_elec'] = orig['Dues to departments dealing with supply of electricity']\n",
    "    dic['liab_tel'] = orig['Dues to departments dealing with telephones']\n",
    "    dic['liab_transp'] = orig['Dues to departments dealing with supply of transport']\n",
    "    dic['liab_other'] = orig['Any other Liability']\n",
    "    dic['liab_tax_income'] = orig['Income Tax Dues']\n",
    "    dic['liab_tax_wealth'] = orig['Wealth Tax Dues']\n",
    "    dic['liab_tax_sales'] = orig['Sales Tax Dues']\n",
    "    dic['liab_tax_prop'] = orig['Property Tax Dues']\n",
    "    dic['liab_total'] = orig['Totals (Calculated as Sum of Values)']\n",
    "    return dic    "
   ]
  },
  {
   "cell_type": "code",
   "execution_count": 306,
   "metadata": {
    "collapsed": false
   },
   "outputs": [],
   "source": [
    "def change_dic2009(orig):\n",
    "    dic = {}\n",
    "    dic['url'] = orig['url']\n",
    "    if np.isnan(orig['Loans from Banks']) and np.isnan(orig['Loans from Financial Institutions']):\n",
    "        dic['liab_banks/fis'] = np.nan\n",
    "    if np.isnan(orig['Loans from Banks'])==False and np.isnan(orig['Loans from Financial Institutions']):\n",
    "        dic['liab_banks/fis'] = orig['Loans from Banks']\n",
    "    if np.isnan(orig['Loans from Banks']) and np.isnan(orig['Loans from Financial Institutions'])==False:\n",
    "        dic['liab_banks/fis'] = orig['Loans from Financial Institutions']\n",
    "    dic['liab_accom'] = orig['(a) Dues to departments dealing with government accommodation']\n",
    "    dic['liab_water'] = orig['(b) Dues to departments dealing with supply of water']\n",
    "    dic['liab_elec'] = orig['(c) Dues to departments dealing with supply of electricity']\n",
    "    dic['liab_tel'] = orig['(d) Dues to departments dealing with telephones']\n",
    "    dic['liab_transp'] = orig['(e) Dues to departments dealing with supply of transport']\n",
    "    dic['liab_other'] = orig['(f) Other Dues if any']\n",
    "    dic['liab_tax_income'] = orig['(i) (a) Income Tax including surcharge [Also indicate the assessment year upto which Income Tax Return filed.]']\n",
    "    dic['liab_tax_wealth'] = orig['(ii) Wealth Tax [Also indicate the assessment year upto which Wealth Tax return filed.]']\n",
    "    dic['liab_tax_sales'] = orig['(iii) Sales Tax [Only in case proprietary business]']\n",
    "    dic['liab_tax_prop'] = orig['(iv) Property Tax']\n",
    "    dic['liab_total'] = orig['Totals']\n",
    "    return dic "
   ]
  },
  {
   "cell_type": "code",
   "execution_count": 311,
   "metadata": {
    "collapsed": true
   },
   "outputs": [],
   "source": [
    "def change_dic2004(orig):\n",
    "    dic = {}\n",
    "    dic['url'] = orig['url']\n",
    "    if np.isnan(orig['Loans from Banks']) and np.isnan(orig['Loans from Financial Institutions']):\n",
    "        dic['liab_banks/fis'] = np.nan\n",
    "    if np.isnan(orig['Loans from Banks'])==False and np.isnan(orig['Loans from Financial Institutions']):\n",
    "        dic['liab_banks/fis'] = orig['Loans from Banks']\n",
    "    if np.isnan(orig['Loans from Banks']) and np.isnan(orig['Loans from Financial Institutions'])==False:\n",
    "        dic['liab_banks/fis'] = orig['Loans from Financial Institutions']\n",
    "    dic['liab_accom'] = orig['(a) Dues to departments dealing with government accommodation']\n",
    "    dic['liab_water'] = orig['(b) Dues to departments dealing with supply of water']\n",
    "    dic['liab_elec'] = orig['(c) Dues to departments dealing with supply of electricity']\n",
    "    dic['liab_tel'] = orig['(d) Dues to departments dealing with telephones']\n",
    "    dic['liab_transp'] = orig['(e) Dues to departments dealing with supply of transport']\n",
    "    dic['liab_other'] = orig['(f) Other Dues if any']\n",
    "    dic['liab_tax_income'] = orig['(i) (a) Income Tax including surcharge [Also indicate the assessment year upto which Income Tax Return filed.]']\n",
    "    dic['liab_tax_wealth'] = orig['(ii) Wealth Tax [Also indicate the assessment year upto which Wealth Tax return filed.]']\n",
    "    dic['liab_tax_sales'] = orig['(iii) Sales Tax [Only in case proprietary business]']\n",
    "    dic['liab_tax_prop'] = orig['(iv) Property Tax']\n",
    "    dic['liab_total'] = orig['Totals']\n",
    "    return dic "
   ]
  },
  {
   "cell_type": "code",
   "execution_count": 312,
   "metadata": {
    "collapsed": false
   },
   "outputs": [
    {
     "data": {
      "text/plain": [
       "{'liab_accom': nan,\n",
       " 'liab_banks/fis': 53958644.0,\n",
       " 'liab_elec': nan,\n",
       " 'liab_other': nan,\n",
       " 'liab_tax_income': nan,\n",
       " 'liab_tax_prop': nan,\n",
       " 'liab_tax_sales': nan,\n",
       " 'liab_tax_wealth': nan,\n",
       " 'liab_tel': nan,\n",
       " 'liab_total': 53958644.0,\n",
       " 'liab_transp': nan,\n",
       " 'liab_water': nan,\n",
       " 'url': u'http://myneta.info/ls2009/candidate.php?candidate_id=587'}"
      ]
     },
     "execution_count": 312,
     "metadata": {},
     "output_type": "execute_result"
    }
   ],
   "source": [
    "change_dic2009(list2009[1000])"
   ]
  },
  {
   "cell_type": "code",
   "execution_count": 313,
   "metadata": {
    "collapsed": false
   },
   "outputs": [
    {
     "data": {
      "text/plain": [
       "{'liab_accom': nan,\n",
       " 'liab_banks/fis': 196700.0,\n",
       " 'liab_elec': nan,\n",
       " 'liab_other': nan,\n",
       " 'liab_tax_income': nan,\n",
       " 'liab_tax_prop': nan,\n",
       " 'liab_tax_sales': nan,\n",
       " 'liab_tax_wealth': nan,\n",
       " 'liab_tel': nan,\n",
       " 'liab_total': 586200.0,\n",
       " 'liab_transp': nan,\n",
       " 'liab_water': nan,\n",
       " 'url': u'http://myneta.info/ls2014/candidate.php?candidate_id=3744'}"
      ]
     },
     "execution_count": 313,
     "metadata": {},
     "output_type": "execute_result"
    }
   ],
   "source": [
    "change_dic2014(list2014[1000])"
   ]
  },
  {
   "cell_type": "code",
   "execution_count": 314,
   "metadata": {
    "collapsed": false
   },
   "outputs": [
    {
     "data": {
      "text/plain": [
       "{'liab_accom': nan,\n",
       " 'liab_banks/fis': nan,\n",
       " 'liab_elec': nan,\n",
       " 'liab_other': nan,\n",
       " 'liab_tax_income': nan,\n",
       " 'liab_tax_prop': nan,\n",
       " 'liab_tax_sales': nan,\n",
       " 'liab_tax_wealth': nan,\n",
       " 'liab_tel': nan,\n",
       " 'liab_total': nan,\n",
       " 'liab_transp': nan,\n",
       " 'liab_water': nan,\n",
       " 'url': u'http://myneta.info/loksabha2004/candidate.php?candidate_id=5103'}"
      ]
     },
     "execution_count": 314,
     "metadata": {},
     "output_type": "execute_result"
    }
   ],
   "source": [
    "change_dic2004(list2004[1000])"
   ]
  },
  {
   "cell_type": "markdown",
   "metadata": {},
   "source": [
    "Now we merge the three years into one data frame"
   ]
  },
  {
   "cell_type": "code",
   "execution_count": 315,
   "metadata": {
    "collapsed": true
   },
   "outputs": [],
   "source": [
    "allyears = []\n",
    "for dic in list2004:\n",
    "    allyears.append(change_dic2004(dic))\n",
    "for dic in list2009:\n",
    "    allyears.append(change_dic2009(dic))\n",
    "for dic in list2014:\n",
    "    allyears.append(change_dic2014(dic))\n"
   ]
  },
  {
   "cell_type": "code",
   "execution_count": 316,
   "metadata": {
    "collapsed": false
   },
   "outputs": [
    {
     "data": {
      "text/plain": [
       "19134"
      ]
     },
     "execution_count": 316,
     "metadata": {},
     "output_type": "execute_result"
    }
   ],
   "source": [
    "len(allyears)"
   ]
  },
  {
   "cell_type": "code",
   "execution_count": 324,
   "metadata": {
    "collapsed": false
   },
   "outputs": [],
   "source": [
    "liabilities = pd.DataFrame(allyears)\n",
    "liabilities.to_csv(\"liabilities.csv\", header=True, index=False)"
   ]
  },
  {
   "cell_type": "code",
   "execution_count": null,
   "metadata": {
    "collapsed": true
   },
   "outputs": [],
   "source": []
  }
 ],
 "metadata": {
  "kernelspec": {
   "display_name": "Python 2",
   "language": "python",
   "name": "python2"
  },
  "language_info": {
   "codemirror_mode": {
    "name": "ipython",
    "version": 2
   },
   "file_extension": ".py",
   "mimetype": "text/x-python",
   "name": "python",
   "nbconvert_exporter": "python",
   "pygments_lexer": "ipython2",
   "version": "2.7.10"
  }
 },
 "nbformat": 4,
 "nbformat_minor": 0
}

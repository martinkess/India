{
 "cells": [
  {
   "cell_type": "code",
   "execution_count": 1,
   "metadata": {
    "collapsed": true
   },
   "outputs": [],
   "source": [
    "%matplotlib inline\n",
    "import numpy as np\n",
    "import scipy as sp\n",
    "import matplotlib as mpl\n",
    "import matplotlib.cm as cm\n",
    "import matplotlib.pyplot as plt\n",
    "import pandas as pd\n",
    "pd.set_option('display.width', 400)\n",
    "pd.set_option('display.max_columns', 100)\n",
    "pd.set_option('display.notebook_repr_html', True)\n",
    "import seaborn as sns\n",
    "sns.set_style(\"whitegrid\")\n",
    "sns.set_context(\"poster\")"
   ]
  },
  {
   "cell_type": "code",
   "execution_count": 2,
   "metadata": {
    "collapsed": true
   },
   "outputs": [],
   "source": [
    "from bs4 import BeautifulSoup\n",
    "import urllib2\n",
    "import requests"
   ]
  },
  {
   "cell_type": "code",
   "execution_count": 5,
   "metadata": {
    "collapsed": false
   },
   "outputs": [],
   "source": [
    "import json\n",
    "with open(\"polinfo.json\") as json_file:\n",
    "    polinfo = json.load(json_file)\n",
    "    json_file.close()"
   ]
  },
  {
   "cell_type": "code",
   "execution_count": 8,
   "metadata": {
    "collapsed": false
   },
   "outputs": [
    {
     "data": {
      "text/plain": [
       "[u'candidate.php?candidate_id=4063',\n",
       " u'candidate.php?candidate_id=4062',\n",
       " u'candidate.php?candidate_id=4061',\n",
       " u'candidate.php?candidate_id=4792',\n",
       " u'candidate.php?candidate_id=4795']"
      ]
     },
     "execution_count": 8,
     "metadata": {},
     "output_type": "execute_result"
    }
   ],
   "source": [
    "polinfo.keys()[0:5]"
   ]
  },
  {
   "cell_type": "code",
   "execution_count": 367,
   "metadata": {
    "collapsed": false
   },
   "outputs": [],
   "source": [
    "#polinfo['candidate.php?candidate_id=4063']"
   ]
  },
  {
   "cell_type": "code",
   "execution_count": 368,
   "metadata": {
    "collapsed": false
   },
   "outputs": [],
   "source": [
    "soup=BeautifulSoup(polinfo['candidate.php?candidate_id=4063'],\"html.parser\")\n",
    "#print soup.prettify()"
   ]
  },
  {
   "cell_type": "code",
   "execution_count": 25,
   "metadata": {
    "collapsed": false
   },
   "outputs": [],
   "source": [
    "rows = soup.find_all(\"a\", attrs={\"name\": \"movable_assets\"})"
   ]
  },
  {
   "cell_type": "code",
   "execution_count": 227,
   "metadata": {
    "collapsed": false
   },
   "outputs": [],
   "source": [
    "soup=BeautifulSoup(polinfo['candidate.php?candidate_id=4063'],\"html.parser\")\n",
    "rows = soup.find(\"a\", attrs={\"name\": \"movable_assets\"}).find(\"table\")"
   ]
  },
  {
   "cell_type": "code",
   "execution_count": 360,
   "metadata": {
    "collapsed": false
   },
   "outputs": [
    {
     "data": {
      "text/plain": [
       "[<td><b>(b)</b><br>LIC or other insurance Policies <!--<br><span style='font-size:80%;color:yellow;background-color:red'>**Not counted in total assets</span> --></br></td>,\n",
       " <td align=\"right\"><span class=\"desc\">HDFC Life Insurance</span><br>  2,50,000\\xa0<span style=\"color:brown;font-size:70%;text-decoration:none;white-space:nowrap\">\\xa02\\xa0Lacs+</span> <br><br/></br></br></td>,\n",
       " <td align=\"right\"><span class=\"desc\">LIC Policy</span><br>  1,95,000\\xa0<span style=\"color:brown;font-size:70%;text-decoration:none;white-space:nowrap\">\\xa01\\xa0Lacs+</span> <br><br><span class=\"desc\">HDFC Life Insurance Policy</span><br>  2,50,000\\xa0<span style=\"color:brown;font-size:70%;text-decoration:none;white-space:nowrap\">\\xa02\\xa0Lacs+</span> <br><br/></br></br></br></br></br></td>,\n",
       " <td align=\"right\">Nil</td>,\n",
       " <td align=\"right\">Nil</td>,\n",
       " <td align=\"right\">Nil</td>,\n",
       " <td align=\"right\"><span style=\"color:black\"><b> Rs\\xa06,95,000 </b></span><span style=\"color:brown;font-size:70%;text-decoration:none;white-space:nowrap\"><br>6\\xa0Lacs+</br></span></td>]"
      ]
     },
     "execution_count": 360,
     "metadata": {},
     "output_type": "execute_result"
    }
   ],
   "source": [
    "list_a = rows.find_all(\"tr\", attrs={\"valign\": \"top\"})[4].find_all(\"td\")\n",
    "list_a"
   ]
  },
  {
   "cell_type": "code",
   "execution_count": 390,
   "metadata": {
    "collapsed": false
   },
   "outputs": [],
   "source": [
    "def movable_assets(info,url):\n",
    "    soup=BeautifulSoup(info[url],\"html.parser\")\n",
    "    rows = soup.find(\"a\", attrs={\"name\": \"movable_assets\"}).find(\"table\")\n",
    "   \n",
    "    poldict={'srn':[],'description':[],'self':[],'spouse':[],'dependent1':[],'dependent2':[],'dependent3':[],'total':[]}\n",
    "    \n",
    "    row_count=len(rows.find_all(\"tr\", attrs={\"valign\": \"top\"}))\n",
    "    \n",
    "    for i in range(0,row_count):\n",
    "        list_a = rows.find_all(\"tr\", attrs={\"valign\": \"top\"})[i].find_all(\"td\")\n",
    "        assets =[x.find_all(text=True,recursive=True) for x in list_a]\n",
    "        if len(assets)>7:\n",
    "            poldict['srn'].append(assets[0])\n",
    "            poldict['description'].append(assets[1])\n",
    "            poldict['self'].append(assets[2])\n",
    "            poldict['spouse'].append(assets[3])\n",
    "            poldict['dependent1'].append(assets[4])\n",
    "            poldict['dependent2'].append(assets[5])\n",
    "            poldict['dependent3'].append(assets[6])\n",
    "            poldict['total'].append(assets[7])\n",
    "        else:\n",
    "            poldict['srn'].append(\"-\")\n",
    "            poldict['description'].append(assets[0])\n",
    "            poldict['self'].append(assets[1])\n",
    "            poldict['spouse'].append(assets[2])\n",
    "            poldict['dependent1'].append(assets[3])\n",
    "            poldict['dependent2'].append(assets[4])\n",
    "            poldict['dependent3'].append(assets[5])\n",
    "            poldict['total'].append(assets[6])\n",
    "    \n",
    "    return poldict\n",
    "    "
   ]
  },
  {
   "cell_type": "code",
   "execution_count": 391,
   "metadata": {
    "collapsed": false,
    "scrolled": true
   },
   "outputs": [
    {
     "name": "stdout",
     "output_type": "stream",
     "text": [
      "error:  candidate.php?candidate_id=6112\n",
      "error:  candidate.php?candidate_id=2923\n",
      "error:  candidate.php?candidate_id=8068\n",
      "error:  candidate.php?candidate_id=1469\n",
      "error:  candidate.php?candidate_id=5058\n",
      "error:  candidate.php?candidate_id=5390\n",
      "error:  candidate.php?candidate_id=4001\n",
      "CPU times: user 27min 56s, sys: 9min 33s, total: 37min 29s\n",
      "Wall time: 57min 34s\n"
     ]
    }
   ],
   "source": [
    "%%time\n",
    "massets={}\n",
    "for url in polinfo.keys():\n",
    "    try:\n",
    "        pdict=movable_assets(polinfo,url)\n",
    "        massets[url]=pdict\n",
    "    except TypeError: \n",
    "        print \"error: \",url\n",
    "        "
   ]
  },
  {
   "cell_type": "code",
   "execution_count": 392,
   "metadata": {
    "collapsed": true
   },
   "outputs": [],
   "source": [
    "#fd=open(\"movassets.json\",\"w\")\n",
    "#json.dump(massets, fd)\n",
    "#fd.close()"
   ]
  },
  {
   "cell_type": "code",
   "execution_count": 394,
   "metadata": {
    "collapsed": false
   },
   "outputs": [
    {
     "data": {
      "text/plain": [
       "{'dependent1': [[u'Nil'],\n",
       "  [u'Nil'],\n",
       "  [u'Nil'],\n",
       "  [u'Nil'],\n",
       "  [u'Nil'],\n",
       "  [u'Nil'],\n",
       "  [u'Nil'],\n",
       "  [u'Nil'],\n",
       "  [u'Nil'],\n",
       "  [u' Nil'],\n",
       "  [u' Nil ']],\n",
       " 'dependent2': [[u'Nil'],\n",
       "  [u'Nil'],\n",
       "  [u'Nil'],\n",
       "  [u'Nil'],\n",
       "  [u'Nil'],\n",
       "  [u'Nil'],\n",
       "  [u'Nil'],\n",
       "  [u'Nil'],\n",
       "  [u'Nil'],\n",
       "  [u' Nil'],\n",
       "  [u' Nil ']],\n",
       " 'dependent3': [[u'Nil'],\n",
       "  [u'Nil'],\n",
       "  [u'Nil'],\n",
       "  [u'Nil'],\n",
       "  [u'Nil'],\n",
       "  [u'Nil'],\n",
       "  [u'Nil'],\n",
       "  [u'Nil'],\n",
       "  [u'Nil'],\n",
       "  [u' Nil'],\n",
       "  [u' Nil ']],\n",
       " 'description': [[u'Cash'],\n",
       "  [u'Deposits in Banks, Financial Institutions and Non-Banking Financial Companies'],\n",
       "  [u'Bonds, Debentures and Shares in companies'],\n",
       "  [u'(a)', u' NSS, Postal Savings etc'],\n",
       "  [u'(b)',\n",
       "   u'LIC or other insurance Policies ',\n",
       "   u\"<br><span style='font-size:80%;color:yellow;background-color:red'>**Not counted in total assets</span> \"],\n",
       "  [u'Personal loans/advance given '],\n",
       "  [u'Motor Vehicles (details of make, etc.)'],\n",
       "  [u'Jewellery (give details weight value)'],\n",
       "  [u'Other assets, such as values of claims / interests'],\n",
       "  [u'Gross Total Value (as per Affidavit)'],\n",
       "  [u'Totals (Calculated as Sum of Values)']],\n",
       " 'self': [[u'  10,000\\xa0', u'\\xa010\\xa0Thou+', u' '],\n",
       "  [u'Current A/c ', u'  3,50,000\\xa0', u'\\xa03\\xa0Lacs+', u' '],\n",
       "  [u'Nil'],\n",
       "  [u'Nil'],\n",
       "  [u'HDFC Life Insurance', u'  2,50,000\\xa0', u'\\xa02\\xa0Lacs+', u' '],\n",
       "  [u'Nil'],\n",
       "  [u'Innova PY016X2866',\n",
       "   u'  0*(Value Not Given)\\xa0',\n",
       "   u'\\xa0',\n",
       "   u' ',\n",
       "   u'Indica Car PY01T9009',\n",
       "   u'  0*(Value Not Given)\\xa0',\n",
       "   u'\\xa0',\n",
       "   u' '],\n",
       "  [u'Nil'],\n",
       "  [u'Nil'],\n",
       "  [u' 6,10,000\\xa0', u'\\xa06\\xa0Lacs+'],\n",
       "  [u' Rs\\xa06,10,000 ', u'6\\xa0Lacs+']],\n",
       " 'spouse': [[u'  10,000\\xa0', u'\\xa010\\xa0Thou+', u' '],\n",
       "  [u'Saving A/c ', u'  75,000\\xa0', u'\\xa075\\xa0Thou+', u' '],\n",
       "  [u'Nil'],\n",
       "  [u'Nil'],\n",
       "  [u'LIC Policy',\n",
       "   u'  1,95,000\\xa0',\n",
       "   u'\\xa01\\xa0Lacs+',\n",
       "   u' ',\n",
       "   u'HDFC Life Insurance Policy',\n",
       "   u'  2,50,000\\xa0',\n",
       "   u'\\xa02\\xa0Lacs+',\n",
       "   u' '],\n",
       "  [u'Nil'],\n",
       "  [u'Nil'],\n",
       "  [u'100 Grams Gold', u'  17,00,000\\xa0', u'\\xa017\\xa0Lacs+', u' '],\n",
       "  [u'Nil'],\n",
       "  [u' 22,30,000\\xa0', u'\\xa022\\xa0Lacs+'],\n",
       "  [u' Rs\\xa022,30,000 ', u'22\\xa0Lacs+']],\n",
       " 'srn': [[u'i'],\n",
       "  [u'ii'],\n",
       "  [u'iii'],\n",
       "  [u'iv'],\n",
       "  '-',\n",
       "  [u'v'],\n",
       "  [u'vi'],\n",
       "  [u'vii'],\n",
       "  [u'viii'],\n",
       "  '-',\n",
       "  '-'],\n",
       " 'total': [[u' Rs\\xa020,000 ', u'20\\xa0Thou+'],\n",
       "  [u' Rs\\xa04,25,000 ', u'4\\xa0Lacs+'],\n",
       "  [u' Nil '],\n",
       "  [u' Nil '],\n",
       "  [u' Rs\\xa06,95,000 ', u'6\\xa0Lacs+'],\n",
       "  [u' Nil '],\n",
       "  [u' Rs\\xa00 '],\n",
       "  [u' Rs\\xa017,00,000 ', u'17\\xa0Lacs+'],\n",
       "  [u' Nil '],\n",
       "  [u' Rs\\xa028,40,000 ', u'28\\xa0Lacs+'],\n",
       "  [u' Rs\\xa028,40,000 ', u'28\\xa0Lacs+']]}"
      ]
     },
     "execution_count": 394,
     "metadata": {},
     "output_type": "execute_result"
    }
   ],
   "source": [
    "massets[polinfo.keys()[0]]"
   ]
  },
  {
   "cell_type": "code",
   "execution_count": 395,
   "metadata": {
    "collapsed": false
   },
   "outputs": [
    {
     "data": {
      "text/html": [
       "<div>\n",
       "<table border=\"1\" class=\"dataframe\">\n",
       "  <thead>\n",
       "    <tr style=\"text-align: right;\">\n",
       "      <th></th>\n",
       "      <th>dependent1</th>\n",
       "      <th>dependent2</th>\n",
       "      <th>dependent3</th>\n",
       "      <th>self</th>\n",
       "      <th>spouse</th>\n",
       "      <th>srn</th>\n",
       "      <th>total</th>\n",
       "    </tr>\n",
       "    <tr>\n",
       "      <th>description</th>\n",
       "      <th></th>\n",
       "      <th></th>\n",
       "      <th></th>\n",
       "      <th></th>\n",
       "      <th></th>\n",
       "      <th></th>\n",
       "      <th></th>\n",
       "    </tr>\n",
       "  </thead>\n",
       "  <tbody>\n",
       "    <tr>\n",
       "      <th>[Cash]</th>\n",
       "      <td>[Nil]</td>\n",
       "      <td>[Nil]</td>\n",
       "      <td>[Nil]</td>\n",
       "      <td>[  10,000 ,  10 Thou+,  ]</td>\n",
       "      <td>[  10,000 ,  10 Thou+,  ]</td>\n",
       "      <td>[i]</td>\n",
       "      <td>[ Rs 20,000 , 20 Thou+]</td>\n",
       "    </tr>\n",
       "    <tr>\n",
       "      <th>[Deposits in Banks, Financial Institutions and Non-Banking Financial Companies]</th>\n",
       "      <td>[Nil]</td>\n",
       "      <td>[Nil]</td>\n",
       "      <td>[Nil]</td>\n",
       "      <td>[Current A/c ,   3,50,000 ,  3 Lacs+,  ]</td>\n",
       "      <td>[Saving A/c ,   75,000 ,  75 Thou+,  ]</td>\n",
       "      <td>[ii]</td>\n",
       "      <td>[ Rs 4,25,000 , 4 Lacs+]</td>\n",
       "    </tr>\n",
       "    <tr>\n",
       "      <th>[Bonds, Debentures and Shares in companies]</th>\n",
       "      <td>[Nil]</td>\n",
       "      <td>[Nil]</td>\n",
       "      <td>[Nil]</td>\n",
       "      <td>[Nil]</td>\n",
       "      <td>[Nil]</td>\n",
       "      <td>[iii]</td>\n",
       "      <td>[ Nil ]</td>\n",
       "    </tr>\n",
       "    <tr>\n",
       "      <th>[(a),  NSS, Postal Savings etc]</th>\n",
       "      <td>[Nil]</td>\n",
       "      <td>[Nil]</td>\n",
       "      <td>[Nil]</td>\n",
       "      <td>[Nil]</td>\n",
       "      <td>[Nil]</td>\n",
       "      <td>[iv]</td>\n",
       "      <td>[ Nil ]</td>\n",
       "    </tr>\n",
       "    <tr>\n",
       "      <th>[(b), LIC or other insurance Policies , &lt;br&gt;&lt;span style='font-size:80%;color:yellow;background-color:red'&gt;**Not counted in total assets&lt;/span&gt; ]</th>\n",
       "      <td>[Nil]</td>\n",
       "      <td>[Nil]</td>\n",
       "      <td>[Nil]</td>\n",
       "      <td>[HDFC Life Insurance,   2,50,000 ,  2 Lacs+,  ]</td>\n",
       "      <td>[LIC Policy,   1,95,000 ,  1 Lacs+,  , HDFC Li...</td>\n",
       "      <td>-</td>\n",
       "      <td>[ Rs 6,95,000 , 6 Lacs+]</td>\n",
       "    </tr>\n",
       "    <tr>\n",
       "      <th>[Personal loans/advance given ]</th>\n",
       "      <td>[Nil]</td>\n",
       "      <td>[Nil]</td>\n",
       "      <td>[Nil]</td>\n",
       "      <td>[Nil]</td>\n",
       "      <td>[Nil]</td>\n",
       "      <td>[v]</td>\n",
       "      <td>[ Nil ]</td>\n",
       "    </tr>\n",
       "    <tr>\n",
       "      <th>[Motor Vehicles (details of make, etc.)]</th>\n",
       "      <td>[Nil]</td>\n",
       "      <td>[Nil]</td>\n",
       "      <td>[Nil]</td>\n",
       "      <td>[Innova PY016X2866,   0*(Value Not Given) ,  ,...</td>\n",
       "      <td>[Nil]</td>\n",
       "      <td>[vi]</td>\n",
       "      <td>[ Rs 0 ]</td>\n",
       "    </tr>\n",
       "    <tr>\n",
       "      <th>[Jewellery (give details weight value)]</th>\n",
       "      <td>[Nil]</td>\n",
       "      <td>[Nil]</td>\n",
       "      <td>[Nil]</td>\n",
       "      <td>[Nil]</td>\n",
       "      <td>[100 Grams Gold,   17,00,000 ,  17 Lacs+,  ]</td>\n",
       "      <td>[vii]</td>\n",
       "      <td>[ Rs 17,00,000 , 17 Lacs+]</td>\n",
       "    </tr>\n",
       "    <tr>\n",
       "      <th>[Other assets, such as values of claims / interests]</th>\n",
       "      <td>[Nil]</td>\n",
       "      <td>[Nil]</td>\n",
       "      <td>[Nil]</td>\n",
       "      <td>[Nil]</td>\n",
       "      <td>[Nil]</td>\n",
       "      <td>[viii]</td>\n",
       "      <td>[ Nil ]</td>\n",
       "    </tr>\n",
       "    <tr>\n",
       "      <th>[Gross Total Value (as per Affidavit)]</th>\n",
       "      <td>[ Nil]</td>\n",
       "      <td>[ Nil]</td>\n",
       "      <td>[ Nil]</td>\n",
       "      <td>[ 6,10,000 ,  6 Lacs+]</td>\n",
       "      <td>[ 22,30,000 ,  22 Lacs+]</td>\n",
       "      <td>-</td>\n",
       "      <td>[ Rs 28,40,000 , 28 Lacs+]</td>\n",
       "    </tr>\n",
       "    <tr>\n",
       "      <th>[Totals (Calculated as Sum of Values)]</th>\n",
       "      <td>[ Nil ]</td>\n",
       "      <td>[ Nil ]</td>\n",
       "      <td>[ Nil ]</td>\n",
       "      <td>[ Rs 6,10,000 , 6 Lacs+]</td>\n",
       "      <td>[ Rs 22,30,000 , 22 Lacs+]</td>\n",
       "      <td>-</td>\n",
       "      <td>[ Rs 28,40,000 , 28 Lacs+]</td>\n",
       "    </tr>\n",
       "  </tbody>\n",
       "</table>\n",
       "</div>"
      ],
      "text/plain": [
       "                                                   dependent1 dependent2 dependent3                                               self                                             spouse     srn                       total\n",
       "description                                                                                                                                                                                                                  \n",
       "[Cash]                                                  [Nil]      [Nil]      [Nil]                          [  10,000 ,  10 Thou+,  ]                          [  10,000 ,  10 Thou+,  ]     [i]     [ Rs 20,000 , 20 Thou+]\n",
       "[Deposits in Banks, Financial Institutions and ...      [Nil]      [Nil]      [Nil]           [Current A/c ,   3,50,000 ,  3 Lacs+,  ]             [Saving A/c ,   75,000 ,  75 Thou+,  ]    [ii]    [ Rs 4,25,000 , 4 Lacs+]\n",
       "[Bonds, Debentures and Shares in companies]             [Nil]      [Nil]      [Nil]                                              [Nil]                                              [Nil]   [iii]                     [ Nil ]\n",
       "[(a),  NSS, Postal Savings etc]                         [Nil]      [Nil]      [Nil]                                              [Nil]                                              [Nil]    [iv]                     [ Nil ]\n",
       "[(b), LIC or other insurance Policies , <br><sp...      [Nil]      [Nil]      [Nil]    [HDFC Life Insurance,   2,50,000 ,  2 Lacs+,  ]  [LIC Policy,   1,95,000 ,  1 Lacs+,  , HDFC Li...       -    [ Rs 6,95,000 , 6 Lacs+]\n",
       "[Personal loans/advance given ]                         [Nil]      [Nil]      [Nil]                                              [Nil]                                              [Nil]     [v]                     [ Nil ]\n",
       "[Motor Vehicles (details of make, etc.)]                [Nil]      [Nil]      [Nil]  [Innova PY016X2866,   0*(Value Not Given) ,  ,...                                              [Nil]    [vi]                    [ Rs 0 ]\n",
       "[Jewellery (give details weight value)]                 [Nil]      [Nil]      [Nil]                                              [Nil]       [100 Grams Gold,   17,00,000 ,  17 Lacs+,  ]   [vii]  [ Rs 17,00,000 , 17 Lacs+]\n",
       "[Other assets, such as values of claims / inter...      [Nil]      [Nil]      [Nil]                                              [Nil]                                              [Nil]  [viii]                     [ Nil ]\n",
       "[Gross Total Value (as per Affidavit)]                 [ Nil]     [ Nil]     [ Nil]                             [ 6,10,000 ,  6 Lacs+]                           [ 22,30,000 ,  22 Lacs+]       -  [ Rs 28,40,000 , 28 Lacs+]\n",
       "[Totals (Calculated as Sum of Values)]                [ Nil ]    [ Nil ]    [ Nil ]                           [ Rs 6,10,000 , 6 Lacs+]                         [ Rs 22,30,000 , 22 Lacs+]       -  [ Rs 28,40,000 , 28 Lacs+]"
      ]
     },
     "execution_count": 395,
     "metadata": {},
     "output_type": "execute_result"
    }
   ],
   "source": [
    "#example:\n",
    "dft=pd.DataFrame(massets[polinfo.keys()[0]])\n",
    "dft.set_index('description',inplace=True)\n",
    "dft"
   ]
  },
  {
   "cell_type": "code",
   "execution_count": null,
   "metadata": {
    "collapsed": true
   },
   "outputs": [],
   "source": [
    "\"\"\"\n",
    "list_a = rows.find_all(\"tr\", attrs={\"valign\": \"top\"})[0].find_all(\"td\")\n",
    "assets=[]\n",
    "for a in list_a:\n",
    "    if len(a.findAll(\"span\"))==0:\n",
    "        x=a.get_text().strip().encode('ascii', 'ignore')\n",
    "        x=cleaner(x)\n",
    "        assets.append(x)\n",
    "    else:\n",
    "        x=a.find_all(\"span\")[0]\n",
    "        y=x.previousSibling\n",
    "        y=cleaner(y)\n",
    "        assets.append(y)\n",
    "assets\"\"\"\n"
   ]
  }
 ],
 "metadata": {
  "kernelspec": {
   "display_name": "Python 2",
   "language": "python",
   "name": "python2"
  },
  "language_info": {
   "codemirror_mode": {
    "name": "ipython",
    "version": 2
   },
   "file_extension": ".py",
   "mimetype": "text/x-python",
   "name": "python",
   "nbconvert_exporter": "python",
   "pygments_lexer": "ipython2",
   "version": "2.7.10"
  }
 },
 "nbformat": 4,
 "nbformat_minor": 0
}
